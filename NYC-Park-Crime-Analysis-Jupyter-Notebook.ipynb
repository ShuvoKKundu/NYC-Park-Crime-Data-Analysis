{
 "cells": [
  {
   "cell_type": "code",
   "execution_count": 122,
   "metadata": {},
   "outputs": [
    {
     "data": {
      "text/html": [
       "        <script type=\"text/javascript\">\n",
       "        window.PlotlyConfig = {MathJaxConfig: 'local'};\n",
       "        if (window.MathJax) {MathJax.Hub.Config({SVG: {font: \"STIX-Web\"}});}\n",
       "        if (typeof require !== 'undefined') {\n",
       "        require.undef(\"plotly\");\n",
       "        requirejs.config({\n",
       "            paths: {\n",
       "                'plotly': ['https://cdn.plot.ly/plotly-latest.min']\n",
       "            }\n",
       "        });\n",
       "        require(['plotly'], function(Plotly) {\n",
       "            window._Plotly = Plotly;\n",
       "        });\n",
       "        }\n",
       "        </script>\n",
       "        "
      ]
     },
     "metadata": {},
     "output_type": "display_data"
    }
   ],
   "source": [
    "#Import required libraries \n",
    "import numpy as np\n",
    "import pandas as pd\n",
    "import matplotlib.pyplot as plt\n",
    "import seaborn as sns\n",
    "import plotly.plotly as py\n",
    "import folium\n",
    "%matplotlib inline\n",
    "init_notebook_mode(connected=True)"
   ]
  },
  {
   "cell_type": "code",
   "execution_count": 69,
   "metadata": {},
   "outputs": [],
   "source": [
    "#Datasets were downloaded from https://www1.nyc.gov/site/nypd/stats/crime-statistics/park-crime-stats.page as .xsls format\n",
    "#Deletion of unnecessary headers and file convertion from .xsls to .csv took place before upload on Jupyter Notebook\n",
    "#Read all csv files containing data of different years and different quarter\n",
    "df1 = pd.read_csv('2019Q2.csv')\n",
    "df2 = pd.read_csv('2019Q1.csv')\n",
    "df3 = pd.read_csv('2018Q1.csv')\n",
    "df4 = pd.read_csv('2018Q2.csv')\n",
    "df5= pd.read_csv('2018Q3.csv')\n",
    "df6= pd.read_csv('2018Q4.csv')\n",
    "df7= pd.read_csv('2017Q1.csv')\n",
    "df8= pd.read_csv('2017Q2.csv')\n",
    "df9= pd.read_csv('2017Q3.csv')\n",
    "df10 = pd.read_csv('2017Q4.csv')\n",
    "df11= pd.read_csv('2016Q1.csv')\n",
    "df12= pd.read_csv('2016Q2.csv')\n",
    "df13= pd.read_csv('2016Q3.csv')\n",
    "df14 = pd.read_csv('2016Q4.csv')\n",
    "df15 = pd.read_csv('2015Q1.csv')\n",
    "df16 = pd.read_csv('2015Q2.csv')\n",
    "df17 = pd.read_csv('2015Q3.csv')\n",
    "df18 = pd.read_csv('2015Q4.csv')\n",
    "df19 = pd.read_csv('2014Q3.csv')\n",
    "df20 = pd.read_csv('2014Q4.csv')\n",
    "df21 = pd.read_csv('OpenData_ParksProperties.csv')"
   ]
  },
  {
   "cell_type": "code",
   "execution_count": 70,
   "metadata": {},
   "outputs": [],
   "source": [
    "#Cleansing of messy coulum headers and bring headers of all tables into same format\n",
    "df1.columns = df1.columns.str.strip().str.upper().str.replace(' ', '_').str.replace('(', '').str.replace(')', '')\n",
    "df2.columns = df2.columns.str.strip().str.upper().str.replace(' ', '_').str.replace('(', '').str.replace(')', '')\n",
    "df3.columns = df3.columns.str.strip().str.upper().str.replace(' ', '_').str.replace('(', '').str.replace(')', '')\n",
    "df4.columns = df4.columns.str.strip().str.upper().str.replace(' ', '_').str.replace('(', '').str.replace(')', '')\n",
    "df5.columns = df5.columns.str.strip().str.upper().str.replace(' ', '_').str.replace('(', '').str.replace(')', '')\n",
    "df6.columns = df6.columns.str.strip().str.upper().str.replace(' ', '_').str.replace('(', '').str.replace(')', '')\n",
    "df7.columns = df7.columns.str.strip().str.upper().str.replace(' ', '_').str.replace('(', '').str.replace(')', '')\n",
    "df8.columns = df8.columns.str.strip().str.upper().str.replace(' ', '_').str.replace('(', '').str.replace(')', '')\n",
    "df9.columns = df9.columns.str.strip().str.upper().str.replace(' ', '_').str.replace('(', '').str.replace(')', '')\n",
    "df10.columns = df10.columns.str.strip().str.upper().str.replace(' ', '_').str.replace('(', '').str.replace(')', '')\n",
    "df11.columns = df11.columns.str.strip().str.upper().str.replace(' ', '_').str.replace('(', '').str.replace(')', '')\n",
    "df12.columns = df12.columns.str.strip().str.upper().str.replace(' ', '_').str.replace('(', '').str.replace(')', '')\n",
    "df13.columns = df13.columns.str.strip().str.upper().str.replace(' ', '_').str.replace('(', '').str.replace(')', '')\n",
    "df14.columns = df14.columns.str.strip().str.upper().str.replace(' ', '_').str.replace('(', '').str.replace(')', '')\n",
    "df15.columns = df15.columns.str.strip().str.upper().str.replace(' ', '_').str.replace('(', '').str.replace(')', '')\n",
    "df16.columns = df16.columns.str.strip().str.upper().str.replace(' ', '_').str.replace('(', '').str.replace(')', '')\n",
    "df17.columns = df17.columns.str.strip().str.upper().str.replace(' ', '_').str.replace('(', '').str.replace(')', '')\n",
    "df18.columns = df18.columns.str.strip().str.upper().str.replace(' ', '_').str.replace('(', '').str.replace(')', '')\n",
    "df19.columns = df19.columns.str.strip().str.upper().str.replace(' ', '_').str.replace('(', '').str.replace(')', '')\n",
    "df20.columns = df20.columns.str.strip().str.upper().str.replace(' ', '_').str.replace('(', '').str.replace(')', '')\n",
    "df21.columns = df21.columns.str.strip().str.upper().str.replace(' ', '_').str.replace('(', '').str.replace(')', '')"
   ]
  },
  {
   "cell_type": "code",
   "execution_count": 71,
   "metadata": {},
   "outputs": [],
   "source": [
    "#Append all dataframes to build a big dataframe with all infomation together \n",
    "df = df1.append([df2, df3,  df4, df5, df6, df7, df8, df9, df10, df11, df12, df13, df14, df15, df16, df17, df18, df19,df20], sort = False)"
   ]
  },
  {
   "cell_type": "code",
   "execution_count": 124,
   "metadata": {},
   "outputs": [
    {
     "data": {
      "text/html": [
       "<div>\n",
       "<style scoped>\n",
       "    .dataframe tbody tr th:only-of-type {\n",
       "        vertical-align: middle;\n",
       "    }\n",
       "\n",
       "    .dataframe tbody tr th {\n",
       "        vertical-align: top;\n",
       "    }\n",
       "\n",
       "    .dataframe thead th {\n",
       "        text-align: right;\n",
       "    }\n",
       "</style>\n",
       "<table border=\"1\" class=\"dataframe\">\n",
       "  <thead>\n",
       "    <tr style=\"text-align: right;\">\n",
       "      <th></th>\n",
       "      <th>YEAR</th>\n",
       "      <th>QUARTER</th>\n",
       "      <th>PARK</th>\n",
       "      <th>BOROUGH</th>\n",
       "      <th>SIZE_ACRES</th>\n",
       "      <th>CATEGORY</th>\n",
       "      <th>MURDER</th>\n",
       "      <th>RAPE</th>\n",
       "      <th>ROBBERY</th>\n",
       "      <th>FELONY_ASSAULT</th>\n",
       "      <th>BURGLARY</th>\n",
       "      <th>GRAND_LARCENY</th>\n",
       "      <th>GRAND_LARCENY_OF_MOTOR_VEHICLE</th>\n",
       "      <th>TOTAL</th>\n",
       "    </tr>\n",
       "  </thead>\n",
       "  <tbody>\n",
       "    <tr>\n",
       "      <th>0</th>\n",
       "      <td>2019</td>\n",
       "      <td>2</td>\n",
       "      <td>PELHAM BAY PARK</td>\n",
       "      <td>BRONX</td>\n",
       "      <td>2771.75</td>\n",
       "      <td>ONE ACRE OR LARGER</td>\n",
       "      <td>0</td>\n",
       "      <td>0</td>\n",
       "      <td>0</td>\n",
       "      <td>0</td>\n",
       "      <td>0</td>\n",
       "      <td>0</td>\n",
       "      <td>0</td>\n",
       "      <td>0</td>\n",
       "    </tr>\n",
       "    <tr>\n",
       "      <th>1</th>\n",
       "      <td>2019</td>\n",
       "      <td>2</td>\n",
       "      <td>VAN CORTLANDT PARK</td>\n",
       "      <td>BRONX</td>\n",
       "      <td>1146.43</td>\n",
       "      <td>ONE ACRE OR LARGER</td>\n",
       "      <td>0</td>\n",
       "      <td>0</td>\n",
       "      <td>1</td>\n",
       "      <td>0</td>\n",
       "      <td>0</td>\n",
       "      <td>1</td>\n",
       "      <td>0</td>\n",
       "      <td>2</td>\n",
       "    </tr>\n",
       "    <tr>\n",
       "      <th>2</th>\n",
       "      <td>2019</td>\n",
       "      <td>2</td>\n",
       "      <td>ROCKAWAY BEACH AND BOARDWALK</td>\n",
       "      <td>QUEENS</td>\n",
       "      <td>1072.56</td>\n",
       "      <td>ONE ACRE OR LARGER</td>\n",
       "      <td>0</td>\n",
       "      <td>0</td>\n",
       "      <td>1</td>\n",
       "      <td>0</td>\n",
       "      <td>1</td>\n",
       "      <td>2</td>\n",
       "      <td>0</td>\n",
       "      <td>4</td>\n",
       "    </tr>\n",
       "    <tr>\n",
       "      <th>3</th>\n",
       "      <td>2019</td>\n",
       "      <td>2</td>\n",
       "      <td>FRESHKILLS PARK</td>\n",
       "      <td>STATEN ISLAND</td>\n",
       "      <td>913.32</td>\n",
       "      <td>ONE ACRE OR LARGER</td>\n",
       "      <td>0</td>\n",
       "      <td>0</td>\n",
       "      <td>0</td>\n",
       "      <td>0</td>\n",
       "      <td>0</td>\n",
       "      <td>0</td>\n",
       "      <td>0</td>\n",
       "      <td>0</td>\n",
       "    </tr>\n",
       "    <tr>\n",
       "      <th>4</th>\n",
       "      <td>2019</td>\n",
       "      <td>2</td>\n",
       "      <td>FLUSHING MEADOWS CORONA PARK</td>\n",
       "      <td>QUEENS</td>\n",
       "      <td>897.69</td>\n",
       "      <td>ONE ACRE OR LARGER</td>\n",
       "      <td>0</td>\n",
       "      <td>0</td>\n",
       "      <td>3</td>\n",
       "      <td>1</td>\n",
       "      <td>0</td>\n",
       "      <td>8</td>\n",
       "      <td>1</td>\n",
       "      <td>13</td>\n",
       "    </tr>\n",
       "  </tbody>\n",
       "</table>\n",
       "</div>"
      ],
      "text/plain": [
       "   YEAR  QUARTER                          PARK        BOROUGH  SIZE_ACRES  \\\n",
       "0  2019        2               PELHAM BAY PARK  BRONX             2771.75   \n",
       "1  2019        2            VAN CORTLANDT PARK  BRONX             1146.43   \n",
       "2  2019        2  ROCKAWAY BEACH AND BOARDWALK  QUEENS            1072.56   \n",
       "3  2019        2               FRESHKILLS PARK  STATEN ISLAND      913.32   \n",
       "4  2019        2  FLUSHING MEADOWS CORONA PARK  QUEENS             897.69   \n",
       "\n",
       "             CATEGORY  MURDER  RAPE  ROBBERY  FELONY_ASSAULT  BURGLARY  \\\n",
       "0  ONE ACRE OR LARGER       0     0        0               0         0   \n",
       "1  ONE ACRE OR LARGER       0     0        1               0         0   \n",
       "2  ONE ACRE OR LARGER       0     0        1               0         1   \n",
       "3  ONE ACRE OR LARGER       0     0        0               0         0   \n",
       "4  ONE ACRE OR LARGER       0     0        3               1         0   \n",
       "\n",
       "   GRAND_LARCENY  GRAND_LARCENY_OF_MOTOR_VEHICLE  TOTAL  \n",
       "0              0                               0      0  \n",
       "1              1                               0      2  \n",
       "2              2                               0      4  \n",
       "3              0                               0      0  \n",
       "4              8                               1     13  "
      ]
     },
     "execution_count": 124,
     "metadata": {},
     "output_type": "execute_result"
    }
   ],
   "source": [
    "df.head() #The data in df dataframe"
   ]
  },
  {
   "cell_type": "code",
   "execution_count": 125,
   "metadata": {},
   "outputs": [],
   "source": [
    "#To find out total of all types of crime including total crime BY YEAR\n",
    "by_year= df.groupby(['YEAR'], as_index = False).agg({'RAPE': np.sum, 'MURDER': np.sum,'ROBBERY': np.sum, 'FELONY_ASSAULT': np.sum,'BURGLARY': np.sum, 'GRAND_LARCENY': np.sum, 'GRAND_LARCENY_OF_MOTOR_VEHICLE': np.sum, 'TOTAL': np.sum})\n",
    "#Delete rows for 2014 and 2019 since dataset has partial data for these two years and doesn't represent the whole year\n",
    "by_year = by_year[by_year.YEAR != 2014]\n",
    "by_year = by_year[by_year.YEAR != 2019]\n",
    "#Set YEAR coulum as index\n",
    "by_year.set_index('YEAR',inplace=True)"
   ]
  },
  {
   "cell_type": "code",
   "execution_count": 74,
   "metadata": {
    "scrolled": true
   },
   "outputs": [
    {
     "data": {
      "text/html": [
       "<div>\n",
       "<style scoped>\n",
       "    .dataframe tbody tr th:only-of-type {\n",
       "        vertical-align: middle;\n",
       "    }\n",
       "\n",
       "    .dataframe tbody tr th {\n",
       "        vertical-align: top;\n",
       "    }\n",
       "\n",
       "    .dataframe thead th {\n",
       "        text-align: right;\n",
       "    }\n",
       "</style>\n",
       "<table border=\"1\" class=\"dataframe\">\n",
       "  <thead>\n",
       "    <tr style=\"text-align: right;\">\n",
       "      <th></th>\n",
       "      <th>RAPE</th>\n",
       "      <th>MURDER</th>\n",
       "      <th>ROBBERY</th>\n",
       "      <th>FELONY_ASSAULT</th>\n",
       "      <th>BURGLARY</th>\n",
       "      <th>GRAND_LARCENY</th>\n",
       "      <th>GRAND_LARCENY_OF_MOTOR_VEHICLE</th>\n",
       "      <th>TOTAL</th>\n",
       "    </tr>\n",
       "    <tr>\n",
       "      <th>YEAR</th>\n",
       "      <th></th>\n",
       "      <th></th>\n",
       "      <th></th>\n",
       "      <th></th>\n",
       "      <th></th>\n",
       "      <th></th>\n",
       "      <th></th>\n",
       "      <th></th>\n",
       "    </tr>\n",
       "  </thead>\n",
       "  <tbody>\n",
       "    <tr>\n",
       "      <th>2015</th>\n",
       "      <td>20</td>\n",
       "      <td>9</td>\n",
       "      <td>330</td>\n",
       "      <td>198</td>\n",
       "      <td>20</td>\n",
       "      <td>367</td>\n",
       "      <td>7</td>\n",
       "      <td>951</td>\n",
       "    </tr>\n",
       "    <tr>\n",
       "      <th>2016</th>\n",
       "      <td>21</td>\n",
       "      <td>9</td>\n",
       "      <td>409</td>\n",
       "      <td>206</td>\n",
       "      <td>23</td>\n",
       "      <td>526</td>\n",
       "      <td>4</td>\n",
       "      <td>1198</td>\n",
       "    </tr>\n",
       "    <tr>\n",
       "      <th>2017</th>\n",
       "      <td>26</td>\n",
       "      <td>2</td>\n",
       "      <td>427</td>\n",
       "      <td>234</td>\n",
       "      <td>21</td>\n",
       "      <td>542</td>\n",
       "      <td>7</td>\n",
       "      <td>1259</td>\n",
       "    </tr>\n",
       "    <tr>\n",
       "      <th>2018</th>\n",
       "      <td>28</td>\n",
       "      <td>9</td>\n",
       "      <td>359</td>\n",
       "      <td>239</td>\n",
       "      <td>26</td>\n",
       "      <td>530</td>\n",
       "      <td>7</td>\n",
       "      <td>1198</td>\n",
       "    </tr>\n",
       "  </tbody>\n",
       "</table>\n",
       "</div>"
      ],
      "text/plain": [
       "      RAPE  MURDER  ROBBERY  FELONY_ASSAULT  BURGLARY  GRAND_LARCENY  \\\n",
       "YEAR                                                                   \n",
       "2015    20       9      330             198        20            367   \n",
       "2016    21       9      409             206        23            526   \n",
       "2017    26       2      427             234        21            542   \n",
       "2018    28       9      359             239        26            530   \n",
       "\n",
       "      GRAND_LARCENY_OF_MOTOR_VEHICLE  TOTAL  \n",
       "YEAR                                         \n",
       "2015                               7    951  \n",
       "2016                               4   1198  \n",
       "2017                               7   1259  \n",
       "2018                               7   1198  "
      ]
     },
     "execution_count": 74,
     "metadata": {},
     "output_type": "execute_result"
    }
   ],
   "source": [
    "by_year #The data in by_year dataframe"
   ]
  },
  {
   "cell_type": "code",
   "execution_count": 75,
   "metadata": {},
   "outputs": [
    {
     "data": {
      "application/vnd.plotly.v1+json": {
       "config": {
        "linkText": "Export to plot.ly",
        "plotlyServerURL": "https://plot.ly",
        "showLink": true
       },
       "data": [
        {
         "line": {
          "color": "rgba(255, 153, 51, 1.0)",
          "dash": "solid",
          "shape": "linear",
          "width": 1.3
         },
         "mode": "lines",
         "name": "RAPE",
         "text": "",
         "type": "scatter",
         "uid": "a4371825-961e-4e86-97d9-482370118922",
         "x": [
          2015,
          2016,
          2017,
          2018
         ],
         "y": [
          20,
          21,
          26,
          28
         ]
        },
        {
         "line": {
          "color": "rgba(55, 128, 191, 1.0)",
          "dash": "solid",
          "shape": "linear",
          "width": 1.3
         },
         "mode": "lines",
         "name": "MURDER",
         "text": "",
         "type": "scatter",
         "uid": "a40f1b27-2db4-4bd4-b84e-b5bc867ccd65",
         "x": [
          2015,
          2016,
          2017,
          2018
         ],
         "y": [
          9,
          9,
          2,
          9
         ]
        },
        {
         "line": {
          "color": "rgba(50, 171, 96, 1.0)",
          "dash": "solid",
          "shape": "linear",
          "width": 1.3
         },
         "mode": "lines",
         "name": "ROBBERY",
         "text": "",
         "type": "scatter",
         "uid": "c7ec2706-f317-4a5d-beaa-957327c4f800",
         "x": [
          2015,
          2016,
          2017,
          2018
         ],
         "y": [
          330,
          409,
          427,
          359
         ]
        },
        {
         "line": {
          "color": "rgba(128, 0, 128, 1.0)",
          "dash": "solid",
          "shape": "linear",
          "width": 1.3
         },
         "mode": "lines",
         "name": "FELONY_ASSAULT",
         "text": "",
         "type": "scatter",
         "uid": "b8c0dbbe-baf4-4a49-a705-b6b216e7a484",
         "x": [
          2015,
          2016,
          2017,
          2018
         ],
         "y": [
          198,
          206,
          234,
          239
         ]
        },
        {
         "line": {
          "color": "rgba(219, 64, 82, 1.0)",
          "dash": "solid",
          "shape": "linear",
          "width": 1.3
         },
         "mode": "lines",
         "name": "BURGLARY",
         "text": "",
         "type": "scatter",
         "uid": "249801fb-9512-49c7-b171-2c716625926e",
         "x": [
          2015,
          2016,
          2017,
          2018
         ],
         "y": [
          20,
          23,
          21,
          26
         ]
        },
        {
         "line": {
          "color": "rgba(0, 128, 128, 1.0)",
          "dash": "solid",
          "shape": "linear",
          "width": 1.3
         },
         "mode": "lines",
         "name": "GRAND_LARCENY",
         "text": "",
         "type": "scatter",
         "uid": "cc5d3f07-1aef-4bd5-9f4b-b378b3d81eb2",
         "x": [
          2015,
          2016,
          2017,
          2018
         ],
         "y": [
          367,
          526,
          542,
          530
         ]
        },
        {
         "line": {
          "color": "rgba(255, 255, 51, 1.0)",
          "dash": "solid",
          "shape": "linear",
          "width": 1.3
         },
         "mode": "lines",
         "name": "GRAND_LARCENY_OF_MOTOR_VEHICLE",
         "text": "",
         "type": "scatter",
         "uid": "c7305980-7e3f-4547-944b-2d23aea8db69",
         "x": [
          2015,
          2016,
          2017,
          2018
         ],
         "y": [
          7,
          4,
          7,
          7
         ]
        },
        {
         "line": {
          "color": "rgba(128, 128, 0, 1.0)",
          "dash": "solid",
          "shape": "linear",
          "width": 1.3
         },
         "mode": "lines",
         "name": "TOTAL",
         "text": "",
         "type": "scatter",
         "uid": "138cc847-9b49-490f-bb41-a756a78f0c61",
         "x": [
          2015,
          2016,
          2017,
          2018
         ],
         "y": [
          951,
          1198,
          1259,
          1198
         ]
        }
       ],
       "layout": {
        "legend": {
         "bgcolor": "#F5F6F9",
         "font": {
          "color": "#4D5663"
         }
        },
        "paper_bgcolor": "#F5F6F9",
        "plot_bgcolor": "#F5F6F9",
        "title": {
         "font": {
          "color": "#4D5663"
         },
         "text": "Crimes in NYC Parks by Year"
        },
        "xaxis": {
         "gridcolor": "#E1E5ED",
         "showgrid": true,
         "tickfont": {
          "color": "#4D5663"
         },
         "title": {
          "font": {
           "color": "#4D5663"
          },
          "text": "Year"
         },
         "zerolinecolor": "#E1E5ED"
        },
        "yaxis": {
         "gridcolor": "#E1E5ED",
         "showgrid": true,
         "tickfont": {
          "color": "#4D5663"
         },
         "title": {
          "font": {
           "color": "#4D5663"
          },
          "text": "No of Crimes"
         },
         "zerolinecolor": "#E1E5ED"
        }
       }
      },
      "text/html": [
       "<div>\n",
       "        \n",
       "        \n",
       "            <div id=\"7928b047-90fd-4f33-8cec-cf7fb26564c2\" class=\"plotly-graph-div\" style=\"height:525px; width:100%;\"></div>\n",
       "            <script type=\"text/javascript\">\n",
       "                require([\"plotly\"], function(Plotly) {\n",
       "                    window.PLOTLYENV=window.PLOTLYENV || {};\n",
       "                    window.PLOTLYENV.BASE_URL='https://plot.ly';\n",
       "                    \n",
       "                if (document.getElementById(\"7928b047-90fd-4f33-8cec-cf7fb26564c2\")) {\n",
       "                    Plotly.newPlot(\n",
       "                        '7928b047-90fd-4f33-8cec-cf7fb26564c2',\n",
       "                        [{\"line\": {\"color\": \"rgba(255, 153, 51, 1.0)\", \"dash\": \"solid\", \"shape\": \"linear\", \"width\": 1.3}, \"mode\": \"lines\", \"name\": \"RAPE\", \"text\": \"\", \"type\": \"scatter\", \"uid\": \"a4371825-961e-4e86-97d9-482370118922\", \"x\": [2015, 2016, 2017, 2018], \"y\": [20, 21, 26, 28]}, {\"line\": {\"color\": \"rgba(55, 128, 191, 1.0)\", \"dash\": \"solid\", \"shape\": \"linear\", \"width\": 1.3}, \"mode\": \"lines\", \"name\": \"MURDER\", \"text\": \"\", \"type\": \"scatter\", \"uid\": \"a40f1b27-2db4-4bd4-b84e-b5bc867ccd65\", \"x\": [2015, 2016, 2017, 2018], \"y\": [9, 9, 2, 9]}, {\"line\": {\"color\": \"rgba(50, 171, 96, 1.0)\", \"dash\": \"solid\", \"shape\": \"linear\", \"width\": 1.3}, \"mode\": \"lines\", \"name\": \"ROBBERY\", \"text\": \"\", \"type\": \"scatter\", \"uid\": \"c7ec2706-f317-4a5d-beaa-957327c4f800\", \"x\": [2015, 2016, 2017, 2018], \"y\": [330, 409, 427, 359]}, {\"line\": {\"color\": \"rgba(128, 0, 128, 1.0)\", \"dash\": \"solid\", \"shape\": \"linear\", \"width\": 1.3}, \"mode\": \"lines\", \"name\": \"FELONY_ASSAULT\", \"text\": \"\", \"type\": \"scatter\", \"uid\": \"b8c0dbbe-baf4-4a49-a705-b6b216e7a484\", \"x\": [2015, 2016, 2017, 2018], \"y\": [198, 206, 234, 239]}, {\"line\": {\"color\": \"rgba(219, 64, 82, 1.0)\", \"dash\": \"solid\", \"shape\": \"linear\", \"width\": 1.3}, \"mode\": \"lines\", \"name\": \"BURGLARY\", \"text\": \"\", \"type\": \"scatter\", \"uid\": \"249801fb-9512-49c7-b171-2c716625926e\", \"x\": [2015, 2016, 2017, 2018], \"y\": [20, 23, 21, 26]}, {\"line\": {\"color\": \"rgba(0, 128, 128, 1.0)\", \"dash\": \"solid\", \"shape\": \"linear\", \"width\": 1.3}, \"mode\": \"lines\", \"name\": \"GRAND_LARCENY\", \"text\": \"\", \"type\": \"scatter\", \"uid\": \"cc5d3f07-1aef-4bd5-9f4b-b378b3d81eb2\", \"x\": [2015, 2016, 2017, 2018], \"y\": [367, 526, 542, 530]}, {\"line\": {\"color\": \"rgba(255, 255, 51, 1.0)\", \"dash\": \"solid\", \"shape\": \"linear\", \"width\": 1.3}, \"mode\": \"lines\", \"name\": \"GRAND_LARCENY_OF_MOTOR_VEHICLE\", \"text\": \"\", \"type\": \"scatter\", \"uid\": \"c7305980-7e3f-4547-944b-2d23aea8db69\", \"x\": [2015, 2016, 2017, 2018], \"y\": [7, 4, 7, 7]}, {\"line\": {\"color\": \"rgba(128, 128, 0, 1.0)\", \"dash\": \"solid\", \"shape\": \"linear\", \"width\": 1.3}, \"mode\": \"lines\", \"name\": \"TOTAL\", \"text\": \"\", \"type\": \"scatter\", \"uid\": \"138cc847-9b49-490f-bb41-a756a78f0c61\", \"x\": [2015, 2016, 2017, 2018], \"y\": [951, 1198, 1259, 1198]}],\n",
       "                        {\"legend\": {\"bgcolor\": \"#F5F6F9\", \"font\": {\"color\": \"#4D5663\"}}, \"paper_bgcolor\": \"#F5F6F9\", \"plot_bgcolor\": \"#F5F6F9\", \"title\": {\"font\": {\"color\": \"#4D5663\"}, \"text\": \"Crimes in NYC Parks by Year\"}, \"xaxis\": {\"gridcolor\": \"#E1E5ED\", \"showgrid\": true, \"tickfont\": {\"color\": \"#4D5663\"}, \"title\": {\"font\": {\"color\": \"#4D5663\"}, \"text\": \"Year\"}, \"zerolinecolor\": \"#E1E5ED\"}, \"yaxis\": {\"gridcolor\": \"#E1E5ED\", \"showgrid\": true, \"tickfont\": {\"color\": \"#4D5663\"}, \"title\": {\"font\": {\"color\": \"#4D5663\"}, \"text\": \"No of Crimes\"}, \"zerolinecolor\": \"#E1E5ED\"}},\n",
       "                        {\"showLink\": true, \"linkText\": \"Export to plot.ly\", \"plotlyServerURL\": \"https://plot.ly\", \"responsive\": true}\n",
       "                    ).then(function(){\n",
       "                            \n",
       "var gd = document.getElementById('7928b047-90fd-4f33-8cec-cf7fb26564c2');\n",
       "var x = new MutationObserver(function (mutations, observer) {{\n",
       "        var display = window.getComputedStyle(gd).display;\n",
       "        if (!display || display === 'none') {{\n",
       "            console.log([gd, 'removed!']);\n",
       "            Plotly.purge(gd);\n",
       "            observer.disconnect();\n",
       "        }}\n",
       "}});\n",
       "\n",
       "// Listen for the removal of the full notebook cells\n",
       "var notebookContainer = gd.closest('#notebook-container');\n",
       "if (notebookContainer) {{\n",
       "    x.observe(notebookContainer, {childList: true});\n",
       "}}\n",
       "\n",
       "// Listen for the clearing of the current output cell\n",
       "var outputEl = gd.closest('.output');\n",
       "if (outputEl) {{\n",
       "    x.observe(outputEl, {childList: true});\n",
       "}}\n",
       "\n",
       "                        })\n",
       "                };\n",
       "                });\n",
       "            </script>\n",
       "        </div>"
      ]
     },
     "metadata": {},
     "output_type": "display_data"
    }
   ],
   "source": [
    "#Scattar plot to plot data in by_year dataframe\n",
    "by_year.iplot(kind='scatter',xTitle='Year',yTitle='No of Crimes',title='Crimes in NYC Parks by Year')"
   ]
  },
  {
   "cell_type": "code",
   "execution_count": 76,
   "metadata": {},
   "outputs": [
    {
     "data": {
      "application/vnd.plotly.v1+json": {
       "config": {
        "linkText": "Export to plot.ly",
        "plotlyServerURL": "https://plot.ly",
        "showLink": true
       },
       "data": [
        {
         "marker": {
          "color": "rgba(255, 153, 51, 0.6)",
          "line": {
           "color": "rgba(255, 153, 51, 1.0)",
           "width": 1
          }
         },
         "name": "RAPE",
         "orientation": "v",
         "text": "",
         "type": "bar",
         "uid": "9f71ddca-960c-4841-baea-50fddb399fc1",
         "x": [
          2015,
          2016,
          2017,
          2018
         ],
         "y": [
          20,
          21,
          26,
          28
         ]
        },
        {
         "marker": {
          "color": "rgba(55, 128, 191, 0.6)",
          "line": {
           "color": "rgba(55, 128, 191, 1.0)",
           "width": 1
          }
         },
         "name": "MURDER",
         "orientation": "v",
         "text": "",
         "type": "bar",
         "uid": "30c977b6-3d60-40aa-a8be-f992613cb694",
         "x": [
          2015,
          2016,
          2017,
          2018
         ],
         "y": [
          9,
          9,
          2,
          9
         ]
        },
        {
         "marker": {
          "color": "rgba(50, 171, 96, 0.6)",
          "line": {
           "color": "rgba(50, 171, 96, 1.0)",
           "width": 1
          }
         },
         "name": "ROBBERY",
         "orientation": "v",
         "text": "",
         "type": "bar",
         "uid": "58cec33e-e4fd-48bd-b4a7-d6dd55615c2f",
         "x": [
          2015,
          2016,
          2017,
          2018
         ],
         "y": [
          330,
          409,
          427,
          359
         ]
        },
        {
         "marker": {
          "color": "rgba(128, 0, 128, 0.6)",
          "line": {
           "color": "rgba(128, 0, 128, 1.0)",
           "width": 1
          }
         },
         "name": "FELONY_ASSAULT",
         "orientation": "v",
         "text": "",
         "type": "bar",
         "uid": "207404d5-fa1b-47da-834e-4b57ee812be7",
         "x": [
          2015,
          2016,
          2017,
          2018
         ],
         "y": [
          198,
          206,
          234,
          239
         ]
        },
        {
         "marker": {
          "color": "rgba(219, 64, 82, 0.6)",
          "line": {
           "color": "rgba(219, 64, 82, 1.0)",
           "width": 1
          }
         },
         "name": "BURGLARY",
         "orientation": "v",
         "text": "",
         "type": "bar",
         "uid": "43b63e0b-6df7-4468-a56c-a0492f1172a9",
         "x": [
          2015,
          2016,
          2017,
          2018
         ],
         "y": [
          20,
          23,
          21,
          26
         ]
        },
        {
         "marker": {
          "color": "rgba(0, 128, 128, 0.6)",
          "line": {
           "color": "rgba(0, 128, 128, 1.0)",
           "width": 1
          }
         },
         "name": "GRAND_LARCENY",
         "orientation": "v",
         "text": "",
         "type": "bar",
         "uid": "c82ed9b7-03e7-40ed-85ce-2ddf0b1cf1eb",
         "x": [
          2015,
          2016,
          2017,
          2018
         ],
         "y": [
          367,
          526,
          542,
          530
         ]
        },
        {
         "marker": {
          "color": "rgba(255, 255, 51, 0.6)",
          "line": {
           "color": "rgba(255, 255, 51, 1.0)",
           "width": 1
          }
         },
         "name": "GRAND_LARCENY_OF_MOTOR_VEHICLE",
         "orientation": "v",
         "text": "",
         "type": "bar",
         "uid": "95b4c736-4235-4f30-ba0c-45a8806f8616",
         "x": [
          2015,
          2016,
          2017,
          2018
         ],
         "y": [
          7,
          4,
          7,
          7
         ]
        },
        {
         "marker": {
          "color": "rgba(128, 128, 0, 0.6)",
          "line": {
           "color": "rgba(128, 128, 0, 1.0)",
           "width": 1
          }
         },
         "name": "TOTAL",
         "orientation": "v",
         "text": "",
         "type": "bar",
         "uid": "a5ef69fd-f9e2-4408-ae30-9a18e58c0c86",
         "x": [
          2015,
          2016,
          2017,
          2018
         ],
         "y": [
          951,
          1198,
          1259,
          1198
         ]
        }
       ],
       "layout": {
        "legend": {
         "bgcolor": "#F5F6F9",
         "font": {
          "color": "#4D5663"
         }
        },
        "paper_bgcolor": "#F5F6F9",
        "plot_bgcolor": "#F5F6F9",
        "title": {
         "font": {
          "color": "#4D5663"
         },
         "text": "Crimes in NYC Parks by Year"
        },
        "xaxis": {
         "gridcolor": "#E1E5ED",
         "showgrid": true,
         "tickfont": {
          "color": "#4D5663"
         },
         "title": {
          "font": {
           "color": "#4D5663"
          },
          "text": "Year"
         },
         "zerolinecolor": "#E1E5ED"
        },
        "yaxis": {
         "gridcolor": "#E1E5ED",
         "showgrid": true,
         "tickfont": {
          "color": "#4D5663"
         },
         "title": {
          "font": {
           "color": "#4D5663"
          },
          "text": "No of Crimes"
         },
         "zerolinecolor": "#E1E5ED"
        }
       }
      },
      "text/html": [
       "<div>\n",
       "        \n",
       "        \n",
       "            <div id=\"fbf9cc42-a390-4f2f-8a60-71a66aa8aa81\" class=\"plotly-graph-div\" style=\"height:525px; width:100%;\"></div>\n",
       "            <script type=\"text/javascript\">\n",
       "                require([\"plotly\"], function(Plotly) {\n",
       "                    window.PLOTLYENV=window.PLOTLYENV || {};\n",
       "                    window.PLOTLYENV.BASE_URL='https://plot.ly';\n",
       "                    \n",
       "                if (document.getElementById(\"fbf9cc42-a390-4f2f-8a60-71a66aa8aa81\")) {\n",
       "                    Plotly.newPlot(\n",
       "                        'fbf9cc42-a390-4f2f-8a60-71a66aa8aa81',\n",
       "                        [{\"marker\": {\"color\": \"rgba(255, 153, 51, 0.6)\", \"line\": {\"color\": \"rgba(255, 153, 51, 1.0)\", \"width\": 1}}, \"name\": \"RAPE\", \"orientation\": \"v\", \"text\": \"\", \"type\": \"bar\", \"uid\": \"9f71ddca-960c-4841-baea-50fddb399fc1\", \"x\": [2015, 2016, 2017, 2018], \"y\": [20, 21, 26, 28]}, {\"marker\": {\"color\": \"rgba(55, 128, 191, 0.6)\", \"line\": {\"color\": \"rgba(55, 128, 191, 1.0)\", \"width\": 1}}, \"name\": \"MURDER\", \"orientation\": \"v\", \"text\": \"\", \"type\": \"bar\", \"uid\": \"30c977b6-3d60-40aa-a8be-f992613cb694\", \"x\": [2015, 2016, 2017, 2018], \"y\": [9, 9, 2, 9]}, {\"marker\": {\"color\": \"rgba(50, 171, 96, 0.6)\", \"line\": {\"color\": \"rgba(50, 171, 96, 1.0)\", \"width\": 1}}, \"name\": \"ROBBERY\", \"orientation\": \"v\", \"text\": \"\", \"type\": \"bar\", \"uid\": \"58cec33e-e4fd-48bd-b4a7-d6dd55615c2f\", \"x\": [2015, 2016, 2017, 2018], \"y\": [330, 409, 427, 359]}, {\"marker\": {\"color\": \"rgba(128, 0, 128, 0.6)\", \"line\": {\"color\": \"rgba(128, 0, 128, 1.0)\", \"width\": 1}}, \"name\": \"FELONY_ASSAULT\", \"orientation\": \"v\", \"text\": \"\", \"type\": \"bar\", \"uid\": \"207404d5-fa1b-47da-834e-4b57ee812be7\", \"x\": [2015, 2016, 2017, 2018], \"y\": [198, 206, 234, 239]}, {\"marker\": {\"color\": \"rgba(219, 64, 82, 0.6)\", \"line\": {\"color\": \"rgba(219, 64, 82, 1.0)\", \"width\": 1}}, \"name\": \"BURGLARY\", \"orientation\": \"v\", \"text\": \"\", \"type\": \"bar\", \"uid\": \"43b63e0b-6df7-4468-a56c-a0492f1172a9\", \"x\": [2015, 2016, 2017, 2018], \"y\": [20, 23, 21, 26]}, {\"marker\": {\"color\": \"rgba(0, 128, 128, 0.6)\", \"line\": {\"color\": \"rgba(0, 128, 128, 1.0)\", \"width\": 1}}, \"name\": \"GRAND_LARCENY\", \"orientation\": \"v\", \"text\": \"\", \"type\": \"bar\", \"uid\": \"c82ed9b7-03e7-40ed-85ce-2ddf0b1cf1eb\", \"x\": [2015, 2016, 2017, 2018], \"y\": [367, 526, 542, 530]}, {\"marker\": {\"color\": \"rgba(255, 255, 51, 0.6)\", \"line\": {\"color\": \"rgba(255, 255, 51, 1.0)\", \"width\": 1}}, \"name\": \"GRAND_LARCENY_OF_MOTOR_VEHICLE\", \"orientation\": \"v\", \"text\": \"\", \"type\": \"bar\", \"uid\": \"95b4c736-4235-4f30-ba0c-45a8806f8616\", \"x\": [2015, 2016, 2017, 2018], \"y\": [7, 4, 7, 7]}, {\"marker\": {\"color\": \"rgba(128, 128, 0, 0.6)\", \"line\": {\"color\": \"rgba(128, 128, 0, 1.0)\", \"width\": 1}}, \"name\": \"TOTAL\", \"orientation\": \"v\", \"text\": \"\", \"type\": \"bar\", \"uid\": \"a5ef69fd-f9e2-4408-ae30-9a18e58c0c86\", \"x\": [2015, 2016, 2017, 2018], \"y\": [951, 1198, 1259, 1198]}],\n",
       "                        {\"legend\": {\"bgcolor\": \"#F5F6F9\", \"font\": {\"color\": \"#4D5663\"}}, \"paper_bgcolor\": \"#F5F6F9\", \"plot_bgcolor\": \"#F5F6F9\", \"title\": {\"font\": {\"color\": \"#4D5663\"}, \"text\": \"Crimes in NYC Parks by Year\"}, \"xaxis\": {\"gridcolor\": \"#E1E5ED\", \"showgrid\": true, \"tickfont\": {\"color\": \"#4D5663\"}, \"title\": {\"font\": {\"color\": \"#4D5663\"}, \"text\": \"Year\"}, \"zerolinecolor\": \"#E1E5ED\"}, \"yaxis\": {\"gridcolor\": \"#E1E5ED\", \"showgrid\": true, \"tickfont\": {\"color\": \"#4D5663\"}, \"title\": {\"font\": {\"color\": \"#4D5663\"}, \"text\": \"No of Crimes\"}, \"zerolinecolor\": \"#E1E5ED\"}},\n",
       "                        {\"showLink\": true, \"linkText\": \"Export to plot.ly\", \"plotlyServerURL\": \"https://plot.ly\", \"responsive\": true}\n",
       "                    ).then(function(){\n",
       "                            \n",
       "var gd = document.getElementById('fbf9cc42-a390-4f2f-8a60-71a66aa8aa81');\n",
       "var x = new MutationObserver(function (mutations, observer) {{\n",
       "        var display = window.getComputedStyle(gd).display;\n",
       "        if (!display || display === 'none') {{\n",
       "            console.log([gd, 'removed!']);\n",
       "            Plotly.purge(gd);\n",
       "            observer.disconnect();\n",
       "        }}\n",
       "}});\n",
       "\n",
       "// Listen for the removal of the full notebook cells\n",
       "var notebookContainer = gd.closest('#notebook-container');\n",
       "if (notebookContainer) {{\n",
       "    x.observe(notebookContainer, {childList: true});\n",
       "}}\n",
       "\n",
       "// Listen for the clearing of the current output cell\n",
       "var outputEl = gd.closest('.output');\n",
       "if (outputEl) {{\n",
       "    x.observe(outputEl, {childList: true});\n",
       "}}\n",
       "\n",
       "                        })\n",
       "                };\n",
       "                });\n",
       "            </script>\n",
       "        </div>"
      ]
     },
     "metadata": {},
     "output_type": "display_data"
    }
   ],
   "source": [
    "#Bar plot to plot data in by_year dataframe\n",
    "by_year.iplot(kind='bar', xTitle='Year',yTitle='No of Crimes',title='Crimes in NYC Parks by Year')"
   ]
  },
  {
   "cell_type": "code",
   "execution_count": 77,
   "metadata": {},
   "outputs": [
    {
     "data": {
      "application/vnd.plotly.v1+json": {
       "config": {
        "linkText": "Export to plot.ly",
        "plotlyServerURL": "https://plot.ly",
        "showLink": true
       },
       "data": [
        {
         "marker": {
          "color": "rgba(255, 153, 51, 0.6)",
          "line": {
           "color": "rgba(255, 153, 51, 1.0)",
           "width": 1
          }
         },
         "name": "RAPE",
         "orientation": "v",
         "text": "",
         "type": "bar",
         "uid": "da506e75-8500-4983-9c21-fab71eeda2db",
         "x": [
          2015,
          2016,
          2017,
          2018
         ],
         "y": [
          20,
          21,
          26,
          28
         ]
        },
        {
         "marker": {
          "color": "rgba(55, 128, 191, 0.6)",
          "line": {
           "color": "rgba(55, 128, 191, 1.0)",
           "width": 1
          }
         },
         "name": "MURDER",
         "orientation": "v",
         "text": "",
         "type": "bar",
         "uid": "fdd7388c-5c7e-49d3-8389-2413efef6871",
         "x": [
          2015,
          2016,
          2017,
          2018
         ],
         "y": [
          9,
          9,
          2,
          9
         ]
        },
        {
         "marker": {
          "color": "rgba(50, 171, 96, 0.6)",
          "line": {
           "color": "rgba(50, 171, 96, 1.0)",
           "width": 1
          }
         },
         "name": "ROBBERY",
         "orientation": "v",
         "text": "",
         "type": "bar",
         "uid": "ee57498a-eca9-40c7-a139-6b8058d14a45",
         "x": [
          2015,
          2016,
          2017,
          2018
         ],
         "y": [
          330,
          409,
          427,
          359
         ]
        },
        {
         "marker": {
          "color": "rgba(128, 0, 128, 0.6)",
          "line": {
           "color": "rgba(128, 0, 128, 1.0)",
           "width": 1
          }
         },
         "name": "FELONY_ASSAULT",
         "orientation": "v",
         "text": "",
         "type": "bar",
         "uid": "47ef1949-130d-4592-b673-1efd21e3efac",
         "x": [
          2015,
          2016,
          2017,
          2018
         ],
         "y": [
          198,
          206,
          234,
          239
         ]
        },
        {
         "marker": {
          "color": "rgba(219, 64, 82, 0.6)",
          "line": {
           "color": "rgba(219, 64, 82, 1.0)",
           "width": 1
          }
         },
         "name": "BURGLARY",
         "orientation": "v",
         "text": "",
         "type": "bar",
         "uid": "483173e0-75ce-43a2-ab49-685c43e93665",
         "x": [
          2015,
          2016,
          2017,
          2018
         ],
         "y": [
          20,
          23,
          21,
          26
         ]
        },
        {
         "marker": {
          "color": "rgba(0, 128, 128, 0.6)",
          "line": {
           "color": "rgba(0, 128, 128, 1.0)",
           "width": 1
          }
         },
         "name": "GRAND_LARCENY",
         "orientation": "v",
         "text": "",
         "type": "bar",
         "uid": "c766804f-2ae3-4dfe-ba5c-b017e221c55b",
         "x": [
          2015,
          2016,
          2017,
          2018
         ],
         "y": [
          367,
          526,
          542,
          530
         ]
        },
        {
         "marker": {
          "color": "rgba(255, 255, 51, 0.6)",
          "line": {
           "color": "rgba(255, 255, 51, 1.0)",
           "width": 1
          }
         },
         "name": "GRAND_LARCENY_OF_MOTOR_VEHICLE",
         "orientation": "v",
         "text": "",
         "type": "bar",
         "uid": "4bde04e4-3151-4042-a0a9-5e0c63302996",
         "x": [
          2015,
          2016,
          2017,
          2018
         ],
         "y": [
          7,
          4,
          7,
          7
         ]
        },
        {
         "marker": {
          "color": "rgba(128, 128, 0, 0.6)",
          "line": {
           "color": "rgba(128, 128, 0, 1.0)",
           "width": 1
          }
         },
         "name": "TOTAL",
         "orientation": "v",
         "text": "",
         "type": "bar",
         "uid": "ceba9919-ac72-42ee-8746-1e5c8999321a",
         "x": [
          2015,
          2016,
          2017,
          2018
         ],
         "y": [
          951,
          1198,
          1259,
          1198
         ]
        }
       ],
       "layout": {
        "bargap": 0.4,
        "barmode": "stack",
        "legend": {
         "bgcolor": "#F5F6F9",
         "font": {
          "color": "#4D5663"
         },
         "traceorder": "normal"
        },
        "paper_bgcolor": "#F5F6F9",
        "plot_bgcolor": "#F5F6F9",
        "title": {
         "font": {
          "color": "#4D5663"
         },
         "text": "Crimes in NYC Parks by Year"
        },
        "xaxis": {
         "gridcolor": "#E1E5ED",
         "nticks": 8,
         "showgrid": true,
         "tickfont": {
          "color": "#4D5663"
         },
         "title": {
          "font": {
           "color": "#4D5663"
          },
          "text": "Year"
         },
         "zerolinecolor": "#E1E5ED"
        },
        "yaxis": {
         "gridcolor": "#E1E5ED",
         "nticks": 8,
         "showgrid": true,
         "tickfont": {
          "color": "#4D5663"
         },
         "title": {
          "font": {
           "color": "#4D5663"
          },
          "text": "No of Crimes"
         },
         "zerolinecolor": "#E1E5ED"
        }
       }
      },
      "text/html": [
       "<div>\n",
       "        \n",
       "        \n",
       "            <div id=\"5ee156c6-e8a8-434c-8185-c6e208c705bc\" class=\"plotly-graph-div\" style=\"height:525px; width:100%;\"></div>\n",
       "            <script type=\"text/javascript\">\n",
       "                require([\"plotly\"], function(Plotly) {\n",
       "                    window.PLOTLYENV=window.PLOTLYENV || {};\n",
       "                    window.PLOTLYENV.BASE_URL='https://plot.ly';\n",
       "                    \n",
       "                if (document.getElementById(\"5ee156c6-e8a8-434c-8185-c6e208c705bc\")) {\n",
       "                    Plotly.newPlot(\n",
       "                        '5ee156c6-e8a8-434c-8185-c6e208c705bc',\n",
       "                        [{\"marker\": {\"color\": \"rgba(255, 153, 51, 0.6)\", \"line\": {\"color\": \"rgba(255, 153, 51, 1.0)\", \"width\": 1}}, \"name\": \"RAPE\", \"orientation\": \"v\", \"text\": \"\", \"type\": \"bar\", \"uid\": \"da506e75-8500-4983-9c21-fab71eeda2db\", \"x\": [2015, 2016, 2017, 2018], \"y\": [20, 21, 26, 28]}, {\"marker\": {\"color\": \"rgba(55, 128, 191, 0.6)\", \"line\": {\"color\": \"rgba(55, 128, 191, 1.0)\", \"width\": 1}}, \"name\": \"MURDER\", \"orientation\": \"v\", \"text\": \"\", \"type\": \"bar\", \"uid\": \"fdd7388c-5c7e-49d3-8389-2413efef6871\", \"x\": [2015, 2016, 2017, 2018], \"y\": [9, 9, 2, 9]}, {\"marker\": {\"color\": \"rgba(50, 171, 96, 0.6)\", \"line\": {\"color\": \"rgba(50, 171, 96, 1.0)\", \"width\": 1}}, \"name\": \"ROBBERY\", \"orientation\": \"v\", \"text\": \"\", \"type\": \"bar\", \"uid\": \"ee57498a-eca9-40c7-a139-6b8058d14a45\", \"x\": [2015, 2016, 2017, 2018], \"y\": [330, 409, 427, 359]}, {\"marker\": {\"color\": \"rgba(128, 0, 128, 0.6)\", \"line\": {\"color\": \"rgba(128, 0, 128, 1.0)\", \"width\": 1}}, \"name\": \"FELONY_ASSAULT\", \"orientation\": \"v\", \"text\": \"\", \"type\": \"bar\", \"uid\": \"47ef1949-130d-4592-b673-1efd21e3efac\", \"x\": [2015, 2016, 2017, 2018], \"y\": [198, 206, 234, 239]}, {\"marker\": {\"color\": \"rgba(219, 64, 82, 0.6)\", \"line\": {\"color\": \"rgba(219, 64, 82, 1.0)\", \"width\": 1}}, \"name\": \"BURGLARY\", \"orientation\": \"v\", \"text\": \"\", \"type\": \"bar\", \"uid\": \"483173e0-75ce-43a2-ab49-685c43e93665\", \"x\": [2015, 2016, 2017, 2018], \"y\": [20, 23, 21, 26]}, {\"marker\": {\"color\": \"rgba(0, 128, 128, 0.6)\", \"line\": {\"color\": \"rgba(0, 128, 128, 1.0)\", \"width\": 1}}, \"name\": \"GRAND_LARCENY\", \"orientation\": \"v\", \"text\": \"\", \"type\": \"bar\", \"uid\": \"c766804f-2ae3-4dfe-ba5c-b017e221c55b\", \"x\": [2015, 2016, 2017, 2018], \"y\": [367, 526, 542, 530]}, {\"marker\": {\"color\": \"rgba(255, 255, 51, 0.6)\", \"line\": {\"color\": \"rgba(255, 255, 51, 1.0)\", \"width\": 1}}, \"name\": \"GRAND_LARCENY_OF_MOTOR_VEHICLE\", \"orientation\": \"v\", \"text\": \"\", \"type\": \"bar\", \"uid\": \"4bde04e4-3151-4042-a0a9-5e0c63302996\", \"x\": [2015, 2016, 2017, 2018], \"y\": [7, 4, 7, 7]}, {\"marker\": {\"color\": \"rgba(128, 128, 0, 0.6)\", \"line\": {\"color\": \"rgba(128, 128, 0, 1.0)\", \"width\": 1}}, \"name\": \"TOTAL\", \"orientation\": \"v\", \"text\": \"\", \"type\": \"bar\", \"uid\": \"ceba9919-ac72-42ee-8746-1e5c8999321a\", \"x\": [2015, 2016, 2017, 2018], \"y\": [951, 1198, 1259, 1198]}],\n",
       "                        {\"bargap\": 0.4, \"barmode\": \"stack\", \"legend\": {\"bgcolor\": \"#F5F6F9\", \"font\": {\"color\": \"#4D5663\"}, \"traceorder\": \"normal\"}, \"paper_bgcolor\": \"#F5F6F9\", \"plot_bgcolor\": \"#F5F6F9\", \"title\": {\"font\": {\"color\": \"#4D5663\"}, \"text\": \"Crimes in NYC Parks by Year\"}, \"xaxis\": {\"gridcolor\": \"#E1E5ED\", \"nticks\": 8, \"showgrid\": true, \"tickfont\": {\"color\": \"#4D5663\"}, \"title\": {\"font\": {\"color\": \"#4D5663\"}, \"text\": \"Year\"}, \"zerolinecolor\": \"#E1E5ED\"}, \"yaxis\": {\"gridcolor\": \"#E1E5ED\", \"nticks\": 8, \"showgrid\": true, \"tickfont\": {\"color\": \"#4D5663\"}, \"title\": {\"font\": {\"color\": \"#4D5663\"}, \"text\": \"No of Crimes\"}, \"zerolinecolor\": \"#E1E5ED\"}},\n",
       "                        {\"showLink\": true, \"linkText\": \"Export to plot.ly\", \"plotlyServerURL\": \"https://plot.ly\", \"responsive\": true}\n",
       "                    ).then(function(){\n",
       "                            \n",
       "var gd = document.getElementById('5ee156c6-e8a8-434c-8185-c6e208c705bc');\n",
       "var x = new MutationObserver(function (mutations, observer) {{\n",
       "        var display = window.getComputedStyle(gd).display;\n",
       "        if (!display || display === 'none') {{\n",
       "            console.log([gd, 'removed!']);\n",
       "            Plotly.purge(gd);\n",
       "            observer.disconnect();\n",
       "        }}\n",
       "}});\n",
       "\n",
       "// Listen for the removal of the full notebook cells\n",
       "var notebookContainer = gd.closest('#notebook-container');\n",
       "if (notebookContainer) {{\n",
       "    x.observe(notebookContainer, {childList: true});\n",
       "}}\n",
       "\n",
       "// Listen for the clearing of the current output cell\n",
       "var outputEl = gd.closest('.output');\n",
       "if (outputEl) {{\n",
       "    x.observe(outputEl, {childList: true});\n",
       "}}\n",
       "\n",
       "                        })\n",
       "                };\n",
       "                });\n",
       "            </script>\n",
       "        </div>"
      ]
     },
     "metadata": {},
     "output_type": "display_data"
    }
   ],
   "source": [
    "#Stacked bar plot to plot data in by_year dataframe\n",
    "by_year.iplot(kind='bar', barmode = 'stack', bargap = .40, xanchor = 'center', nticks = 8, xTitle='Year',yTitle='No of Crimes',title='Crimes in NYC Parks by Year')"
   ]
  },
  {
   "cell_type": "code",
   "execution_count": 78,
   "metadata": {},
   "outputs": [
    {
     "data": {
      "application/vnd.plotly.v1+json": {
       "config": {
        "linkText": "Export to plot.ly",
        "plotlyServerURL": "https://plot.ly",
        "showLink": true
       },
       "data": [
        {
         "colorscale": [
          [
           0,
           "rgb(255, 153, 51)"
          ],
          [
           0.1111111111111111,
           "rgb(55, 128, 191)"
          ],
          [
           0.2222222222222222,
           "rgb(50, 171, 96)"
          ],
          [
           0.3333333333333333,
           "rgb(128, 0, 128)"
          ],
          [
           0.4444444444444444,
           "rgb(219, 64, 82)"
          ],
          [
           0.5555555555555556,
           "rgb(0, 128, 128)"
          ],
          [
           0.6666666666666666,
           "rgb(255, 255, 51)"
          ],
          [
           0.7777777777777778,
           "rgb(128, 128, 0)"
          ],
          [
           0.8888888888888888,
           "rgb(251, 128, 114)"
          ],
          [
           1,
           "rgb(128, 177, 211)"
          ]
         ],
         "type": "heatmap",
         "uid": "97cf701a-a206-4574-87ea-84906a5a6923",
         "x": [
          2015,
          2016,
          2017,
          2018
         ],
         "y": [
          "RAPE",
          "MURDER",
          "ROBBERY",
          "FELONY_ASSAULT",
          "BURGLARY",
          "GRAND_LARCENY",
          "GRAND_LARCENY_OF_MOTOR_VEHICLE",
          "TOTAL"
         ],
         "z": [
          [
           20,
           21,
           26,
           28
          ],
          [
           9,
           9,
           2,
           9
          ],
          [
           330,
           409,
           427,
           359
          ],
          [
           198,
           206,
           234,
           239
          ],
          [
           20,
           23,
           21,
           26
          ],
          [
           367,
           526,
           542,
           530
          ],
          [
           7,
           4,
           7,
           7
          ],
          [
           951,
           1198,
           1259,
           1198
          ]
         ],
         "zmax": 1259,
         "zmin": 2
        }
       ],
       "layout": {
        "legend": {
         "bgcolor": "#F5F6F9",
         "font": {
          "color": "#4D5663"
         }
        },
        "paper_bgcolor": "#F5F6F9",
        "plot_bgcolor": "#F5F6F9",
        "title": {
         "font": {
          "color": "#4D5663"
         },
         "text": "Crimes in NYC Parks by Year"
        },
        "xaxis": {
         "gridcolor": "#E1E5ED",
         "nticks": 8,
         "showgrid": true,
         "tickfont": {
          "color": "#4D5663"
         },
         "title": {
          "font": {
           "color": "#4D5663"
          },
          "text": "Year"
         },
         "zerolinecolor": "#E1E5ED"
        },
        "yaxis": {
         "gridcolor": "#E1E5ED",
         "nticks": 8,
         "showgrid": true,
         "tickfont": {
          "color": "#4D5663"
         },
         "title": {
          "font": {
           "color": "#4D5663"
          },
          "text": "Crimes"
         },
         "zerolinecolor": "#E1E5ED"
        }
       }
      },
      "text/html": [
       "<div>\n",
       "        \n",
       "        \n",
       "            <div id=\"6f8bae5f-430c-4452-9f74-6aa8072647b8\" class=\"plotly-graph-div\" style=\"height:525px; width:100%;\"></div>\n",
       "            <script type=\"text/javascript\">\n",
       "                require([\"plotly\"], function(Plotly) {\n",
       "                    window.PLOTLYENV=window.PLOTLYENV || {};\n",
       "                    window.PLOTLYENV.BASE_URL='https://plot.ly';\n",
       "                    \n",
       "                if (document.getElementById(\"6f8bae5f-430c-4452-9f74-6aa8072647b8\")) {\n",
       "                    Plotly.newPlot(\n",
       "                        '6f8bae5f-430c-4452-9f74-6aa8072647b8',\n",
       "                        [{\"colorscale\": [[0.0, \"rgb(255, 153, 51)\"], [0.1111111111111111, \"rgb(55, 128, 191)\"], [0.2222222222222222, \"rgb(50, 171, 96)\"], [0.3333333333333333, \"rgb(128, 0, 128)\"], [0.4444444444444444, \"rgb(219, 64, 82)\"], [0.5555555555555556, \"rgb(0, 128, 128)\"], [0.6666666666666666, \"rgb(255, 255, 51)\"], [0.7777777777777778, \"rgb(128, 128, 0)\"], [0.8888888888888888, \"rgb(251, 128, 114)\"], [1.0, \"rgb(128, 177, 211)\"]], \"type\": \"heatmap\", \"uid\": \"97cf701a-a206-4574-87ea-84906a5a6923\", \"x\": [2015, 2016, 2017, 2018], \"y\": [\"RAPE\", \"MURDER\", \"ROBBERY\", \"FELONY_ASSAULT\", \"BURGLARY\", \"GRAND_LARCENY\", \"GRAND_LARCENY_OF_MOTOR_VEHICLE\", \"TOTAL\"], \"z\": [[20, 21, 26, 28], [9, 9, 2, 9], [330, 409, 427, 359], [198, 206, 234, 239], [20, 23, 21, 26], [367, 526, 542, 530], [7, 4, 7, 7], [951, 1198, 1259, 1198]], \"zmax\": 1259, \"zmin\": 2}],\n",
       "                        {\"legend\": {\"bgcolor\": \"#F5F6F9\", \"font\": {\"color\": \"#4D5663\"}}, \"paper_bgcolor\": \"#F5F6F9\", \"plot_bgcolor\": \"#F5F6F9\", \"title\": {\"font\": {\"color\": \"#4D5663\"}, \"text\": \"Crimes in NYC Parks by Year\"}, \"xaxis\": {\"gridcolor\": \"#E1E5ED\", \"nticks\": 8, \"showgrid\": true, \"tickfont\": {\"color\": \"#4D5663\"}, \"title\": {\"font\": {\"color\": \"#4D5663\"}, \"text\": \"Year\"}, \"zerolinecolor\": \"#E1E5ED\"}, \"yaxis\": {\"gridcolor\": \"#E1E5ED\", \"nticks\": 8, \"showgrid\": true, \"tickfont\": {\"color\": \"#4D5663\"}, \"title\": {\"font\": {\"color\": \"#4D5663\"}, \"text\": \"Crimes\"}, \"zerolinecolor\": \"#E1E5ED\"}},\n",
       "                        {\"showLink\": true, \"linkText\": \"Export to plot.ly\", \"plotlyServerURL\": \"https://plot.ly\", \"responsive\": true}\n",
       "                    ).then(function(){\n",
       "                            \n",
       "var gd = document.getElementById('6f8bae5f-430c-4452-9f74-6aa8072647b8');\n",
       "var x = new MutationObserver(function (mutations, observer) {{\n",
       "        var display = window.getComputedStyle(gd).display;\n",
       "        if (!display || display === 'none') {{\n",
       "            console.log([gd, 'removed!']);\n",
       "            Plotly.purge(gd);\n",
       "            observer.disconnect();\n",
       "        }}\n",
       "}});\n",
       "\n",
       "// Listen for the removal of the full notebook cells\n",
       "var notebookContainer = gd.closest('#notebook-container');\n",
       "if (notebookContainer) {{\n",
       "    x.observe(notebookContainer, {childList: true});\n",
       "}}\n",
       "\n",
       "// Listen for the clearing of the current output cell\n",
       "var outputEl = gd.closest('.output');\n",
       "if (outputEl) {{\n",
       "    x.observe(outputEl, {childList: true});\n",
       "}}\n",
       "\n",
       "                        })\n",
       "                };\n",
       "                });\n",
       "            </script>\n",
       "        </div>"
      ]
     },
     "metadata": {},
     "output_type": "display_data"
    }
   ],
   "source": [
    "#Heatmap to plot data in by_year dataframe\n",
    "by_year.iplot(kind='heatmap', xTitle='Year',yTitle='Crimes',title='Crimes in NYC Parks by Year', nticks=8)"
   ]
  },
  {
   "cell_type": "code",
   "execution_count": 79,
   "metadata": {},
   "outputs": [],
   "source": [
    "#Create a new dataframe for analyze data grouped BY QUARTER\n",
    "by_quarter = df.groupby(['YEAR', 'QUARTER'],as_index = False).agg({'RAPE': np.sum, 'MURDER': np.sum,'ROBBERY': np.sum, 'FELONY_ASSAULT': np.sum,'BURGLARY': np.sum, 'GRAND_LARCENY': np.sum, 'GRAND_LARCENY_OF_MOTOR_VEHICLE': np.sum,'TOTAL':np.sum })"
   ]
  },
  {
   "cell_type": "code",
   "execution_count": 80,
   "metadata": {},
   "outputs": [
    {
     "data": {
      "text/html": [
       "<div>\n",
       "<style scoped>\n",
       "    .dataframe tbody tr th:only-of-type {\n",
       "        vertical-align: middle;\n",
       "    }\n",
       "\n",
       "    .dataframe tbody tr th {\n",
       "        vertical-align: top;\n",
       "    }\n",
       "\n",
       "    .dataframe thead th {\n",
       "        text-align: right;\n",
       "    }\n",
       "</style>\n",
       "<table border=\"1\" class=\"dataframe\">\n",
       "  <thead>\n",
       "    <tr style=\"text-align: right;\">\n",
       "      <th></th>\n",
       "      <th>YEAR</th>\n",
       "      <th>QUARTER</th>\n",
       "      <th>RAPE</th>\n",
       "      <th>MURDER</th>\n",
       "      <th>ROBBERY</th>\n",
       "      <th>FELONY_ASSAULT</th>\n",
       "      <th>BURGLARY</th>\n",
       "      <th>GRAND_LARCENY</th>\n",
       "      <th>GRAND_LARCENY_OF_MOTOR_VEHICLE</th>\n",
       "      <th>TOTAL</th>\n",
       "    </tr>\n",
       "  </thead>\n",
       "  <tbody>\n",
       "    <tr>\n",
       "      <th>0</th>\n",
       "      <td>2014</td>\n",
       "      <td>3</td>\n",
       "      <td>5</td>\n",
       "      <td>0</td>\n",
       "      <td>101</td>\n",
       "      <td>72</td>\n",
       "      <td>15</td>\n",
       "      <td>236</td>\n",
       "      <td>3</td>\n",
       "      <td>432</td>\n",
       "    </tr>\n",
       "    <tr>\n",
       "      <th>1</th>\n",
       "      <td>2014</td>\n",
       "      <td>4</td>\n",
       "      <td>2</td>\n",
       "      <td>1</td>\n",
       "      <td>79</td>\n",
       "      <td>26</td>\n",
       "      <td>4</td>\n",
       "      <td>78</td>\n",
       "      <td>1</td>\n",
       "      <td>191</td>\n",
       "    </tr>\n",
       "    <tr>\n",
       "      <th>2</th>\n",
       "      <td>2015</td>\n",
       "      <td>1</td>\n",
       "      <td>3</td>\n",
       "      <td>1</td>\n",
       "      <td>41</td>\n",
       "      <td>9</td>\n",
       "      <td>4</td>\n",
       "      <td>24</td>\n",
       "      <td>3</td>\n",
       "      <td>85</td>\n",
       "    </tr>\n",
       "    <tr>\n",
       "      <th>3</th>\n",
       "      <td>2015</td>\n",
       "      <td>2</td>\n",
       "      <td>5</td>\n",
       "      <td>2</td>\n",
       "      <td>74</td>\n",
       "      <td>67</td>\n",
       "      <td>5</td>\n",
       "      <td>92</td>\n",
       "      <td>0</td>\n",
       "      <td>245</td>\n",
       "    </tr>\n",
       "    <tr>\n",
       "      <th>4</th>\n",
       "      <td>2015</td>\n",
       "      <td>3</td>\n",
       "      <td>4</td>\n",
       "      <td>3</td>\n",
       "      <td>119</td>\n",
       "      <td>93</td>\n",
       "      <td>6</td>\n",
       "      <td>164</td>\n",
       "      <td>2</td>\n",
       "      <td>391</td>\n",
       "    </tr>\n",
       "  </tbody>\n",
       "</table>\n",
       "</div>"
      ],
      "text/plain": [
       "   YEAR  QUARTER  RAPE  MURDER  ROBBERY  FELONY_ASSAULT  BURGLARY  \\\n",
       "0  2014        3     5       0      101              72        15   \n",
       "1  2014        4     2       1       79              26         4   \n",
       "2  2015        1     3       1       41               9         4   \n",
       "3  2015        2     5       2       74              67         5   \n",
       "4  2015        3     4       3      119              93         6   \n",
       "\n",
       "   GRAND_LARCENY  GRAND_LARCENY_OF_MOTOR_VEHICLE  TOTAL  \n",
       "0            236                               3    432  \n",
       "1             78                               1    191  \n",
       "2             24                               3     85  \n",
       "3             92                               0    245  \n",
       "4            164                               2    391  "
      ]
     },
     "execution_count": 80,
     "metadata": {},
     "output_type": "execute_result"
    }
   ],
   "source": [
    "by_quarter.head() #The data in by_quarter dataframe"
   ]
  },
  {
   "cell_type": "code",
   "execution_count": 81,
   "metadata": {},
   "outputs": [
    {
     "data": {
      "application/vnd.plotly.v1+json": {
       "config": {
        "linkText": "Export to plot.ly",
        "plotlyServerURL": "https://plot.ly",
        "showLink": true
       },
       "data": [
        {
         "marker": {
          "color": [
           "rgb(255, 153, 51)",
           "rgb(55, 128, 191)",
           "rgb(50, 171, 96)",
           "rgb(128, 0, 128)",
           "rgb(219, 64, 82)",
           "rgb(0, 128, 128)",
           "rgb(255, 255, 51)",
           "rgb(128, 128, 0)",
           "rgb(251, 128, 114)",
           "rgb(128, 177, 211)"
          ],
          "line": {
           "width": 1.3
          },
          "size": [
           45,
           20,
           28,
           45,
           37,
           70,
           20,
           37,
           70,
           62,
           28,
           62,
           112,
           28,
           12,
           87,
           78,
           70,
           28,
           20
          ],
          "symbol": "circle"
         },
         "mode": "markers",
         "text": "",
         "type": "scatter",
         "uid": "8e6c6ad4-6330-4693-90d3-8202fb6f92ee",
         "x": [
          2014,
          2014,
          2015,
          2015,
          2015,
          2015,
          2016,
          2016,
          2016,
          2016,
          2017,
          2017,
          2017,
          2017,
          2018,
          2018,
          2018,
          2018,
          2019,
          2019
         ],
         "y": [
          432,
          191,
          85,
          245,
          391,
          230,
          108,
          352,
          495,
          243,
          133,
          346,
          511,
          269,
          109,
          333,
          545,
          211,
          112,
          340
         ]
        }
       ],
       "layout": {
        "legend": {
         "bgcolor": "#F5F6F9",
         "font": {
          "color": "#4D5663"
         }
        },
        "paper_bgcolor": "#F5F6F9",
        "plot_bgcolor": "#F5F6F9",
        "title": {
         "font": {
          "color": "#4D5663"
         },
         "text": "Crimes in NYC Parks Per Year and Quarter Sized by Rape"
        },
        "xaxis": {
         "gridcolor": "#E1E5ED",
         "nticks": 7,
         "showgrid": true,
         "tickfont": {
          "color": "#4D5663"
         },
         "title": {
          "font": {
           "color": "#4D5663"
          },
          "text": "Year"
         },
         "zerolinecolor": "#E1E5ED"
        },
        "yaxis": {
         "gridcolor": "#E1E5ED",
         "nticks": 7,
         "showgrid": true,
         "tickfont": {
          "color": "#4D5663"
         },
         "title": {
          "font": {
           "color": "#4D5663"
          },
          "text": "No of Crimes"
         },
         "zerolinecolor": "#E1E5ED"
        }
       }
      },
      "text/html": [
       "<div>\n",
       "        \n",
       "        \n",
       "            <div id=\"0e84712c-f7c7-4104-8fe4-30b67bfabdd1\" class=\"plotly-graph-div\" style=\"height:525px; width:100%;\"></div>\n",
       "            <script type=\"text/javascript\">\n",
       "                require([\"plotly\"], function(Plotly) {\n",
       "                    window.PLOTLYENV=window.PLOTLYENV || {};\n",
       "                    window.PLOTLYENV.BASE_URL='https://plot.ly';\n",
       "                    \n",
       "                if (document.getElementById(\"0e84712c-f7c7-4104-8fe4-30b67bfabdd1\")) {\n",
       "                    Plotly.newPlot(\n",
       "                        '0e84712c-f7c7-4104-8fe4-30b67bfabdd1',\n",
       "                        [{\"marker\": {\"color\": [\"rgb(255, 153, 51)\", \"rgb(55, 128, 191)\", \"rgb(50, 171, 96)\", \"rgb(128, 0, 128)\", \"rgb(219, 64, 82)\", \"rgb(0, 128, 128)\", \"rgb(255, 255, 51)\", \"rgb(128, 128, 0)\", \"rgb(251, 128, 114)\", \"rgb(128, 177, 211)\"], \"line\": {\"width\": 1.3}, \"size\": [45, 20, 28, 45, 37, 70, 20, 37, 70, 62, 28, 62, 112, 28, 12, 87, 78, 70, 28, 20], \"symbol\": \"circle\"}, \"mode\": \"markers\", \"text\": \"\", \"type\": \"scatter\", \"uid\": \"8e6c6ad4-6330-4693-90d3-8202fb6f92ee\", \"x\": [2014, 2014, 2015, 2015, 2015, 2015, 2016, 2016, 2016, 2016, 2017, 2017, 2017, 2017, 2018, 2018, 2018, 2018, 2019, 2019], \"y\": [432, 191, 85, 245, 391, 230, 108, 352, 495, 243, 133, 346, 511, 269, 109, 333, 545, 211, 112, 340]}],\n",
       "                        {\"legend\": {\"bgcolor\": \"#F5F6F9\", \"font\": {\"color\": \"#4D5663\"}}, \"paper_bgcolor\": \"#F5F6F9\", \"plot_bgcolor\": \"#F5F6F9\", \"title\": {\"font\": {\"color\": \"#4D5663\"}, \"text\": \"Crimes in NYC Parks Per Year and Quarter Sized by Rape\"}, \"xaxis\": {\"gridcolor\": \"#E1E5ED\", \"nticks\": 7, \"showgrid\": true, \"tickfont\": {\"color\": \"#4D5663\"}, \"title\": {\"font\": {\"color\": \"#4D5663\"}, \"text\": \"Year\"}, \"zerolinecolor\": \"#E1E5ED\"}, \"yaxis\": {\"gridcolor\": \"#E1E5ED\", \"nticks\": 7, \"showgrid\": true, \"tickfont\": {\"color\": \"#4D5663\"}, \"title\": {\"font\": {\"color\": \"#4D5663\"}, \"text\": \"No of Crimes\"}, \"zerolinecolor\": \"#E1E5ED\"}},\n",
       "                        {\"showLink\": true, \"linkText\": \"Export to plot.ly\", \"plotlyServerURL\": \"https://plot.ly\", \"responsive\": true}\n",
       "                    ).then(function(){\n",
       "                            \n",
       "var gd = document.getElementById('0e84712c-f7c7-4104-8fe4-30b67bfabdd1');\n",
       "var x = new MutationObserver(function (mutations, observer) {{\n",
       "        var display = window.getComputedStyle(gd).display;\n",
       "        if (!display || display === 'none') {{\n",
       "            console.log([gd, 'removed!']);\n",
       "            Plotly.purge(gd);\n",
       "            observer.disconnect();\n",
       "        }}\n",
       "}});\n",
       "\n",
       "// Listen for the removal of the full notebook cells\n",
       "var notebookContainer = gd.closest('#notebook-container');\n",
       "if (notebookContainer) {{\n",
       "    x.observe(notebookContainer, {childList: true});\n",
       "}}\n",
       "\n",
       "// Listen for the clearing of the current output cell\n",
       "var outputEl = gd.closest('.output');\n",
       "if (outputEl) {{\n",
       "    x.observe(outputEl, {childList: true});\n",
       "}}\n",
       "\n",
       "                        })\n",
       "                };\n",
       "                });\n",
       "            </script>\n",
       "        </div>"
      ]
     },
     "metadata": {},
     "output_type": "display_data"
    }
   ],
   "source": [
    "#Bubble plot sized by Rape\n",
    "by_quarter.iplot(kind='bubble',x='YEAR',y='TOTAL',size='RAPE',xTitle='Year',yTitle='No of Crimes',title='Crimes in NYC Parks Per Year and Quarter Sized by Rape',  nticks = 7)"
   ]
  },
  {
   "cell_type": "code",
   "execution_count": 82,
   "metadata": {},
   "outputs": [
    {
     "data": {
      "application/vnd.plotly.v1+json": {
       "config": {
        "linkText": "Export to plot.ly",
        "plotlyServerURL": "https://plot.ly",
        "showLink": true
       },
       "data": [
        {
         "marker": {
          "color": [
           "rgb(255, 153, 51)",
           "rgb(55, 128, 191)",
           "rgb(50, 171, 96)",
           "rgb(128, 0, 128)",
           "rgb(219, 64, 82)",
           "rgb(0, 128, 128)",
           "rgb(255, 255, 51)",
           "rgb(128, 128, 0)",
           "rgb(251, 128, 114)",
           "rgb(128, 177, 211)"
          ],
          "line": {
           "width": 1.3
          },
          "size": [
           12,
           28,
           28,
           45,
           62,
           62,
           12,
           28,
           112,
           45,
           12,
           45,
           12,
           12,
           12,
           95,
           62,
           28,
           12,
           45
          ],
          "symbol": "circle"
         },
         "mode": "markers",
         "text": "",
         "type": "scatter",
         "uid": "982eae3c-22af-47a4-a130-04a13db1af96",
         "x": [
          2014,
          2014,
          2015,
          2015,
          2015,
          2015,
          2016,
          2016,
          2016,
          2016,
          2017,
          2017,
          2017,
          2017,
          2018,
          2018,
          2018,
          2018,
          2019,
          2019
         ],
         "y": [
          432,
          191,
          85,
          245,
          391,
          230,
          108,
          352,
          495,
          243,
          133,
          346,
          511,
          269,
          109,
          333,
          545,
          211,
          112,
          340
         ]
        }
       ],
       "layout": {
        "legend": {
         "bgcolor": "#F5F6F9",
         "font": {
          "color": "#4D5663"
         }
        },
        "paper_bgcolor": "#F5F6F9",
        "plot_bgcolor": "#F5F6F9",
        "title": {
         "font": {
          "color": "#4D5663"
         },
         "text": "Crimes in NYC Parks Per Year and Quarter Sized by Murder"
        },
        "xaxis": {
         "gridcolor": "#E1E5ED",
         "nticks": 7,
         "showgrid": true,
         "tickfont": {
          "color": "#4D5663"
         },
         "title": {
          "font": {
           "color": "#4D5663"
          },
          "text": "Year"
         },
         "zerolinecolor": "#E1E5ED"
        },
        "yaxis": {
         "gridcolor": "#E1E5ED",
         "nticks": 7,
         "showgrid": true,
         "tickfont": {
          "color": "#4D5663"
         },
         "title": {
          "font": {
           "color": "#4D5663"
          },
          "text": "No of Crimes"
         },
         "zerolinecolor": "#E1E5ED"
        }
       }
      },
      "text/html": [
       "<div>\n",
       "        \n",
       "        \n",
       "            <div id=\"6689e9b2-7918-4a2b-9d0c-65afb66f3aff\" class=\"plotly-graph-div\" style=\"height:525px; width:100%;\"></div>\n",
       "            <script type=\"text/javascript\">\n",
       "                require([\"plotly\"], function(Plotly) {\n",
       "                    window.PLOTLYENV=window.PLOTLYENV || {};\n",
       "                    window.PLOTLYENV.BASE_URL='https://plot.ly';\n",
       "                    \n",
       "                if (document.getElementById(\"6689e9b2-7918-4a2b-9d0c-65afb66f3aff\")) {\n",
       "                    Plotly.newPlot(\n",
       "                        '6689e9b2-7918-4a2b-9d0c-65afb66f3aff',\n",
       "                        [{\"marker\": {\"color\": [\"rgb(255, 153, 51)\", \"rgb(55, 128, 191)\", \"rgb(50, 171, 96)\", \"rgb(128, 0, 128)\", \"rgb(219, 64, 82)\", \"rgb(0, 128, 128)\", \"rgb(255, 255, 51)\", \"rgb(128, 128, 0)\", \"rgb(251, 128, 114)\", \"rgb(128, 177, 211)\"], \"line\": {\"width\": 1.3}, \"size\": [12, 28, 28, 45, 62, 62, 12, 28, 112, 45, 12, 45, 12, 12, 12, 95, 62, 28, 12, 45], \"symbol\": \"circle\"}, \"mode\": \"markers\", \"text\": \"\", \"type\": \"scatter\", \"uid\": \"982eae3c-22af-47a4-a130-04a13db1af96\", \"x\": [2014, 2014, 2015, 2015, 2015, 2015, 2016, 2016, 2016, 2016, 2017, 2017, 2017, 2017, 2018, 2018, 2018, 2018, 2019, 2019], \"y\": [432, 191, 85, 245, 391, 230, 108, 352, 495, 243, 133, 346, 511, 269, 109, 333, 545, 211, 112, 340]}],\n",
       "                        {\"legend\": {\"bgcolor\": \"#F5F6F9\", \"font\": {\"color\": \"#4D5663\"}}, \"paper_bgcolor\": \"#F5F6F9\", \"plot_bgcolor\": \"#F5F6F9\", \"title\": {\"font\": {\"color\": \"#4D5663\"}, \"text\": \"Crimes in NYC Parks Per Year and Quarter Sized by Murder\"}, \"xaxis\": {\"gridcolor\": \"#E1E5ED\", \"nticks\": 7, \"showgrid\": true, \"tickfont\": {\"color\": \"#4D5663\"}, \"title\": {\"font\": {\"color\": \"#4D5663\"}, \"text\": \"Year\"}, \"zerolinecolor\": \"#E1E5ED\"}, \"yaxis\": {\"gridcolor\": \"#E1E5ED\", \"nticks\": 7, \"showgrid\": true, \"tickfont\": {\"color\": \"#4D5663\"}, \"title\": {\"font\": {\"color\": \"#4D5663\"}, \"text\": \"No of Crimes\"}, \"zerolinecolor\": \"#E1E5ED\"}},\n",
       "                        {\"showLink\": true, \"linkText\": \"Export to plot.ly\", \"plotlyServerURL\": \"https://plot.ly\", \"responsive\": true}\n",
       "                    ).then(function(){\n",
       "                            \n",
       "var gd = document.getElementById('6689e9b2-7918-4a2b-9d0c-65afb66f3aff');\n",
       "var x = new MutationObserver(function (mutations, observer) {{\n",
       "        var display = window.getComputedStyle(gd).display;\n",
       "        if (!display || display === 'none') {{\n",
       "            console.log([gd, 'removed!']);\n",
       "            Plotly.purge(gd);\n",
       "            observer.disconnect();\n",
       "        }}\n",
       "}});\n",
       "\n",
       "// Listen for the removal of the full notebook cells\n",
       "var notebookContainer = gd.closest('#notebook-container');\n",
       "if (notebookContainer) {{\n",
       "    x.observe(notebookContainer, {childList: true});\n",
       "}}\n",
       "\n",
       "// Listen for the clearing of the current output cell\n",
       "var outputEl = gd.closest('.output');\n",
       "if (outputEl) {{\n",
       "    x.observe(outputEl, {childList: true});\n",
       "}}\n",
       "\n",
       "                        })\n",
       "                };\n",
       "                });\n",
       "            </script>\n",
       "        </div>"
      ]
     },
     "metadata": {},
     "output_type": "display_data"
    }
   ],
   "source": [
    "#Bubble plot sized by Murder\n",
    "by_quarter.iplot(kind='bubble',x='YEAR',y='TOTAL',size='MURDER',xTitle='Year',yTitle='No of Crimes',title='Crimes in NYC Parks Per Year and Quarter Sized by Murder',  nticks = 7)"
   ]
  },
  {
   "cell_type": "code",
   "execution_count": 83,
   "metadata": {},
   "outputs": [
    {
     "data": {
      "application/vnd.plotly.v1+json": {
       "config": {
        "linkText": "Export to plot.ly",
        "plotlyServerURL": "https://plot.ly",
        "showLink": true
       },
       "data": [
        {
         "marker": {
          "color": [
           "rgb(255, 153, 51)",
           "rgb(55, 128, 191)",
           "rgb(50, 171, 96)",
           "rgb(128, 0, 128)",
           "rgb(219, 64, 82)",
           "rgb(0, 128, 128)",
           "rgb(255, 255, 51)",
           "rgb(128, 128, 0)",
           "rgb(251, 128, 114)",
           "rgb(128, 177, 211)"
          ],
          "line": {
           "width": 1.3
          },
          "size": [
           69,
           49,
           13,
           44,
           86,
           65,
           12,
           84,
           112,
           75,
           35,
           74,
           103,
           87,
           30,
           72,
           76,
           57,
           22,
           75
          ],
          "symbol": "circle"
         },
         "mode": "markers",
         "text": "",
         "type": "scatter",
         "uid": "ebcc772b-1dad-4145-80d2-e80de531fe71",
         "x": [
          2014,
          2014,
          2015,
          2015,
          2015,
          2015,
          2016,
          2016,
          2016,
          2016,
          2017,
          2017,
          2017,
          2017,
          2018,
          2018,
          2018,
          2018,
          2019,
          2019
         ],
         "y": [
          432,
          191,
          85,
          245,
          391,
          230,
          108,
          352,
          495,
          243,
          133,
          346,
          511,
          269,
          109,
          333,
          545,
          211,
          112,
          340
         ]
        }
       ],
       "layout": {
        "legend": {
         "bgcolor": "#F5F6F9",
         "font": {
          "color": "#4D5663"
         }
        },
        "paper_bgcolor": "#F5F6F9",
        "plot_bgcolor": "#F5F6F9",
        "title": {
         "font": {
          "color": "#4D5663"
         },
         "text": "Crimes in NYC Parks Per Year and Quarter Sized by Robbery"
        },
        "xaxis": {
         "gridcolor": "#E1E5ED",
         "nticks": 7,
         "showgrid": true,
         "tickfont": {
          "color": "#4D5663"
         },
         "title": {
          "font": {
           "color": "#4D5663"
          },
          "text": "Year"
         },
         "zerolinecolor": "#E1E5ED"
        },
        "yaxis": {
         "gridcolor": "#E1E5ED",
         "nticks": 7,
         "showgrid": true,
         "tickfont": {
          "color": "#4D5663"
         },
         "title": {
          "font": {
           "color": "#4D5663"
          },
          "text": "No of Crimes"
         },
         "zerolinecolor": "#E1E5ED"
        }
       }
      },
      "text/html": [
       "<div>\n",
       "        \n",
       "        \n",
       "            <div id=\"ee840c12-c1cf-46f1-9dca-64b6341b6f9a\" class=\"plotly-graph-div\" style=\"height:525px; width:100%;\"></div>\n",
       "            <script type=\"text/javascript\">\n",
       "                require([\"plotly\"], function(Plotly) {\n",
       "                    window.PLOTLYENV=window.PLOTLYENV || {};\n",
       "                    window.PLOTLYENV.BASE_URL='https://plot.ly';\n",
       "                    \n",
       "                if (document.getElementById(\"ee840c12-c1cf-46f1-9dca-64b6341b6f9a\")) {\n",
       "                    Plotly.newPlot(\n",
       "                        'ee840c12-c1cf-46f1-9dca-64b6341b6f9a',\n",
       "                        [{\"marker\": {\"color\": [\"rgb(255, 153, 51)\", \"rgb(55, 128, 191)\", \"rgb(50, 171, 96)\", \"rgb(128, 0, 128)\", \"rgb(219, 64, 82)\", \"rgb(0, 128, 128)\", \"rgb(255, 255, 51)\", \"rgb(128, 128, 0)\", \"rgb(251, 128, 114)\", \"rgb(128, 177, 211)\"], \"line\": {\"width\": 1.3}, \"size\": [69, 49, 13, 44, 86, 65, 12, 84, 112, 75, 35, 74, 103, 87, 30, 72, 76, 57, 22, 75], \"symbol\": \"circle\"}, \"mode\": \"markers\", \"text\": \"\", \"type\": \"scatter\", \"uid\": \"ebcc772b-1dad-4145-80d2-e80de531fe71\", \"x\": [2014, 2014, 2015, 2015, 2015, 2015, 2016, 2016, 2016, 2016, 2017, 2017, 2017, 2017, 2018, 2018, 2018, 2018, 2019, 2019], \"y\": [432, 191, 85, 245, 391, 230, 108, 352, 495, 243, 133, 346, 511, 269, 109, 333, 545, 211, 112, 340]}],\n",
       "                        {\"legend\": {\"bgcolor\": \"#F5F6F9\", \"font\": {\"color\": \"#4D5663\"}}, \"paper_bgcolor\": \"#F5F6F9\", \"plot_bgcolor\": \"#F5F6F9\", \"title\": {\"font\": {\"color\": \"#4D5663\"}, \"text\": \"Crimes in NYC Parks Per Year and Quarter Sized by Robbery\"}, \"xaxis\": {\"gridcolor\": \"#E1E5ED\", \"nticks\": 7, \"showgrid\": true, \"tickfont\": {\"color\": \"#4D5663\"}, \"title\": {\"font\": {\"color\": \"#4D5663\"}, \"text\": \"Year\"}, \"zerolinecolor\": \"#E1E5ED\"}, \"yaxis\": {\"gridcolor\": \"#E1E5ED\", \"nticks\": 7, \"showgrid\": true, \"tickfont\": {\"color\": \"#4D5663\"}, \"title\": {\"font\": {\"color\": \"#4D5663\"}, \"text\": \"No of Crimes\"}, \"zerolinecolor\": \"#E1E5ED\"}},\n",
       "                        {\"showLink\": true, \"linkText\": \"Export to plot.ly\", \"plotlyServerURL\": \"https://plot.ly\", \"responsive\": true}\n",
       "                    ).then(function(){\n",
       "                            \n",
       "var gd = document.getElementById('ee840c12-c1cf-46f1-9dca-64b6341b6f9a');\n",
       "var x = new MutationObserver(function (mutations, observer) {{\n",
       "        var display = window.getComputedStyle(gd).display;\n",
       "        if (!display || display === 'none') {{\n",
       "            console.log([gd, 'removed!']);\n",
       "            Plotly.purge(gd);\n",
       "            observer.disconnect();\n",
       "        }}\n",
       "}});\n",
       "\n",
       "// Listen for the removal of the full notebook cells\n",
       "var notebookContainer = gd.closest('#notebook-container');\n",
       "if (notebookContainer) {{\n",
       "    x.observe(notebookContainer, {childList: true});\n",
       "}}\n",
       "\n",
       "// Listen for the clearing of the current output cell\n",
       "var outputEl = gd.closest('.output');\n",
       "if (outputEl) {{\n",
       "    x.observe(outputEl, {childList: true});\n",
       "}}\n",
       "\n",
       "                        })\n",
       "                };\n",
       "                });\n",
       "            </script>\n",
       "        </div>"
      ]
     },
     "metadata": {},
     "output_type": "display_data"
    }
   ],
   "source": [
    "#Bubble plot sized by Robbery\n",
    "by_quarter.iplot(kind='bubble',x='YEAR',y='TOTAL',size='ROBBERY',xTitle='Year',yTitle='No of Crimes',title='Crimes in NYC Parks Per Year and Quarter Sized by Robbery',  nticks = 7)"
   ]
  },
  {
   "cell_type": "code",
   "execution_count": 84,
   "metadata": {},
   "outputs": [
    {
     "data": {
      "application/vnd.plotly.v1+json": {
       "config": {
        "linkText": "Export to plot.ly",
        "plotlyServerURL": "https://plot.ly",
        "showLink": true
       },
       "data": [
        {
         "marker": {
          "color": [
           "rgb(255, 153, 51)",
           "rgb(55, 128, 191)",
           "rgb(50, 171, 96)",
           "rgb(128, 0, 128)",
           "rgb(219, 64, 82)",
           "rgb(0, 128, 128)",
           "rgb(255, 255, 51)",
           "rgb(128, 128, 0)",
           "rgb(251, 128, 114)",
           "rgb(128, 177, 211)"
          ],
          "line": {
           "width": 1.3
          },
          "size": [
           69,
           27,
           12,
           65,
           89,
           30,
           23,
           70,
           81,
           28,
           20,
           78,
           87,
           43,
           21,
           62,
           112,
           38,
           21,
           81
          ],
          "symbol": "circle"
         },
         "mode": "markers",
         "text": "",
         "type": "scatter",
         "uid": "093bebea-c3c6-48d4-8fe8-6937933e8b0a",
         "x": [
          2014,
          2014,
          2015,
          2015,
          2015,
          2015,
          2016,
          2016,
          2016,
          2016,
          2017,
          2017,
          2017,
          2017,
          2018,
          2018,
          2018,
          2018,
          2019,
          2019
         ],
         "y": [
          432,
          191,
          85,
          245,
          391,
          230,
          108,
          352,
          495,
          243,
          133,
          346,
          511,
          269,
          109,
          333,
          545,
          211,
          112,
          340
         ]
        }
       ],
       "layout": {
        "legend": {
         "bgcolor": "#F5F6F9",
         "font": {
          "color": "#4D5663"
         }
        },
        "paper_bgcolor": "#F5F6F9",
        "plot_bgcolor": "#F5F6F9",
        "title": {
         "font": {
          "color": "#4D5663"
         },
         "text": "Crimes in NYC Parks Per Year and Quarter Sized by Felony Assult"
        },
        "xaxis": {
         "gridcolor": "#E1E5ED",
         "nticks": 7,
         "showgrid": true,
         "tickfont": {
          "color": "#4D5663"
         },
         "title": {
          "font": {
           "color": "#4D5663"
          },
          "text": "Year"
         },
         "zerolinecolor": "#E1E5ED"
        },
        "yaxis": {
         "gridcolor": "#E1E5ED",
         "nticks": 7,
         "showgrid": true,
         "tickfont": {
          "color": "#4D5663"
         },
         "title": {
          "font": {
           "color": "#4D5663"
          },
          "text": "No of Crimes"
         },
         "zerolinecolor": "#E1E5ED"
        }
       }
      },
      "text/html": [
       "<div>\n",
       "        \n",
       "        \n",
       "            <div id=\"0bd2664a-95a4-4624-a428-e3f76947bc88\" class=\"plotly-graph-div\" style=\"height:525px; width:100%;\"></div>\n",
       "            <script type=\"text/javascript\">\n",
       "                require([\"plotly\"], function(Plotly) {\n",
       "                    window.PLOTLYENV=window.PLOTLYENV || {};\n",
       "                    window.PLOTLYENV.BASE_URL='https://plot.ly';\n",
       "                    \n",
       "                if (document.getElementById(\"0bd2664a-95a4-4624-a428-e3f76947bc88\")) {\n",
       "                    Plotly.newPlot(\n",
       "                        '0bd2664a-95a4-4624-a428-e3f76947bc88',\n",
       "                        [{\"marker\": {\"color\": [\"rgb(255, 153, 51)\", \"rgb(55, 128, 191)\", \"rgb(50, 171, 96)\", \"rgb(128, 0, 128)\", \"rgb(219, 64, 82)\", \"rgb(0, 128, 128)\", \"rgb(255, 255, 51)\", \"rgb(128, 128, 0)\", \"rgb(251, 128, 114)\", \"rgb(128, 177, 211)\"], \"line\": {\"width\": 1.3}, \"size\": [69, 27, 12, 65, 89, 30, 23, 70, 81, 28, 20, 78, 87, 43, 21, 62, 112, 38, 21, 81], \"symbol\": \"circle\"}, \"mode\": \"markers\", \"text\": \"\", \"type\": \"scatter\", \"uid\": \"093bebea-c3c6-48d4-8fe8-6937933e8b0a\", \"x\": [2014, 2014, 2015, 2015, 2015, 2015, 2016, 2016, 2016, 2016, 2017, 2017, 2017, 2017, 2018, 2018, 2018, 2018, 2019, 2019], \"y\": [432, 191, 85, 245, 391, 230, 108, 352, 495, 243, 133, 346, 511, 269, 109, 333, 545, 211, 112, 340]}],\n",
       "                        {\"legend\": {\"bgcolor\": \"#F5F6F9\", \"font\": {\"color\": \"#4D5663\"}}, \"paper_bgcolor\": \"#F5F6F9\", \"plot_bgcolor\": \"#F5F6F9\", \"title\": {\"font\": {\"color\": \"#4D5663\"}, \"text\": \"Crimes in NYC Parks Per Year and Quarter Sized by Felony Assult\"}, \"xaxis\": {\"gridcolor\": \"#E1E5ED\", \"nticks\": 7, \"showgrid\": true, \"tickfont\": {\"color\": \"#4D5663\"}, \"title\": {\"font\": {\"color\": \"#4D5663\"}, \"text\": \"Year\"}, \"zerolinecolor\": \"#E1E5ED\"}, \"yaxis\": {\"gridcolor\": \"#E1E5ED\", \"nticks\": 7, \"showgrid\": true, \"tickfont\": {\"color\": \"#4D5663\"}, \"title\": {\"font\": {\"color\": \"#4D5663\"}, \"text\": \"No of Crimes\"}, \"zerolinecolor\": \"#E1E5ED\"}},\n",
       "                        {\"showLink\": true, \"linkText\": \"Export to plot.ly\", \"plotlyServerURL\": \"https://plot.ly\", \"responsive\": true}\n",
       "                    ).then(function(){\n",
       "                            \n",
       "var gd = document.getElementById('0bd2664a-95a4-4624-a428-e3f76947bc88');\n",
       "var x = new MutationObserver(function (mutations, observer) {{\n",
       "        var display = window.getComputedStyle(gd).display;\n",
       "        if (!display || display === 'none') {{\n",
       "            console.log([gd, 'removed!']);\n",
       "            Plotly.purge(gd);\n",
       "            observer.disconnect();\n",
       "        }}\n",
       "}});\n",
       "\n",
       "// Listen for the removal of the full notebook cells\n",
       "var notebookContainer = gd.closest('#notebook-container');\n",
       "if (notebookContainer) {{\n",
       "    x.observe(notebookContainer, {childList: true});\n",
       "}}\n",
       "\n",
       "// Listen for the clearing of the current output cell\n",
       "var outputEl = gd.closest('.output');\n",
       "if (outputEl) {{\n",
       "    x.observe(outputEl, {childList: true});\n",
       "}}\n",
       "\n",
       "                        })\n",
       "                };\n",
       "                });\n",
       "            </script>\n",
       "        </div>"
      ]
     },
     "metadata": {},
     "output_type": "display_data"
    }
   ],
   "source": [
    "#Bubble plot sized by Felony Assult\n",
    "by_quarter.iplot(kind='bubble',x='YEAR',y='TOTAL',size='FELONY_ASSAULT',xTitle='Year',yTitle='No of Crimes',title='Crimes in NYC Parks Per Year and Quarter Sized by Felony Assult',  nticks = 7)"
   ]
  },
  {
   "cell_type": "code",
   "execution_count": 85,
   "metadata": {},
   "outputs": [
    {
     "data": {
      "application/vnd.plotly.v1+json": {
       "config": {
        "linkText": "Export to plot.ly",
        "plotlyServerURL": "https://plot.ly",
        "showLink": true
       },
       "data": [
        {
         "marker": {
          "color": [
           "rgb(255, 153, 51)",
           "rgb(55, 128, 191)",
           "rgb(50, 171, 96)",
           "rgb(128, 0, 128)",
           "rgb(219, 64, 82)",
           "rgb(0, 128, 128)",
           "rgb(255, 255, 51)",
           "rgb(128, 128, 0)",
           "rgb(251, 128, 114)",
           "rgb(128, 177, 211)"
          ],
          "line": {
           "width": 1.3
          },
          "size": [
           112,
           33,
           33,
           40,
           47,
           40,
           19,
           33,
           62,
           69,
           40,
           26,
           54,
           47,
           12,
           47,
           54,
           90,
           26,
           33
          ],
          "symbol": "circle"
         },
         "mode": "markers",
         "text": "",
         "type": "scatter",
         "uid": "0e06c9cd-4f53-454e-a666-515cfa6e835b",
         "x": [
          2014,
          2014,
          2015,
          2015,
          2015,
          2015,
          2016,
          2016,
          2016,
          2016,
          2017,
          2017,
          2017,
          2017,
          2018,
          2018,
          2018,
          2018,
          2019,
          2019
         ],
         "y": [
          432,
          191,
          85,
          245,
          391,
          230,
          108,
          352,
          495,
          243,
          133,
          346,
          511,
          269,
          109,
          333,
          545,
          211,
          112,
          340
         ]
        }
       ],
       "layout": {
        "legend": {
         "bgcolor": "#F5F6F9",
         "font": {
          "color": "#4D5663"
         }
        },
        "paper_bgcolor": "#F5F6F9",
        "plot_bgcolor": "#F5F6F9",
        "title": {
         "font": {
          "color": "#4D5663"
         },
         "text": "Crimes in NYC Parks Per Year and Quarter Sized by Burglary"
        },
        "xaxis": {
         "gridcolor": "#E1E5ED",
         "nticks": 7,
         "showgrid": true,
         "tickfont": {
          "color": "#4D5663"
         },
         "title": {
          "font": {
           "color": "#4D5663"
          },
          "text": "Year"
         },
         "zerolinecolor": "#E1E5ED"
        },
        "yaxis": {
         "gridcolor": "#E1E5ED",
         "nticks": 7,
         "showgrid": true,
         "tickfont": {
          "color": "#4D5663"
         },
         "title": {
          "font": {
           "color": "#4D5663"
          },
          "text": "No of Crimes"
         },
         "zerolinecolor": "#E1E5ED"
        }
       }
      },
      "text/html": [
       "<div>\n",
       "        \n",
       "        \n",
       "            <div id=\"1c96ef35-97e4-4b4b-b403-992967c7fb38\" class=\"plotly-graph-div\" style=\"height:525px; width:100%;\"></div>\n",
       "            <script type=\"text/javascript\">\n",
       "                require([\"plotly\"], function(Plotly) {\n",
       "                    window.PLOTLYENV=window.PLOTLYENV || {};\n",
       "                    window.PLOTLYENV.BASE_URL='https://plot.ly';\n",
       "                    \n",
       "                if (document.getElementById(\"1c96ef35-97e4-4b4b-b403-992967c7fb38\")) {\n",
       "                    Plotly.newPlot(\n",
       "                        '1c96ef35-97e4-4b4b-b403-992967c7fb38',\n",
       "                        [{\"marker\": {\"color\": [\"rgb(255, 153, 51)\", \"rgb(55, 128, 191)\", \"rgb(50, 171, 96)\", \"rgb(128, 0, 128)\", \"rgb(219, 64, 82)\", \"rgb(0, 128, 128)\", \"rgb(255, 255, 51)\", \"rgb(128, 128, 0)\", \"rgb(251, 128, 114)\", \"rgb(128, 177, 211)\"], \"line\": {\"width\": 1.3}, \"size\": [112, 33, 33, 40, 47, 40, 19, 33, 62, 69, 40, 26, 54, 47, 12, 47, 54, 90, 26, 33], \"symbol\": \"circle\"}, \"mode\": \"markers\", \"text\": \"\", \"type\": \"scatter\", \"uid\": \"0e06c9cd-4f53-454e-a666-515cfa6e835b\", \"x\": [2014, 2014, 2015, 2015, 2015, 2015, 2016, 2016, 2016, 2016, 2017, 2017, 2017, 2017, 2018, 2018, 2018, 2018, 2019, 2019], \"y\": [432, 191, 85, 245, 391, 230, 108, 352, 495, 243, 133, 346, 511, 269, 109, 333, 545, 211, 112, 340]}],\n",
       "                        {\"legend\": {\"bgcolor\": \"#F5F6F9\", \"font\": {\"color\": \"#4D5663\"}}, \"paper_bgcolor\": \"#F5F6F9\", \"plot_bgcolor\": \"#F5F6F9\", \"title\": {\"font\": {\"color\": \"#4D5663\"}, \"text\": \"Crimes in NYC Parks Per Year and Quarter Sized by Burglary\"}, \"xaxis\": {\"gridcolor\": \"#E1E5ED\", \"nticks\": 7, \"showgrid\": true, \"tickfont\": {\"color\": \"#4D5663\"}, \"title\": {\"font\": {\"color\": \"#4D5663\"}, \"text\": \"Year\"}, \"zerolinecolor\": \"#E1E5ED\"}, \"yaxis\": {\"gridcolor\": \"#E1E5ED\", \"nticks\": 7, \"showgrid\": true, \"tickfont\": {\"color\": \"#4D5663\"}, \"title\": {\"font\": {\"color\": \"#4D5663\"}, \"text\": \"No of Crimes\"}, \"zerolinecolor\": \"#E1E5ED\"}},\n",
       "                        {\"showLink\": true, \"linkText\": \"Export to plot.ly\", \"plotlyServerURL\": \"https://plot.ly\", \"responsive\": true}\n",
       "                    ).then(function(){\n",
       "                            \n",
       "var gd = document.getElementById('1c96ef35-97e4-4b4b-b403-992967c7fb38');\n",
       "var x = new MutationObserver(function (mutations, observer) {{\n",
       "        var display = window.getComputedStyle(gd).display;\n",
       "        if (!display || display === 'none') {{\n",
       "            console.log([gd, 'removed!']);\n",
       "            Plotly.purge(gd);\n",
       "            observer.disconnect();\n",
       "        }}\n",
       "}});\n",
       "\n",
       "// Listen for the removal of the full notebook cells\n",
       "var notebookContainer = gd.closest('#notebook-container');\n",
       "if (notebookContainer) {{\n",
       "    x.observe(notebookContainer, {childList: true});\n",
       "}}\n",
       "\n",
       "// Listen for the clearing of the current output cell\n",
       "var outputEl = gd.closest('.output');\n",
       "if (outputEl) {{\n",
       "    x.observe(outputEl, {childList: true});\n",
       "}}\n",
       "\n",
       "                        })\n",
       "                };\n",
       "                });\n",
       "            </script>\n",
       "        </div>"
      ]
     },
     "metadata": {},
     "output_type": "display_data"
    }
   ],
   "source": [
    "#Bubble plot sized by Burglary\n",
    "by_quarter.iplot(kind='bubble',x='YEAR',y='TOTAL',size='BURGLARY',xTitle='Year',yTitle='No of Crimes',title='Crimes in NYC Parks Per Year and Quarter Sized by Burglary',  nticks = 7)"
   ]
  },
  {
   "cell_type": "code",
   "execution_count": 86,
   "metadata": {},
   "outputs": [
    {
     "data": {
      "application/vnd.plotly.v1+json": {
       "config": {
        "linkText": "Export to plot.ly",
        "plotlyServerURL": "https://plot.ly",
        "showLink": true
       },
       "data": [
        {
         "marker": {
          "color": [
           "rgb(255, 153, 51)",
           "rgb(55, 128, 191)",
           "rgb(50, 171, 96)",
           "rgb(128, 0, 128)",
           "rgb(219, 64, 82)",
           "rgb(0, 128, 128)",
           "rgb(255, 255, 51)",
           "rgb(128, 128, 0)",
           "rgb(251, 128, 114)",
           "rgb(128, 177, 211)"
          ],
          "line": {
           "width": 1.3
          },
          "size": [
           89,
           31,
           12,
           36,
           63,
           34,
           18,
           58,
           91,
           36,
           18,
           55,
           98,
           37,
           13,
           55,
           112,
           25,
           16,
           53
          ],
          "symbol": "circle"
         },
         "mode": "markers",
         "text": "",
         "type": "scatter",
         "uid": "4e793be7-d2ce-426d-a22a-587039b815f3",
         "x": [
          2014,
          2014,
          2015,
          2015,
          2015,
          2015,
          2016,
          2016,
          2016,
          2016,
          2017,
          2017,
          2017,
          2017,
          2018,
          2018,
          2018,
          2018,
          2019,
          2019
         ],
         "y": [
          432,
          191,
          85,
          245,
          391,
          230,
          108,
          352,
          495,
          243,
          133,
          346,
          511,
          269,
          109,
          333,
          545,
          211,
          112,
          340
         ]
        }
       ],
       "layout": {
        "legend": {
         "bgcolor": "#F5F6F9",
         "font": {
          "color": "#4D5663"
         }
        },
        "paper_bgcolor": "#F5F6F9",
        "plot_bgcolor": "#F5F6F9",
        "title": {
         "font": {
          "color": "#4D5663"
         },
         "text": "Crimes in NYC Parks Per Year and Quarter Sized by Grand Larceny"
        },
        "xaxis": {
         "gridcolor": "#E1E5ED",
         "nticks": 7,
         "showgrid": true,
         "tickfont": {
          "color": "#4D5663"
         },
         "title": {
          "font": {
           "color": "#4D5663"
          },
          "text": "Year"
         },
         "zerolinecolor": "#E1E5ED"
        },
        "yaxis": {
         "gridcolor": "#E1E5ED",
         "nticks": 7,
         "showgrid": true,
         "tickfont": {
          "color": "#4D5663"
         },
         "title": {
          "font": {
           "color": "#4D5663"
          },
          "text": "No of Crimes"
         },
         "zerolinecolor": "#E1E5ED"
        }
       }
      },
      "text/html": [
       "<div>\n",
       "        \n",
       "        \n",
       "            <div id=\"d5124009-9394-4e23-b9c3-97f8e9ed84a4\" class=\"plotly-graph-div\" style=\"height:525px; width:100%;\"></div>\n",
       "            <script type=\"text/javascript\">\n",
       "                require([\"plotly\"], function(Plotly) {\n",
       "                    window.PLOTLYENV=window.PLOTLYENV || {};\n",
       "                    window.PLOTLYENV.BASE_URL='https://plot.ly';\n",
       "                    \n",
       "                if (document.getElementById(\"d5124009-9394-4e23-b9c3-97f8e9ed84a4\")) {\n",
       "                    Plotly.newPlot(\n",
       "                        'd5124009-9394-4e23-b9c3-97f8e9ed84a4',\n",
       "                        [{\"marker\": {\"color\": [\"rgb(255, 153, 51)\", \"rgb(55, 128, 191)\", \"rgb(50, 171, 96)\", \"rgb(128, 0, 128)\", \"rgb(219, 64, 82)\", \"rgb(0, 128, 128)\", \"rgb(255, 255, 51)\", \"rgb(128, 128, 0)\", \"rgb(251, 128, 114)\", \"rgb(128, 177, 211)\"], \"line\": {\"width\": 1.3}, \"size\": [89, 31, 12, 36, 63, 34, 18, 58, 91, 36, 18, 55, 98, 37, 13, 55, 112, 25, 16, 53], \"symbol\": \"circle\"}, \"mode\": \"markers\", \"text\": \"\", \"type\": \"scatter\", \"uid\": \"4e793be7-d2ce-426d-a22a-587039b815f3\", \"x\": [2014, 2014, 2015, 2015, 2015, 2015, 2016, 2016, 2016, 2016, 2017, 2017, 2017, 2017, 2018, 2018, 2018, 2018, 2019, 2019], \"y\": [432, 191, 85, 245, 391, 230, 108, 352, 495, 243, 133, 346, 511, 269, 109, 333, 545, 211, 112, 340]}],\n",
       "                        {\"legend\": {\"bgcolor\": \"#F5F6F9\", \"font\": {\"color\": \"#4D5663\"}}, \"paper_bgcolor\": \"#F5F6F9\", \"plot_bgcolor\": \"#F5F6F9\", \"title\": {\"font\": {\"color\": \"#4D5663\"}, \"text\": \"Crimes in NYC Parks Per Year and Quarter Sized by Grand Larceny\"}, \"xaxis\": {\"gridcolor\": \"#E1E5ED\", \"nticks\": 7, \"showgrid\": true, \"tickfont\": {\"color\": \"#4D5663\"}, \"title\": {\"font\": {\"color\": \"#4D5663\"}, \"text\": \"Year\"}, \"zerolinecolor\": \"#E1E5ED\"}, \"yaxis\": {\"gridcolor\": \"#E1E5ED\", \"nticks\": 7, \"showgrid\": true, \"tickfont\": {\"color\": \"#4D5663\"}, \"title\": {\"font\": {\"color\": \"#4D5663\"}, \"text\": \"No of Crimes\"}, \"zerolinecolor\": \"#E1E5ED\"}},\n",
       "                        {\"showLink\": true, \"linkText\": \"Export to plot.ly\", \"plotlyServerURL\": \"https://plot.ly\", \"responsive\": true}\n",
       "                    ).then(function(){\n",
       "                            \n",
       "var gd = document.getElementById('d5124009-9394-4e23-b9c3-97f8e9ed84a4');\n",
       "var x = new MutationObserver(function (mutations, observer) {{\n",
       "        var display = window.getComputedStyle(gd).display;\n",
       "        if (!display || display === 'none') {{\n",
       "            console.log([gd, 'removed!']);\n",
       "            Plotly.purge(gd);\n",
       "            observer.disconnect();\n",
       "        }}\n",
       "}});\n",
       "\n",
       "// Listen for the removal of the full notebook cells\n",
       "var notebookContainer = gd.closest('#notebook-container');\n",
       "if (notebookContainer) {{\n",
       "    x.observe(notebookContainer, {childList: true});\n",
       "}}\n",
       "\n",
       "// Listen for the clearing of the current output cell\n",
       "var outputEl = gd.closest('.output');\n",
       "if (outputEl) {{\n",
       "    x.observe(outputEl, {childList: true});\n",
       "}}\n",
       "\n",
       "                        })\n",
       "                };\n",
       "                });\n",
       "            </script>\n",
       "        </div>"
      ]
     },
     "metadata": {},
     "output_type": "display_data"
    }
   ],
   "source": [
    "#Bubble plot sized by Grand Larceny\n",
    "by_quarter.iplot(kind='bubble',x='YEAR',y='TOTAL',size='GRAND_LARCENY',xTitle='Year',yTitle='No of Crimes',title='Crimes in NYC Parks Per Year and Quarter Sized by Grand Larceny',  nticks = 7)"
   ]
  },
  {
   "cell_type": "code",
   "execution_count": 87,
   "metadata": {},
   "outputs": [
    {
     "data": {
      "application/vnd.plotly.v1+json": {
       "config": {
        "linkText": "Export to plot.ly",
        "plotlyServerURL": "https://plot.ly",
        "showLink": true
       },
       "data": [
        {
         "marker": {
          "color": [
           "rgb(255, 153, 51)",
           "rgb(55, 128, 191)",
           "rgb(50, 171, 96)",
           "rgb(128, 0, 128)",
           "rgb(219, 64, 82)",
           "rgb(0, 128, 128)",
           "rgb(255, 255, 51)",
           "rgb(128, 128, 0)",
           "rgb(251, 128, 114)",
           "rgb(128, 177, 211)"
          ],
          "line": {
           "width": 1.3
          },
          "size": [
           112,
           45,
           112,
           12,
           78,
           78,
           78,
           45,
           12,
           45,
           12,
           112,
           78,
           78,
           12,
           78,
           78,
           112,
           12,
           78
          ],
          "symbol": "circle"
         },
         "mode": "markers",
         "text": "",
         "type": "scatter",
         "uid": "c368aa51-5764-4904-b9a8-c172bbdc0774",
         "x": [
          2014,
          2014,
          2015,
          2015,
          2015,
          2015,
          2016,
          2016,
          2016,
          2016,
          2017,
          2017,
          2017,
          2017,
          2018,
          2018,
          2018,
          2018,
          2019,
          2019
         ],
         "y": [
          432,
          191,
          85,
          245,
          391,
          230,
          108,
          352,
          495,
          243,
          133,
          346,
          511,
          269,
          109,
          333,
          545,
          211,
          112,
          340
         ]
        }
       ],
       "layout": {
        "legend": {
         "bgcolor": "#F5F6F9",
         "font": {
          "color": "#4D5663"
         }
        },
        "paper_bgcolor": "#F5F6F9",
        "plot_bgcolor": "#F5F6F9",
        "title": {
         "font": {
          "color": "#4D5663"
         },
         "text": "Crimes in NYC Parks Per Year and Quarter Sized by Grand Larceny of Motor Vehicle"
        },
        "xaxis": {
         "gridcolor": "#E1E5ED",
         "nticks": 7,
         "showgrid": true,
         "tickfont": {
          "color": "#4D5663"
         },
         "title": {
          "font": {
           "color": "#4D5663"
          },
          "text": "Year"
         },
         "zerolinecolor": "#E1E5ED"
        },
        "yaxis": {
         "gridcolor": "#E1E5ED",
         "nticks": 7,
         "showgrid": true,
         "tickfont": {
          "color": "#4D5663"
         },
         "title": {
          "font": {
           "color": "#4D5663"
          },
          "text": "No of Crimes"
         },
         "zerolinecolor": "#E1E5ED"
        }
       }
      },
      "text/html": [
       "<div>\n",
       "        \n",
       "        \n",
       "            <div id=\"86de7004-4e96-4c38-9899-6ec2028f64a3\" class=\"plotly-graph-div\" style=\"height:525px; width:100%;\"></div>\n",
       "            <script type=\"text/javascript\">\n",
       "                require([\"plotly\"], function(Plotly) {\n",
       "                    window.PLOTLYENV=window.PLOTLYENV || {};\n",
       "                    window.PLOTLYENV.BASE_URL='https://plot.ly';\n",
       "                    \n",
       "                if (document.getElementById(\"86de7004-4e96-4c38-9899-6ec2028f64a3\")) {\n",
       "                    Plotly.newPlot(\n",
       "                        '86de7004-4e96-4c38-9899-6ec2028f64a3',\n",
       "                        [{\"marker\": {\"color\": [\"rgb(255, 153, 51)\", \"rgb(55, 128, 191)\", \"rgb(50, 171, 96)\", \"rgb(128, 0, 128)\", \"rgb(219, 64, 82)\", \"rgb(0, 128, 128)\", \"rgb(255, 255, 51)\", \"rgb(128, 128, 0)\", \"rgb(251, 128, 114)\", \"rgb(128, 177, 211)\"], \"line\": {\"width\": 1.3}, \"size\": [112, 45, 112, 12, 78, 78, 78, 45, 12, 45, 12, 112, 78, 78, 12, 78, 78, 112, 12, 78], \"symbol\": \"circle\"}, \"mode\": \"markers\", \"text\": \"\", \"type\": \"scatter\", \"uid\": \"c368aa51-5764-4904-b9a8-c172bbdc0774\", \"x\": [2014, 2014, 2015, 2015, 2015, 2015, 2016, 2016, 2016, 2016, 2017, 2017, 2017, 2017, 2018, 2018, 2018, 2018, 2019, 2019], \"y\": [432, 191, 85, 245, 391, 230, 108, 352, 495, 243, 133, 346, 511, 269, 109, 333, 545, 211, 112, 340]}],\n",
       "                        {\"legend\": {\"bgcolor\": \"#F5F6F9\", \"font\": {\"color\": \"#4D5663\"}}, \"paper_bgcolor\": \"#F5F6F9\", \"plot_bgcolor\": \"#F5F6F9\", \"title\": {\"font\": {\"color\": \"#4D5663\"}, \"text\": \"Crimes in NYC Parks Per Year and Quarter Sized by Grand Larceny of Motor Vehicle\"}, \"xaxis\": {\"gridcolor\": \"#E1E5ED\", \"nticks\": 7, \"showgrid\": true, \"tickfont\": {\"color\": \"#4D5663\"}, \"title\": {\"font\": {\"color\": \"#4D5663\"}, \"text\": \"Year\"}, \"zerolinecolor\": \"#E1E5ED\"}, \"yaxis\": {\"gridcolor\": \"#E1E5ED\", \"nticks\": 7, \"showgrid\": true, \"tickfont\": {\"color\": \"#4D5663\"}, \"title\": {\"font\": {\"color\": \"#4D5663\"}, \"text\": \"No of Crimes\"}, \"zerolinecolor\": \"#E1E5ED\"}},\n",
       "                        {\"showLink\": true, \"linkText\": \"Export to plot.ly\", \"plotlyServerURL\": \"https://plot.ly\", \"responsive\": true}\n",
       "                    ).then(function(){\n",
       "                            \n",
       "var gd = document.getElementById('86de7004-4e96-4c38-9899-6ec2028f64a3');\n",
       "var x = new MutationObserver(function (mutations, observer) {{\n",
       "        var display = window.getComputedStyle(gd).display;\n",
       "        if (!display || display === 'none') {{\n",
       "            console.log([gd, 'removed!']);\n",
       "            Plotly.purge(gd);\n",
       "            observer.disconnect();\n",
       "        }}\n",
       "}});\n",
       "\n",
       "// Listen for the removal of the full notebook cells\n",
       "var notebookContainer = gd.closest('#notebook-container');\n",
       "if (notebookContainer) {{\n",
       "    x.observe(notebookContainer, {childList: true});\n",
       "}}\n",
       "\n",
       "// Listen for the clearing of the current output cell\n",
       "var outputEl = gd.closest('.output');\n",
       "if (outputEl) {{\n",
       "    x.observe(outputEl, {childList: true});\n",
       "}}\n",
       "\n",
       "                        })\n",
       "                };\n",
       "                });\n",
       "            </script>\n",
       "        </div>"
      ]
     },
     "metadata": {},
     "output_type": "display_data"
    }
   ],
   "source": [
    "#Bubble plot sized by Grand Larceny of Motor Vehicle\n",
    "by_quarter.iplot(kind='bubble',x='YEAR',y='TOTAL',size='GRAND_LARCENY_OF_MOTOR_VEHICLE',xTitle='Year',yTitle='No of Crimes',title='Crimes in NYC Parks Per Year and Quarter Sized by Grand Larceny of Motor Vehicle',  nticks = 7)"
   ]
  },
  {
   "cell_type": "code",
   "execution_count": 88,
   "metadata": {},
   "outputs": [],
   "source": [
    "# Dataset Indexed both Year and Quarter\n",
    "by_quarter2 = df.groupby(['YEAR', 'QUARTER']).agg({'RAPE': np.sum, 'MURDER': np.sum,'ROBBERY': np.sum, 'FELONY_ASSAULT': np.sum, 'BURGLARY': np.sum, 'GRAND_LARCENY': np.sum, 'GRAND_LARCENY_OF_MOTOR_VEHICLE': np.sum,'TOTAL':np.sum })"
   ]
  },
  {
   "cell_type": "code",
   "execution_count": 89,
   "metadata": {},
   "outputs": [
    {
     "data": {
      "text/html": [
       "<div>\n",
       "<style scoped>\n",
       "    .dataframe tbody tr th:only-of-type {\n",
       "        vertical-align: middle;\n",
       "    }\n",
       "\n",
       "    .dataframe tbody tr th {\n",
       "        vertical-align: top;\n",
       "    }\n",
       "\n",
       "    .dataframe thead th {\n",
       "        text-align: right;\n",
       "    }\n",
       "</style>\n",
       "<table border=\"1\" class=\"dataframe\">\n",
       "  <thead>\n",
       "    <tr style=\"text-align: right;\">\n",
       "      <th></th>\n",
       "      <th></th>\n",
       "      <th>RAPE</th>\n",
       "      <th>MURDER</th>\n",
       "      <th>ROBBERY</th>\n",
       "      <th>FELONY_ASSAULT</th>\n",
       "      <th>BURGLARY</th>\n",
       "      <th>GRAND_LARCENY</th>\n",
       "      <th>GRAND_LARCENY_OF_MOTOR_VEHICLE</th>\n",
       "      <th>TOTAL</th>\n",
       "    </tr>\n",
       "    <tr>\n",
       "      <th>YEAR</th>\n",
       "      <th>QUARTER</th>\n",
       "      <th></th>\n",
       "      <th></th>\n",
       "      <th></th>\n",
       "      <th></th>\n",
       "      <th></th>\n",
       "      <th></th>\n",
       "      <th></th>\n",
       "      <th></th>\n",
       "    </tr>\n",
       "  </thead>\n",
       "  <tbody>\n",
       "    <tr>\n",
       "      <th rowspan=\"2\" valign=\"top\">2014</th>\n",
       "      <th>3</th>\n",
       "      <td>5</td>\n",
       "      <td>0</td>\n",
       "      <td>101</td>\n",
       "      <td>72</td>\n",
       "      <td>15</td>\n",
       "      <td>236</td>\n",
       "      <td>3</td>\n",
       "      <td>432</td>\n",
       "    </tr>\n",
       "    <tr>\n",
       "      <th>4</th>\n",
       "      <td>2</td>\n",
       "      <td>1</td>\n",
       "      <td>79</td>\n",
       "      <td>26</td>\n",
       "      <td>4</td>\n",
       "      <td>78</td>\n",
       "      <td>1</td>\n",
       "      <td>191</td>\n",
       "    </tr>\n",
       "    <tr>\n",
       "      <th rowspan=\"3\" valign=\"top\">2015</th>\n",
       "      <th>1</th>\n",
       "      <td>3</td>\n",
       "      <td>1</td>\n",
       "      <td>41</td>\n",
       "      <td>9</td>\n",
       "      <td>4</td>\n",
       "      <td>24</td>\n",
       "      <td>3</td>\n",
       "      <td>85</td>\n",
       "    </tr>\n",
       "    <tr>\n",
       "      <th>2</th>\n",
       "      <td>5</td>\n",
       "      <td>2</td>\n",
       "      <td>74</td>\n",
       "      <td>67</td>\n",
       "      <td>5</td>\n",
       "      <td>92</td>\n",
       "      <td>0</td>\n",
       "      <td>245</td>\n",
       "    </tr>\n",
       "    <tr>\n",
       "      <th>3</th>\n",
       "      <td>4</td>\n",
       "      <td>3</td>\n",
       "      <td>119</td>\n",
       "      <td>93</td>\n",
       "      <td>6</td>\n",
       "      <td>164</td>\n",
       "      <td>2</td>\n",
       "      <td>391</td>\n",
       "    </tr>\n",
       "  </tbody>\n",
       "</table>\n",
       "</div>"
      ],
      "text/plain": [
       "              RAPE  MURDER  ROBBERY  FELONY_ASSAULT  BURGLARY  GRAND_LARCENY  \\\n",
       "YEAR QUARTER                                                                   \n",
       "2014 3           5       0      101              72        15            236   \n",
       "     4           2       1       79              26         4             78   \n",
       "2015 1           3       1       41               9         4             24   \n",
       "     2           5       2       74              67         5             92   \n",
       "     3           4       3      119              93         6            164   \n",
       "\n",
       "              GRAND_LARCENY_OF_MOTOR_VEHICLE  TOTAL  \n",
       "YEAR QUARTER                                         \n",
       "2014 3                                     3    432  \n",
       "     4                                     1    191  \n",
       "2015 1                                     3     85  \n",
       "     2                                     0    245  \n",
       "     3                                     2    391  "
      ]
     },
     "execution_count": 89,
     "metadata": {},
     "output_type": "execute_result"
    }
   ],
   "source": [
    "by_quarter2.head() # Data in dataset by_quarter2"
   ]
  },
  {
   "cell_type": "code",
   "execution_count": 90,
   "metadata": {},
   "outputs": [
    {
     "data": {
      "application/vnd.plotly.v1+json": {
       "config": {
        "linkText": "Export to plot.ly",
        "plotlyServerURL": "https://plot.ly",
        "showLink": true
       },
       "data": [
        {
         "marker": {
          "color": "rgba(255, 153, 51, 0.6)",
          "line": {
           "color": "rgba(255, 153, 51, 1.0)",
           "width": 1
          }
         },
         "name": "RAPE",
         "orientation": "v",
         "text": "",
         "type": "bar",
         "uid": "7e15193f-ea9a-4901-9cab-1b05b631c72c",
         "x": [
          "(2014,3)",
          "(2014,4)",
          "(2015,1)",
          "(2015,2)",
          "(2015,3)",
          "(2015,4)",
          "(2016,1)",
          "(2016,2)",
          "(2016,3)",
          "(2016,4)",
          "(2017,1)",
          "(2017,2)",
          "(2017,3)",
          "(2017,4)",
          "(2018,1)",
          "(2018,2)",
          "(2018,3)",
          "(2018,4)",
          "(2019,1)",
          "(2019,2)"
         ],
         "y": [
          5,
          2,
          3,
          5,
          4,
          8,
          2,
          4,
          8,
          7,
          3,
          7,
          13,
          3,
          1,
          10,
          9,
          8,
          3,
          2
         ]
        },
        {
         "marker": {
          "color": "rgba(55, 128, 191, 0.6)",
          "line": {
           "color": "rgba(55, 128, 191, 1.0)",
           "width": 1
          }
         },
         "name": "MURDER",
         "orientation": "v",
         "text": "",
         "type": "bar",
         "uid": "22551620-d850-4050-b058-3b011e4bdef4",
         "x": [
          "(2014,3)",
          "(2014,4)",
          "(2015,1)",
          "(2015,2)",
          "(2015,3)",
          "(2015,4)",
          "(2016,1)",
          "(2016,2)",
          "(2016,3)",
          "(2016,4)",
          "(2017,1)",
          "(2017,2)",
          "(2017,3)",
          "(2017,4)",
          "(2018,1)",
          "(2018,2)",
          "(2018,3)",
          "(2018,4)",
          "(2019,1)",
          "(2019,2)"
         ],
         "y": [
          0,
          1,
          1,
          2,
          3,
          3,
          0,
          1,
          6,
          2,
          0,
          2,
          0,
          0,
          0,
          5,
          3,
          1,
          0,
          2
         ]
        },
        {
         "marker": {
          "color": "rgba(50, 171, 96, 0.6)",
          "line": {
           "color": "rgba(50, 171, 96, 1.0)",
           "width": 1
          }
         },
         "name": "ROBBERY",
         "orientation": "v",
         "text": "",
         "type": "bar",
         "uid": "3c76124a-0e53-4c4d-93d3-0364216d8184",
         "x": [
          "(2014,3)",
          "(2014,4)",
          "(2015,1)",
          "(2015,2)",
          "(2015,3)",
          "(2015,4)",
          "(2016,1)",
          "(2016,2)",
          "(2016,3)",
          "(2016,4)",
          "(2017,1)",
          "(2017,2)",
          "(2017,3)",
          "(2017,4)",
          "(2018,1)",
          "(2018,2)",
          "(2018,3)",
          "(2018,4)",
          "(2019,1)",
          "(2019,2)"
         ],
         "y": [
          101,
          79,
          41,
          74,
          119,
          96,
          39,
          117,
          146,
          107,
          64,
          106,
          137,
          120,
          59,
          104,
          108,
          88,
          50,
          107
         ]
        },
        {
         "marker": {
          "color": "rgba(128, 0, 128, 0.6)",
          "line": {
           "color": "rgba(128, 0, 128, 1.0)",
           "width": 1
          }
         },
         "name": "FELONY_ASSAULT",
         "orientation": "v",
         "text": "",
         "type": "bar",
         "uid": "b6635d32-94a7-4a6a-8788-07cacc81cb2d",
         "x": [
          "(2014,3)",
          "(2014,4)",
          "(2015,1)",
          "(2015,2)",
          "(2015,3)",
          "(2015,4)",
          "(2016,1)",
          "(2016,2)",
          "(2016,3)",
          "(2016,4)",
          "(2017,1)",
          "(2017,2)",
          "(2017,3)",
          "(2017,4)",
          "(2018,1)",
          "(2018,2)",
          "(2018,3)",
          "(2018,4)",
          "(2019,1)",
          "(2019,2)"
         ],
         "y": [
          72,
          26,
          9,
          67,
          93,
          29,
          21,
          73,
          85,
          27,
          18,
          82,
          91,
          43,
          19,
          64,
          118,
          38,
          19,
          85
         ]
        },
        {
         "marker": {
          "color": "rgba(219, 64, 82, 0.6)",
          "line": {
           "color": "rgba(219, 64, 82, 1.0)",
           "width": 1
          }
         },
         "name": "BURGLARY",
         "orientation": "v",
         "text": "",
         "type": "bar",
         "uid": "a8e09043-4ce6-4494-9f5c-626be7859c5d",
         "x": [
          "(2014,3)",
          "(2014,4)",
          "(2015,1)",
          "(2015,2)",
          "(2015,3)",
          "(2015,4)",
          "(2016,1)",
          "(2016,2)",
          "(2016,3)",
          "(2016,4)",
          "(2017,1)",
          "(2017,2)",
          "(2017,3)",
          "(2017,4)",
          "(2018,1)",
          "(2018,2)",
          "(2018,3)",
          "(2018,4)",
          "(2019,1)",
          "(2019,2)"
         ],
         "y": [
          15,
          4,
          4,
          5,
          6,
          5,
          2,
          4,
          8,
          9,
          5,
          3,
          7,
          6,
          1,
          6,
          7,
          12,
          3,
          4
         ]
        },
        {
         "marker": {
          "color": "rgba(0, 128, 128, 0.6)",
          "line": {
           "color": "rgba(0, 128, 128, 1.0)",
           "width": 1
          }
         },
         "name": "GRAND_LARCENY",
         "orientation": "v",
         "text": "",
         "type": "bar",
         "uid": "e8d55327-7cf2-4b81-aeb1-f09b1d86675d",
         "x": [
          "(2014,3)",
          "(2014,4)",
          "(2015,1)",
          "(2015,2)",
          "(2015,3)",
          "(2015,4)",
          "(2016,1)",
          "(2016,2)",
          "(2016,3)",
          "(2016,4)",
          "(2017,1)",
          "(2017,2)",
          "(2017,3)",
          "(2017,4)",
          "(2018,1)",
          "(2018,2)",
          "(2018,3)",
          "(2018,4)",
          "(2019,1)",
          "(2019,2)"
         ],
         "y": [
          236,
          78,
          24,
          92,
          164,
          87,
          42,
          152,
          242,
          90,
          43,
          143,
          261,
          95,
          29,
          142,
          298,
          61,
          37,
          138
         ]
        },
        {
         "marker": {
          "color": "rgba(255, 255, 51, 0.6)",
          "line": {
           "color": "rgba(255, 255, 51, 1.0)",
           "width": 1
          }
         },
         "name": "GRAND_LARCENY_OF_MOTOR_VEHICLE",
         "orientation": "v",
         "text": "",
         "type": "bar",
         "uid": "152b9d03-3c33-4dd3-bfe1-5984c286cf45",
         "x": [
          "(2014,3)",
          "(2014,4)",
          "(2015,1)",
          "(2015,2)",
          "(2015,3)",
          "(2015,4)",
          "(2016,1)",
          "(2016,2)",
          "(2016,3)",
          "(2016,4)",
          "(2017,1)",
          "(2017,2)",
          "(2017,3)",
          "(2017,4)",
          "(2018,1)",
          "(2018,2)",
          "(2018,3)",
          "(2018,4)",
          "(2019,1)",
          "(2019,2)"
         ],
         "y": [
          3,
          1,
          3,
          0,
          2,
          2,
          2,
          1,
          0,
          1,
          0,
          3,
          2,
          2,
          0,
          2,
          2,
          3,
          0,
          2
         ]
        },
        {
         "marker": {
          "color": "rgba(128, 128, 0, 0.6)",
          "line": {
           "color": "rgba(128, 128, 0, 1.0)",
           "width": 1
          }
         },
         "name": "TOTAL",
         "orientation": "v",
         "text": "",
         "type": "bar",
         "uid": "5b85312e-8a84-4add-bd00-f6772d9936eb",
         "x": [
          "(2014,3)",
          "(2014,4)",
          "(2015,1)",
          "(2015,2)",
          "(2015,3)",
          "(2015,4)",
          "(2016,1)",
          "(2016,2)",
          "(2016,3)",
          "(2016,4)",
          "(2017,1)",
          "(2017,2)",
          "(2017,3)",
          "(2017,4)",
          "(2018,1)",
          "(2018,2)",
          "(2018,3)",
          "(2018,4)",
          "(2019,1)",
          "(2019,2)"
         ],
         "y": [
          432,
          191,
          85,
          245,
          391,
          230,
          108,
          352,
          495,
          243,
          133,
          346,
          511,
          269,
          109,
          333,
          545,
          211,
          112,
          340
         ]
        }
       ],
       "layout": {
        "legend": {
         "bgcolor": "#F5F6F9",
         "font": {
          "color": "#4D5663"
         }
        },
        "paper_bgcolor": "#F5F6F9",
        "plot_bgcolor": "#F5F6F9",
        "title": {
         "font": {
          "color": "#4D5663"
         },
         "text": "Crimes in NYC Parks Per Year and Quarter"
        },
        "xaxis": {
         "gridcolor": "#E1E5ED",
         "showgrid": true,
         "tickfont": {
          "color": "#4D5663"
         },
         "title": {
          "font": {
           "color": "#4D5663"
          },
          "text": "Year and Quearter"
         },
         "zerolinecolor": "#E1E5ED"
        },
        "yaxis": {
         "gridcolor": "#E1E5ED",
         "showgrid": true,
         "tickfont": {
          "color": "#4D5663"
         },
         "title": {
          "font": {
           "color": "#4D5663"
          },
          "text": "No of Crimes"
         },
         "zerolinecolor": "#E1E5ED"
        }
       }
      },
      "text/html": [
       "<div>\n",
       "        \n",
       "        \n",
       "            <div id=\"9f344bbb-a3f8-4292-bf88-cd4377fc574c\" class=\"plotly-graph-div\" style=\"height:525px; width:100%;\"></div>\n",
       "            <script type=\"text/javascript\">\n",
       "                require([\"plotly\"], function(Plotly) {\n",
       "                    window.PLOTLYENV=window.PLOTLYENV || {};\n",
       "                    window.PLOTLYENV.BASE_URL='https://plot.ly';\n",
       "                    \n",
       "                if (document.getElementById(\"9f344bbb-a3f8-4292-bf88-cd4377fc574c\")) {\n",
       "                    Plotly.newPlot(\n",
       "                        '9f344bbb-a3f8-4292-bf88-cd4377fc574c',\n",
       "                        [{\"marker\": {\"color\": \"rgba(255, 153, 51, 0.6)\", \"line\": {\"color\": \"rgba(255, 153, 51, 1.0)\", \"width\": 1}}, \"name\": \"RAPE\", \"orientation\": \"v\", \"text\": \"\", \"type\": \"bar\", \"uid\": \"7e15193f-ea9a-4901-9cab-1b05b631c72c\", \"x\": [\"(2014,3)\", \"(2014,4)\", \"(2015,1)\", \"(2015,2)\", \"(2015,3)\", \"(2015,4)\", \"(2016,1)\", \"(2016,2)\", \"(2016,3)\", \"(2016,4)\", \"(2017,1)\", \"(2017,2)\", \"(2017,3)\", \"(2017,4)\", \"(2018,1)\", \"(2018,2)\", \"(2018,3)\", \"(2018,4)\", \"(2019,1)\", \"(2019,2)\"], \"y\": [5, 2, 3, 5, 4, 8, 2, 4, 8, 7, 3, 7, 13, 3, 1, 10, 9, 8, 3, 2]}, {\"marker\": {\"color\": \"rgba(55, 128, 191, 0.6)\", \"line\": {\"color\": \"rgba(55, 128, 191, 1.0)\", \"width\": 1}}, \"name\": \"MURDER\", \"orientation\": \"v\", \"text\": \"\", \"type\": \"bar\", \"uid\": \"22551620-d850-4050-b058-3b011e4bdef4\", \"x\": [\"(2014,3)\", \"(2014,4)\", \"(2015,1)\", \"(2015,2)\", \"(2015,3)\", \"(2015,4)\", \"(2016,1)\", \"(2016,2)\", \"(2016,3)\", \"(2016,4)\", \"(2017,1)\", \"(2017,2)\", \"(2017,3)\", \"(2017,4)\", \"(2018,1)\", \"(2018,2)\", \"(2018,3)\", \"(2018,4)\", \"(2019,1)\", \"(2019,2)\"], \"y\": [0, 1, 1, 2, 3, 3, 0, 1, 6, 2, 0, 2, 0, 0, 0, 5, 3, 1, 0, 2]}, {\"marker\": {\"color\": \"rgba(50, 171, 96, 0.6)\", \"line\": {\"color\": \"rgba(50, 171, 96, 1.0)\", \"width\": 1}}, \"name\": \"ROBBERY\", \"orientation\": \"v\", \"text\": \"\", \"type\": \"bar\", \"uid\": \"3c76124a-0e53-4c4d-93d3-0364216d8184\", \"x\": [\"(2014,3)\", \"(2014,4)\", \"(2015,1)\", \"(2015,2)\", \"(2015,3)\", \"(2015,4)\", \"(2016,1)\", \"(2016,2)\", \"(2016,3)\", \"(2016,4)\", \"(2017,1)\", \"(2017,2)\", \"(2017,3)\", \"(2017,4)\", \"(2018,1)\", \"(2018,2)\", \"(2018,3)\", \"(2018,4)\", \"(2019,1)\", \"(2019,2)\"], \"y\": [101, 79, 41, 74, 119, 96, 39, 117, 146, 107, 64, 106, 137, 120, 59, 104, 108, 88, 50, 107]}, {\"marker\": {\"color\": \"rgba(128, 0, 128, 0.6)\", \"line\": {\"color\": \"rgba(128, 0, 128, 1.0)\", \"width\": 1}}, \"name\": \"FELONY_ASSAULT\", \"orientation\": \"v\", \"text\": \"\", \"type\": \"bar\", \"uid\": \"b6635d32-94a7-4a6a-8788-07cacc81cb2d\", \"x\": [\"(2014,3)\", \"(2014,4)\", \"(2015,1)\", \"(2015,2)\", \"(2015,3)\", \"(2015,4)\", \"(2016,1)\", \"(2016,2)\", \"(2016,3)\", \"(2016,4)\", \"(2017,1)\", \"(2017,2)\", \"(2017,3)\", \"(2017,4)\", \"(2018,1)\", \"(2018,2)\", \"(2018,3)\", \"(2018,4)\", \"(2019,1)\", \"(2019,2)\"], \"y\": [72, 26, 9, 67, 93, 29, 21, 73, 85, 27, 18, 82, 91, 43, 19, 64, 118, 38, 19, 85]}, {\"marker\": {\"color\": \"rgba(219, 64, 82, 0.6)\", \"line\": {\"color\": \"rgba(219, 64, 82, 1.0)\", \"width\": 1}}, \"name\": \"BURGLARY\", \"orientation\": \"v\", \"text\": \"\", \"type\": \"bar\", \"uid\": \"a8e09043-4ce6-4494-9f5c-626be7859c5d\", \"x\": [\"(2014,3)\", \"(2014,4)\", \"(2015,1)\", \"(2015,2)\", \"(2015,3)\", \"(2015,4)\", \"(2016,1)\", \"(2016,2)\", \"(2016,3)\", \"(2016,4)\", \"(2017,1)\", \"(2017,2)\", \"(2017,3)\", \"(2017,4)\", \"(2018,1)\", \"(2018,2)\", \"(2018,3)\", \"(2018,4)\", \"(2019,1)\", \"(2019,2)\"], \"y\": [15, 4, 4, 5, 6, 5, 2, 4, 8, 9, 5, 3, 7, 6, 1, 6, 7, 12, 3, 4]}, {\"marker\": {\"color\": \"rgba(0, 128, 128, 0.6)\", \"line\": {\"color\": \"rgba(0, 128, 128, 1.0)\", \"width\": 1}}, \"name\": \"GRAND_LARCENY\", \"orientation\": \"v\", \"text\": \"\", \"type\": \"bar\", \"uid\": \"e8d55327-7cf2-4b81-aeb1-f09b1d86675d\", \"x\": [\"(2014,3)\", \"(2014,4)\", \"(2015,1)\", \"(2015,2)\", \"(2015,3)\", \"(2015,4)\", \"(2016,1)\", \"(2016,2)\", \"(2016,3)\", \"(2016,4)\", \"(2017,1)\", \"(2017,2)\", \"(2017,3)\", \"(2017,4)\", \"(2018,1)\", \"(2018,2)\", \"(2018,3)\", \"(2018,4)\", \"(2019,1)\", \"(2019,2)\"], \"y\": [236, 78, 24, 92, 164, 87, 42, 152, 242, 90, 43, 143, 261, 95, 29, 142, 298, 61, 37, 138]}, {\"marker\": {\"color\": \"rgba(255, 255, 51, 0.6)\", \"line\": {\"color\": \"rgba(255, 255, 51, 1.0)\", \"width\": 1}}, \"name\": \"GRAND_LARCENY_OF_MOTOR_VEHICLE\", \"orientation\": \"v\", \"text\": \"\", \"type\": \"bar\", \"uid\": \"152b9d03-3c33-4dd3-bfe1-5984c286cf45\", \"x\": [\"(2014,3)\", \"(2014,4)\", \"(2015,1)\", \"(2015,2)\", \"(2015,3)\", \"(2015,4)\", \"(2016,1)\", \"(2016,2)\", \"(2016,3)\", \"(2016,4)\", \"(2017,1)\", \"(2017,2)\", \"(2017,3)\", \"(2017,4)\", \"(2018,1)\", \"(2018,2)\", \"(2018,3)\", \"(2018,4)\", \"(2019,1)\", \"(2019,2)\"], \"y\": [3, 1, 3, 0, 2, 2, 2, 1, 0, 1, 0, 3, 2, 2, 0, 2, 2, 3, 0, 2]}, {\"marker\": {\"color\": \"rgba(128, 128, 0, 0.6)\", \"line\": {\"color\": \"rgba(128, 128, 0, 1.0)\", \"width\": 1}}, \"name\": \"TOTAL\", \"orientation\": \"v\", \"text\": \"\", \"type\": \"bar\", \"uid\": \"5b85312e-8a84-4add-bd00-f6772d9936eb\", \"x\": [\"(2014,3)\", \"(2014,4)\", \"(2015,1)\", \"(2015,2)\", \"(2015,3)\", \"(2015,4)\", \"(2016,1)\", \"(2016,2)\", \"(2016,3)\", \"(2016,4)\", \"(2017,1)\", \"(2017,2)\", \"(2017,3)\", \"(2017,4)\", \"(2018,1)\", \"(2018,2)\", \"(2018,3)\", \"(2018,4)\", \"(2019,1)\", \"(2019,2)\"], \"y\": [432, 191, 85, 245, 391, 230, 108, 352, 495, 243, 133, 346, 511, 269, 109, 333, 545, 211, 112, 340]}],\n",
       "                        {\"legend\": {\"bgcolor\": \"#F5F6F9\", \"font\": {\"color\": \"#4D5663\"}}, \"paper_bgcolor\": \"#F5F6F9\", \"plot_bgcolor\": \"#F5F6F9\", \"title\": {\"font\": {\"color\": \"#4D5663\"}, \"text\": \"Crimes in NYC Parks Per Year and Quarter\"}, \"xaxis\": {\"gridcolor\": \"#E1E5ED\", \"showgrid\": true, \"tickfont\": {\"color\": \"#4D5663\"}, \"title\": {\"font\": {\"color\": \"#4D5663\"}, \"text\": \"Year and Quearter\"}, \"zerolinecolor\": \"#E1E5ED\"}, \"yaxis\": {\"gridcolor\": \"#E1E5ED\", \"showgrid\": true, \"tickfont\": {\"color\": \"#4D5663\"}, \"title\": {\"font\": {\"color\": \"#4D5663\"}, \"text\": \"No of Crimes\"}, \"zerolinecolor\": \"#E1E5ED\"}},\n",
       "                        {\"showLink\": true, \"linkText\": \"Export to plot.ly\", \"plotlyServerURL\": \"https://plot.ly\", \"responsive\": true}\n",
       "                    ).then(function(){\n",
       "                            \n",
       "var gd = document.getElementById('9f344bbb-a3f8-4292-bf88-cd4377fc574c');\n",
       "var x = new MutationObserver(function (mutations, observer) {{\n",
       "        var display = window.getComputedStyle(gd).display;\n",
       "        if (!display || display === 'none') {{\n",
       "            console.log([gd, 'removed!']);\n",
       "            Plotly.purge(gd);\n",
       "            observer.disconnect();\n",
       "        }}\n",
       "}});\n",
       "\n",
       "// Listen for the removal of the full notebook cells\n",
       "var notebookContainer = gd.closest('#notebook-container');\n",
       "if (notebookContainer) {{\n",
       "    x.observe(notebookContainer, {childList: true});\n",
       "}}\n",
       "\n",
       "// Listen for the clearing of the current output cell\n",
       "var outputEl = gd.closest('.output');\n",
       "if (outputEl) {{\n",
       "    x.observe(outputEl, {childList: true});\n",
       "}}\n",
       "\n",
       "                        })\n",
       "                };\n",
       "                });\n",
       "            </script>\n",
       "        </div>"
      ]
     },
     "metadata": {},
     "output_type": "display_data"
    }
   ],
   "source": [
    "#Barplot on by_quarter2\n",
    "by_quarter2.iplot(kind='bar', xTitle='Year and Quearter',yTitle='No of Crimes',title='Crimes in NYC Parks Per Year and Quarter')"
   ]
  },
  {
   "cell_type": "code",
   "execution_count": 91,
   "metadata": {},
   "outputs": [
    {
     "data": {
      "application/vnd.plotly.v1+json": {
       "config": {
        "linkText": "Export to plot.ly",
        "plotlyServerURL": "https://plot.ly",
        "showLink": true
       },
       "data": [
        {
         "marker": {
          "color": "rgba(255, 153, 51, 0.6)",
          "line": {
           "color": "rgba(255, 153, 51, 1.0)",
           "width": 1
          }
         },
         "name": "RAPE",
         "orientation": "v",
         "text": "",
         "type": "bar",
         "uid": "6a991c65-dfcd-4e55-aca5-776649b27fd0",
         "x": [
          "(2014,3)",
          "(2014,4)",
          "(2015,1)",
          "(2015,2)",
          "(2015,3)",
          "(2015,4)",
          "(2016,1)",
          "(2016,2)",
          "(2016,3)",
          "(2016,4)",
          "(2017,1)",
          "(2017,2)",
          "(2017,3)",
          "(2017,4)",
          "(2018,1)",
          "(2018,2)",
          "(2018,3)",
          "(2018,4)",
          "(2019,1)",
          "(2019,2)"
         ],
         "y": [
          5,
          2,
          3,
          5,
          4,
          8,
          2,
          4,
          8,
          7,
          3,
          7,
          13,
          3,
          1,
          10,
          9,
          8,
          3,
          2
         ]
        },
        {
         "marker": {
          "color": "rgba(55, 128, 191, 0.6)",
          "line": {
           "color": "rgba(55, 128, 191, 1.0)",
           "width": 1
          }
         },
         "name": "MURDER",
         "orientation": "v",
         "text": "",
         "type": "bar",
         "uid": "f44c0ba9-9296-439d-99e7-d032acd29107",
         "x": [
          "(2014,3)",
          "(2014,4)",
          "(2015,1)",
          "(2015,2)",
          "(2015,3)",
          "(2015,4)",
          "(2016,1)",
          "(2016,2)",
          "(2016,3)",
          "(2016,4)",
          "(2017,1)",
          "(2017,2)",
          "(2017,3)",
          "(2017,4)",
          "(2018,1)",
          "(2018,2)",
          "(2018,3)",
          "(2018,4)",
          "(2019,1)",
          "(2019,2)"
         ],
         "y": [
          0,
          1,
          1,
          2,
          3,
          3,
          0,
          1,
          6,
          2,
          0,
          2,
          0,
          0,
          0,
          5,
          3,
          1,
          0,
          2
         ]
        },
        {
         "marker": {
          "color": "rgba(50, 171, 96, 0.6)",
          "line": {
           "color": "rgba(50, 171, 96, 1.0)",
           "width": 1
          }
         },
         "name": "ROBBERY",
         "orientation": "v",
         "text": "",
         "type": "bar",
         "uid": "71ab2416-4234-42bb-a811-67906711a0b1",
         "x": [
          "(2014,3)",
          "(2014,4)",
          "(2015,1)",
          "(2015,2)",
          "(2015,3)",
          "(2015,4)",
          "(2016,1)",
          "(2016,2)",
          "(2016,3)",
          "(2016,4)",
          "(2017,1)",
          "(2017,2)",
          "(2017,3)",
          "(2017,4)",
          "(2018,1)",
          "(2018,2)",
          "(2018,3)",
          "(2018,4)",
          "(2019,1)",
          "(2019,2)"
         ],
         "y": [
          101,
          79,
          41,
          74,
          119,
          96,
          39,
          117,
          146,
          107,
          64,
          106,
          137,
          120,
          59,
          104,
          108,
          88,
          50,
          107
         ]
        },
        {
         "marker": {
          "color": "rgba(128, 0, 128, 0.6)",
          "line": {
           "color": "rgba(128, 0, 128, 1.0)",
           "width": 1
          }
         },
         "name": "FELONY_ASSAULT",
         "orientation": "v",
         "text": "",
         "type": "bar",
         "uid": "a237d868-7d2e-4f25-82e2-aab59977e962",
         "x": [
          "(2014,3)",
          "(2014,4)",
          "(2015,1)",
          "(2015,2)",
          "(2015,3)",
          "(2015,4)",
          "(2016,1)",
          "(2016,2)",
          "(2016,3)",
          "(2016,4)",
          "(2017,1)",
          "(2017,2)",
          "(2017,3)",
          "(2017,4)",
          "(2018,1)",
          "(2018,2)",
          "(2018,3)",
          "(2018,4)",
          "(2019,1)",
          "(2019,2)"
         ],
         "y": [
          72,
          26,
          9,
          67,
          93,
          29,
          21,
          73,
          85,
          27,
          18,
          82,
          91,
          43,
          19,
          64,
          118,
          38,
          19,
          85
         ]
        },
        {
         "marker": {
          "color": "rgba(219, 64, 82, 0.6)",
          "line": {
           "color": "rgba(219, 64, 82, 1.0)",
           "width": 1
          }
         },
         "name": "BURGLARY",
         "orientation": "v",
         "text": "",
         "type": "bar",
         "uid": "c657da2d-211a-4ee9-a247-03d57f6fe713",
         "x": [
          "(2014,3)",
          "(2014,4)",
          "(2015,1)",
          "(2015,2)",
          "(2015,3)",
          "(2015,4)",
          "(2016,1)",
          "(2016,2)",
          "(2016,3)",
          "(2016,4)",
          "(2017,1)",
          "(2017,2)",
          "(2017,3)",
          "(2017,4)",
          "(2018,1)",
          "(2018,2)",
          "(2018,3)",
          "(2018,4)",
          "(2019,1)",
          "(2019,2)"
         ],
         "y": [
          15,
          4,
          4,
          5,
          6,
          5,
          2,
          4,
          8,
          9,
          5,
          3,
          7,
          6,
          1,
          6,
          7,
          12,
          3,
          4
         ]
        },
        {
         "marker": {
          "color": "rgba(0, 128, 128, 0.6)",
          "line": {
           "color": "rgba(0, 128, 128, 1.0)",
           "width": 1
          }
         },
         "name": "GRAND_LARCENY",
         "orientation": "v",
         "text": "",
         "type": "bar",
         "uid": "440290f8-337e-49c2-a5e8-2724eef9a5df",
         "x": [
          "(2014,3)",
          "(2014,4)",
          "(2015,1)",
          "(2015,2)",
          "(2015,3)",
          "(2015,4)",
          "(2016,1)",
          "(2016,2)",
          "(2016,3)",
          "(2016,4)",
          "(2017,1)",
          "(2017,2)",
          "(2017,3)",
          "(2017,4)",
          "(2018,1)",
          "(2018,2)",
          "(2018,3)",
          "(2018,4)",
          "(2019,1)",
          "(2019,2)"
         ],
         "y": [
          236,
          78,
          24,
          92,
          164,
          87,
          42,
          152,
          242,
          90,
          43,
          143,
          261,
          95,
          29,
          142,
          298,
          61,
          37,
          138
         ]
        },
        {
         "marker": {
          "color": "rgba(255, 255, 51, 0.6)",
          "line": {
           "color": "rgba(255, 255, 51, 1.0)",
           "width": 1
          }
         },
         "name": "GRAND_LARCENY_OF_MOTOR_VEHICLE",
         "orientation": "v",
         "text": "",
         "type": "bar",
         "uid": "d3bf939a-b3f9-4ced-8eeb-ac6c2af4cb0c",
         "x": [
          "(2014,3)",
          "(2014,4)",
          "(2015,1)",
          "(2015,2)",
          "(2015,3)",
          "(2015,4)",
          "(2016,1)",
          "(2016,2)",
          "(2016,3)",
          "(2016,4)",
          "(2017,1)",
          "(2017,2)",
          "(2017,3)",
          "(2017,4)",
          "(2018,1)",
          "(2018,2)",
          "(2018,3)",
          "(2018,4)",
          "(2019,1)",
          "(2019,2)"
         ],
         "y": [
          3,
          1,
          3,
          0,
          2,
          2,
          2,
          1,
          0,
          1,
          0,
          3,
          2,
          2,
          0,
          2,
          2,
          3,
          0,
          2
         ]
        },
        {
         "marker": {
          "color": "rgba(128, 128, 0, 0.6)",
          "line": {
           "color": "rgba(128, 128, 0, 1.0)",
           "width": 1
          }
         },
         "name": "TOTAL",
         "orientation": "v",
         "text": "",
         "type": "bar",
         "uid": "29423248-f281-4f64-a4eb-c9ccd031adb3",
         "x": [
          "(2014,3)",
          "(2014,4)",
          "(2015,1)",
          "(2015,2)",
          "(2015,3)",
          "(2015,4)",
          "(2016,1)",
          "(2016,2)",
          "(2016,3)",
          "(2016,4)",
          "(2017,1)",
          "(2017,2)",
          "(2017,3)",
          "(2017,4)",
          "(2018,1)",
          "(2018,2)",
          "(2018,3)",
          "(2018,4)",
          "(2019,1)",
          "(2019,2)"
         ],
         "y": [
          432,
          191,
          85,
          245,
          391,
          230,
          108,
          352,
          495,
          243,
          133,
          346,
          511,
          269,
          109,
          333,
          545,
          211,
          112,
          340
         ]
        }
       ],
       "layout": {
        "barmode": "stack",
        "legend": {
         "bgcolor": "#F5F6F9",
         "font": {
          "color": "#4D5663"
         },
         "traceorder": "normal"
        },
        "paper_bgcolor": "#F5F6F9",
        "plot_bgcolor": "#F5F6F9",
        "title": {
         "font": {
          "color": "#4D5663"
         },
         "text": "Crimes in NYC Parks Per Year and Quarter"
        },
        "xaxis": {
         "gridcolor": "#E1E5ED",
         "showgrid": true,
         "tickfont": {
          "color": "#4D5663"
         },
         "title": {
          "font": {
           "color": "#4D5663"
          },
          "text": "Year and Quearter"
         },
         "zerolinecolor": "#E1E5ED"
        },
        "yaxis": {
         "gridcolor": "#E1E5ED",
         "showgrid": true,
         "tickfont": {
          "color": "#4D5663"
         },
         "title": {
          "font": {
           "color": "#4D5663"
          },
          "text": "No of Crime"
         },
         "zerolinecolor": "#E1E5ED"
        }
       }
      },
      "text/html": [
       "<div>\n",
       "        \n",
       "        \n",
       "            <div id=\"39068de2-b238-44fc-bf4a-773613bd0848\" class=\"plotly-graph-div\" style=\"height:525px; width:100%;\"></div>\n",
       "            <script type=\"text/javascript\">\n",
       "                require([\"plotly\"], function(Plotly) {\n",
       "                    window.PLOTLYENV=window.PLOTLYENV || {};\n",
       "                    window.PLOTLYENV.BASE_URL='https://plot.ly';\n",
       "                    \n",
       "                if (document.getElementById(\"39068de2-b238-44fc-bf4a-773613bd0848\")) {\n",
       "                    Plotly.newPlot(\n",
       "                        '39068de2-b238-44fc-bf4a-773613bd0848',\n",
       "                        [{\"marker\": {\"color\": \"rgba(255, 153, 51, 0.6)\", \"line\": {\"color\": \"rgba(255, 153, 51, 1.0)\", \"width\": 1}}, \"name\": \"RAPE\", \"orientation\": \"v\", \"text\": \"\", \"type\": \"bar\", \"uid\": \"6a991c65-dfcd-4e55-aca5-776649b27fd0\", \"x\": [\"(2014,3)\", \"(2014,4)\", \"(2015,1)\", \"(2015,2)\", \"(2015,3)\", \"(2015,4)\", \"(2016,1)\", \"(2016,2)\", \"(2016,3)\", \"(2016,4)\", \"(2017,1)\", \"(2017,2)\", \"(2017,3)\", \"(2017,4)\", \"(2018,1)\", \"(2018,2)\", \"(2018,3)\", \"(2018,4)\", \"(2019,1)\", \"(2019,2)\"], \"y\": [5, 2, 3, 5, 4, 8, 2, 4, 8, 7, 3, 7, 13, 3, 1, 10, 9, 8, 3, 2]}, {\"marker\": {\"color\": \"rgba(55, 128, 191, 0.6)\", \"line\": {\"color\": \"rgba(55, 128, 191, 1.0)\", \"width\": 1}}, \"name\": \"MURDER\", \"orientation\": \"v\", \"text\": \"\", \"type\": \"bar\", \"uid\": \"f44c0ba9-9296-439d-99e7-d032acd29107\", \"x\": [\"(2014,3)\", \"(2014,4)\", \"(2015,1)\", \"(2015,2)\", \"(2015,3)\", \"(2015,4)\", \"(2016,1)\", \"(2016,2)\", \"(2016,3)\", \"(2016,4)\", \"(2017,1)\", \"(2017,2)\", \"(2017,3)\", \"(2017,4)\", \"(2018,1)\", \"(2018,2)\", \"(2018,3)\", \"(2018,4)\", \"(2019,1)\", \"(2019,2)\"], \"y\": [0, 1, 1, 2, 3, 3, 0, 1, 6, 2, 0, 2, 0, 0, 0, 5, 3, 1, 0, 2]}, {\"marker\": {\"color\": \"rgba(50, 171, 96, 0.6)\", \"line\": {\"color\": \"rgba(50, 171, 96, 1.0)\", \"width\": 1}}, \"name\": \"ROBBERY\", \"orientation\": \"v\", \"text\": \"\", \"type\": \"bar\", \"uid\": \"71ab2416-4234-42bb-a811-67906711a0b1\", \"x\": [\"(2014,3)\", \"(2014,4)\", \"(2015,1)\", \"(2015,2)\", \"(2015,3)\", \"(2015,4)\", \"(2016,1)\", \"(2016,2)\", \"(2016,3)\", \"(2016,4)\", \"(2017,1)\", \"(2017,2)\", \"(2017,3)\", \"(2017,4)\", \"(2018,1)\", \"(2018,2)\", \"(2018,3)\", \"(2018,4)\", \"(2019,1)\", \"(2019,2)\"], \"y\": [101, 79, 41, 74, 119, 96, 39, 117, 146, 107, 64, 106, 137, 120, 59, 104, 108, 88, 50, 107]}, {\"marker\": {\"color\": \"rgba(128, 0, 128, 0.6)\", \"line\": {\"color\": \"rgba(128, 0, 128, 1.0)\", \"width\": 1}}, \"name\": \"FELONY_ASSAULT\", \"orientation\": \"v\", \"text\": \"\", \"type\": \"bar\", \"uid\": \"a237d868-7d2e-4f25-82e2-aab59977e962\", \"x\": [\"(2014,3)\", \"(2014,4)\", \"(2015,1)\", \"(2015,2)\", \"(2015,3)\", \"(2015,4)\", \"(2016,1)\", \"(2016,2)\", \"(2016,3)\", \"(2016,4)\", \"(2017,1)\", \"(2017,2)\", \"(2017,3)\", \"(2017,4)\", \"(2018,1)\", \"(2018,2)\", \"(2018,3)\", \"(2018,4)\", \"(2019,1)\", \"(2019,2)\"], \"y\": [72, 26, 9, 67, 93, 29, 21, 73, 85, 27, 18, 82, 91, 43, 19, 64, 118, 38, 19, 85]}, {\"marker\": {\"color\": \"rgba(219, 64, 82, 0.6)\", \"line\": {\"color\": \"rgba(219, 64, 82, 1.0)\", \"width\": 1}}, \"name\": \"BURGLARY\", \"orientation\": \"v\", \"text\": \"\", \"type\": \"bar\", \"uid\": \"c657da2d-211a-4ee9-a247-03d57f6fe713\", \"x\": [\"(2014,3)\", \"(2014,4)\", \"(2015,1)\", \"(2015,2)\", \"(2015,3)\", \"(2015,4)\", \"(2016,1)\", \"(2016,2)\", \"(2016,3)\", \"(2016,4)\", \"(2017,1)\", \"(2017,2)\", \"(2017,3)\", \"(2017,4)\", \"(2018,1)\", \"(2018,2)\", \"(2018,3)\", \"(2018,4)\", \"(2019,1)\", \"(2019,2)\"], \"y\": [15, 4, 4, 5, 6, 5, 2, 4, 8, 9, 5, 3, 7, 6, 1, 6, 7, 12, 3, 4]}, {\"marker\": {\"color\": \"rgba(0, 128, 128, 0.6)\", \"line\": {\"color\": \"rgba(0, 128, 128, 1.0)\", \"width\": 1}}, \"name\": \"GRAND_LARCENY\", \"orientation\": \"v\", \"text\": \"\", \"type\": \"bar\", \"uid\": \"440290f8-337e-49c2-a5e8-2724eef9a5df\", \"x\": [\"(2014,3)\", \"(2014,4)\", \"(2015,1)\", \"(2015,2)\", \"(2015,3)\", \"(2015,4)\", \"(2016,1)\", \"(2016,2)\", \"(2016,3)\", \"(2016,4)\", \"(2017,1)\", \"(2017,2)\", \"(2017,3)\", \"(2017,4)\", \"(2018,1)\", \"(2018,2)\", \"(2018,3)\", \"(2018,4)\", \"(2019,1)\", \"(2019,2)\"], \"y\": [236, 78, 24, 92, 164, 87, 42, 152, 242, 90, 43, 143, 261, 95, 29, 142, 298, 61, 37, 138]}, {\"marker\": {\"color\": \"rgba(255, 255, 51, 0.6)\", \"line\": {\"color\": \"rgba(255, 255, 51, 1.0)\", \"width\": 1}}, \"name\": \"GRAND_LARCENY_OF_MOTOR_VEHICLE\", \"orientation\": \"v\", \"text\": \"\", \"type\": \"bar\", \"uid\": \"d3bf939a-b3f9-4ced-8eeb-ac6c2af4cb0c\", \"x\": [\"(2014,3)\", \"(2014,4)\", \"(2015,1)\", \"(2015,2)\", \"(2015,3)\", \"(2015,4)\", \"(2016,1)\", \"(2016,2)\", \"(2016,3)\", \"(2016,4)\", \"(2017,1)\", \"(2017,2)\", \"(2017,3)\", \"(2017,4)\", \"(2018,1)\", \"(2018,2)\", \"(2018,3)\", \"(2018,4)\", \"(2019,1)\", \"(2019,2)\"], \"y\": [3, 1, 3, 0, 2, 2, 2, 1, 0, 1, 0, 3, 2, 2, 0, 2, 2, 3, 0, 2]}, {\"marker\": {\"color\": \"rgba(128, 128, 0, 0.6)\", \"line\": {\"color\": \"rgba(128, 128, 0, 1.0)\", \"width\": 1}}, \"name\": \"TOTAL\", \"orientation\": \"v\", \"text\": \"\", \"type\": \"bar\", \"uid\": \"29423248-f281-4f64-a4eb-c9ccd031adb3\", \"x\": [\"(2014,3)\", \"(2014,4)\", \"(2015,1)\", \"(2015,2)\", \"(2015,3)\", \"(2015,4)\", \"(2016,1)\", \"(2016,2)\", \"(2016,3)\", \"(2016,4)\", \"(2017,1)\", \"(2017,2)\", \"(2017,3)\", \"(2017,4)\", \"(2018,1)\", \"(2018,2)\", \"(2018,3)\", \"(2018,4)\", \"(2019,1)\", \"(2019,2)\"], \"y\": [432, 191, 85, 245, 391, 230, 108, 352, 495, 243, 133, 346, 511, 269, 109, 333, 545, 211, 112, 340]}],\n",
       "                        {\"barmode\": \"stack\", \"legend\": {\"bgcolor\": \"#F5F6F9\", \"font\": {\"color\": \"#4D5663\"}, \"traceorder\": \"normal\"}, \"paper_bgcolor\": \"#F5F6F9\", \"plot_bgcolor\": \"#F5F6F9\", \"title\": {\"font\": {\"color\": \"#4D5663\"}, \"text\": \"Crimes in NYC Parks Per Year and Quarter\"}, \"xaxis\": {\"gridcolor\": \"#E1E5ED\", \"showgrid\": true, \"tickfont\": {\"color\": \"#4D5663\"}, \"title\": {\"font\": {\"color\": \"#4D5663\"}, \"text\": \"Year and Quearter\"}, \"zerolinecolor\": \"#E1E5ED\"}, \"yaxis\": {\"gridcolor\": \"#E1E5ED\", \"showgrid\": true, \"tickfont\": {\"color\": \"#4D5663\"}, \"title\": {\"font\": {\"color\": \"#4D5663\"}, \"text\": \"No of Crime\"}, \"zerolinecolor\": \"#E1E5ED\"}},\n",
       "                        {\"showLink\": true, \"linkText\": \"Export to plot.ly\", \"plotlyServerURL\": \"https://plot.ly\", \"responsive\": true}\n",
       "                    ).then(function(){\n",
       "                            \n",
       "var gd = document.getElementById('39068de2-b238-44fc-bf4a-773613bd0848');\n",
       "var x = new MutationObserver(function (mutations, observer) {{\n",
       "        var display = window.getComputedStyle(gd).display;\n",
       "        if (!display || display === 'none') {{\n",
       "            console.log([gd, 'removed!']);\n",
       "            Plotly.purge(gd);\n",
       "            observer.disconnect();\n",
       "        }}\n",
       "}});\n",
       "\n",
       "// Listen for the removal of the full notebook cells\n",
       "var notebookContainer = gd.closest('#notebook-container');\n",
       "if (notebookContainer) {{\n",
       "    x.observe(notebookContainer, {childList: true});\n",
       "}}\n",
       "\n",
       "// Listen for the clearing of the current output cell\n",
       "var outputEl = gd.closest('.output');\n",
       "if (outputEl) {{\n",
       "    x.observe(outputEl, {childList: true});\n",
       "}}\n",
       "\n",
       "                        })\n",
       "                };\n",
       "                });\n",
       "            </script>\n",
       "        </div>"
      ]
     },
     "metadata": {},
     "output_type": "display_data"
    }
   ],
   "source": [
    "#Stacked Barplot on by_quarter2\n",
    "by_quarter2.iplot(kind='bar', barmode = 'stack', xTitle='Year and Quearter',yTitle='No of Crime',title='Crimes in NYC Parks Per Year and Quarter')"
   ]
  },
  {
   "cell_type": "code",
   "execution_count": 92,
   "metadata": {},
   "outputs": [
    {
     "data": {
      "application/vnd.plotly.v1+json": {
       "config": {
        "linkText": "Export to plot.ly",
        "plotlyServerURL": "https://plot.ly",
        "showLink": true
       },
       "data": [
        {
         "line": {
          "color": "rgba(255, 153, 51, 1.0)",
          "dash": "solid",
          "shape": "linear",
          "width": 1.3
         },
         "mode": "lines",
         "name": "RAPE",
         "text": "",
         "type": "scatter",
         "uid": "9844df0d-b94f-4b74-88ce-77b6938d8326",
         "x": [
          "(2014,3)",
          "(2014,4)",
          "(2015,1)",
          "(2015,2)",
          "(2015,3)",
          "(2015,4)",
          "(2016,1)",
          "(2016,2)",
          "(2016,3)",
          "(2016,4)",
          "(2017,1)",
          "(2017,2)",
          "(2017,3)",
          "(2017,4)",
          "(2018,1)",
          "(2018,2)",
          "(2018,3)",
          "(2018,4)",
          "(2019,1)",
          "(2019,2)"
         ],
         "y": [
          5,
          2,
          3,
          5,
          4,
          8,
          2,
          4,
          8,
          7,
          3,
          7,
          13,
          3,
          1,
          10,
          9,
          8,
          3,
          2
         ]
        },
        {
         "line": {
          "color": "rgba(55, 128, 191, 1.0)",
          "dash": "solid",
          "shape": "linear",
          "width": 1.3
         },
         "mode": "lines",
         "name": "MURDER",
         "text": "",
         "type": "scatter",
         "uid": "89ed97a6-1880-41b0-9d19-605d72ddfd11",
         "x": [
          "(2014,3)",
          "(2014,4)",
          "(2015,1)",
          "(2015,2)",
          "(2015,3)",
          "(2015,4)",
          "(2016,1)",
          "(2016,2)",
          "(2016,3)",
          "(2016,4)",
          "(2017,1)",
          "(2017,2)",
          "(2017,3)",
          "(2017,4)",
          "(2018,1)",
          "(2018,2)",
          "(2018,3)",
          "(2018,4)",
          "(2019,1)",
          "(2019,2)"
         ],
         "y": [
          0,
          1,
          1,
          2,
          3,
          3,
          0,
          1,
          6,
          2,
          0,
          2,
          0,
          0,
          0,
          5,
          3,
          1,
          0,
          2
         ]
        },
        {
         "line": {
          "color": "rgba(50, 171, 96, 1.0)",
          "dash": "solid",
          "shape": "linear",
          "width": 1.3
         },
         "mode": "lines",
         "name": "ROBBERY",
         "text": "",
         "type": "scatter",
         "uid": "231035c0-0080-47e4-aa8f-0ef56fe8616c",
         "x": [
          "(2014,3)",
          "(2014,4)",
          "(2015,1)",
          "(2015,2)",
          "(2015,3)",
          "(2015,4)",
          "(2016,1)",
          "(2016,2)",
          "(2016,3)",
          "(2016,4)",
          "(2017,1)",
          "(2017,2)",
          "(2017,3)",
          "(2017,4)",
          "(2018,1)",
          "(2018,2)",
          "(2018,3)",
          "(2018,4)",
          "(2019,1)",
          "(2019,2)"
         ],
         "y": [
          101,
          79,
          41,
          74,
          119,
          96,
          39,
          117,
          146,
          107,
          64,
          106,
          137,
          120,
          59,
          104,
          108,
          88,
          50,
          107
         ]
        },
        {
         "line": {
          "color": "rgba(128, 0, 128, 1.0)",
          "dash": "solid",
          "shape": "linear",
          "width": 1.3
         },
         "mode": "lines",
         "name": "FELONY_ASSAULT",
         "text": "",
         "type": "scatter",
         "uid": "02b85e13-79f9-4c17-9d9a-91d75ea72571",
         "x": [
          "(2014,3)",
          "(2014,4)",
          "(2015,1)",
          "(2015,2)",
          "(2015,3)",
          "(2015,4)",
          "(2016,1)",
          "(2016,2)",
          "(2016,3)",
          "(2016,4)",
          "(2017,1)",
          "(2017,2)",
          "(2017,3)",
          "(2017,4)",
          "(2018,1)",
          "(2018,2)",
          "(2018,3)",
          "(2018,4)",
          "(2019,1)",
          "(2019,2)"
         ],
         "y": [
          72,
          26,
          9,
          67,
          93,
          29,
          21,
          73,
          85,
          27,
          18,
          82,
          91,
          43,
          19,
          64,
          118,
          38,
          19,
          85
         ]
        },
        {
         "line": {
          "color": "rgba(219, 64, 82, 1.0)",
          "dash": "solid",
          "shape": "linear",
          "width": 1.3
         },
         "mode": "lines",
         "name": "BURGLARY",
         "text": "",
         "type": "scatter",
         "uid": "e7fbd359-935e-4b23-9f8c-d33d0292f22d",
         "x": [
          "(2014,3)",
          "(2014,4)",
          "(2015,1)",
          "(2015,2)",
          "(2015,3)",
          "(2015,4)",
          "(2016,1)",
          "(2016,2)",
          "(2016,3)",
          "(2016,4)",
          "(2017,1)",
          "(2017,2)",
          "(2017,3)",
          "(2017,4)",
          "(2018,1)",
          "(2018,2)",
          "(2018,3)",
          "(2018,4)",
          "(2019,1)",
          "(2019,2)"
         ],
         "y": [
          15,
          4,
          4,
          5,
          6,
          5,
          2,
          4,
          8,
          9,
          5,
          3,
          7,
          6,
          1,
          6,
          7,
          12,
          3,
          4
         ]
        },
        {
         "line": {
          "color": "rgba(0, 128, 128, 1.0)",
          "dash": "solid",
          "shape": "linear",
          "width": 1.3
         },
         "mode": "lines",
         "name": "GRAND_LARCENY",
         "text": "",
         "type": "scatter",
         "uid": "b8bf6ea7-0cc9-4f2f-9373-83a7bbfa1cb4",
         "x": [
          "(2014,3)",
          "(2014,4)",
          "(2015,1)",
          "(2015,2)",
          "(2015,3)",
          "(2015,4)",
          "(2016,1)",
          "(2016,2)",
          "(2016,3)",
          "(2016,4)",
          "(2017,1)",
          "(2017,2)",
          "(2017,3)",
          "(2017,4)",
          "(2018,1)",
          "(2018,2)",
          "(2018,3)",
          "(2018,4)",
          "(2019,1)",
          "(2019,2)"
         ],
         "y": [
          236,
          78,
          24,
          92,
          164,
          87,
          42,
          152,
          242,
          90,
          43,
          143,
          261,
          95,
          29,
          142,
          298,
          61,
          37,
          138
         ]
        },
        {
         "line": {
          "color": "rgba(255, 255, 51, 1.0)",
          "dash": "solid",
          "shape": "linear",
          "width": 1.3
         },
         "mode": "lines",
         "name": "GRAND_LARCENY_OF_MOTOR_VEHICLE",
         "text": "",
         "type": "scatter",
         "uid": "841538d2-e1fd-4aaf-8dcf-d2cfe1c47bcc",
         "x": [
          "(2014,3)",
          "(2014,4)",
          "(2015,1)",
          "(2015,2)",
          "(2015,3)",
          "(2015,4)",
          "(2016,1)",
          "(2016,2)",
          "(2016,3)",
          "(2016,4)",
          "(2017,1)",
          "(2017,2)",
          "(2017,3)",
          "(2017,4)",
          "(2018,1)",
          "(2018,2)",
          "(2018,3)",
          "(2018,4)",
          "(2019,1)",
          "(2019,2)"
         ],
         "y": [
          3,
          1,
          3,
          0,
          2,
          2,
          2,
          1,
          0,
          1,
          0,
          3,
          2,
          2,
          0,
          2,
          2,
          3,
          0,
          2
         ]
        },
        {
         "line": {
          "color": "rgba(128, 128, 0, 1.0)",
          "dash": "solid",
          "shape": "linear",
          "width": 1.3
         },
         "mode": "lines",
         "name": "TOTAL",
         "text": "",
         "type": "scatter",
         "uid": "4b92ecd8-d24e-4296-ab87-b533d96c819a",
         "x": [
          "(2014,3)",
          "(2014,4)",
          "(2015,1)",
          "(2015,2)",
          "(2015,3)",
          "(2015,4)",
          "(2016,1)",
          "(2016,2)",
          "(2016,3)",
          "(2016,4)",
          "(2017,1)",
          "(2017,2)",
          "(2017,3)",
          "(2017,4)",
          "(2018,1)",
          "(2018,2)",
          "(2018,3)",
          "(2018,4)",
          "(2019,1)",
          "(2019,2)"
         ],
         "y": [
          432,
          191,
          85,
          245,
          391,
          230,
          108,
          352,
          495,
          243,
          133,
          346,
          511,
          269,
          109,
          333,
          545,
          211,
          112,
          340
         ]
        }
       ],
       "layout": {
        "legend": {
         "bgcolor": "#F5F6F9",
         "font": {
          "color": "#4D5663"
         }
        },
        "paper_bgcolor": "#F5F6F9",
        "plot_bgcolor": "#F5F6F9",
        "title": {
         "font": {
          "color": "#4D5663"
         },
         "text": "Crimes in NYC Parks Per Year and Quarter"
        },
        "xaxis": {
         "gridcolor": "#E1E5ED",
         "showgrid": true,
         "tickfont": {
          "color": "#4D5663"
         },
         "title": {
          "font": {
           "color": "#4D5663"
          },
          "text": "Year and Quearter"
         },
         "zerolinecolor": "#E1E5ED"
        },
        "yaxis": {
         "gridcolor": "#E1E5ED",
         "showgrid": true,
         "tickfont": {
          "color": "#4D5663"
         },
         "title": {
          "font": {
           "color": "#4D5663"
          },
          "text": "No of Crime"
         },
         "zerolinecolor": "#E1E5ED"
        }
       }
      },
      "text/html": [
       "<div>\n",
       "        \n",
       "        \n",
       "            <div id=\"b339ae8f-9b86-49cc-92c1-2591386d67a8\" class=\"plotly-graph-div\" style=\"height:525px; width:100%;\"></div>\n",
       "            <script type=\"text/javascript\">\n",
       "                require([\"plotly\"], function(Plotly) {\n",
       "                    window.PLOTLYENV=window.PLOTLYENV || {};\n",
       "                    window.PLOTLYENV.BASE_URL='https://plot.ly';\n",
       "                    \n",
       "                if (document.getElementById(\"b339ae8f-9b86-49cc-92c1-2591386d67a8\")) {\n",
       "                    Plotly.newPlot(\n",
       "                        'b339ae8f-9b86-49cc-92c1-2591386d67a8',\n",
       "                        [{\"line\": {\"color\": \"rgba(255, 153, 51, 1.0)\", \"dash\": \"solid\", \"shape\": \"linear\", \"width\": 1.3}, \"mode\": \"lines\", \"name\": \"RAPE\", \"text\": \"\", \"type\": \"scatter\", \"uid\": \"9844df0d-b94f-4b74-88ce-77b6938d8326\", \"x\": [\"(2014,3)\", \"(2014,4)\", \"(2015,1)\", \"(2015,2)\", \"(2015,3)\", \"(2015,4)\", \"(2016,1)\", \"(2016,2)\", \"(2016,3)\", \"(2016,4)\", \"(2017,1)\", \"(2017,2)\", \"(2017,3)\", \"(2017,4)\", \"(2018,1)\", \"(2018,2)\", \"(2018,3)\", \"(2018,4)\", \"(2019,1)\", \"(2019,2)\"], \"y\": [5, 2, 3, 5, 4, 8, 2, 4, 8, 7, 3, 7, 13, 3, 1, 10, 9, 8, 3, 2]}, {\"line\": {\"color\": \"rgba(55, 128, 191, 1.0)\", \"dash\": \"solid\", \"shape\": \"linear\", \"width\": 1.3}, \"mode\": \"lines\", \"name\": \"MURDER\", \"text\": \"\", \"type\": \"scatter\", \"uid\": \"89ed97a6-1880-41b0-9d19-605d72ddfd11\", \"x\": [\"(2014,3)\", \"(2014,4)\", \"(2015,1)\", \"(2015,2)\", \"(2015,3)\", \"(2015,4)\", \"(2016,1)\", \"(2016,2)\", \"(2016,3)\", \"(2016,4)\", \"(2017,1)\", \"(2017,2)\", \"(2017,3)\", \"(2017,4)\", \"(2018,1)\", \"(2018,2)\", \"(2018,3)\", \"(2018,4)\", \"(2019,1)\", \"(2019,2)\"], \"y\": [0, 1, 1, 2, 3, 3, 0, 1, 6, 2, 0, 2, 0, 0, 0, 5, 3, 1, 0, 2]}, {\"line\": {\"color\": \"rgba(50, 171, 96, 1.0)\", \"dash\": \"solid\", \"shape\": \"linear\", \"width\": 1.3}, \"mode\": \"lines\", \"name\": \"ROBBERY\", \"text\": \"\", \"type\": \"scatter\", \"uid\": \"231035c0-0080-47e4-aa8f-0ef56fe8616c\", \"x\": [\"(2014,3)\", \"(2014,4)\", \"(2015,1)\", \"(2015,2)\", \"(2015,3)\", \"(2015,4)\", \"(2016,1)\", \"(2016,2)\", \"(2016,3)\", \"(2016,4)\", \"(2017,1)\", \"(2017,2)\", \"(2017,3)\", \"(2017,4)\", \"(2018,1)\", \"(2018,2)\", \"(2018,3)\", \"(2018,4)\", \"(2019,1)\", \"(2019,2)\"], \"y\": [101, 79, 41, 74, 119, 96, 39, 117, 146, 107, 64, 106, 137, 120, 59, 104, 108, 88, 50, 107]}, {\"line\": {\"color\": \"rgba(128, 0, 128, 1.0)\", \"dash\": \"solid\", \"shape\": \"linear\", \"width\": 1.3}, \"mode\": \"lines\", \"name\": \"FELONY_ASSAULT\", \"text\": \"\", \"type\": \"scatter\", \"uid\": \"02b85e13-79f9-4c17-9d9a-91d75ea72571\", \"x\": [\"(2014,3)\", \"(2014,4)\", \"(2015,1)\", \"(2015,2)\", \"(2015,3)\", \"(2015,4)\", \"(2016,1)\", \"(2016,2)\", \"(2016,3)\", \"(2016,4)\", \"(2017,1)\", \"(2017,2)\", \"(2017,3)\", \"(2017,4)\", \"(2018,1)\", \"(2018,2)\", \"(2018,3)\", \"(2018,4)\", \"(2019,1)\", \"(2019,2)\"], \"y\": [72, 26, 9, 67, 93, 29, 21, 73, 85, 27, 18, 82, 91, 43, 19, 64, 118, 38, 19, 85]}, {\"line\": {\"color\": \"rgba(219, 64, 82, 1.0)\", \"dash\": \"solid\", \"shape\": \"linear\", \"width\": 1.3}, \"mode\": \"lines\", \"name\": \"BURGLARY\", \"text\": \"\", \"type\": \"scatter\", \"uid\": \"e7fbd359-935e-4b23-9f8c-d33d0292f22d\", \"x\": [\"(2014,3)\", \"(2014,4)\", \"(2015,1)\", \"(2015,2)\", \"(2015,3)\", \"(2015,4)\", \"(2016,1)\", \"(2016,2)\", \"(2016,3)\", \"(2016,4)\", \"(2017,1)\", \"(2017,2)\", \"(2017,3)\", \"(2017,4)\", \"(2018,1)\", \"(2018,2)\", \"(2018,3)\", \"(2018,4)\", \"(2019,1)\", \"(2019,2)\"], \"y\": [15, 4, 4, 5, 6, 5, 2, 4, 8, 9, 5, 3, 7, 6, 1, 6, 7, 12, 3, 4]}, {\"line\": {\"color\": \"rgba(0, 128, 128, 1.0)\", \"dash\": \"solid\", \"shape\": \"linear\", \"width\": 1.3}, \"mode\": \"lines\", \"name\": \"GRAND_LARCENY\", \"text\": \"\", \"type\": \"scatter\", \"uid\": \"b8bf6ea7-0cc9-4f2f-9373-83a7bbfa1cb4\", \"x\": [\"(2014,3)\", \"(2014,4)\", \"(2015,1)\", \"(2015,2)\", \"(2015,3)\", \"(2015,4)\", \"(2016,1)\", \"(2016,2)\", \"(2016,3)\", \"(2016,4)\", \"(2017,1)\", \"(2017,2)\", \"(2017,3)\", \"(2017,4)\", \"(2018,1)\", \"(2018,2)\", \"(2018,3)\", \"(2018,4)\", \"(2019,1)\", \"(2019,2)\"], \"y\": [236, 78, 24, 92, 164, 87, 42, 152, 242, 90, 43, 143, 261, 95, 29, 142, 298, 61, 37, 138]}, {\"line\": {\"color\": \"rgba(255, 255, 51, 1.0)\", \"dash\": \"solid\", \"shape\": \"linear\", \"width\": 1.3}, \"mode\": \"lines\", \"name\": \"GRAND_LARCENY_OF_MOTOR_VEHICLE\", \"text\": \"\", \"type\": \"scatter\", \"uid\": \"841538d2-e1fd-4aaf-8dcf-d2cfe1c47bcc\", \"x\": [\"(2014,3)\", \"(2014,4)\", \"(2015,1)\", \"(2015,2)\", \"(2015,3)\", \"(2015,4)\", \"(2016,1)\", \"(2016,2)\", \"(2016,3)\", \"(2016,4)\", \"(2017,1)\", \"(2017,2)\", \"(2017,3)\", \"(2017,4)\", \"(2018,1)\", \"(2018,2)\", \"(2018,3)\", \"(2018,4)\", \"(2019,1)\", \"(2019,2)\"], \"y\": [3, 1, 3, 0, 2, 2, 2, 1, 0, 1, 0, 3, 2, 2, 0, 2, 2, 3, 0, 2]}, {\"line\": {\"color\": \"rgba(128, 128, 0, 1.0)\", \"dash\": \"solid\", \"shape\": \"linear\", \"width\": 1.3}, \"mode\": \"lines\", \"name\": \"TOTAL\", \"text\": \"\", \"type\": \"scatter\", \"uid\": \"4b92ecd8-d24e-4296-ab87-b533d96c819a\", \"x\": [\"(2014,3)\", \"(2014,4)\", \"(2015,1)\", \"(2015,2)\", \"(2015,3)\", \"(2015,4)\", \"(2016,1)\", \"(2016,2)\", \"(2016,3)\", \"(2016,4)\", \"(2017,1)\", \"(2017,2)\", \"(2017,3)\", \"(2017,4)\", \"(2018,1)\", \"(2018,2)\", \"(2018,3)\", \"(2018,4)\", \"(2019,1)\", \"(2019,2)\"], \"y\": [432, 191, 85, 245, 391, 230, 108, 352, 495, 243, 133, 346, 511, 269, 109, 333, 545, 211, 112, 340]}],\n",
       "                        {\"legend\": {\"bgcolor\": \"#F5F6F9\", \"font\": {\"color\": \"#4D5663\"}}, \"paper_bgcolor\": \"#F5F6F9\", \"plot_bgcolor\": \"#F5F6F9\", \"title\": {\"font\": {\"color\": \"#4D5663\"}, \"text\": \"Crimes in NYC Parks Per Year and Quarter\"}, \"xaxis\": {\"gridcolor\": \"#E1E5ED\", \"showgrid\": true, \"tickfont\": {\"color\": \"#4D5663\"}, \"title\": {\"font\": {\"color\": \"#4D5663\"}, \"text\": \"Year and Quearter\"}, \"zerolinecolor\": \"#E1E5ED\"}, \"yaxis\": {\"gridcolor\": \"#E1E5ED\", \"showgrid\": true, \"tickfont\": {\"color\": \"#4D5663\"}, \"title\": {\"font\": {\"color\": \"#4D5663\"}, \"text\": \"No of Crime\"}, \"zerolinecolor\": \"#E1E5ED\"}},\n",
       "                        {\"showLink\": true, \"linkText\": \"Export to plot.ly\", \"plotlyServerURL\": \"https://plot.ly\", \"responsive\": true}\n",
       "                    ).then(function(){\n",
       "                            \n",
       "var gd = document.getElementById('b339ae8f-9b86-49cc-92c1-2591386d67a8');\n",
       "var x = new MutationObserver(function (mutations, observer) {{\n",
       "        var display = window.getComputedStyle(gd).display;\n",
       "        if (!display || display === 'none') {{\n",
       "            console.log([gd, 'removed!']);\n",
       "            Plotly.purge(gd);\n",
       "            observer.disconnect();\n",
       "        }}\n",
       "}});\n",
       "\n",
       "// Listen for the removal of the full notebook cells\n",
       "var notebookContainer = gd.closest('#notebook-container');\n",
       "if (notebookContainer) {{\n",
       "    x.observe(notebookContainer, {childList: true});\n",
       "}}\n",
       "\n",
       "// Listen for the clearing of the current output cell\n",
       "var outputEl = gd.closest('.output');\n",
       "if (outputEl) {{\n",
       "    x.observe(outputEl, {childList: true});\n",
       "}}\n",
       "\n",
       "                        })\n",
       "                };\n",
       "                });\n",
       "            </script>\n",
       "        </div>"
      ]
     },
     "metadata": {},
     "output_type": "display_data"
    }
   ],
   "source": [
    "#Scatterplot on by_quarter2\n",
    "by_quarter2.iplot(kind='scatter', xTitle='Year and Quearter',yTitle='No of Crime',title='Crimes in NYC Parks Per Year and Quarter')"
   ]
  },
  {
   "cell_type": "code",
   "execution_count": 93,
   "metadata": {},
   "outputs": [],
   "source": [
    "#Dataset Indexed only Quarter\n",
    "by_quarter3 = df.groupby(['QUARTER']).agg({'RAPE': np.sum, 'MURDER': np.sum,'ROBBERY': np.sum, 'FELONY_ASSAULT': np.sum,'BURGLARY': np.sum, 'GRAND_LARCENY': np.sum, 'GRAND_LARCENY_OF_MOTOR_VEHICLE': np.sum,'TOTAL': np.sum })"
   ]
  },
  {
   "cell_type": "code",
   "execution_count": 94,
   "metadata": {},
   "outputs": [
    {
     "data": {
      "text/html": [
       "<div>\n",
       "<style scoped>\n",
       "    .dataframe tbody tr th:only-of-type {\n",
       "        vertical-align: middle;\n",
       "    }\n",
       "\n",
       "    .dataframe tbody tr th {\n",
       "        vertical-align: top;\n",
       "    }\n",
       "\n",
       "    .dataframe thead th {\n",
       "        text-align: right;\n",
       "    }\n",
       "</style>\n",
       "<table border=\"1\" class=\"dataframe\">\n",
       "  <thead>\n",
       "    <tr style=\"text-align: right;\">\n",
       "      <th></th>\n",
       "      <th>RAPE</th>\n",
       "      <th>MURDER</th>\n",
       "      <th>ROBBERY</th>\n",
       "      <th>FELONY_ASSAULT</th>\n",
       "      <th>BURGLARY</th>\n",
       "      <th>GRAND_LARCENY</th>\n",
       "      <th>GRAND_LARCENY_OF_MOTOR_VEHICLE</th>\n",
       "      <th>TOTAL</th>\n",
       "    </tr>\n",
       "    <tr>\n",
       "      <th>QUARTER</th>\n",
       "      <th></th>\n",
       "      <th></th>\n",
       "      <th></th>\n",
       "      <th></th>\n",
       "      <th></th>\n",
       "      <th></th>\n",
       "      <th></th>\n",
       "      <th></th>\n",
       "    </tr>\n",
       "  </thead>\n",
       "  <tbody>\n",
       "    <tr>\n",
       "      <th>1</th>\n",
       "      <td>12</td>\n",
       "      <td>1</td>\n",
       "      <td>253</td>\n",
       "      <td>86</td>\n",
       "      <td>15</td>\n",
       "      <td>175</td>\n",
       "      <td>5</td>\n",
       "      <td>547</td>\n",
       "    </tr>\n",
       "    <tr>\n",
       "      <th>2</th>\n",
       "      <td>28</td>\n",
       "      <td>12</td>\n",
       "      <td>508</td>\n",
       "      <td>371</td>\n",
       "      <td>22</td>\n",
       "      <td>667</td>\n",
       "      <td>8</td>\n",
       "      <td>1616</td>\n",
       "    </tr>\n",
       "    <tr>\n",
       "      <th>3</th>\n",
       "      <td>39</td>\n",
       "      <td>12</td>\n",
       "      <td>611</td>\n",
       "      <td>459</td>\n",
       "      <td>43</td>\n",
       "      <td>1201</td>\n",
       "      <td>9</td>\n",
       "      <td>2374</td>\n",
       "    </tr>\n",
       "    <tr>\n",
       "      <th>4</th>\n",
       "      <td>28</td>\n",
       "      <td>7</td>\n",
       "      <td>490</td>\n",
       "      <td>163</td>\n",
       "      <td>36</td>\n",
       "      <td>411</td>\n",
       "      <td>9</td>\n",
       "      <td>1144</td>\n",
       "    </tr>\n",
       "  </tbody>\n",
       "</table>\n",
       "</div>"
      ],
      "text/plain": [
       "         RAPE  MURDER  ROBBERY  FELONY_ASSAULT  BURGLARY  GRAND_LARCENY  \\\n",
       "QUARTER                                                                   \n",
       "1          12       1      253              86        15            175   \n",
       "2          28      12      508             371        22            667   \n",
       "3          39      12      611             459        43           1201   \n",
       "4          28       7      490             163        36            411   \n",
       "\n",
       "         GRAND_LARCENY_OF_MOTOR_VEHICLE  TOTAL  \n",
       "QUARTER                                         \n",
       "1                                     5    547  \n",
       "2                                     8   1616  \n",
       "3                                     9   2374  \n",
       "4                                     9   1144  "
      ]
     },
     "execution_count": 94,
     "metadata": {},
     "output_type": "execute_result"
    }
   ],
   "source": [
    "by_quarter3.head()"
   ]
  },
  {
   "cell_type": "code",
   "execution_count": 95,
   "metadata": {},
   "outputs": [
    {
     "data": {
      "application/vnd.plotly.v1+json": {
       "config": {
        "linkText": "Export to plot.ly",
        "plotlyServerURL": "https://plot.ly",
        "showLink": true
       },
       "data": [
        {
         "line": {
          "color": "rgba(255, 153, 51, 1.0)",
          "dash": "solid",
          "shape": "linear",
          "width": 1.3
         },
         "mode": "lines",
         "name": "RAPE",
         "text": "",
         "type": "scatter",
         "uid": "39f3599b-db70-42d5-85e9-b928c73f40ed",
         "x": [
          1,
          2,
          3,
          4
         ],
         "y": [
          12,
          28,
          39,
          28
         ]
        },
        {
         "line": {
          "color": "rgba(55, 128, 191, 1.0)",
          "dash": "solid",
          "shape": "linear",
          "width": 1.3
         },
         "mode": "lines",
         "name": "MURDER",
         "text": "",
         "type": "scatter",
         "uid": "f375d4ec-63b2-4053-8cc4-99bf5ef4e8eb",
         "x": [
          1,
          2,
          3,
          4
         ],
         "y": [
          1,
          12,
          12,
          7
         ]
        },
        {
         "line": {
          "color": "rgba(50, 171, 96, 1.0)",
          "dash": "solid",
          "shape": "linear",
          "width": 1.3
         },
         "mode": "lines",
         "name": "ROBBERY",
         "text": "",
         "type": "scatter",
         "uid": "aeb8ea7f-b8ac-4e80-a200-434416f8176b",
         "x": [
          1,
          2,
          3,
          4
         ],
         "y": [
          253,
          508,
          611,
          490
         ]
        },
        {
         "line": {
          "color": "rgba(128, 0, 128, 1.0)",
          "dash": "solid",
          "shape": "linear",
          "width": 1.3
         },
         "mode": "lines",
         "name": "FELONY_ASSAULT",
         "text": "",
         "type": "scatter",
         "uid": "bc60ee79-544c-4798-8107-e7e4ecb6e46e",
         "x": [
          1,
          2,
          3,
          4
         ],
         "y": [
          86,
          371,
          459,
          163
         ]
        },
        {
         "line": {
          "color": "rgba(219, 64, 82, 1.0)",
          "dash": "solid",
          "shape": "linear",
          "width": 1.3
         },
         "mode": "lines",
         "name": "BURGLARY",
         "text": "",
         "type": "scatter",
         "uid": "61788ec3-2f23-49af-a1aa-70c88e05d77c",
         "x": [
          1,
          2,
          3,
          4
         ],
         "y": [
          15,
          22,
          43,
          36
         ]
        },
        {
         "line": {
          "color": "rgba(0, 128, 128, 1.0)",
          "dash": "solid",
          "shape": "linear",
          "width": 1.3
         },
         "mode": "lines",
         "name": "GRAND_LARCENY",
         "text": "",
         "type": "scatter",
         "uid": "f45da2fb-1c1f-4bee-9e53-e8900647469b",
         "x": [
          1,
          2,
          3,
          4
         ],
         "y": [
          175,
          667,
          1201,
          411
         ]
        },
        {
         "line": {
          "color": "rgba(255, 255, 51, 1.0)",
          "dash": "solid",
          "shape": "linear",
          "width": 1.3
         },
         "mode": "lines",
         "name": "GRAND_LARCENY_OF_MOTOR_VEHICLE",
         "text": "",
         "type": "scatter",
         "uid": "1aa2de4a-a627-480f-8c76-0435caaadde6",
         "x": [
          1,
          2,
          3,
          4
         ],
         "y": [
          5,
          8,
          9,
          9
         ]
        },
        {
         "line": {
          "color": "rgba(128, 128, 0, 1.0)",
          "dash": "solid",
          "shape": "linear",
          "width": 1.3
         },
         "mode": "lines",
         "name": "TOTAL",
         "text": "",
         "type": "scatter",
         "uid": "2565b50a-cdd1-4bca-b59a-998c7a226d59",
         "x": [
          1,
          2,
          3,
          4
         ],
         "y": [
          547,
          1616,
          2374,
          1144
         ]
        }
       ],
       "layout": {
        "legend": {
         "bgcolor": "#F5F6F9",
         "font": {
          "color": "#4D5663"
         }
        },
        "paper_bgcolor": "#F5F6F9",
        "plot_bgcolor": "#F5F6F9",
        "title": {
         "font": {
          "color": "#4D5663"
         },
         "text": "Crimes in NYC Parks by Quarter"
        },
        "xaxis": {
         "gridcolor": "#E1E5ED",
         "nticks": 6,
         "showgrid": true,
         "tickfont": {
          "color": "#4D5663"
         },
         "title": {
          "font": {
           "color": "#4D5663"
          },
          "text": "Quarter"
         },
         "zerolinecolor": "#E1E5ED"
        },
        "yaxis": {
         "gridcolor": "#E1E5ED",
         "nticks": 6,
         "showgrid": true,
         "tickfont": {
          "color": "#4D5663"
         },
         "title": {
          "font": {
           "color": "#4D5663"
          },
          "text": "No of Crime"
         },
         "zerolinecolor": "#E1E5ED"
        }
       }
      },
      "text/html": [
       "<div>\n",
       "        \n",
       "        \n",
       "            <div id=\"7125de5a-44d5-4282-9f1a-2e0919d9e7e9\" class=\"plotly-graph-div\" style=\"height:525px; width:100%;\"></div>\n",
       "            <script type=\"text/javascript\">\n",
       "                require([\"plotly\"], function(Plotly) {\n",
       "                    window.PLOTLYENV=window.PLOTLYENV || {};\n",
       "                    window.PLOTLYENV.BASE_URL='https://plot.ly';\n",
       "                    \n",
       "                if (document.getElementById(\"7125de5a-44d5-4282-9f1a-2e0919d9e7e9\")) {\n",
       "                    Plotly.newPlot(\n",
       "                        '7125de5a-44d5-4282-9f1a-2e0919d9e7e9',\n",
       "                        [{\"line\": {\"color\": \"rgba(255, 153, 51, 1.0)\", \"dash\": \"solid\", \"shape\": \"linear\", \"width\": 1.3}, \"mode\": \"lines\", \"name\": \"RAPE\", \"text\": \"\", \"type\": \"scatter\", \"uid\": \"39f3599b-db70-42d5-85e9-b928c73f40ed\", \"x\": [1, 2, 3, 4], \"y\": [12, 28, 39, 28]}, {\"line\": {\"color\": \"rgba(55, 128, 191, 1.0)\", \"dash\": \"solid\", \"shape\": \"linear\", \"width\": 1.3}, \"mode\": \"lines\", \"name\": \"MURDER\", \"text\": \"\", \"type\": \"scatter\", \"uid\": \"f375d4ec-63b2-4053-8cc4-99bf5ef4e8eb\", \"x\": [1, 2, 3, 4], \"y\": [1, 12, 12, 7]}, {\"line\": {\"color\": \"rgba(50, 171, 96, 1.0)\", \"dash\": \"solid\", \"shape\": \"linear\", \"width\": 1.3}, \"mode\": \"lines\", \"name\": \"ROBBERY\", \"text\": \"\", \"type\": \"scatter\", \"uid\": \"aeb8ea7f-b8ac-4e80-a200-434416f8176b\", \"x\": [1, 2, 3, 4], \"y\": [253, 508, 611, 490]}, {\"line\": {\"color\": \"rgba(128, 0, 128, 1.0)\", \"dash\": \"solid\", \"shape\": \"linear\", \"width\": 1.3}, \"mode\": \"lines\", \"name\": \"FELONY_ASSAULT\", \"text\": \"\", \"type\": \"scatter\", \"uid\": \"bc60ee79-544c-4798-8107-e7e4ecb6e46e\", \"x\": [1, 2, 3, 4], \"y\": [86, 371, 459, 163]}, {\"line\": {\"color\": \"rgba(219, 64, 82, 1.0)\", \"dash\": \"solid\", \"shape\": \"linear\", \"width\": 1.3}, \"mode\": \"lines\", \"name\": \"BURGLARY\", \"text\": \"\", \"type\": \"scatter\", \"uid\": \"61788ec3-2f23-49af-a1aa-70c88e05d77c\", \"x\": [1, 2, 3, 4], \"y\": [15, 22, 43, 36]}, {\"line\": {\"color\": \"rgba(0, 128, 128, 1.0)\", \"dash\": \"solid\", \"shape\": \"linear\", \"width\": 1.3}, \"mode\": \"lines\", \"name\": \"GRAND_LARCENY\", \"text\": \"\", \"type\": \"scatter\", \"uid\": \"f45da2fb-1c1f-4bee-9e53-e8900647469b\", \"x\": [1, 2, 3, 4], \"y\": [175, 667, 1201, 411]}, {\"line\": {\"color\": \"rgba(255, 255, 51, 1.0)\", \"dash\": \"solid\", \"shape\": \"linear\", \"width\": 1.3}, \"mode\": \"lines\", \"name\": \"GRAND_LARCENY_OF_MOTOR_VEHICLE\", \"text\": \"\", \"type\": \"scatter\", \"uid\": \"1aa2de4a-a627-480f-8c76-0435caaadde6\", \"x\": [1, 2, 3, 4], \"y\": [5, 8, 9, 9]}, {\"line\": {\"color\": \"rgba(128, 128, 0, 1.0)\", \"dash\": \"solid\", \"shape\": \"linear\", \"width\": 1.3}, \"mode\": \"lines\", \"name\": \"TOTAL\", \"text\": \"\", \"type\": \"scatter\", \"uid\": \"2565b50a-cdd1-4bca-b59a-998c7a226d59\", \"x\": [1, 2, 3, 4], \"y\": [547, 1616, 2374, 1144]}],\n",
       "                        {\"legend\": {\"bgcolor\": \"#F5F6F9\", \"font\": {\"color\": \"#4D5663\"}}, \"paper_bgcolor\": \"#F5F6F9\", \"plot_bgcolor\": \"#F5F6F9\", \"title\": {\"font\": {\"color\": \"#4D5663\"}, \"text\": \"Crimes in NYC Parks by Quarter\"}, \"xaxis\": {\"gridcolor\": \"#E1E5ED\", \"nticks\": 6, \"showgrid\": true, \"tickfont\": {\"color\": \"#4D5663\"}, \"title\": {\"font\": {\"color\": \"#4D5663\"}, \"text\": \"Quarter\"}, \"zerolinecolor\": \"#E1E5ED\"}, \"yaxis\": {\"gridcolor\": \"#E1E5ED\", \"nticks\": 6, \"showgrid\": true, \"tickfont\": {\"color\": \"#4D5663\"}, \"title\": {\"font\": {\"color\": \"#4D5663\"}, \"text\": \"No of Crime\"}, \"zerolinecolor\": \"#E1E5ED\"}},\n",
       "                        {\"showLink\": true, \"linkText\": \"Export to plot.ly\", \"plotlyServerURL\": \"https://plot.ly\", \"responsive\": true}\n",
       "                    ).then(function(){\n",
       "                            \n",
       "var gd = document.getElementById('7125de5a-44d5-4282-9f1a-2e0919d9e7e9');\n",
       "var x = new MutationObserver(function (mutations, observer) {{\n",
       "        var display = window.getComputedStyle(gd).display;\n",
       "        if (!display || display === 'none') {{\n",
       "            console.log([gd, 'removed!']);\n",
       "            Plotly.purge(gd);\n",
       "            observer.disconnect();\n",
       "        }}\n",
       "}});\n",
       "\n",
       "// Listen for the removal of the full notebook cells\n",
       "var notebookContainer = gd.closest('#notebook-container');\n",
       "if (notebookContainer) {{\n",
       "    x.observe(notebookContainer, {childList: true});\n",
       "}}\n",
       "\n",
       "// Listen for the clearing of the current output cell\n",
       "var outputEl = gd.closest('.output');\n",
       "if (outputEl) {{\n",
       "    x.observe(outputEl, {childList: true});\n",
       "}}\n",
       "\n",
       "                        })\n",
       "                };\n",
       "                });\n",
       "            </script>\n",
       "        </div>"
      ]
     },
     "metadata": {},
     "output_type": "display_data"
    }
   ],
   "source": [
    "#Scatter plot on by_quarter3 \n",
    "by_quarter3.iplot(kind='scatter', xTitle='Quarter',yTitle='No of Crime',title='Crimes in NYC Parks by Quarter', nticks = 6)"
   ]
  },
  {
   "cell_type": "code",
   "execution_count": 96,
   "metadata": {},
   "outputs": [
    {
     "data": {
      "application/vnd.plotly.v1+json": {
       "config": {
        "linkText": "Export to plot.ly",
        "plotlyServerURL": "https://plot.ly",
        "showLink": true
       },
       "data": [
        {
         "marker": {
          "color": "rgba(255, 153, 51, 0.6)",
          "line": {
           "color": "rgba(255, 153, 51, 1.0)",
           "width": 1
          }
         },
         "name": "RAPE",
         "orientation": "v",
         "text": "",
         "type": "bar",
         "uid": "a105d45a-393b-41ac-96ef-bb102f9cbbd0",
         "x": [
          1,
          2,
          3,
          4
         ],
         "y": [
          12,
          28,
          39,
          28
         ]
        },
        {
         "marker": {
          "color": "rgba(55, 128, 191, 0.6)",
          "line": {
           "color": "rgba(55, 128, 191, 1.0)",
           "width": 1
          }
         },
         "name": "MURDER",
         "orientation": "v",
         "text": "",
         "type": "bar",
         "uid": "0a274031-c78f-4770-ad32-c2e391d6cff7",
         "x": [
          1,
          2,
          3,
          4
         ],
         "y": [
          1,
          12,
          12,
          7
         ]
        },
        {
         "marker": {
          "color": "rgba(50, 171, 96, 0.6)",
          "line": {
           "color": "rgba(50, 171, 96, 1.0)",
           "width": 1
          }
         },
         "name": "ROBBERY",
         "orientation": "v",
         "text": "",
         "type": "bar",
         "uid": "3fb988a6-b248-48b6-990b-61bd28e0d0c2",
         "x": [
          1,
          2,
          3,
          4
         ],
         "y": [
          253,
          508,
          611,
          490
         ]
        },
        {
         "marker": {
          "color": "rgba(128, 0, 128, 0.6)",
          "line": {
           "color": "rgba(128, 0, 128, 1.0)",
           "width": 1
          }
         },
         "name": "FELONY_ASSAULT",
         "orientation": "v",
         "text": "",
         "type": "bar",
         "uid": "8f8829ba-e5fe-4280-acd9-20fb785d9dde",
         "x": [
          1,
          2,
          3,
          4
         ],
         "y": [
          86,
          371,
          459,
          163
         ]
        },
        {
         "marker": {
          "color": "rgba(219, 64, 82, 0.6)",
          "line": {
           "color": "rgba(219, 64, 82, 1.0)",
           "width": 1
          }
         },
         "name": "BURGLARY",
         "orientation": "v",
         "text": "",
         "type": "bar",
         "uid": "8cebf296-ea9d-4ff9-b392-a5526560db33",
         "x": [
          1,
          2,
          3,
          4
         ],
         "y": [
          15,
          22,
          43,
          36
         ]
        },
        {
         "marker": {
          "color": "rgba(0, 128, 128, 0.6)",
          "line": {
           "color": "rgba(0, 128, 128, 1.0)",
           "width": 1
          }
         },
         "name": "GRAND_LARCENY",
         "orientation": "v",
         "text": "",
         "type": "bar",
         "uid": "990dca56-721b-4f2b-ab5e-597ca167ba7a",
         "x": [
          1,
          2,
          3,
          4
         ],
         "y": [
          175,
          667,
          1201,
          411
         ]
        },
        {
         "marker": {
          "color": "rgba(255, 255, 51, 0.6)",
          "line": {
           "color": "rgba(255, 255, 51, 1.0)",
           "width": 1
          }
         },
         "name": "GRAND_LARCENY_OF_MOTOR_VEHICLE",
         "orientation": "v",
         "text": "",
         "type": "bar",
         "uid": "eab54761-381f-44db-a7ff-74fde1a96543",
         "x": [
          1,
          2,
          3,
          4
         ],
         "y": [
          5,
          8,
          9,
          9
         ]
        },
        {
         "marker": {
          "color": "rgba(128, 128, 0, 0.6)",
          "line": {
           "color": "rgba(128, 128, 0, 1.0)",
           "width": 1
          }
         },
         "name": "TOTAL",
         "orientation": "v",
         "text": "",
         "type": "bar",
         "uid": "6fb214b4-dbcd-491d-96ba-e87432fa3f47",
         "x": [
          1,
          2,
          3,
          4
         ],
         "y": [
          547,
          1616,
          2374,
          1144
         ]
        }
       ],
       "layout": {
        "legend": {
         "bgcolor": "#F5F6F9",
         "font": {
          "color": "#4D5663"
         }
        },
        "paper_bgcolor": "#F5F6F9",
        "plot_bgcolor": "#F5F6F9",
        "title": {
         "font": {
          "color": "#4D5663"
         },
         "text": "Crimes in NYC Parks by Quarter"
        },
        "xaxis": {
         "gridcolor": "#E1E5ED",
         "showgrid": true,
         "tickfont": {
          "color": "#4D5663"
         },
         "title": {
          "font": {
           "color": "#4D5663"
          },
          "text": "Quarter"
         },
         "zerolinecolor": "#E1E5ED"
        },
        "yaxis": {
         "gridcolor": "#E1E5ED",
         "showgrid": true,
         "tickfont": {
          "color": "#4D5663"
         },
         "title": {
          "font": {
           "color": "#4D5663"
          },
          "text": "No of Crimes"
         },
         "zerolinecolor": "#E1E5ED"
        }
       }
      },
      "text/html": [
       "<div>\n",
       "        \n",
       "        \n",
       "            <div id=\"39c7e52a-6050-4e02-a200-cde631c2fd07\" class=\"plotly-graph-div\" style=\"height:525px; width:100%;\"></div>\n",
       "            <script type=\"text/javascript\">\n",
       "                require([\"plotly\"], function(Plotly) {\n",
       "                    window.PLOTLYENV=window.PLOTLYENV || {};\n",
       "                    window.PLOTLYENV.BASE_URL='https://plot.ly';\n",
       "                    \n",
       "                if (document.getElementById(\"39c7e52a-6050-4e02-a200-cde631c2fd07\")) {\n",
       "                    Plotly.newPlot(\n",
       "                        '39c7e52a-6050-4e02-a200-cde631c2fd07',\n",
       "                        [{\"marker\": {\"color\": \"rgba(255, 153, 51, 0.6)\", \"line\": {\"color\": \"rgba(255, 153, 51, 1.0)\", \"width\": 1}}, \"name\": \"RAPE\", \"orientation\": \"v\", \"text\": \"\", \"type\": \"bar\", \"uid\": \"a105d45a-393b-41ac-96ef-bb102f9cbbd0\", \"x\": [1, 2, 3, 4], \"y\": [12, 28, 39, 28]}, {\"marker\": {\"color\": \"rgba(55, 128, 191, 0.6)\", \"line\": {\"color\": \"rgba(55, 128, 191, 1.0)\", \"width\": 1}}, \"name\": \"MURDER\", \"orientation\": \"v\", \"text\": \"\", \"type\": \"bar\", \"uid\": \"0a274031-c78f-4770-ad32-c2e391d6cff7\", \"x\": [1, 2, 3, 4], \"y\": [1, 12, 12, 7]}, {\"marker\": {\"color\": \"rgba(50, 171, 96, 0.6)\", \"line\": {\"color\": \"rgba(50, 171, 96, 1.0)\", \"width\": 1}}, \"name\": \"ROBBERY\", \"orientation\": \"v\", \"text\": \"\", \"type\": \"bar\", \"uid\": \"3fb988a6-b248-48b6-990b-61bd28e0d0c2\", \"x\": [1, 2, 3, 4], \"y\": [253, 508, 611, 490]}, {\"marker\": {\"color\": \"rgba(128, 0, 128, 0.6)\", \"line\": {\"color\": \"rgba(128, 0, 128, 1.0)\", \"width\": 1}}, \"name\": \"FELONY_ASSAULT\", \"orientation\": \"v\", \"text\": \"\", \"type\": \"bar\", \"uid\": \"8f8829ba-e5fe-4280-acd9-20fb785d9dde\", \"x\": [1, 2, 3, 4], \"y\": [86, 371, 459, 163]}, {\"marker\": {\"color\": \"rgba(219, 64, 82, 0.6)\", \"line\": {\"color\": \"rgba(219, 64, 82, 1.0)\", \"width\": 1}}, \"name\": \"BURGLARY\", \"orientation\": \"v\", \"text\": \"\", \"type\": \"bar\", \"uid\": \"8cebf296-ea9d-4ff9-b392-a5526560db33\", \"x\": [1, 2, 3, 4], \"y\": [15, 22, 43, 36]}, {\"marker\": {\"color\": \"rgba(0, 128, 128, 0.6)\", \"line\": {\"color\": \"rgba(0, 128, 128, 1.0)\", \"width\": 1}}, \"name\": \"GRAND_LARCENY\", \"orientation\": \"v\", \"text\": \"\", \"type\": \"bar\", \"uid\": \"990dca56-721b-4f2b-ab5e-597ca167ba7a\", \"x\": [1, 2, 3, 4], \"y\": [175, 667, 1201, 411]}, {\"marker\": {\"color\": \"rgba(255, 255, 51, 0.6)\", \"line\": {\"color\": \"rgba(255, 255, 51, 1.0)\", \"width\": 1}}, \"name\": \"GRAND_LARCENY_OF_MOTOR_VEHICLE\", \"orientation\": \"v\", \"text\": \"\", \"type\": \"bar\", \"uid\": \"eab54761-381f-44db-a7ff-74fde1a96543\", \"x\": [1, 2, 3, 4], \"y\": [5, 8, 9, 9]}, {\"marker\": {\"color\": \"rgba(128, 128, 0, 0.6)\", \"line\": {\"color\": \"rgba(128, 128, 0, 1.0)\", \"width\": 1}}, \"name\": \"TOTAL\", \"orientation\": \"v\", \"text\": \"\", \"type\": \"bar\", \"uid\": \"6fb214b4-dbcd-491d-96ba-e87432fa3f47\", \"x\": [1, 2, 3, 4], \"y\": [547, 1616, 2374, 1144]}],\n",
       "                        {\"legend\": {\"bgcolor\": \"#F5F6F9\", \"font\": {\"color\": \"#4D5663\"}}, \"paper_bgcolor\": \"#F5F6F9\", \"plot_bgcolor\": \"#F5F6F9\", \"title\": {\"font\": {\"color\": \"#4D5663\"}, \"text\": \"Crimes in NYC Parks by Quarter\"}, \"xaxis\": {\"gridcolor\": \"#E1E5ED\", \"showgrid\": true, \"tickfont\": {\"color\": \"#4D5663\"}, \"title\": {\"font\": {\"color\": \"#4D5663\"}, \"text\": \"Quarter\"}, \"zerolinecolor\": \"#E1E5ED\"}, \"yaxis\": {\"gridcolor\": \"#E1E5ED\", \"showgrid\": true, \"tickfont\": {\"color\": \"#4D5663\"}, \"title\": {\"font\": {\"color\": \"#4D5663\"}, \"text\": \"No of Crimes\"}, \"zerolinecolor\": \"#E1E5ED\"}},\n",
       "                        {\"showLink\": true, \"linkText\": \"Export to plot.ly\", \"plotlyServerURL\": \"https://plot.ly\", \"responsive\": true}\n",
       "                    ).then(function(){\n",
       "                            \n",
       "var gd = document.getElementById('39c7e52a-6050-4e02-a200-cde631c2fd07');\n",
       "var x = new MutationObserver(function (mutations, observer) {{\n",
       "        var display = window.getComputedStyle(gd).display;\n",
       "        if (!display || display === 'none') {{\n",
       "            console.log([gd, 'removed!']);\n",
       "            Plotly.purge(gd);\n",
       "            observer.disconnect();\n",
       "        }}\n",
       "}});\n",
       "\n",
       "// Listen for the removal of the full notebook cells\n",
       "var notebookContainer = gd.closest('#notebook-container');\n",
       "if (notebookContainer) {{\n",
       "    x.observe(notebookContainer, {childList: true});\n",
       "}}\n",
       "\n",
       "// Listen for the clearing of the current output cell\n",
       "var outputEl = gd.closest('.output');\n",
       "if (outputEl) {{\n",
       "    x.observe(outputEl, {childList: true});\n",
       "}}\n",
       "\n",
       "                        })\n",
       "                };\n",
       "                });\n",
       "            </script>\n",
       "        </div>"
      ]
     },
     "metadata": {},
     "output_type": "display_data"
    }
   ],
   "source": [
    "#Bar plot on by_quarter3 \n",
    "by_quarter3.iplot(kind='bar', xTitle='Quarter',yTitle='No of Crimes',title='Crimes in NYC Parks by Quarter')"
   ]
  },
  {
   "cell_type": "code",
   "execution_count": 97,
   "metadata": {},
   "outputs": [
    {
     "data": {
      "application/vnd.plotly.v1+json": {
       "config": {
        "linkText": "Export to plot.ly",
        "plotlyServerURL": "https://plot.ly",
        "showLink": true
       },
       "data": [
        {
         "marker": {
          "color": "rgba(255, 153, 51, 0.6)",
          "line": {
           "color": "rgba(255, 153, 51, 1.0)",
           "width": 1
          }
         },
         "name": "RAPE",
         "orientation": "v",
         "text": "",
         "type": "bar",
         "uid": "53aa31f7-a1bb-4d21-80a8-e755b1a921dd",
         "x": [
          1,
          2,
          3,
          4
         ],
         "y": [
          12,
          28,
          39,
          28
         ]
        },
        {
         "marker": {
          "color": "rgba(55, 128, 191, 0.6)",
          "line": {
           "color": "rgba(55, 128, 191, 1.0)",
           "width": 1
          }
         },
         "name": "MURDER",
         "orientation": "v",
         "text": "",
         "type": "bar",
         "uid": "5c985dc9-1f0a-4e81-8614-3a3d0088354a",
         "x": [
          1,
          2,
          3,
          4
         ],
         "y": [
          1,
          12,
          12,
          7
         ]
        },
        {
         "marker": {
          "color": "rgba(50, 171, 96, 0.6)",
          "line": {
           "color": "rgba(50, 171, 96, 1.0)",
           "width": 1
          }
         },
         "name": "ROBBERY",
         "orientation": "v",
         "text": "",
         "type": "bar",
         "uid": "a401de20-2964-48e0-af37-fbc3df2a8f86",
         "x": [
          1,
          2,
          3,
          4
         ],
         "y": [
          253,
          508,
          611,
          490
         ]
        },
        {
         "marker": {
          "color": "rgba(128, 0, 128, 0.6)",
          "line": {
           "color": "rgba(128, 0, 128, 1.0)",
           "width": 1
          }
         },
         "name": "FELONY_ASSAULT",
         "orientation": "v",
         "text": "",
         "type": "bar",
         "uid": "1592dda3-6c74-4ef7-90e1-042f787e1d47",
         "x": [
          1,
          2,
          3,
          4
         ],
         "y": [
          86,
          371,
          459,
          163
         ]
        },
        {
         "marker": {
          "color": "rgba(219, 64, 82, 0.6)",
          "line": {
           "color": "rgba(219, 64, 82, 1.0)",
           "width": 1
          }
         },
         "name": "BURGLARY",
         "orientation": "v",
         "text": "",
         "type": "bar",
         "uid": "324f63f1-95c5-410b-9b2e-84efa66d6525",
         "x": [
          1,
          2,
          3,
          4
         ],
         "y": [
          15,
          22,
          43,
          36
         ]
        },
        {
         "marker": {
          "color": "rgba(0, 128, 128, 0.6)",
          "line": {
           "color": "rgba(0, 128, 128, 1.0)",
           "width": 1
          }
         },
         "name": "GRAND_LARCENY",
         "orientation": "v",
         "text": "",
         "type": "bar",
         "uid": "3acb272c-587e-483f-97fa-82a3411c080a",
         "x": [
          1,
          2,
          3,
          4
         ],
         "y": [
          175,
          667,
          1201,
          411
         ]
        },
        {
         "marker": {
          "color": "rgba(255, 255, 51, 0.6)",
          "line": {
           "color": "rgba(255, 255, 51, 1.0)",
           "width": 1
          }
         },
         "name": "GRAND_LARCENY_OF_MOTOR_VEHICLE",
         "orientation": "v",
         "text": "",
         "type": "bar",
         "uid": "2e51747e-c659-4727-b8fb-5d07d6f7a864",
         "x": [
          1,
          2,
          3,
          4
         ],
         "y": [
          5,
          8,
          9,
          9
         ]
        },
        {
         "marker": {
          "color": "rgba(128, 128, 0, 0.6)",
          "line": {
           "color": "rgba(128, 128, 0, 1.0)",
           "width": 1
          }
         },
         "name": "TOTAL",
         "orientation": "v",
         "text": "",
         "type": "bar",
         "uid": "c32d65c0-e4b9-4362-b477-5013265a7352",
         "x": [
          1,
          2,
          3,
          4
         ],
         "y": [
          547,
          1616,
          2374,
          1144
         ]
        }
       ],
       "layout": {
        "barmode": "stack",
        "legend": {
         "bgcolor": "#F5F6F9",
         "font": {
          "color": "#4D5663"
         },
         "traceorder": "normal"
        },
        "paper_bgcolor": "#F5F6F9",
        "plot_bgcolor": "#F5F6F9",
        "title": {
         "font": {
          "color": "#4D5663"
         },
         "text": "Crimes in NYC Parks by Quarter"
        },
        "xaxis": {
         "gridcolor": "#E1E5ED",
         "nticks": 8,
         "showgrid": true,
         "tickfont": {
          "color": "#4D5663"
         },
         "title": {
          "font": {
           "color": "#4D5663"
          },
          "text": "Quarter"
         },
         "zerolinecolor": "#E1E5ED"
        },
        "yaxis": {
         "gridcolor": "#E1E5ED",
         "nticks": 8,
         "showgrid": true,
         "tickfont": {
          "color": "#4D5663"
         },
         "title": {
          "font": {
           "color": "#4D5663"
          },
          "text": "No of Crimes"
         },
         "zerolinecolor": "#E1E5ED"
        }
       }
      },
      "text/html": [
       "<div>\n",
       "        \n",
       "        \n",
       "            <div id=\"12db06b2-f6b6-4d35-ae22-acbd247f4289\" class=\"plotly-graph-div\" style=\"height:525px; width:100%;\"></div>\n",
       "            <script type=\"text/javascript\">\n",
       "                require([\"plotly\"], function(Plotly) {\n",
       "                    window.PLOTLYENV=window.PLOTLYENV || {};\n",
       "                    window.PLOTLYENV.BASE_URL='https://plot.ly';\n",
       "                    \n",
       "                if (document.getElementById(\"12db06b2-f6b6-4d35-ae22-acbd247f4289\")) {\n",
       "                    Plotly.newPlot(\n",
       "                        '12db06b2-f6b6-4d35-ae22-acbd247f4289',\n",
       "                        [{\"marker\": {\"color\": \"rgba(255, 153, 51, 0.6)\", \"line\": {\"color\": \"rgba(255, 153, 51, 1.0)\", \"width\": 1}}, \"name\": \"RAPE\", \"orientation\": \"v\", \"text\": \"\", \"type\": \"bar\", \"uid\": \"53aa31f7-a1bb-4d21-80a8-e755b1a921dd\", \"x\": [1, 2, 3, 4], \"y\": [12, 28, 39, 28]}, {\"marker\": {\"color\": \"rgba(55, 128, 191, 0.6)\", \"line\": {\"color\": \"rgba(55, 128, 191, 1.0)\", \"width\": 1}}, \"name\": \"MURDER\", \"orientation\": \"v\", \"text\": \"\", \"type\": \"bar\", \"uid\": \"5c985dc9-1f0a-4e81-8614-3a3d0088354a\", \"x\": [1, 2, 3, 4], \"y\": [1, 12, 12, 7]}, {\"marker\": {\"color\": \"rgba(50, 171, 96, 0.6)\", \"line\": {\"color\": \"rgba(50, 171, 96, 1.0)\", \"width\": 1}}, \"name\": \"ROBBERY\", \"orientation\": \"v\", \"text\": \"\", \"type\": \"bar\", \"uid\": \"a401de20-2964-48e0-af37-fbc3df2a8f86\", \"x\": [1, 2, 3, 4], \"y\": [253, 508, 611, 490]}, {\"marker\": {\"color\": \"rgba(128, 0, 128, 0.6)\", \"line\": {\"color\": \"rgba(128, 0, 128, 1.0)\", \"width\": 1}}, \"name\": \"FELONY_ASSAULT\", \"orientation\": \"v\", \"text\": \"\", \"type\": \"bar\", \"uid\": \"1592dda3-6c74-4ef7-90e1-042f787e1d47\", \"x\": [1, 2, 3, 4], \"y\": [86, 371, 459, 163]}, {\"marker\": {\"color\": \"rgba(219, 64, 82, 0.6)\", \"line\": {\"color\": \"rgba(219, 64, 82, 1.0)\", \"width\": 1}}, \"name\": \"BURGLARY\", \"orientation\": \"v\", \"text\": \"\", \"type\": \"bar\", \"uid\": \"324f63f1-95c5-410b-9b2e-84efa66d6525\", \"x\": [1, 2, 3, 4], \"y\": [15, 22, 43, 36]}, {\"marker\": {\"color\": \"rgba(0, 128, 128, 0.6)\", \"line\": {\"color\": \"rgba(0, 128, 128, 1.0)\", \"width\": 1}}, \"name\": \"GRAND_LARCENY\", \"orientation\": \"v\", \"text\": \"\", \"type\": \"bar\", \"uid\": \"3acb272c-587e-483f-97fa-82a3411c080a\", \"x\": [1, 2, 3, 4], \"y\": [175, 667, 1201, 411]}, {\"marker\": {\"color\": \"rgba(255, 255, 51, 0.6)\", \"line\": {\"color\": \"rgba(255, 255, 51, 1.0)\", \"width\": 1}}, \"name\": \"GRAND_LARCENY_OF_MOTOR_VEHICLE\", \"orientation\": \"v\", \"text\": \"\", \"type\": \"bar\", \"uid\": \"2e51747e-c659-4727-b8fb-5d07d6f7a864\", \"x\": [1, 2, 3, 4], \"y\": [5, 8, 9, 9]}, {\"marker\": {\"color\": \"rgba(128, 128, 0, 0.6)\", \"line\": {\"color\": \"rgba(128, 128, 0, 1.0)\", \"width\": 1}}, \"name\": \"TOTAL\", \"orientation\": \"v\", \"text\": \"\", \"type\": \"bar\", \"uid\": \"c32d65c0-e4b9-4362-b477-5013265a7352\", \"x\": [1, 2, 3, 4], \"y\": [547, 1616, 2374, 1144]}],\n",
       "                        {\"barmode\": \"stack\", \"legend\": {\"bgcolor\": \"#F5F6F9\", \"font\": {\"color\": \"#4D5663\"}, \"traceorder\": \"normal\"}, \"paper_bgcolor\": \"#F5F6F9\", \"plot_bgcolor\": \"#F5F6F9\", \"title\": {\"font\": {\"color\": \"#4D5663\"}, \"text\": \"Crimes in NYC Parks by Quarter\"}, \"xaxis\": {\"gridcolor\": \"#E1E5ED\", \"nticks\": 8, \"showgrid\": true, \"tickfont\": {\"color\": \"#4D5663\"}, \"title\": {\"font\": {\"color\": \"#4D5663\"}, \"text\": \"Quarter\"}, \"zerolinecolor\": \"#E1E5ED\"}, \"yaxis\": {\"gridcolor\": \"#E1E5ED\", \"nticks\": 8, \"showgrid\": true, \"tickfont\": {\"color\": \"#4D5663\"}, \"title\": {\"font\": {\"color\": \"#4D5663\"}, \"text\": \"No of Crimes\"}, \"zerolinecolor\": \"#E1E5ED\"}},\n",
       "                        {\"showLink\": true, \"linkText\": \"Export to plot.ly\", \"plotlyServerURL\": \"https://plot.ly\", \"responsive\": true}\n",
       "                    ).then(function(){\n",
       "                            \n",
       "var gd = document.getElementById('12db06b2-f6b6-4d35-ae22-acbd247f4289');\n",
       "var x = new MutationObserver(function (mutations, observer) {{\n",
       "        var display = window.getComputedStyle(gd).display;\n",
       "        if (!display || display === 'none') {{\n",
       "            console.log([gd, 'removed!']);\n",
       "            Plotly.purge(gd);\n",
       "            observer.disconnect();\n",
       "        }}\n",
       "}});\n",
       "\n",
       "// Listen for the removal of the full notebook cells\n",
       "var notebookContainer = gd.closest('#notebook-container');\n",
       "if (notebookContainer) {{\n",
       "    x.observe(notebookContainer, {childList: true});\n",
       "}}\n",
       "\n",
       "// Listen for the clearing of the current output cell\n",
       "var outputEl = gd.closest('.output');\n",
       "if (outputEl) {{\n",
       "    x.observe(outputEl, {childList: true});\n",
       "}}\n",
       "\n",
       "                        })\n",
       "                };\n",
       "                });\n",
       "            </script>\n",
       "        </div>"
      ]
     },
     "metadata": {},
     "output_type": "display_data"
    }
   ],
   "source": [
    "#Stacked Bar plot on by_quarter3 \n",
    "by_quarter3.iplot(kind='bar', barmode = 'stack', xTitle='Quarter',yTitle='No of Crimes',title='Crimes in NYC Parks by Quarter', nticks = 8)"
   ]
  },
  {
   "cell_type": "code",
   "execution_count": 98,
   "metadata": {},
   "outputs": [],
   "source": [
    "#Dataset Indexed by Park \n",
    "by_park = df.groupby(['PARK']).agg({'RAPE': np.sum, 'MURDER': np.sum,'ROBBERY': np.sum, 'FELONY_ASSAULT': np.sum, 'BURGLARY': np.sum, 'GRAND_LARCENY': np.sum, 'GRAND_LARCENY_OF_MOTOR_VEHICLE': np.sum, 'TOTAL': np.sum}).sort_values(by='TOTAL',ascending = False).head(100)"
   ]
  },
  {
   "cell_type": "code",
   "execution_count": 126,
   "metadata": {
    "scrolled": true
   },
   "outputs": [
    {
     "data": {
      "text/html": [
       "<div>\n",
       "<style scoped>\n",
       "    .dataframe tbody tr th:only-of-type {\n",
       "        vertical-align: middle;\n",
       "    }\n",
       "\n",
       "    .dataframe tbody tr th {\n",
       "        vertical-align: top;\n",
       "    }\n",
       "\n",
       "    .dataframe thead th {\n",
       "        text-align: right;\n",
       "    }\n",
       "</style>\n",
       "<table border=\"1\" class=\"dataframe\">\n",
       "  <thead>\n",
       "    <tr style=\"text-align: right;\">\n",
       "      <th></th>\n",
       "      <th>RAPE</th>\n",
       "      <th>MURDER</th>\n",
       "      <th>ROBBERY</th>\n",
       "      <th>FELONY_ASSAULT</th>\n",
       "      <th>BURGLARY</th>\n",
       "      <th>GRAND_LARCENY</th>\n",
       "      <th>GRAND_LARCENY_OF_MOTOR_VEHICLE</th>\n",
       "      <th>TOTAL</th>\n",
       "    </tr>\n",
       "    <tr>\n",
       "      <th>PARK</th>\n",
       "      <th></th>\n",
       "      <th></th>\n",
       "      <th></th>\n",
       "      <th></th>\n",
       "      <th></th>\n",
       "      <th></th>\n",
       "      <th></th>\n",
       "      <th></th>\n",
       "    </tr>\n",
       "  </thead>\n",
       "  <tbody>\n",
       "    <tr>\n",
       "      <th>FLUSHING MEADOWS CORONA PARK</th>\n",
       "      <td>4</td>\n",
       "      <td>0</td>\n",
       "      <td>41</td>\n",
       "      <td>37</td>\n",
       "      <td>17</td>\n",
       "      <td>173</td>\n",
       "      <td>15</td>\n",
       "      <td>287</td>\n",
       "    </tr>\n",
       "    <tr>\n",
       "      <th>RANDALL'S ISLAND PARK</th>\n",
       "      <td>0</td>\n",
       "      <td>0</td>\n",
       "      <td>3</td>\n",
       "      <td>6</td>\n",
       "      <td>5</td>\n",
       "      <td>203</td>\n",
       "      <td>0</td>\n",
       "      <td>217</td>\n",
       "    </tr>\n",
       "    <tr>\n",
       "      <th>CONEY ISLAND BEACH &amp; BOARDWALK</th>\n",
       "      <td>6</td>\n",
       "      <td>0</td>\n",
       "      <td>41</td>\n",
       "      <td>22</td>\n",
       "      <td>1</td>\n",
       "      <td>128</td>\n",
       "      <td>0</td>\n",
       "      <td>198</td>\n",
       "    </tr>\n",
       "    <tr>\n",
       "      <th>RIVERSIDE PARK</th>\n",
       "      <td>5</td>\n",
       "      <td>0</td>\n",
       "      <td>47</td>\n",
       "      <td>10</td>\n",
       "      <td>9</td>\n",
       "      <td>107</td>\n",
       "      <td>0</td>\n",
       "      <td>178</td>\n",
       "    </tr>\n",
       "    <tr>\n",
       "      <th>PROSPECT PARK</th>\n",
       "      <td>7</td>\n",
       "      <td>0</td>\n",
       "      <td>55</td>\n",
       "      <td>26</td>\n",
       "      <td>2</td>\n",
       "      <td>73</td>\n",
       "      <td>0</td>\n",
       "      <td>163</td>\n",
       "    </tr>\n",
       "  </tbody>\n",
       "</table>\n",
       "</div>"
      ],
      "text/plain": [
       "                                RAPE  MURDER  ROBBERY  FELONY_ASSAULT  \\\n",
       "PARK                                                                    \n",
       "FLUSHING MEADOWS CORONA PARK       4       0       41              37   \n",
       "RANDALL'S ISLAND PARK              0       0        3               6   \n",
       "CONEY ISLAND BEACH & BOARDWALK     6       0       41              22   \n",
       "RIVERSIDE PARK                     5       0       47              10   \n",
       "PROSPECT PARK                      7       0       55              26   \n",
       "\n",
       "                                BURGLARY  GRAND_LARCENY  \\\n",
       "PARK                                                      \n",
       "FLUSHING MEADOWS CORONA PARK          17            173   \n",
       "RANDALL'S ISLAND PARK                  5            203   \n",
       "CONEY ISLAND BEACH & BOARDWALK         1            128   \n",
       "RIVERSIDE PARK                         9            107   \n",
       "PROSPECT PARK                          2             73   \n",
       "\n",
       "                                GRAND_LARCENY_OF_MOTOR_VEHICLE  TOTAL  \n",
       "PARK                                                                   \n",
       "FLUSHING MEADOWS CORONA PARK                                15    287  \n",
       "RANDALL'S ISLAND PARK                                        0    217  \n",
       "CONEY ISLAND BEACH & BOARDWALK                               0    198  \n",
       "RIVERSIDE PARK                                               0    178  \n",
       "PROSPECT PARK                                                0    163  "
      ]
     },
     "execution_count": 126,
     "metadata": {},
     "output_type": "execute_result"
    }
   ],
   "source": [
    "by_park.head()#Data in by_park data frame"
   ]
  },
  {
   "cell_type": "code",
   "execution_count": 100,
   "metadata": {},
   "outputs": [
    {
     "data": {
      "application/vnd.plotly.v1+json": {
       "config": {
        "linkText": "Export to plot.ly",
        "plotlyServerURL": "https://plot.ly",
        "showLink": true
       },
       "data": [
        {
         "marker": {
          "color": "rgba(255, 153, 51, 0.6)",
          "line": {
           "color": "rgba(255, 153, 51, 1.0)",
           "width": 1
          }
         },
         "name": "RAPE",
         "orientation": "v",
         "text": "",
         "type": "bar",
         "uid": "37a537e9-14a8-42c6-b253-e39f18fc7b4b",
         "x": [
          "FLUSHING MEADOWS CORONA PARK",
          "RANDALL'S ISLAND PARK",
          "CONEY ISLAND BEACH & BOARDWALK",
          "RIVERSIDE PARK",
          "PROSPECT PARK",
          "UNION SQUARE PARK",
          "CROTONA PARK",
          "BRYANT PARK",
          "WASHINGTON SQUARE PARK",
          "BROOKLYN BRIDGE PARK",
          "ROCKAWAY BEACH AND BOARDWALK",
          "SARA D. ROOSEVELT PARK",
          "BRONX PARK",
          "CLAREMONT PARK",
          "HIGHBRIDGE PARK MANHATTAN SIDE",
          "MCCARREN PARK",
          "MARCUS GARVEY PARK",
          "SUNSET PARK",
          "ST. MARY'S PARK BRONX",
          "ST. NICHOLAS PARK",
          "MACOMBS DAM PARK",
          "MORNINGSIDE PARK",
          "WILLIAMSBRIDGE OVAL",
          "VAN CORTLANDT PARK",
          "TOMPKINS SQUARE PARK",
          "HIGHLAND PARK",
          "MULLALY PARK",
          "MARIA HERNANDEZ PARK",
          "EAST RIVER PARK",
          "ST. JAMES PARK",
          "JOYCE KILMER PARK",
          "FOREST PARK",
          "FORT GREENE PARK",
          "LINCOLN TERRACE / ARTHUR S. SOMERS PARK",
          "RUFUS KING PARK",
          "JACKIE ROBINSON PARK MANHATTAN",
          "KISSENA CORRIDOR PARK",
          "FORT TRYON PARK",
          "ST. JOHN'S RECREATION CENTER",
          "MADISON SQUARE PARK",
          "SOUNDVIEW PARK",
          "FRANZ SIGEL PARK",
          "THOMAS JEFFERSON PARK",
          "PELHAM BAY PARK",
          "ASTORIA PARK",
          "KISSENA PARK",
          "MOORE HOMESTEAD PLAYGROUND",
          "LUNA PARK",
          "PARADE GROUND",
          "ALLEY POND PARK",
          "AQUEDUCT WALK",
          "BAISLEY POND PARK",
          "CAPTAIN TILLY PARK",
          "DEVOE PARK",
          "INWOOD HILL PARK",
          "CUNNINGHAM PARK",
          "HERBERT VON KING PARK",
          "MARINE PARK",
          "BATTERY PARK",
          "RAINEY PARK BRONX",
          "GRACE PLAYGROUND",
          "PARK OF THE AMERICAS",
          "KELLY PARK",
          "ROY WILKINS RECREATION CENTER",
          "CHELSEA PARK",
          "WATSON GLEASON PLAYGROUND",
          "CALVERT VAUX PARK",
          "BROWER PARK",
          "STERNBERG PARK",
          "ST. ANDREW'S PLAYGROUND",
          "CARL SCHURZ PARK",
          "RICHMAN (ECHO) PARK",
          "BETSY HEAD PARK",
          "HARLEM RIVER PARK",
          "STARLIGHT PARK",
          "LINDEN PARK",
          "ASSER LEVY PLAYGROUND",
          "SETH LOW PLAYGROUND/ BEALIN SQUARE",
          "TRAVERS PARK",
          "COLEMAN PLAYGROUND",
          "FRANK D. O'CONNOR PLAYGROUND",
          "J.J. BYRNE PLAYGROUND",
          "DYKER BEACH PARK",
          "BRIDGE PARK BROOKLYN",
          "BUSHWICK PLAYGROUND ON KNICKERBOCKER AVENUE",
          "POE PARK",
          "MOSHOLU PARKWAY",
          "RED HOOK RECREATION AREA",
          "JUNIPER VALLEY PARK",
          "BENSONHURST PARK",
          "CLOVE LAKES PARK",
          "FULTON PARK",
          "CANARSIE PARK",
          "COLUMBUS PARK AT MANHATTAN",
          "BROOKVILLE PARK",
          "FORT WASHINGTON PARK",
          "LEIF ERICSON PARK",
          "BRONX RIVER PARKWAY",
          "CPL. THOMPSON PARK",
          "MCKINLEY PARK"
         ],
         "y": [
          4,
          0,
          6,
          5,
          7,
          1,
          2,
          0,
          1,
          0,
          2,
          0,
          3,
          0,
          1,
          2,
          2,
          0,
          1,
          2,
          0,
          0,
          0,
          2,
          1,
          0,
          0,
          1,
          2,
          0,
          1,
          1,
          2,
          1,
          3,
          0,
          1,
          1,
          1,
          0,
          3,
          0,
          0,
          2,
          0,
          0,
          0,
          0,
          0,
          0,
          0,
          0,
          1,
          0,
          0,
          0,
          0,
          0,
          1,
          0,
          0,
          0,
          0,
          0,
          0,
          0,
          1,
          0,
          0,
          1,
          0,
          1,
          1,
          0,
          0,
          1,
          0,
          0,
          0,
          0,
          1,
          0,
          1,
          0,
          0,
          0,
          0,
          1,
          0,
          0,
          1,
          0,
          1,
          0,
          0,
          0,
          0,
          1,
          0,
          1
         ]
        },
        {
         "marker": {
          "color": "rgba(55, 128, 191, 0.6)",
          "line": {
           "color": "rgba(55, 128, 191, 1.0)",
           "width": 1
          }
         },
         "name": "MURDER",
         "orientation": "v",
         "text": "",
         "type": "bar",
         "uid": "117d02fd-d3ce-4b4e-aff2-b09ae8d86dd0",
         "x": [
          "FLUSHING MEADOWS CORONA PARK",
          "RANDALL'S ISLAND PARK",
          "CONEY ISLAND BEACH & BOARDWALK",
          "RIVERSIDE PARK",
          "PROSPECT PARK",
          "UNION SQUARE PARK",
          "CROTONA PARK",
          "BRYANT PARK",
          "WASHINGTON SQUARE PARK",
          "BROOKLYN BRIDGE PARK",
          "ROCKAWAY BEACH AND BOARDWALK",
          "SARA D. ROOSEVELT PARK",
          "BRONX PARK",
          "CLAREMONT PARK",
          "HIGHBRIDGE PARK MANHATTAN SIDE",
          "MCCARREN PARK",
          "MARCUS GARVEY PARK",
          "SUNSET PARK",
          "ST. MARY'S PARK BRONX",
          "ST. NICHOLAS PARK",
          "MACOMBS DAM PARK",
          "MORNINGSIDE PARK",
          "WILLIAMSBRIDGE OVAL",
          "VAN CORTLANDT PARK",
          "TOMPKINS SQUARE PARK",
          "HIGHLAND PARK",
          "MULLALY PARK",
          "MARIA HERNANDEZ PARK",
          "EAST RIVER PARK",
          "ST. JAMES PARK",
          "JOYCE KILMER PARK",
          "FOREST PARK",
          "FORT GREENE PARK",
          "LINCOLN TERRACE / ARTHUR S. SOMERS PARK",
          "RUFUS KING PARK",
          "JACKIE ROBINSON PARK MANHATTAN",
          "KISSENA CORRIDOR PARK",
          "FORT TRYON PARK",
          "ST. JOHN'S RECREATION CENTER",
          "MADISON SQUARE PARK",
          "SOUNDVIEW PARK",
          "FRANZ SIGEL PARK",
          "THOMAS JEFFERSON PARK",
          "PELHAM BAY PARK",
          "ASTORIA PARK",
          "KISSENA PARK",
          "MOORE HOMESTEAD PLAYGROUND",
          "LUNA PARK",
          "PARADE GROUND",
          "ALLEY POND PARK",
          "AQUEDUCT WALK",
          "BAISLEY POND PARK",
          "CAPTAIN TILLY PARK",
          "DEVOE PARK",
          "INWOOD HILL PARK",
          "CUNNINGHAM PARK",
          "HERBERT VON KING PARK",
          "MARINE PARK",
          "BATTERY PARK",
          "RAINEY PARK BRONX",
          "GRACE PLAYGROUND",
          "PARK OF THE AMERICAS",
          "KELLY PARK",
          "ROY WILKINS RECREATION CENTER",
          "CHELSEA PARK",
          "WATSON GLEASON PLAYGROUND",
          "CALVERT VAUX PARK",
          "BROWER PARK",
          "STERNBERG PARK",
          "ST. ANDREW'S PLAYGROUND",
          "CARL SCHURZ PARK",
          "RICHMAN (ECHO) PARK",
          "BETSY HEAD PARK",
          "HARLEM RIVER PARK",
          "STARLIGHT PARK",
          "LINDEN PARK",
          "ASSER LEVY PLAYGROUND",
          "SETH LOW PLAYGROUND/ BEALIN SQUARE",
          "TRAVERS PARK",
          "COLEMAN PLAYGROUND",
          "FRANK D. O'CONNOR PLAYGROUND",
          "J.J. BYRNE PLAYGROUND",
          "DYKER BEACH PARK",
          "BRIDGE PARK BROOKLYN",
          "BUSHWICK PLAYGROUND ON KNICKERBOCKER AVENUE",
          "POE PARK",
          "MOSHOLU PARKWAY",
          "RED HOOK RECREATION AREA",
          "JUNIPER VALLEY PARK",
          "BENSONHURST PARK",
          "CLOVE LAKES PARK",
          "FULTON PARK",
          "CANARSIE PARK",
          "COLUMBUS PARK AT MANHATTAN",
          "BROOKVILLE PARK",
          "FORT WASHINGTON PARK",
          "LEIF ERICSON PARK",
          "BRONX RIVER PARKWAY",
          "CPL. THOMPSON PARK",
          "MCKINLEY PARK"
         ],
         "y": [
          0,
          0,
          0,
          0,
          0,
          0,
          0,
          0,
          0,
          0,
          0,
          1,
          1,
          1,
          1,
          0,
          0,
          0,
          1,
          0,
          1,
          0,
          0,
          0,
          0,
          0,
          0,
          0,
          0,
          1,
          0,
          1,
          0,
          0,
          0,
          0,
          1,
          0,
          0,
          0,
          2,
          0,
          0,
          0,
          1,
          1,
          0,
          0,
          0,
          1,
          0,
          0,
          0,
          1,
          0,
          0,
          1,
          0,
          0,
          1,
          0,
          0,
          0,
          0,
          0,
          0,
          0,
          0,
          0,
          0,
          0,
          0,
          0,
          0,
          0,
          0,
          0,
          0,
          0,
          0,
          0,
          0,
          0,
          0,
          0,
          0,
          0,
          0,
          0,
          0,
          0,
          0,
          1,
          0,
          0,
          0,
          0,
          0,
          0,
          0
         ]
        },
        {
         "marker": {
          "color": "rgba(50, 171, 96, 0.6)",
          "line": {
           "color": "rgba(50, 171, 96, 1.0)",
           "width": 1
          }
         },
         "name": "ROBBERY",
         "orientation": "v",
         "text": "",
         "type": "bar",
         "uid": "b0fe0c81-5ccf-4dca-8d76-ff5025a38192",
         "x": [
          "FLUSHING MEADOWS CORONA PARK",
          "RANDALL'S ISLAND PARK",
          "CONEY ISLAND BEACH & BOARDWALK",
          "RIVERSIDE PARK",
          "PROSPECT PARK",
          "UNION SQUARE PARK",
          "CROTONA PARK",
          "BRYANT PARK",
          "WASHINGTON SQUARE PARK",
          "BROOKLYN BRIDGE PARK",
          "ROCKAWAY BEACH AND BOARDWALK",
          "SARA D. ROOSEVELT PARK",
          "BRONX PARK",
          "CLAREMONT PARK",
          "HIGHBRIDGE PARK MANHATTAN SIDE",
          "MCCARREN PARK",
          "MARCUS GARVEY PARK",
          "SUNSET PARK",
          "ST. MARY'S PARK BRONX",
          "ST. NICHOLAS PARK",
          "MACOMBS DAM PARK",
          "MORNINGSIDE PARK",
          "WILLIAMSBRIDGE OVAL",
          "VAN CORTLANDT PARK",
          "TOMPKINS SQUARE PARK",
          "HIGHLAND PARK",
          "MULLALY PARK",
          "MARIA HERNANDEZ PARK",
          "EAST RIVER PARK",
          "ST. JAMES PARK",
          "JOYCE KILMER PARK",
          "FOREST PARK",
          "FORT GREENE PARK",
          "LINCOLN TERRACE / ARTHUR S. SOMERS PARK",
          "RUFUS KING PARK",
          "JACKIE ROBINSON PARK MANHATTAN",
          "KISSENA CORRIDOR PARK",
          "FORT TRYON PARK",
          "ST. JOHN'S RECREATION CENTER",
          "MADISON SQUARE PARK",
          "SOUNDVIEW PARK",
          "FRANZ SIGEL PARK",
          "THOMAS JEFFERSON PARK",
          "PELHAM BAY PARK",
          "ASTORIA PARK",
          "KISSENA PARK",
          "MOORE HOMESTEAD PLAYGROUND",
          "LUNA PARK",
          "PARADE GROUND",
          "ALLEY POND PARK",
          "AQUEDUCT WALK",
          "BAISLEY POND PARK",
          "CAPTAIN TILLY PARK",
          "DEVOE PARK",
          "INWOOD HILL PARK",
          "CUNNINGHAM PARK",
          "HERBERT VON KING PARK",
          "MARINE PARK",
          "BATTERY PARK",
          "RAINEY PARK BRONX",
          "GRACE PLAYGROUND",
          "PARK OF THE AMERICAS",
          "KELLY PARK",
          "ROY WILKINS RECREATION CENTER",
          "CHELSEA PARK",
          "WATSON GLEASON PLAYGROUND",
          "CALVERT VAUX PARK",
          "BROWER PARK",
          "STERNBERG PARK",
          "ST. ANDREW'S PLAYGROUND",
          "CARL SCHURZ PARK",
          "RICHMAN (ECHO) PARK",
          "BETSY HEAD PARK",
          "HARLEM RIVER PARK",
          "STARLIGHT PARK",
          "LINDEN PARK",
          "ASSER LEVY PLAYGROUND",
          "SETH LOW PLAYGROUND/ BEALIN SQUARE",
          "TRAVERS PARK",
          "COLEMAN PLAYGROUND",
          "FRANK D. O'CONNOR PLAYGROUND",
          "J.J. BYRNE PLAYGROUND",
          "DYKER BEACH PARK",
          "BRIDGE PARK BROOKLYN",
          "BUSHWICK PLAYGROUND ON KNICKERBOCKER AVENUE",
          "POE PARK",
          "MOSHOLU PARKWAY",
          "RED HOOK RECREATION AREA",
          "JUNIPER VALLEY PARK",
          "BENSONHURST PARK",
          "CLOVE LAKES PARK",
          "FULTON PARK",
          "CANARSIE PARK",
          "COLUMBUS PARK AT MANHATTAN",
          "BROOKVILLE PARK",
          "FORT WASHINGTON PARK",
          "LEIF ERICSON PARK",
          "BRONX RIVER PARKWAY",
          "CPL. THOMPSON PARK",
          "MCKINLEY PARK"
         ],
         "y": [
          41,
          3,
          41,
          47,
          55,
          11,
          53,
          2,
          7,
          8,
          10,
          10,
          39,
          41,
          33,
          11,
          27,
          25,
          34,
          37,
          22,
          35,
          34,
          14,
          9,
          24,
          24,
          15,
          6,
          13,
          25,
          13,
          12,
          17,
          14,
          20,
          18,
          19,
          16,
          6,
          4,
          18,
          6,
          9,
          6,
          9,
          7,
          1,
          7,
          2,
          13,
          13,
          20,
          8,
          12,
          3,
          4,
          9,
          2,
          7,
          11,
          11,
          16,
          6,
          1,
          9,
          6,
          4,
          6,
          6,
          10,
          7,
          8,
          5,
          7,
          3,
          4,
          6,
          6,
          4,
          5,
          2,
          3,
          3,
          5,
          4,
          9,
          2,
          4,
          6,
          10,
          5,
          4,
          1,
          5,
          5,
          2,
          6,
          2,
          3
         ]
        },
        {
         "marker": {
          "color": "rgba(128, 0, 128, 0.6)",
          "line": {
           "color": "rgba(128, 0, 128, 1.0)",
           "width": 1
          }
         },
         "name": "FELONY_ASSAULT",
         "orientation": "v",
         "text": "",
         "type": "bar",
         "uid": "0bec3f5e-a578-47db-ad0e-23391a279058",
         "x": [
          "FLUSHING MEADOWS CORONA PARK",
          "RANDALL'S ISLAND PARK",
          "CONEY ISLAND BEACH & BOARDWALK",
          "RIVERSIDE PARK",
          "PROSPECT PARK",
          "UNION SQUARE PARK",
          "CROTONA PARK",
          "BRYANT PARK",
          "WASHINGTON SQUARE PARK",
          "BROOKLYN BRIDGE PARK",
          "ROCKAWAY BEACH AND BOARDWALK",
          "SARA D. ROOSEVELT PARK",
          "BRONX PARK",
          "CLAREMONT PARK",
          "HIGHBRIDGE PARK MANHATTAN SIDE",
          "MCCARREN PARK",
          "MARCUS GARVEY PARK",
          "SUNSET PARK",
          "ST. MARY'S PARK BRONX",
          "ST. NICHOLAS PARK",
          "MACOMBS DAM PARK",
          "MORNINGSIDE PARK",
          "WILLIAMSBRIDGE OVAL",
          "VAN CORTLANDT PARK",
          "TOMPKINS SQUARE PARK",
          "HIGHLAND PARK",
          "MULLALY PARK",
          "MARIA HERNANDEZ PARK",
          "EAST RIVER PARK",
          "ST. JAMES PARK",
          "JOYCE KILMER PARK",
          "FOREST PARK",
          "FORT GREENE PARK",
          "LINCOLN TERRACE / ARTHUR S. SOMERS PARK",
          "RUFUS KING PARK",
          "JACKIE ROBINSON PARK MANHATTAN",
          "KISSENA CORRIDOR PARK",
          "FORT TRYON PARK",
          "ST. JOHN'S RECREATION CENTER",
          "MADISON SQUARE PARK",
          "SOUNDVIEW PARK",
          "FRANZ SIGEL PARK",
          "THOMAS JEFFERSON PARK",
          "PELHAM BAY PARK",
          "ASTORIA PARK",
          "KISSENA PARK",
          "MOORE HOMESTEAD PLAYGROUND",
          "LUNA PARK",
          "PARADE GROUND",
          "ALLEY POND PARK",
          "AQUEDUCT WALK",
          "BAISLEY POND PARK",
          "CAPTAIN TILLY PARK",
          "DEVOE PARK",
          "INWOOD HILL PARK",
          "CUNNINGHAM PARK",
          "HERBERT VON KING PARK",
          "MARINE PARK",
          "BATTERY PARK",
          "RAINEY PARK BRONX",
          "GRACE PLAYGROUND",
          "PARK OF THE AMERICAS",
          "KELLY PARK",
          "ROY WILKINS RECREATION CENTER",
          "CHELSEA PARK",
          "WATSON GLEASON PLAYGROUND",
          "CALVERT VAUX PARK",
          "BROWER PARK",
          "STERNBERG PARK",
          "ST. ANDREW'S PLAYGROUND",
          "CARL SCHURZ PARK",
          "RICHMAN (ECHO) PARK",
          "BETSY HEAD PARK",
          "HARLEM RIVER PARK",
          "STARLIGHT PARK",
          "LINDEN PARK",
          "ASSER LEVY PLAYGROUND",
          "SETH LOW PLAYGROUND/ BEALIN SQUARE",
          "TRAVERS PARK",
          "COLEMAN PLAYGROUND",
          "FRANK D. O'CONNOR PLAYGROUND",
          "J.J. BYRNE PLAYGROUND",
          "DYKER BEACH PARK",
          "BRIDGE PARK BROOKLYN",
          "BUSHWICK PLAYGROUND ON KNICKERBOCKER AVENUE",
          "POE PARK",
          "MOSHOLU PARKWAY",
          "RED HOOK RECREATION AREA",
          "JUNIPER VALLEY PARK",
          "BENSONHURST PARK",
          "CLOVE LAKES PARK",
          "FULTON PARK",
          "CANARSIE PARK",
          "COLUMBUS PARK AT MANHATTAN",
          "BROOKVILLE PARK",
          "FORT WASHINGTON PARK",
          "LEIF ERICSON PARK",
          "BRONX RIVER PARKWAY",
          "CPL. THOMPSON PARK",
          "MCKINLEY PARK"
         ],
         "y": [
          37,
          6,
          22,
          10,
          26,
          23,
          30,
          2,
          12,
          2,
          10,
          18,
          11,
          20,
          20,
          5,
          23,
          20,
          13,
          14,
          2,
          4,
          13,
          15,
          8,
          11,
          13,
          17,
          2,
          18,
          7,
          6,
          8,
          7,
          7,
          5,
          4,
          1,
          6,
          2,
          8,
          10,
          8,
          5,
          9,
          5,
          13,
          10,
          4,
          0,
          4,
          4,
          1,
          10,
          6,
          1,
          2,
          0,
          6,
          11,
          5,
          4,
          3,
          2,
          0,
          2,
          1,
          5,
          8,
          8,
          1,
          6,
          4,
          5,
          4,
          5,
          4,
          2,
          3,
          0,
          3,
          2,
          2,
          0,
          3,
          3,
          0,
          3,
          3,
          1,
          0,
          2,
          1,
          2,
          2,
          4,
          3,
          2,
          5,
          2
         ]
        },
        {
         "marker": {
          "color": "rgba(219, 64, 82, 0.6)",
          "line": {
           "color": "rgba(219, 64, 82, 1.0)",
           "width": 1
          }
         },
         "name": "BURGLARY",
         "orientation": "v",
         "text": "",
         "type": "bar",
         "uid": "dd18b00b-bdfa-47d8-858a-88af6c1b271f",
         "x": [
          "FLUSHING MEADOWS CORONA PARK",
          "RANDALL'S ISLAND PARK",
          "CONEY ISLAND BEACH & BOARDWALK",
          "RIVERSIDE PARK",
          "PROSPECT PARK",
          "UNION SQUARE PARK",
          "CROTONA PARK",
          "BRYANT PARK",
          "WASHINGTON SQUARE PARK",
          "BROOKLYN BRIDGE PARK",
          "ROCKAWAY BEACH AND BOARDWALK",
          "SARA D. ROOSEVELT PARK",
          "BRONX PARK",
          "CLAREMONT PARK",
          "HIGHBRIDGE PARK MANHATTAN SIDE",
          "MCCARREN PARK",
          "MARCUS GARVEY PARK",
          "SUNSET PARK",
          "ST. MARY'S PARK BRONX",
          "ST. NICHOLAS PARK",
          "MACOMBS DAM PARK",
          "MORNINGSIDE PARK",
          "WILLIAMSBRIDGE OVAL",
          "VAN CORTLANDT PARK",
          "TOMPKINS SQUARE PARK",
          "HIGHLAND PARK",
          "MULLALY PARK",
          "MARIA HERNANDEZ PARK",
          "EAST RIVER PARK",
          "ST. JAMES PARK",
          "JOYCE KILMER PARK",
          "FOREST PARK",
          "FORT GREENE PARK",
          "LINCOLN TERRACE / ARTHUR S. SOMERS PARK",
          "RUFUS KING PARK",
          "JACKIE ROBINSON PARK MANHATTAN",
          "KISSENA CORRIDOR PARK",
          "FORT TRYON PARK",
          "ST. JOHN'S RECREATION CENTER",
          "MADISON SQUARE PARK",
          "SOUNDVIEW PARK",
          "FRANZ SIGEL PARK",
          "THOMAS JEFFERSON PARK",
          "PELHAM BAY PARK",
          "ASTORIA PARK",
          "KISSENA PARK",
          "MOORE HOMESTEAD PLAYGROUND",
          "LUNA PARK",
          "PARADE GROUND",
          "ALLEY POND PARK",
          "AQUEDUCT WALK",
          "BAISLEY POND PARK",
          "CAPTAIN TILLY PARK",
          "DEVOE PARK",
          "INWOOD HILL PARK",
          "CUNNINGHAM PARK",
          "HERBERT VON KING PARK",
          "MARINE PARK",
          "BATTERY PARK",
          "RAINEY PARK BRONX",
          "GRACE PLAYGROUND",
          "PARK OF THE AMERICAS",
          "KELLY PARK",
          "ROY WILKINS RECREATION CENTER",
          "CHELSEA PARK",
          "WATSON GLEASON PLAYGROUND",
          "CALVERT VAUX PARK",
          "BROWER PARK",
          "STERNBERG PARK",
          "ST. ANDREW'S PLAYGROUND",
          "CARL SCHURZ PARK",
          "RICHMAN (ECHO) PARK",
          "BETSY HEAD PARK",
          "HARLEM RIVER PARK",
          "STARLIGHT PARK",
          "LINDEN PARK",
          "ASSER LEVY PLAYGROUND",
          "SETH LOW PLAYGROUND/ BEALIN SQUARE",
          "TRAVERS PARK",
          "COLEMAN PLAYGROUND",
          "FRANK D. O'CONNOR PLAYGROUND",
          "J.J. BYRNE PLAYGROUND",
          "DYKER BEACH PARK",
          "BRIDGE PARK BROOKLYN",
          "BUSHWICK PLAYGROUND ON KNICKERBOCKER AVENUE",
          "POE PARK",
          "MOSHOLU PARKWAY",
          "RED HOOK RECREATION AREA",
          "JUNIPER VALLEY PARK",
          "BENSONHURST PARK",
          "CLOVE LAKES PARK",
          "FULTON PARK",
          "CANARSIE PARK",
          "COLUMBUS PARK AT MANHATTAN",
          "BROOKVILLE PARK",
          "FORT WASHINGTON PARK",
          "LEIF ERICSON PARK",
          "BRONX RIVER PARKWAY",
          "CPL. THOMPSON PARK",
          "MCKINLEY PARK"
         ],
         "y": [
          17,
          5,
          1,
          9,
          2,
          7,
          4,
          8,
          0,
          2,
          2,
          0,
          0,
          0,
          1,
          0,
          0,
          1,
          2,
          0,
          0,
          3,
          1,
          6,
          0,
          0,
          0,
          0,
          0,
          0,
          1,
          3,
          1,
          0,
          1,
          0,
          0,
          0,
          0,
          0,
          0,
          0,
          0,
          1,
          0,
          0,
          0,
          2,
          0,
          0,
          0,
          0,
          0,
          0,
          0,
          0,
          1,
          0,
          0,
          0,
          0,
          0,
          0,
          0,
          0,
          0,
          0,
          0,
          0,
          0,
          0,
          0,
          1,
          0,
          0,
          0,
          0,
          0,
          0,
          0,
          0,
          1,
          0,
          0,
          0,
          1,
          0,
          0,
          0,
          0,
          0,
          0,
          1,
          0,
          0,
          0,
          0,
          0,
          0,
          0
         ]
        },
        {
         "marker": {
          "color": "rgba(0, 128, 128, 0.6)",
          "line": {
           "color": "rgba(0, 128, 128, 1.0)",
           "width": 1
          }
         },
         "name": "GRAND_LARCENY",
         "orientation": "v",
         "text": "",
         "type": "bar",
         "uid": "ad994d26-fdc9-4426-a71f-7a315067377b",
         "x": [
          "FLUSHING MEADOWS CORONA PARK",
          "RANDALL'S ISLAND PARK",
          "CONEY ISLAND BEACH & BOARDWALK",
          "RIVERSIDE PARK",
          "PROSPECT PARK",
          "UNION SQUARE PARK",
          "CROTONA PARK",
          "BRYANT PARK",
          "WASHINGTON SQUARE PARK",
          "BROOKLYN BRIDGE PARK",
          "ROCKAWAY BEACH AND BOARDWALK",
          "SARA D. ROOSEVELT PARK",
          "BRONX PARK",
          "CLAREMONT PARK",
          "HIGHBRIDGE PARK MANHATTAN SIDE",
          "MCCARREN PARK",
          "MARCUS GARVEY PARK",
          "SUNSET PARK",
          "ST. MARY'S PARK BRONX",
          "ST. NICHOLAS PARK",
          "MACOMBS DAM PARK",
          "MORNINGSIDE PARK",
          "WILLIAMSBRIDGE OVAL",
          "VAN CORTLANDT PARK",
          "TOMPKINS SQUARE PARK",
          "HIGHLAND PARK",
          "MULLALY PARK",
          "MARIA HERNANDEZ PARK",
          "EAST RIVER PARK",
          "ST. JAMES PARK",
          "JOYCE KILMER PARK",
          "FOREST PARK",
          "FORT GREENE PARK",
          "LINCOLN TERRACE / ARTHUR S. SOMERS PARK",
          "RUFUS KING PARK",
          "JACKIE ROBINSON PARK MANHATTAN",
          "KISSENA CORRIDOR PARK",
          "FORT TRYON PARK",
          "ST. JOHN'S RECREATION CENTER",
          "MADISON SQUARE PARK",
          "SOUNDVIEW PARK",
          "FRANZ SIGEL PARK",
          "THOMAS JEFFERSON PARK",
          "PELHAM BAY PARK",
          "ASTORIA PARK",
          "KISSENA PARK",
          "MOORE HOMESTEAD PLAYGROUND",
          "LUNA PARK",
          "PARADE GROUND",
          "ALLEY POND PARK",
          "AQUEDUCT WALK",
          "BAISLEY POND PARK",
          "CAPTAIN TILLY PARK",
          "DEVOE PARK",
          "INWOOD HILL PARK",
          "CUNNINGHAM PARK",
          "HERBERT VON KING PARK",
          "MARINE PARK",
          "BATTERY PARK",
          "RAINEY PARK BRONX",
          "GRACE PLAYGROUND",
          "PARK OF THE AMERICAS",
          "KELLY PARK",
          "ROY WILKINS RECREATION CENTER",
          "CHELSEA PARK",
          "WATSON GLEASON PLAYGROUND",
          "CALVERT VAUX PARK",
          "BROWER PARK",
          "STERNBERG PARK",
          "ST. ANDREW'S PLAYGROUND",
          "CARL SCHURZ PARK",
          "RICHMAN (ECHO) PARK",
          "BETSY HEAD PARK",
          "HARLEM RIVER PARK",
          "STARLIGHT PARK",
          "LINDEN PARK",
          "ASSER LEVY PLAYGROUND",
          "SETH LOW PLAYGROUND/ BEALIN SQUARE",
          "TRAVERS PARK",
          "COLEMAN PLAYGROUND",
          "FRANK D. O'CONNOR PLAYGROUND",
          "J.J. BYRNE PLAYGROUND",
          "DYKER BEACH PARK",
          "BRIDGE PARK BROOKLYN",
          "BUSHWICK PLAYGROUND ON KNICKERBOCKER AVENUE",
          "POE PARK",
          "MOSHOLU PARKWAY",
          "RED HOOK RECREATION AREA",
          "JUNIPER VALLEY PARK",
          "BENSONHURST PARK",
          "CLOVE LAKES PARK",
          "FULTON PARK",
          "CANARSIE PARK",
          "COLUMBUS PARK AT MANHATTAN",
          "BROOKVILLE PARK",
          "FORT WASHINGTON PARK",
          "LEIF ERICSON PARK",
          "BRONX RIVER PARKWAY",
          "CPL. THOMPSON PARK",
          "MCKINLEY PARK"
         ],
         "y": [
          173,
          203,
          128,
          107,
          73,
          97,
          34,
          83,
          69,
          70,
          56,
          44,
          19,
          10,
          15,
          50,
          15,
          21,
          14,
          11,
          36,
          16,
          8,
          18,
          35,
          13,
          11,
          12,
          32,
          8,
          5,
          13,
          14,
          9,
          9,
          8,
          9,
          10,
          8,
          22,
          12,
          1,
          15,
          10,
          10,
          11,
          5,
          11,
          13,
          20,
          6,
          6,
          0,
          3,
          3,
          17,
          13,
          11,
          12,
          1,
          4,
          4,
          0,
          11,
          18,
          7,
          10,
          9,
          3,
          0,
          4,
          1,
          1,
          4,
          3,
          5,
          6,
          5,
          4,
          9,
          4,
          8,
          6,
          9,
          4,
          3,
          2,
          5,
          4,
          4,
          0,
          4,
          2,
          7,
          3,
          1,
          5,
          1,
          3,
          4
         ]
        },
        {
         "marker": {
          "color": "rgba(255, 255, 51, 0.6)",
          "line": {
           "color": "rgba(255, 255, 51, 1.0)",
           "width": 1
          }
         },
         "name": "GRAND_LARCENY_OF_MOTOR_VEHICLE",
         "orientation": "v",
         "text": "",
         "type": "bar",
         "uid": "506b6077-7630-4abb-a843-9d65393ba6ce",
         "x": [
          "FLUSHING MEADOWS CORONA PARK",
          "RANDALL'S ISLAND PARK",
          "CONEY ISLAND BEACH & BOARDWALK",
          "RIVERSIDE PARK",
          "PROSPECT PARK",
          "UNION SQUARE PARK",
          "CROTONA PARK",
          "BRYANT PARK",
          "WASHINGTON SQUARE PARK",
          "BROOKLYN BRIDGE PARK",
          "ROCKAWAY BEACH AND BOARDWALK",
          "SARA D. ROOSEVELT PARK",
          "BRONX PARK",
          "CLAREMONT PARK",
          "HIGHBRIDGE PARK MANHATTAN SIDE",
          "MCCARREN PARK",
          "MARCUS GARVEY PARK",
          "SUNSET PARK",
          "ST. MARY'S PARK BRONX",
          "ST. NICHOLAS PARK",
          "MACOMBS DAM PARK",
          "MORNINGSIDE PARK",
          "WILLIAMSBRIDGE OVAL",
          "VAN CORTLANDT PARK",
          "TOMPKINS SQUARE PARK",
          "HIGHLAND PARK",
          "MULLALY PARK",
          "MARIA HERNANDEZ PARK",
          "EAST RIVER PARK",
          "ST. JAMES PARK",
          "JOYCE KILMER PARK",
          "FOREST PARK",
          "FORT GREENE PARK",
          "LINCOLN TERRACE / ARTHUR S. SOMERS PARK",
          "RUFUS KING PARK",
          "JACKIE ROBINSON PARK MANHATTAN",
          "KISSENA CORRIDOR PARK",
          "FORT TRYON PARK",
          "ST. JOHN'S RECREATION CENTER",
          "MADISON SQUARE PARK",
          "SOUNDVIEW PARK",
          "FRANZ SIGEL PARK",
          "THOMAS JEFFERSON PARK",
          "PELHAM BAY PARK",
          "ASTORIA PARK",
          "KISSENA PARK",
          "MOORE HOMESTEAD PLAYGROUND",
          "LUNA PARK",
          "PARADE GROUND",
          "ALLEY POND PARK",
          "AQUEDUCT WALK",
          "BAISLEY POND PARK",
          "CAPTAIN TILLY PARK",
          "DEVOE PARK",
          "INWOOD HILL PARK",
          "CUNNINGHAM PARK",
          "HERBERT VON KING PARK",
          "MARINE PARK",
          "BATTERY PARK",
          "RAINEY PARK BRONX",
          "GRACE PLAYGROUND",
          "PARK OF THE AMERICAS",
          "KELLY PARK",
          "ROY WILKINS RECREATION CENTER",
          "CHELSEA PARK",
          "WATSON GLEASON PLAYGROUND",
          "CALVERT VAUX PARK",
          "BROWER PARK",
          "STERNBERG PARK",
          "ST. ANDREW'S PLAYGROUND",
          "CARL SCHURZ PARK",
          "RICHMAN (ECHO) PARK",
          "BETSY HEAD PARK",
          "HARLEM RIVER PARK",
          "STARLIGHT PARK",
          "LINDEN PARK",
          "ASSER LEVY PLAYGROUND",
          "SETH LOW PLAYGROUND/ BEALIN SQUARE",
          "TRAVERS PARK",
          "COLEMAN PLAYGROUND",
          "FRANK D. O'CONNOR PLAYGROUND",
          "J.J. BYRNE PLAYGROUND",
          "DYKER BEACH PARK",
          "BRIDGE PARK BROOKLYN",
          "BUSHWICK PLAYGROUND ON KNICKERBOCKER AVENUE",
          "POE PARK",
          "MOSHOLU PARKWAY",
          "RED HOOK RECREATION AREA",
          "JUNIPER VALLEY PARK",
          "BENSONHURST PARK",
          "CLOVE LAKES PARK",
          "FULTON PARK",
          "CANARSIE PARK",
          "COLUMBUS PARK AT MANHATTAN",
          "BROOKVILLE PARK",
          "FORT WASHINGTON PARK",
          "LEIF ERICSON PARK",
          "BRONX RIVER PARKWAY",
          "CPL. THOMPSON PARK",
          "MCKINLEY PARK"
         ],
         "y": [
          15,
          0,
          0,
          0,
          0,
          1,
          4,
          0,
          0,
          0,
          0,
          1,
          0,
          0,
          0,
          0,
          0,
          0,
          0,
          0,
          0,
          0,
          0,
          0,
          0,
          2,
          0,
          0,
          0,
          0,
          0,
          0,
          0,
          0,
          0,
          0,
          0,
          0,
          0,
          0,
          0,
          0,
          0,
          1,
          1,
          0,
          0,
          0,
          0,
          0,
          0,
          0,
          0,
          0,
          0,
          0,
          0,
          1,
          0,
          0,
          0,
          0,
          0,
          0,
          0,
          0,
          0,
          0,
          0,
          0,
          0,
          0,
          0,
          0,
          0,
          0,
          0,
          0,
          0,
          0,
          0,
          0,
          0,
          0,
          0,
          0,
          0,
          0,
          0,
          0,
          0,
          0,
          1,
          0,
          0,
          0,
          0,
          0,
          0,
          0
         ]
        },
        {
         "marker": {
          "color": "rgba(128, 128, 0, 0.6)",
          "line": {
           "color": "rgba(128, 128, 0, 1.0)",
           "width": 1
          }
         },
         "name": "TOTAL",
         "orientation": "v",
         "text": "",
         "type": "bar",
         "uid": "d823a1ea-e3b3-4590-bf47-67c420621636",
         "x": [
          "FLUSHING MEADOWS CORONA PARK",
          "RANDALL'S ISLAND PARK",
          "CONEY ISLAND BEACH & BOARDWALK",
          "RIVERSIDE PARK",
          "PROSPECT PARK",
          "UNION SQUARE PARK",
          "CROTONA PARK",
          "BRYANT PARK",
          "WASHINGTON SQUARE PARK",
          "BROOKLYN BRIDGE PARK",
          "ROCKAWAY BEACH AND BOARDWALK",
          "SARA D. ROOSEVELT PARK",
          "BRONX PARK",
          "CLAREMONT PARK",
          "HIGHBRIDGE PARK MANHATTAN SIDE",
          "MCCARREN PARK",
          "MARCUS GARVEY PARK",
          "SUNSET PARK",
          "ST. MARY'S PARK BRONX",
          "ST. NICHOLAS PARK",
          "MACOMBS DAM PARK",
          "MORNINGSIDE PARK",
          "WILLIAMSBRIDGE OVAL",
          "VAN CORTLANDT PARK",
          "TOMPKINS SQUARE PARK",
          "HIGHLAND PARK",
          "MULLALY PARK",
          "MARIA HERNANDEZ PARK",
          "EAST RIVER PARK",
          "ST. JAMES PARK",
          "JOYCE KILMER PARK",
          "FOREST PARK",
          "FORT GREENE PARK",
          "LINCOLN TERRACE / ARTHUR S. SOMERS PARK",
          "RUFUS KING PARK",
          "JACKIE ROBINSON PARK MANHATTAN",
          "KISSENA CORRIDOR PARK",
          "FORT TRYON PARK",
          "ST. JOHN'S RECREATION CENTER",
          "MADISON SQUARE PARK",
          "SOUNDVIEW PARK",
          "FRANZ SIGEL PARK",
          "THOMAS JEFFERSON PARK",
          "PELHAM BAY PARK",
          "ASTORIA PARK",
          "KISSENA PARK",
          "MOORE HOMESTEAD PLAYGROUND",
          "LUNA PARK",
          "PARADE GROUND",
          "ALLEY POND PARK",
          "AQUEDUCT WALK",
          "BAISLEY POND PARK",
          "CAPTAIN TILLY PARK",
          "DEVOE PARK",
          "INWOOD HILL PARK",
          "CUNNINGHAM PARK",
          "HERBERT VON KING PARK",
          "MARINE PARK",
          "BATTERY PARK",
          "RAINEY PARK BRONX",
          "GRACE PLAYGROUND",
          "PARK OF THE AMERICAS",
          "KELLY PARK",
          "ROY WILKINS RECREATION CENTER",
          "CHELSEA PARK",
          "WATSON GLEASON PLAYGROUND",
          "CALVERT VAUX PARK",
          "BROWER PARK",
          "STERNBERG PARK",
          "ST. ANDREW'S PLAYGROUND",
          "CARL SCHURZ PARK",
          "RICHMAN (ECHO) PARK",
          "BETSY HEAD PARK",
          "HARLEM RIVER PARK",
          "STARLIGHT PARK",
          "LINDEN PARK",
          "ASSER LEVY PLAYGROUND",
          "SETH LOW PLAYGROUND/ BEALIN SQUARE",
          "TRAVERS PARK",
          "COLEMAN PLAYGROUND",
          "FRANK D. O'CONNOR PLAYGROUND",
          "J.J. BYRNE PLAYGROUND",
          "DYKER BEACH PARK",
          "BRIDGE PARK BROOKLYN",
          "BUSHWICK PLAYGROUND ON KNICKERBOCKER AVENUE",
          "POE PARK",
          "MOSHOLU PARKWAY",
          "RED HOOK RECREATION AREA",
          "JUNIPER VALLEY PARK",
          "BENSONHURST PARK",
          "CLOVE LAKES PARK",
          "FULTON PARK",
          "CANARSIE PARK",
          "COLUMBUS PARK AT MANHATTAN",
          "BROOKVILLE PARK",
          "FORT WASHINGTON PARK",
          "LEIF ERICSON PARK",
          "BRONX RIVER PARKWAY",
          "CPL. THOMPSON PARK",
          "MCKINLEY PARK"
         ],
         "y": [
          287,
          217,
          198,
          178,
          163,
          140,
          127,
          95,
          89,
          82,
          80,
          74,
          73,
          72,
          71,
          68,
          67,
          67,
          65,
          64,
          61,
          58,
          56,
          55,
          53,
          50,
          48,
          45,
          42,
          40,
          39,
          37,
          37,
          34,
          34,
          33,
          33,
          31,
          31,
          30,
          29,
          29,
          29,
          28,
          27,
          26,
          25,
          24,
          24,
          23,
          23,
          23,
          22,
          22,
          21,
          21,
          21,
          21,
          21,
          20,
          20,
          19,
          19,
          19,
          19,
          18,
          18,
          18,
          17,
          15,
          15,
          15,
          15,
          14,
          14,
          14,
          14,
          13,
          13,
          13,
          13,
          13,
          12,
          12,
          12,
          11,
          11,
          11,
          11,
          11,
          11,
          11,
          11,
          10,
          10,
          10,
          10,
          10,
          10,
          10
         ]
        }
       ],
       "layout": {
        "barmode": "stack",
        "legend": {
         "bgcolor": "#F5F6F9",
         "font": {
          "color": "#4D5663"
         },
         "traceorder": "normal"
        },
        "paper_bgcolor": "#F5F6F9",
        "plot_bgcolor": "#F5F6F9",
        "title": {
         "font": {
          "color": "#4D5663"
         },
         "text": "Crimes in NYC Parks by Parks"
        },
        "xaxis": {
         "gridcolor": "#E1E5ED",
         "showgrid": true,
         "tickfont": {
          "color": "#4D5663"
         },
         "title": {
          "font": {
           "color": "#4D5663"
          },
          "text": "Park"
         },
         "zerolinecolor": "#E1E5ED"
        },
        "yaxis": {
         "gridcolor": "#E1E5ED",
         "showgrid": true,
         "tickfont": {
          "color": "#4D5663"
         },
         "title": {
          "font": {
           "color": "#4D5663"
          },
          "text": "No of Crimes"
         },
         "zerolinecolor": "#E1E5ED"
        }
       }
      },
      "text/html": [
       "<div>\n",
       "        \n",
       "        \n",
       "            <div id=\"1ee11a5e-ed5d-48df-95d0-ea24464ccd55\" class=\"plotly-graph-div\" style=\"height:525px; width:100%;\"></div>\n",
       "            <script type=\"text/javascript\">\n",
       "                require([\"plotly\"], function(Plotly) {\n",
       "                    window.PLOTLYENV=window.PLOTLYENV || {};\n",
       "                    window.PLOTLYENV.BASE_URL='https://plot.ly';\n",
       "                    \n",
       "                if (document.getElementById(\"1ee11a5e-ed5d-48df-95d0-ea24464ccd55\")) {\n",
       "                    Plotly.newPlot(\n",
       "                        '1ee11a5e-ed5d-48df-95d0-ea24464ccd55',\n",
       "                        [{\"marker\": {\"color\": \"rgba(255, 153, 51, 0.6)\", \"line\": {\"color\": \"rgba(255, 153, 51, 1.0)\", \"width\": 1}}, \"name\": \"RAPE\", \"orientation\": \"v\", \"text\": \"\", \"type\": \"bar\", \"uid\": \"37a537e9-14a8-42c6-b253-e39f18fc7b4b\", \"x\": [\"FLUSHING MEADOWS CORONA PARK\", \"RANDALL'S ISLAND PARK\", \"CONEY ISLAND BEACH & BOARDWALK\", \"RIVERSIDE PARK\", \"PROSPECT PARK\", \"UNION SQUARE PARK\", \"CROTONA PARK\", \"BRYANT PARK\", \"WASHINGTON SQUARE PARK\", \"BROOKLYN BRIDGE PARK\", \"ROCKAWAY BEACH AND BOARDWALK\", \"SARA D. ROOSEVELT PARK\", \"BRONX PARK\", \"CLAREMONT PARK\", \"HIGHBRIDGE PARK MANHATTAN SIDE\", \"MCCARREN PARK\", \"MARCUS GARVEY PARK\", \"SUNSET PARK\", \"ST. MARY'S PARK BRONX\", \"ST. NICHOLAS PARK\", \"MACOMBS DAM PARK\", \"MORNINGSIDE PARK\", \"WILLIAMSBRIDGE OVAL\", \"VAN CORTLANDT PARK\", \"TOMPKINS SQUARE PARK\", \"HIGHLAND PARK\", \"MULLALY PARK\", \"MARIA HERNANDEZ PARK\", \"EAST RIVER PARK\", \"ST. JAMES PARK\", \"JOYCE KILMER PARK\", \"FOREST PARK\", \"FORT GREENE PARK\", \"LINCOLN TERRACE / ARTHUR S. SOMERS PARK\", \"RUFUS KING PARK\", \"JACKIE ROBINSON PARK MANHATTAN\", \"KISSENA CORRIDOR PARK\", \"FORT TRYON PARK\", \"ST. JOHN'S RECREATION CENTER\", \"MADISON SQUARE PARK\", \"SOUNDVIEW PARK\", \"FRANZ SIGEL PARK\", \"THOMAS JEFFERSON PARK\", \"PELHAM BAY PARK\", \"ASTORIA PARK\", \"KISSENA PARK\", \"MOORE HOMESTEAD PLAYGROUND\", \"LUNA PARK\", \"PARADE GROUND\", \"ALLEY POND PARK\", \"AQUEDUCT WALK\", \"BAISLEY POND PARK\", \"CAPTAIN TILLY PARK\", \"DEVOE PARK\", \"INWOOD HILL PARK\", \"CUNNINGHAM PARK\", \"HERBERT VON KING PARK\", \"MARINE PARK\", \"BATTERY PARK\", \"RAINEY PARK BRONX\", \"GRACE PLAYGROUND\", \"PARK OF THE AMERICAS\", \"KELLY PARK\", \"ROY WILKINS RECREATION CENTER\", \"CHELSEA PARK\", \"WATSON GLEASON PLAYGROUND\", \"CALVERT VAUX PARK\", \"BROWER PARK\", \"STERNBERG PARK\", \"ST. ANDREW'S PLAYGROUND\", \"CARL SCHURZ PARK\", \"RICHMAN (ECHO) PARK\", \"BETSY HEAD PARK\", \"HARLEM RIVER PARK\", \"STARLIGHT PARK\", \"LINDEN PARK\", \"ASSER LEVY PLAYGROUND\", \"SETH LOW PLAYGROUND/ BEALIN SQUARE\", \"TRAVERS PARK\", \"COLEMAN PLAYGROUND\", \"FRANK D. O'CONNOR PLAYGROUND\", \"J.J. BYRNE PLAYGROUND\", \"DYKER BEACH PARK\", \"BRIDGE PARK BROOKLYN\", \"BUSHWICK PLAYGROUND ON KNICKERBOCKER AVENUE\", \"POE PARK\", \"MOSHOLU PARKWAY\", \"RED HOOK RECREATION AREA\", \"JUNIPER VALLEY PARK\", \"BENSONHURST PARK\", \"CLOVE LAKES PARK\", \"FULTON PARK\", \"CANARSIE PARK\", \"COLUMBUS PARK AT MANHATTAN\", \"BROOKVILLE PARK\", \"FORT WASHINGTON PARK\", \"LEIF ERICSON PARK\", \"BRONX RIVER PARKWAY\", \"CPL. THOMPSON PARK\", \"MCKINLEY PARK\"], \"y\": [4, 0, 6, 5, 7, 1, 2, 0, 1, 0, 2, 0, 3, 0, 1, 2, 2, 0, 1, 2, 0, 0, 0, 2, 1, 0, 0, 1, 2, 0, 1, 1, 2, 1, 3, 0, 1, 1, 1, 0, 3, 0, 0, 2, 0, 0, 0, 0, 0, 0, 0, 0, 1, 0, 0, 0, 0, 0, 1, 0, 0, 0, 0, 0, 0, 0, 1, 0, 0, 1, 0, 1, 1, 0, 0, 1, 0, 0, 0, 0, 1, 0, 1, 0, 0, 0, 0, 1, 0, 0, 1, 0, 1, 0, 0, 0, 0, 1, 0, 1]}, {\"marker\": {\"color\": \"rgba(55, 128, 191, 0.6)\", \"line\": {\"color\": \"rgba(55, 128, 191, 1.0)\", \"width\": 1}}, \"name\": \"MURDER\", \"orientation\": \"v\", \"text\": \"\", \"type\": \"bar\", \"uid\": \"117d02fd-d3ce-4b4e-aff2-b09ae8d86dd0\", \"x\": [\"FLUSHING MEADOWS CORONA PARK\", \"RANDALL'S ISLAND PARK\", \"CONEY ISLAND BEACH & BOARDWALK\", \"RIVERSIDE PARK\", \"PROSPECT PARK\", \"UNION SQUARE PARK\", \"CROTONA PARK\", \"BRYANT PARK\", \"WASHINGTON SQUARE PARK\", \"BROOKLYN BRIDGE PARK\", \"ROCKAWAY BEACH AND BOARDWALK\", \"SARA D. ROOSEVELT PARK\", \"BRONX PARK\", \"CLAREMONT PARK\", \"HIGHBRIDGE PARK MANHATTAN SIDE\", \"MCCARREN PARK\", \"MARCUS GARVEY PARK\", \"SUNSET PARK\", \"ST. MARY'S PARK BRONX\", \"ST. NICHOLAS PARK\", \"MACOMBS DAM PARK\", \"MORNINGSIDE PARK\", \"WILLIAMSBRIDGE OVAL\", \"VAN CORTLANDT PARK\", \"TOMPKINS SQUARE PARK\", \"HIGHLAND PARK\", \"MULLALY PARK\", \"MARIA HERNANDEZ PARK\", \"EAST RIVER PARK\", \"ST. JAMES PARK\", \"JOYCE KILMER PARK\", \"FOREST PARK\", \"FORT GREENE PARK\", \"LINCOLN TERRACE / ARTHUR S. SOMERS PARK\", \"RUFUS KING PARK\", \"JACKIE ROBINSON PARK MANHATTAN\", \"KISSENA CORRIDOR PARK\", \"FORT TRYON PARK\", \"ST. JOHN'S RECREATION CENTER\", \"MADISON SQUARE PARK\", \"SOUNDVIEW PARK\", \"FRANZ SIGEL PARK\", \"THOMAS JEFFERSON PARK\", \"PELHAM BAY PARK\", \"ASTORIA PARK\", \"KISSENA PARK\", \"MOORE HOMESTEAD PLAYGROUND\", \"LUNA PARK\", \"PARADE GROUND\", \"ALLEY POND PARK\", \"AQUEDUCT WALK\", \"BAISLEY POND PARK\", \"CAPTAIN TILLY PARK\", \"DEVOE PARK\", \"INWOOD HILL PARK\", \"CUNNINGHAM PARK\", \"HERBERT VON KING PARK\", \"MARINE PARK\", \"BATTERY PARK\", \"RAINEY PARK BRONX\", \"GRACE PLAYGROUND\", \"PARK OF THE AMERICAS\", \"KELLY PARK\", \"ROY WILKINS RECREATION CENTER\", \"CHELSEA PARK\", \"WATSON GLEASON PLAYGROUND\", \"CALVERT VAUX PARK\", \"BROWER PARK\", \"STERNBERG PARK\", \"ST. ANDREW'S PLAYGROUND\", \"CARL SCHURZ PARK\", \"RICHMAN (ECHO) PARK\", \"BETSY HEAD PARK\", \"HARLEM RIVER PARK\", \"STARLIGHT PARK\", \"LINDEN PARK\", \"ASSER LEVY PLAYGROUND\", \"SETH LOW PLAYGROUND/ BEALIN SQUARE\", \"TRAVERS PARK\", \"COLEMAN PLAYGROUND\", \"FRANK D. O'CONNOR PLAYGROUND\", \"J.J. BYRNE PLAYGROUND\", \"DYKER BEACH PARK\", \"BRIDGE PARK BROOKLYN\", \"BUSHWICK PLAYGROUND ON KNICKERBOCKER AVENUE\", \"POE PARK\", \"MOSHOLU PARKWAY\", \"RED HOOK RECREATION AREA\", \"JUNIPER VALLEY PARK\", \"BENSONHURST PARK\", \"CLOVE LAKES PARK\", \"FULTON PARK\", \"CANARSIE PARK\", \"COLUMBUS PARK AT MANHATTAN\", \"BROOKVILLE PARK\", \"FORT WASHINGTON PARK\", \"LEIF ERICSON PARK\", \"BRONX RIVER PARKWAY\", \"CPL. THOMPSON PARK\", \"MCKINLEY PARK\"], \"y\": [0, 0, 0, 0, 0, 0, 0, 0, 0, 0, 0, 1, 1, 1, 1, 0, 0, 0, 1, 0, 1, 0, 0, 0, 0, 0, 0, 0, 0, 1, 0, 1, 0, 0, 0, 0, 1, 0, 0, 0, 2, 0, 0, 0, 1, 1, 0, 0, 0, 1, 0, 0, 0, 1, 0, 0, 1, 0, 0, 1, 0, 0, 0, 0, 0, 0, 0, 0, 0, 0, 0, 0, 0, 0, 0, 0, 0, 0, 0, 0, 0, 0, 0, 0, 0, 0, 0, 0, 0, 0, 0, 0, 1, 0, 0, 0, 0, 0, 0, 0]}, {\"marker\": {\"color\": \"rgba(50, 171, 96, 0.6)\", \"line\": {\"color\": \"rgba(50, 171, 96, 1.0)\", \"width\": 1}}, \"name\": \"ROBBERY\", \"orientation\": \"v\", \"text\": \"\", \"type\": \"bar\", \"uid\": \"b0fe0c81-5ccf-4dca-8d76-ff5025a38192\", \"x\": [\"FLUSHING MEADOWS CORONA PARK\", \"RANDALL'S ISLAND PARK\", \"CONEY ISLAND BEACH & BOARDWALK\", \"RIVERSIDE PARK\", \"PROSPECT PARK\", \"UNION SQUARE PARK\", \"CROTONA PARK\", \"BRYANT PARK\", \"WASHINGTON SQUARE PARK\", \"BROOKLYN BRIDGE PARK\", \"ROCKAWAY BEACH AND BOARDWALK\", \"SARA D. ROOSEVELT PARK\", \"BRONX PARK\", \"CLAREMONT PARK\", \"HIGHBRIDGE PARK MANHATTAN SIDE\", \"MCCARREN PARK\", \"MARCUS GARVEY PARK\", \"SUNSET PARK\", \"ST. MARY'S PARK BRONX\", \"ST. NICHOLAS PARK\", \"MACOMBS DAM PARK\", \"MORNINGSIDE PARK\", \"WILLIAMSBRIDGE OVAL\", \"VAN CORTLANDT PARK\", \"TOMPKINS SQUARE PARK\", \"HIGHLAND PARK\", \"MULLALY PARK\", \"MARIA HERNANDEZ PARK\", \"EAST RIVER PARK\", \"ST. JAMES PARK\", \"JOYCE KILMER PARK\", \"FOREST PARK\", \"FORT GREENE PARK\", \"LINCOLN TERRACE / ARTHUR S. SOMERS PARK\", \"RUFUS KING PARK\", \"JACKIE ROBINSON PARK MANHATTAN\", \"KISSENA CORRIDOR PARK\", \"FORT TRYON PARK\", \"ST. JOHN'S RECREATION CENTER\", \"MADISON SQUARE PARK\", \"SOUNDVIEW PARK\", \"FRANZ SIGEL PARK\", \"THOMAS JEFFERSON PARK\", \"PELHAM BAY PARK\", \"ASTORIA PARK\", \"KISSENA PARK\", \"MOORE HOMESTEAD PLAYGROUND\", \"LUNA PARK\", \"PARADE GROUND\", \"ALLEY POND PARK\", \"AQUEDUCT WALK\", \"BAISLEY POND PARK\", \"CAPTAIN TILLY PARK\", \"DEVOE PARK\", \"INWOOD HILL PARK\", \"CUNNINGHAM PARK\", \"HERBERT VON KING PARK\", \"MARINE PARK\", \"BATTERY PARK\", \"RAINEY PARK BRONX\", \"GRACE PLAYGROUND\", \"PARK OF THE AMERICAS\", \"KELLY PARK\", \"ROY WILKINS RECREATION CENTER\", \"CHELSEA PARK\", \"WATSON GLEASON PLAYGROUND\", \"CALVERT VAUX PARK\", \"BROWER PARK\", \"STERNBERG PARK\", \"ST. ANDREW'S PLAYGROUND\", \"CARL SCHURZ PARK\", \"RICHMAN (ECHO) PARK\", \"BETSY HEAD PARK\", \"HARLEM RIVER PARK\", \"STARLIGHT PARK\", \"LINDEN PARK\", \"ASSER LEVY PLAYGROUND\", \"SETH LOW PLAYGROUND/ BEALIN SQUARE\", \"TRAVERS PARK\", \"COLEMAN PLAYGROUND\", \"FRANK D. O'CONNOR PLAYGROUND\", \"J.J. BYRNE PLAYGROUND\", \"DYKER BEACH PARK\", \"BRIDGE PARK BROOKLYN\", \"BUSHWICK PLAYGROUND ON KNICKERBOCKER AVENUE\", \"POE PARK\", \"MOSHOLU PARKWAY\", \"RED HOOK RECREATION AREA\", \"JUNIPER VALLEY PARK\", \"BENSONHURST PARK\", \"CLOVE LAKES PARK\", \"FULTON PARK\", \"CANARSIE PARK\", \"COLUMBUS PARK AT MANHATTAN\", \"BROOKVILLE PARK\", \"FORT WASHINGTON PARK\", \"LEIF ERICSON PARK\", \"BRONX RIVER PARKWAY\", \"CPL. THOMPSON PARK\", \"MCKINLEY PARK\"], \"y\": [41, 3, 41, 47, 55, 11, 53, 2, 7, 8, 10, 10, 39, 41, 33, 11, 27, 25, 34, 37, 22, 35, 34, 14, 9, 24, 24, 15, 6, 13, 25, 13, 12, 17, 14, 20, 18, 19, 16, 6, 4, 18, 6, 9, 6, 9, 7, 1, 7, 2, 13, 13, 20, 8, 12, 3, 4, 9, 2, 7, 11, 11, 16, 6, 1, 9, 6, 4, 6, 6, 10, 7, 8, 5, 7, 3, 4, 6, 6, 4, 5, 2, 3, 3, 5, 4, 9, 2, 4, 6, 10, 5, 4, 1, 5, 5, 2, 6, 2, 3]}, {\"marker\": {\"color\": \"rgba(128, 0, 128, 0.6)\", \"line\": {\"color\": \"rgba(128, 0, 128, 1.0)\", \"width\": 1}}, \"name\": \"FELONY_ASSAULT\", \"orientation\": \"v\", \"text\": \"\", \"type\": \"bar\", \"uid\": \"0bec3f5e-a578-47db-ad0e-23391a279058\", \"x\": [\"FLUSHING MEADOWS CORONA PARK\", \"RANDALL'S ISLAND PARK\", \"CONEY ISLAND BEACH & BOARDWALK\", \"RIVERSIDE PARK\", \"PROSPECT PARK\", \"UNION SQUARE PARK\", \"CROTONA PARK\", \"BRYANT PARK\", \"WASHINGTON SQUARE PARK\", \"BROOKLYN BRIDGE PARK\", \"ROCKAWAY BEACH AND BOARDWALK\", \"SARA D. ROOSEVELT PARK\", \"BRONX PARK\", \"CLAREMONT PARK\", \"HIGHBRIDGE PARK MANHATTAN SIDE\", \"MCCARREN PARK\", \"MARCUS GARVEY PARK\", \"SUNSET PARK\", \"ST. MARY'S PARK BRONX\", \"ST. NICHOLAS PARK\", \"MACOMBS DAM PARK\", \"MORNINGSIDE PARK\", \"WILLIAMSBRIDGE OVAL\", \"VAN CORTLANDT PARK\", \"TOMPKINS SQUARE PARK\", \"HIGHLAND PARK\", \"MULLALY PARK\", \"MARIA HERNANDEZ PARK\", \"EAST RIVER PARK\", \"ST. JAMES PARK\", \"JOYCE KILMER PARK\", \"FOREST PARK\", \"FORT GREENE PARK\", \"LINCOLN TERRACE / ARTHUR S. SOMERS PARK\", \"RUFUS KING PARK\", \"JACKIE ROBINSON PARK MANHATTAN\", \"KISSENA CORRIDOR PARK\", \"FORT TRYON PARK\", \"ST. JOHN'S RECREATION CENTER\", \"MADISON SQUARE PARK\", \"SOUNDVIEW PARK\", \"FRANZ SIGEL PARK\", \"THOMAS JEFFERSON PARK\", \"PELHAM BAY PARK\", \"ASTORIA PARK\", \"KISSENA PARK\", \"MOORE HOMESTEAD PLAYGROUND\", \"LUNA PARK\", \"PARADE GROUND\", \"ALLEY POND PARK\", \"AQUEDUCT WALK\", \"BAISLEY POND PARK\", \"CAPTAIN TILLY PARK\", \"DEVOE PARK\", \"INWOOD HILL PARK\", \"CUNNINGHAM PARK\", \"HERBERT VON KING PARK\", \"MARINE PARK\", \"BATTERY PARK\", \"RAINEY PARK BRONX\", \"GRACE PLAYGROUND\", \"PARK OF THE AMERICAS\", \"KELLY PARK\", \"ROY WILKINS RECREATION CENTER\", \"CHELSEA PARK\", \"WATSON GLEASON PLAYGROUND\", \"CALVERT VAUX PARK\", \"BROWER PARK\", \"STERNBERG PARK\", \"ST. ANDREW'S PLAYGROUND\", \"CARL SCHURZ PARK\", \"RICHMAN (ECHO) PARK\", \"BETSY HEAD PARK\", \"HARLEM RIVER PARK\", \"STARLIGHT PARK\", \"LINDEN PARK\", \"ASSER LEVY PLAYGROUND\", \"SETH LOW PLAYGROUND/ BEALIN SQUARE\", \"TRAVERS PARK\", \"COLEMAN PLAYGROUND\", \"FRANK D. O'CONNOR PLAYGROUND\", \"J.J. BYRNE PLAYGROUND\", \"DYKER BEACH PARK\", \"BRIDGE PARK BROOKLYN\", \"BUSHWICK PLAYGROUND ON KNICKERBOCKER AVENUE\", \"POE PARK\", \"MOSHOLU PARKWAY\", \"RED HOOK RECREATION AREA\", \"JUNIPER VALLEY PARK\", \"BENSONHURST PARK\", \"CLOVE LAKES PARK\", \"FULTON PARK\", \"CANARSIE PARK\", \"COLUMBUS PARK AT MANHATTAN\", \"BROOKVILLE PARK\", \"FORT WASHINGTON PARK\", \"LEIF ERICSON PARK\", \"BRONX RIVER PARKWAY\", \"CPL. THOMPSON PARK\", \"MCKINLEY PARK\"], \"y\": [37, 6, 22, 10, 26, 23, 30, 2, 12, 2, 10, 18, 11, 20, 20, 5, 23, 20, 13, 14, 2, 4, 13, 15, 8, 11, 13, 17, 2, 18, 7, 6, 8, 7, 7, 5, 4, 1, 6, 2, 8, 10, 8, 5, 9, 5, 13, 10, 4, 0, 4, 4, 1, 10, 6, 1, 2, 0, 6, 11, 5, 4, 3, 2, 0, 2, 1, 5, 8, 8, 1, 6, 4, 5, 4, 5, 4, 2, 3, 0, 3, 2, 2, 0, 3, 3, 0, 3, 3, 1, 0, 2, 1, 2, 2, 4, 3, 2, 5, 2]}, {\"marker\": {\"color\": \"rgba(219, 64, 82, 0.6)\", \"line\": {\"color\": \"rgba(219, 64, 82, 1.0)\", \"width\": 1}}, \"name\": \"BURGLARY\", \"orientation\": \"v\", \"text\": \"\", \"type\": \"bar\", \"uid\": \"dd18b00b-bdfa-47d8-858a-88af6c1b271f\", \"x\": [\"FLUSHING MEADOWS CORONA PARK\", \"RANDALL'S ISLAND PARK\", \"CONEY ISLAND BEACH & BOARDWALK\", \"RIVERSIDE PARK\", \"PROSPECT PARK\", \"UNION SQUARE PARK\", \"CROTONA PARK\", \"BRYANT PARK\", \"WASHINGTON SQUARE PARK\", \"BROOKLYN BRIDGE PARK\", \"ROCKAWAY BEACH AND BOARDWALK\", \"SARA D. ROOSEVELT PARK\", \"BRONX PARK\", \"CLAREMONT PARK\", \"HIGHBRIDGE PARK MANHATTAN SIDE\", \"MCCARREN PARK\", \"MARCUS GARVEY PARK\", \"SUNSET PARK\", \"ST. MARY'S PARK BRONX\", \"ST. NICHOLAS PARK\", \"MACOMBS DAM PARK\", \"MORNINGSIDE PARK\", \"WILLIAMSBRIDGE OVAL\", \"VAN CORTLANDT PARK\", \"TOMPKINS SQUARE PARK\", \"HIGHLAND PARK\", \"MULLALY PARK\", \"MARIA HERNANDEZ PARK\", \"EAST RIVER PARK\", \"ST. JAMES PARK\", \"JOYCE KILMER PARK\", \"FOREST PARK\", \"FORT GREENE PARK\", \"LINCOLN TERRACE / ARTHUR S. SOMERS PARK\", \"RUFUS KING PARK\", \"JACKIE ROBINSON PARK MANHATTAN\", \"KISSENA CORRIDOR PARK\", \"FORT TRYON PARK\", \"ST. JOHN'S RECREATION CENTER\", \"MADISON SQUARE PARK\", \"SOUNDVIEW PARK\", \"FRANZ SIGEL PARK\", \"THOMAS JEFFERSON PARK\", \"PELHAM BAY PARK\", \"ASTORIA PARK\", \"KISSENA PARK\", \"MOORE HOMESTEAD PLAYGROUND\", \"LUNA PARK\", \"PARADE GROUND\", \"ALLEY POND PARK\", \"AQUEDUCT WALK\", \"BAISLEY POND PARK\", \"CAPTAIN TILLY PARK\", \"DEVOE PARK\", \"INWOOD HILL PARK\", \"CUNNINGHAM PARK\", \"HERBERT VON KING PARK\", \"MARINE PARK\", \"BATTERY PARK\", \"RAINEY PARK BRONX\", \"GRACE PLAYGROUND\", \"PARK OF THE AMERICAS\", \"KELLY PARK\", \"ROY WILKINS RECREATION CENTER\", \"CHELSEA PARK\", \"WATSON GLEASON PLAYGROUND\", \"CALVERT VAUX PARK\", \"BROWER PARK\", \"STERNBERG PARK\", \"ST. ANDREW'S PLAYGROUND\", \"CARL SCHURZ PARK\", \"RICHMAN (ECHO) PARK\", \"BETSY HEAD PARK\", \"HARLEM RIVER PARK\", \"STARLIGHT PARK\", \"LINDEN PARK\", \"ASSER LEVY PLAYGROUND\", \"SETH LOW PLAYGROUND/ BEALIN SQUARE\", \"TRAVERS PARK\", \"COLEMAN PLAYGROUND\", \"FRANK D. O'CONNOR PLAYGROUND\", \"J.J. BYRNE PLAYGROUND\", \"DYKER BEACH PARK\", \"BRIDGE PARK BROOKLYN\", \"BUSHWICK PLAYGROUND ON KNICKERBOCKER AVENUE\", \"POE PARK\", \"MOSHOLU PARKWAY\", \"RED HOOK RECREATION AREA\", \"JUNIPER VALLEY PARK\", \"BENSONHURST PARK\", \"CLOVE LAKES PARK\", \"FULTON PARK\", \"CANARSIE PARK\", \"COLUMBUS PARK AT MANHATTAN\", \"BROOKVILLE PARK\", \"FORT WASHINGTON PARK\", \"LEIF ERICSON PARK\", \"BRONX RIVER PARKWAY\", \"CPL. THOMPSON PARK\", \"MCKINLEY PARK\"], \"y\": [17, 5, 1, 9, 2, 7, 4, 8, 0, 2, 2, 0, 0, 0, 1, 0, 0, 1, 2, 0, 0, 3, 1, 6, 0, 0, 0, 0, 0, 0, 1, 3, 1, 0, 1, 0, 0, 0, 0, 0, 0, 0, 0, 1, 0, 0, 0, 2, 0, 0, 0, 0, 0, 0, 0, 0, 1, 0, 0, 0, 0, 0, 0, 0, 0, 0, 0, 0, 0, 0, 0, 0, 1, 0, 0, 0, 0, 0, 0, 0, 0, 1, 0, 0, 0, 1, 0, 0, 0, 0, 0, 0, 1, 0, 0, 0, 0, 0, 0, 0]}, {\"marker\": {\"color\": \"rgba(0, 128, 128, 0.6)\", \"line\": {\"color\": \"rgba(0, 128, 128, 1.0)\", \"width\": 1}}, \"name\": \"GRAND_LARCENY\", \"orientation\": \"v\", \"text\": \"\", \"type\": \"bar\", \"uid\": \"ad994d26-fdc9-4426-a71f-7a315067377b\", \"x\": [\"FLUSHING MEADOWS CORONA PARK\", \"RANDALL'S ISLAND PARK\", \"CONEY ISLAND BEACH & BOARDWALK\", \"RIVERSIDE PARK\", \"PROSPECT PARK\", \"UNION SQUARE PARK\", \"CROTONA PARK\", \"BRYANT PARK\", \"WASHINGTON SQUARE PARK\", \"BROOKLYN BRIDGE PARK\", \"ROCKAWAY BEACH AND BOARDWALK\", \"SARA D. ROOSEVELT PARK\", \"BRONX PARK\", \"CLAREMONT PARK\", \"HIGHBRIDGE PARK MANHATTAN SIDE\", \"MCCARREN PARK\", \"MARCUS GARVEY PARK\", \"SUNSET PARK\", \"ST. MARY'S PARK BRONX\", \"ST. NICHOLAS PARK\", \"MACOMBS DAM PARK\", \"MORNINGSIDE PARK\", \"WILLIAMSBRIDGE OVAL\", \"VAN CORTLANDT PARK\", \"TOMPKINS SQUARE PARK\", \"HIGHLAND PARK\", \"MULLALY PARK\", \"MARIA HERNANDEZ PARK\", \"EAST RIVER PARK\", \"ST. JAMES PARK\", \"JOYCE KILMER PARK\", \"FOREST PARK\", \"FORT GREENE PARK\", \"LINCOLN TERRACE / ARTHUR S. SOMERS PARK\", \"RUFUS KING PARK\", \"JACKIE ROBINSON PARK MANHATTAN\", \"KISSENA CORRIDOR PARK\", \"FORT TRYON PARK\", \"ST. JOHN'S RECREATION CENTER\", \"MADISON SQUARE PARK\", \"SOUNDVIEW PARK\", \"FRANZ SIGEL PARK\", \"THOMAS JEFFERSON PARK\", \"PELHAM BAY PARK\", \"ASTORIA PARK\", \"KISSENA PARK\", \"MOORE HOMESTEAD PLAYGROUND\", \"LUNA PARK\", \"PARADE GROUND\", \"ALLEY POND PARK\", \"AQUEDUCT WALK\", \"BAISLEY POND PARK\", \"CAPTAIN TILLY PARK\", \"DEVOE PARK\", \"INWOOD HILL PARK\", \"CUNNINGHAM PARK\", \"HERBERT VON KING PARK\", \"MARINE PARK\", \"BATTERY PARK\", \"RAINEY PARK BRONX\", \"GRACE PLAYGROUND\", \"PARK OF THE AMERICAS\", \"KELLY PARK\", \"ROY WILKINS RECREATION CENTER\", \"CHELSEA PARK\", \"WATSON GLEASON PLAYGROUND\", \"CALVERT VAUX PARK\", \"BROWER PARK\", \"STERNBERG PARK\", \"ST. ANDREW'S PLAYGROUND\", \"CARL SCHURZ PARK\", \"RICHMAN (ECHO) PARK\", \"BETSY HEAD PARK\", \"HARLEM RIVER PARK\", \"STARLIGHT PARK\", \"LINDEN PARK\", \"ASSER LEVY PLAYGROUND\", \"SETH LOW PLAYGROUND/ BEALIN SQUARE\", \"TRAVERS PARK\", \"COLEMAN PLAYGROUND\", \"FRANK D. O'CONNOR PLAYGROUND\", \"J.J. BYRNE PLAYGROUND\", \"DYKER BEACH PARK\", \"BRIDGE PARK BROOKLYN\", \"BUSHWICK PLAYGROUND ON KNICKERBOCKER AVENUE\", \"POE PARK\", \"MOSHOLU PARKWAY\", \"RED HOOK RECREATION AREA\", \"JUNIPER VALLEY PARK\", \"BENSONHURST PARK\", \"CLOVE LAKES PARK\", \"FULTON PARK\", \"CANARSIE PARK\", \"COLUMBUS PARK AT MANHATTAN\", \"BROOKVILLE PARK\", \"FORT WASHINGTON PARK\", \"LEIF ERICSON PARK\", \"BRONX RIVER PARKWAY\", \"CPL. THOMPSON PARK\", \"MCKINLEY PARK\"], \"y\": [173, 203, 128, 107, 73, 97, 34, 83, 69, 70, 56, 44, 19, 10, 15, 50, 15, 21, 14, 11, 36, 16, 8, 18, 35, 13, 11, 12, 32, 8, 5, 13, 14, 9, 9, 8, 9, 10, 8, 22, 12, 1, 15, 10, 10, 11, 5, 11, 13, 20, 6, 6, 0, 3, 3, 17, 13, 11, 12, 1, 4, 4, 0, 11, 18, 7, 10, 9, 3, 0, 4, 1, 1, 4, 3, 5, 6, 5, 4, 9, 4, 8, 6, 9, 4, 3, 2, 5, 4, 4, 0, 4, 2, 7, 3, 1, 5, 1, 3, 4]}, {\"marker\": {\"color\": \"rgba(255, 255, 51, 0.6)\", \"line\": {\"color\": \"rgba(255, 255, 51, 1.0)\", \"width\": 1}}, \"name\": \"GRAND_LARCENY_OF_MOTOR_VEHICLE\", \"orientation\": \"v\", \"text\": \"\", \"type\": \"bar\", \"uid\": \"506b6077-7630-4abb-a843-9d65393ba6ce\", \"x\": [\"FLUSHING MEADOWS CORONA PARK\", \"RANDALL'S ISLAND PARK\", \"CONEY ISLAND BEACH & BOARDWALK\", \"RIVERSIDE PARK\", \"PROSPECT PARK\", \"UNION SQUARE PARK\", \"CROTONA PARK\", \"BRYANT PARK\", \"WASHINGTON SQUARE PARK\", \"BROOKLYN BRIDGE PARK\", \"ROCKAWAY BEACH AND BOARDWALK\", \"SARA D. ROOSEVELT PARK\", \"BRONX PARK\", \"CLAREMONT PARK\", \"HIGHBRIDGE PARK MANHATTAN SIDE\", \"MCCARREN PARK\", \"MARCUS GARVEY PARK\", \"SUNSET PARK\", \"ST. MARY'S PARK BRONX\", \"ST. NICHOLAS PARK\", \"MACOMBS DAM PARK\", \"MORNINGSIDE PARK\", \"WILLIAMSBRIDGE OVAL\", \"VAN CORTLANDT PARK\", \"TOMPKINS SQUARE PARK\", \"HIGHLAND PARK\", \"MULLALY PARK\", \"MARIA HERNANDEZ PARK\", \"EAST RIVER PARK\", \"ST. JAMES PARK\", \"JOYCE KILMER PARK\", \"FOREST PARK\", \"FORT GREENE PARK\", \"LINCOLN TERRACE / ARTHUR S. SOMERS PARK\", \"RUFUS KING PARK\", \"JACKIE ROBINSON PARK MANHATTAN\", \"KISSENA CORRIDOR PARK\", \"FORT TRYON PARK\", \"ST. JOHN'S RECREATION CENTER\", \"MADISON SQUARE PARK\", \"SOUNDVIEW PARK\", \"FRANZ SIGEL PARK\", \"THOMAS JEFFERSON PARK\", \"PELHAM BAY PARK\", \"ASTORIA PARK\", \"KISSENA PARK\", \"MOORE HOMESTEAD PLAYGROUND\", \"LUNA PARK\", \"PARADE GROUND\", \"ALLEY POND PARK\", \"AQUEDUCT WALK\", \"BAISLEY POND PARK\", \"CAPTAIN TILLY PARK\", \"DEVOE PARK\", \"INWOOD HILL PARK\", \"CUNNINGHAM PARK\", \"HERBERT VON KING PARK\", \"MARINE PARK\", \"BATTERY PARK\", \"RAINEY PARK BRONX\", \"GRACE PLAYGROUND\", \"PARK OF THE AMERICAS\", \"KELLY PARK\", \"ROY WILKINS RECREATION CENTER\", \"CHELSEA PARK\", \"WATSON GLEASON PLAYGROUND\", \"CALVERT VAUX PARK\", \"BROWER PARK\", \"STERNBERG PARK\", \"ST. ANDREW'S PLAYGROUND\", \"CARL SCHURZ PARK\", \"RICHMAN (ECHO) PARK\", \"BETSY HEAD PARK\", \"HARLEM RIVER PARK\", \"STARLIGHT PARK\", \"LINDEN PARK\", \"ASSER LEVY PLAYGROUND\", \"SETH LOW PLAYGROUND/ BEALIN SQUARE\", \"TRAVERS PARK\", \"COLEMAN PLAYGROUND\", \"FRANK D. O'CONNOR PLAYGROUND\", \"J.J. BYRNE PLAYGROUND\", \"DYKER BEACH PARK\", \"BRIDGE PARK BROOKLYN\", \"BUSHWICK PLAYGROUND ON KNICKERBOCKER AVENUE\", \"POE PARK\", \"MOSHOLU PARKWAY\", \"RED HOOK RECREATION AREA\", \"JUNIPER VALLEY PARK\", \"BENSONHURST PARK\", \"CLOVE LAKES PARK\", \"FULTON PARK\", \"CANARSIE PARK\", \"COLUMBUS PARK AT MANHATTAN\", \"BROOKVILLE PARK\", \"FORT WASHINGTON PARK\", \"LEIF ERICSON PARK\", \"BRONX RIVER PARKWAY\", \"CPL. THOMPSON PARK\", \"MCKINLEY PARK\"], \"y\": [15, 0, 0, 0, 0, 1, 4, 0, 0, 0, 0, 1, 0, 0, 0, 0, 0, 0, 0, 0, 0, 0, 0, 0, 0, 2, 0, 0, 0, 0, 0, 0, 0, 0, 0, 0, 0, 0, 0, 0, 0, 0, 0, 1, 1, 0, 0, 0, 0, 0, 0, 0, 0, 0, 0, 0, 0, 1, 0, 0, 0, 0, 0, 0, 0, 0, 0, 0, 0, 0, 0, 0, 0, 0, 0, 0, 0, 0, 0, 0, 0, 0, 0, 0, 0, 0, 0, 0, 0, 0, 0, 0, 1, 0, 0, 0, 0, 0, 0, 0]}, {\"marker\": {\"color\": \"rgba(128, 128, 0, 0.6)\", \"line\": {\"color\": \"rgba(128, 128, 0, 1.0)\", \"width\": 1}}, \"name\": \"TOTAL\", \"orientation\": \"v\", \"text\": \"\", \"type\": \"bar\", \"uid\": \"d823a1ea-e3b3-4590-bf47-67c420621636\", \"x\": [\"FLUSHING MEADOWS CORONA PARK\", \"RANDALL'S ISLAND PARK\", \"CONEY ISLAND BEACH & BOARDWALK\", \"RIVERSIDE PARK\", \"PROSPECT PARK\", \"UNION SQUARE PARK\", \"CROTONA PARK\", \"BRYANT PARK\", \"WASHINGTON SQUARE PARK\", \"BROOKLYN BRIDGE PARK\", \"ROCKAWAY BEACH AND BOARDWALK\", \"SARA D. ROOSEVELT PARK\", \"BRONX PARK\", \"CLAREMONT PARK\", \"HIGHBRIDGE PARK MANHATTAN SIDE\", \"MCCARREN PARK\", \"MARCUS GARVEY PARK\", \"SUNSET PARK\", \"ST. MARY'S PARK BRONX\", \"ST. NICHOLAS PARK\", \"MACOMBS DAM PARK\", \"MORNINGSIDE PARK\", \"WILLIAMSBRIDGE OVAL\", \"VAN CORTLANDT PARK\", \"TOMPKINS SQUARE PARK\", \"HIGHLAND PARK\", \"MULLALY PARK\", \"MARIA HERNANDEZ PARK\", \"EAST RIVER PARK\", \"ST. JAMES PARK\", \"JOYCE KILMER PARK\", \"FOREST PARK\", \"FORT GREENE PARK\", \"LINCOLN TERRACE / ARTHUR S. SOMERS PARK\", \"RUFUS KING PARK\", \"JACKIE ROBINSON PARK MANHATTAN\", \"KISSENA CORRIDOR PARK\", \"FORT TRYON PARK\", \"ST. JOHN'S RECREATION CENTER\", \"MADISON SQUARE PARK\", \"SOUNDVIEW PARK\", \"FRANZ SIGEL PARK\", \"THOMAS JEFFERSON PARK\", \"PELHAM BAY PARK\", \"ASTORIA PARK\", \"KISSENA PARK\", \"MOORE HOMESTEAD PLAYGROUND\", \"LUNA PARK\", \"PARADE GROUND\", \"ALLEY POND PARK\", \"AQUEDUCT WALK\", \"BAISLEY POND PARK\", \"CAPTAIN TILLY PARK\", \"DEVOE PARK\", \"INWOOD HILL PARK\", \"CUNNINGHAM PARK\", \"HERBERT VON KING PARK\", \"MARINE PARK\", \"BATTERY PARK\", \"RAINEY PARK BRONX\", \"GRACE PLAYGROUND\", \"PARK OF THE AMERICAS\", \"KELLY PARK\", \"ROY WILKINS RECREATION CENTER\", \"CHELSEA PARK\", \"WATSON GLEASON PLAYGROUND\", \"CALVERT VAUX PARK\", \"BROWER PARK\", \"STERNBERG PARK\", \"ST. ANDREW'S PLAYGROUND\", \"CARL SCHURZ PARK\", \"RICHMAN (ECHO) PARK\", \"BETSY HEAD PARK\", \"HARLEM RIVER PARK\", \"STARLIGHT PARK\", \"LINDEN PARK\", \"ASSER LEVY PLAYGROUND\", \"SETH LOW PLAYGROUND/ BEALIN SQUARE\", \"TRAVERS PARK\", \"COLEMAN PLAYGROUND\", \"FRANK D. O'CONNOR PLAYGROUND\", \"J.J. BYRNE PLAYGROUND\", \"DYKER BEACH PARK\", \"BRIDGE PARK BROOKLYN\", \"BUSHWICK PLAYGROUND ON KNICKERBOCKER AVENUE\", \"POE PARK\", \"MOSHOLU PARKWAY\", \"RED HOOK RECREATION AREA\", \"JUNIPER VALLEY PARK\", \"BENSONHURST PARK\", \"CLOVE LAKES PARK\", \"FULTON PARK\", \"CANARSIE PARK\", \"COLUMBUS PARK AT MANHATTAN\", \"BROOKVILLE PARK\", \"FORT WASHINGTON PARK\", \"LEIF ERICSON PARK\", \"BRONX RIVER PARKWAY\", \"CPL. THOMPSON PARK\", \"MCKINLEY PARK\"], \"y\": [287, 217, 198, 178, 163, 140, 127, 95, 89, 82, 80, 74, 73, 72, 71, 68, 67, 67, 65, 64, 61, 58, 56, 55, 53, 50, 48, 45, 42, 40, 39, 37, 37, 34, 34, 33, 33, 31, 31, 30, 29, 29, 29, 28, 27, 26, 25, 24, 24, 23, 23, 23, 22, 22, 21, 21, 21, 21, 21, 20, 20, 19, 19, 19, 19, 18, 18, 18, 17, 15, 15, 15, 15, 14, 14, 14, 14, 13, 13, 13, 13, 13, 12, 12, 12, 11, 11, 11, 11, 11, 11, 11, 11, 10, 10, 10, 10, 10, 10, 10]}],\n",
       "                        {\"barmode\": \"stack\", \"legend\": {\"bgcolor\": \"#F5F6F9\", \"font\": {\"color\": \"#4D5663\"}, \"traceorder\": \"normal\"}, \"paper_bgcolor\": \"#F5F6F9\", \"plot_bgcolor\": \"#F5F6F9\", \"title\": {\"font\": {\"color\": \"#4D5663\"}, \"text\": \"Crimes in NYC Parks by Parks\"}, \"xaxis\": {\"gridcolor\": \"#E1E5ED\", \"showgrid\": true, \"tickfont\": {\"color\": \"#4D5663\"}, \"title\": {\"font\": {\"color\": \"#4D5663\"}, \"text\": \"Park\"}, \"zerolinecolor\": \"#E1E5ED\"}, \"yaxis\": {\"gridcolor\": \"#E1E5ED\", \"showgrid\": true, \"tickfont\": {\"color\": \"#4D5663\"}, \"title\": {\"font\": {\"color\": \"#4D5663\"}, \"text\": \"No of Crimes\"}, \"zerolinecolor\": \"#E1E5ED\"}},\n",
       "                        {\"showLink\": true, \"linkText\": \"Export to plot.ly\", \"plotlyServerURL\": \"https://plot.ly\", \"responsive\": true}\n",
       "                    ).then(function(){\n",
       "                            \n",
       "var gd = document.getElementById('1ee11a5e-ed5d-48df-95d0-ea24464ccd55');\n",
       "var x = new MutationObserver(function (mutations, observer) {{\n",
       "        var display = window.getComputedStyle(gd).display;\n",
       "        if (!display || display === 'none') {{\n",
       "            console.log([gd, 'removed!']);\n",
       "            Plotly.purge(gd);\n",
       "            observer.disconnect();\n",
       "        }}\n",
       "}});\n",
       "\n",
       "// Listen for the removal of the full notebook cells\n",
       "var notebookContainer = gd.closest('#notebook-container');\n",
       "if (notebookContainer) {{\n",
       "    x.observe(notebookContainer, {childList: true});\n",
       "}}\n",
       "\n",
       "// Listen for the clearing of the current output cell\n",
       "var outputEl = gd.closest('.output');\n",
       "if (outputEl) {{\n",
       "    x.observe(outputEl, {childList: true});\n",
       "}}\n",
       "\n",
       "                        })\n",
       "                };\n",
       "                });\n",
       "            </script>\n",
       "        </div>"
      ]
     },
     "metadata": {},
     "output_type": "display_data"
    }
   ],
   "source": [
    "#Stacked Bar plot on by_park data frame\n",
    "by_park.iplot(kind = 'bar',barmode = 'stack', xTitle='Park',yTitle='No of Crimes',title='Crimes in NYC Parks by Parks')"
   ]
  },
  {
   "cell_type": "code",
   "execution_count": 130,
   "metadata": {},
   "outputs": [
    {
     "data": {
      "text/html": [
       "<div>\n",
       "<style scoped>\n",
       "    .dataframe tbody tr th:only-of-type {\n",
       "        vertical-align: middle;\n",
       "    }\n",
       "\n",
       "    .dataframe tbody tr th {\n",
       "        vertical-align: top;\n",
       "    }\n",
       "\n",
       "    .dataframe thead th {\n",
       "        text-align: right;\n",
       "    }\n",
       "</style>\n",
       "<table border=\"1\" class=\"dataframe\">\n",
       "  <thead>\n",
       "    <tr style=\"text-align: right;\">\n",
       "      <th></th>\n",
       "      <th>SIZE_ACRES</th>\n",
       "      <th>TOTAL</th>\n",
       "    </tr>\n",
       "    <tr>\n",
       "      <th>PARK</th>\n",
       "      <th></th>\n",
       "      <th></th>\n",
       "    </tr>\n",
       "  </thead>\n",
       "  <tbody>\n",
       "    <tr>\n",
       "      <th>\"UNCLE\" VITO E. MARANZANO GLENDALE PLAYGROUND</th>\n",
       "      <td>1.15</td>\n",
       "      <td>0</td>\n",
       "    </tr>\n",
       "    <tr>\n",
       "      <th>100% PLAYGROUND</th>\n",
       "      <td>1.62</td>\n",
       "      <td>3</td>\n",
       "    </tr>\n",
       "    <tr>\n",
       "      <th>A.R.R.O.W. FIELD HOUSE</th>\n",
       "      <td>0.29</td>\n",
       "      <td>0</td>\n",
       "    </tr>\n",
       "    <tr>\n",
       "      <th>ABC PLAYGROUND</th>\n",
       "      <td>0.45</td>\n",
       "      <td>0</td>\n",
       "    </tr>\n",
       "    <tr>\n",
       "      <th>ABE STARK SKATING RINK</th>\n",
       "      <td>8.81</td>\n",
       "      <td>2</td>\n",
       "    </tr>\n",
       "  </tbody>\n",
       "</table>\n",
       "</div>"
      ],
      "text/plain": [
       "                                               SIZE_ACRES  TOTAL\n",
       "PARK                                                            \n",
       "\"UNCLE\" VITO E. MARANZANO GLENDALE PLAYGROUND        1.15      0\n",
       "100% PLAYGROUND                                      1.62      3\n",
       "A.R.R.O.W. FIELD HOUSE                               0.29      0\n",
       "ABC PLAYGROUND                                       0.45      0\n",
       "ABE STARK SKATING RINK                               8.81      2"
      ]
     },
     "execution_count": 130,
     "metadata": {},
     "output_type": "execute_result"
    }
   ],
   "source": [
    "#Round up SIZE_ACRES field upto 2 decimals\n",
    "df['SIZE_ACRES'] = df['SIZE_ACRES'].apply(lambda x: round(x, 2))\n",
    "by_parksize= df.groupby(['PARK', 'SIZE_ACRES'], as_index = False).agg({'TOTAL': np.sum})\n",
    "by_parksize.set_index('PARK',inplace=True)\n",
    "by_parksize.head()"
   ]
  },
  {
   "cell_type": "code",
   "execution_count": 128,
   "metadata": {},
   "outputs": [
    {
     "data": {
      "text/html": [
       "<div>\n",
       "<style scoped>\n",
       "    .dataframe tbody tr th:only-of-type {\n",
       "        vertical-align: middle;\n",
       "    }\n",
       "\n",
       "    .dataframe tbody tr th {\n",
       "        vertical-align: top;\n",
       "    }\n",
       "\n",
       "    .dataframe thead th {\n",
       "        text-align: right;\n",
       "    }\n",
       "</style>\n",
       "<table border=\"1\" class=\"dataframe\">\n",
       "  <thead>\n",
       "    <tr style=\"text-align: right;\">\n",
       "      <th></th>\n",
       "      <th>SIZE_ACRES</th>\n",
       "      <th>TOTAL</th>\n",
       "    </tr>\n",
       "    <tr>\n",
       "      <th>PARK</th>\n",
       "      <th></th>\n",
       "      <th></th>\n",
       "    </tr>\n",
       "  </thead>\n",
       "  <tbody>\n",
       "    <tr>\n",
       "      <th>\"UNCLE\" VITO E. MARANZANO GLENDALE PLAYGROUND</th>\n",
       "      <td>1.15</td>\n",
       "      <td>0</td>\n",
       "    </tr>\n",
       "    <tr>\n",
       "      <th>100% PLAYGROUND</th>\n",
       "      <td>1.62</td>\n",
       "      <td>3</td>\n",
       "    </tr>\n",
       "    <tr>\n",
       "      <th>A.R.R.O.W. FIELD HOUSE</th>\n",
       "      <td>0.29</td>\n",
       "      <td>0</td>\n",
       "    </tr>\n",
       "    <tr>\n",
       "      <th>ABC PLAYGROUND</th>\n",
       "      <td>0.45</td>\n",
       "      <td>0</td>\n",
       "    </tr>\n",
       "    <tr>\n",
       "      <th>ABE STARK SKATING RINK</th>\n",
       "      <td>8.81</td>\n",
       "      <td>2</td>\n",
       "    </tr>\n",
       "  </tbody>\n",
       "</table>\n",
       "</div>"
      ],
      "text/plain": [
       "                                               SIZE_ACRES  TOTAL\n",
       "PARK                                                            \n",
       "\"UNCLE\" VITO E. MARANZANO GLENDALE PLAYGROUND        1.15      0\n",
       "100% PLAYGROUND                                      1.62      3\n",
       "A.R.R.O.W. FIELD HOUSE                               0.29      0\n",
       "ABC PLAYGROUND                                       0.45      0\n",
       "ABE STARK SKATING RINK                               8.81      2"
      ]
     },
     "execution_count": 128,
     "metadata": {},
     "output_type": "execute_result"
    }
   ],
   "source": []
  },
  {
   "cell_type": "code",
   "execution_count": 107,
   "metadata": {},
   "outputs": [
    {
     "data": {
      "text/plain": [
       "<matplotlib.axes._subplots.AxesSubplot at 0x1748be1c7f0>"
      ]
     },
     "execution_count": 107,
     "metadata": {},
     "output_type": "execute_result"
    },
    {
     "data": {
      "image/png": "[encoded data removed]",
      "text/plain": [
       "<Figure size 432x288 with 1 Axes>"
      ]
     },
     "metadata": {
      "needs_background": "light"
     },
     "output_type": "display_data"
    }
   ],
   "source": [
    "#Regression plot between Park area and total crime. \n",
    "sns.regplot(x=\"SIZE_ACRES\", y=\"TOTAL\", data=by_parksize)"
   ]
  },
  {
   "cell_type": "code",
   "execution_count": 129,
   "metadata": {},
   "outputs": [
    {
     "data": {
      "text/html": [
       "<div>\n",
       "<style scoped>\n",
       "    .dataframe tbody tr th:only-of-type {\n",
       "        vertical-align: middle;\n",
       "    }\n",
       "\n",
       "    .dataframe tbody tr th {\n",
       "        vertical-align: top;\n",
       "    }\n",
       "\n",
       "    .dataframe thead th {\n",
       "        text-align: right;\n",
       "    }\n",
       "</style>\n",
       "<table border=\"1\" class=\"dataframe\">\n",
       "  <thead>\n",
       "    <tr style=\"text-align: right;\">\n",
       "      <th></th>\n",
       "      <th>SIZE_ACRES</th>\n",
       "      <th>TOTAL</th>\n",
       "    </tr>\n",
       "  </thead>\n",
       "  <tbody>\n",
       "    <tr>\n",
       "      <th>SIZE_ACRES</th>\n",
       "      <td>1.000000</td>\n",
       "      <td>0.342425</td>\n",
       "    </tr>\n",
       "    <tr>\n",
       "      <th>TOTAL</th>\n",
       "      <td>0.342425</td>\n",
       "      <td>1.000000</td>\n",
       "    </tr>\n",
       "  </tbody>\n",
       "</table>\n",
       "</div>"
      ],
      "text/plain": [
       "            SIZE_ACRES     TOTAL\n",
       "SIZE_ACRES    1.000000  0.342425\n",
       "TOTAL         0.342425  1.000000"
      ]
     },
     "execution_count": 129,
     "metadata": {},
     "output_type": "execute_result"
    }
   ],
   "source": [
    "#This code is finds out the correlation between Park area and total crime. \n",
    "data = by_parksize[['SIZE_ACRES','TOTAL']]\n",
    "correlation = data.corr(method='pearson')\n",
    "correlation"
   ]
  },
  {
   "cell_type": "code",
   "execution_count": 110,
   "metadata": {
    "scrolled": false
   },
   "outputs": [
    {
     "data": {
      "application/vnd.plotly.v1+json": {
       "config": {
        "linkText": "Export to plot.ly",
        "plotlyServerURL": "https://plot.ly",
        "showLink": true
       },
       "data": [
        {
         "line": {
          "color": "rgba(255, 153, 51, 1.0)",
          "dash": "solid",
          "shape": "linear",
          "width": 1.3
         },
         "mode": "lines",
         "name": "SIZE_ACRES",
         "text": "",
         "type": "scatter",
         "uid": "d7f95c69-44b9-49ad-939b-a809e854769d",
         "x": [
          "PELHAM BAY PARK",
          "VAN CORTLANDT PARK",
          "ROCKAWAY BEACH AND BOARDWALK",
          "FRESHKILLS PARK",
          "FLUSHING MEADOWS CORONA PARK",
          "LATOURETTE PARK & GOLF COURSE",
          "MARINE PARK",
          "BELT PARKWAY/SHORE PARKWAY",
          "BRONX PARK",
          "FRANKLIN D. ROOSEVELT BOARDWALK AND BEACH",
          "ALLEY POND PARK",
          "PROSPECT PARK",
          "FOREST PARK",
          "GRAND CENTRAL PARKWAY",
          "FERRY POINT PARK",
          "CONEY ISLAND BEACH & BOARDWALK",
          "CUNNINGHAM PARK",
          "RICHMOND PARKWAY",
          "CROSS ISLAND PARKWAY",
          "CROSS ISLAND PARKWAY",
          "GREAT KILLS PARK",
          "WOLFE'S POND PARK",
          "CONFERENCE HOUSE PARK",
          "RANDALL'S ISLAND PARK",
          "ROCKAWAY COMMUNITY PARK",
          "KISSENA PARK",
          "RIVERSIDE PARK",
          "RIVERSIDE PARK",
          "HUTCHINSON RIVER PARKWAY",
          "BLUE HERON PARK",
          "DYKER BEACH PARK",
          "WILLOWBROOK PARK",
          "STATEN ISLAND INDUSTRIAL PARK",
          "SILVER LAKE PARK",
          "BRONX RIVER PARKWAY",
          "SOUNDVIEW PARK",
          "BELT PARKWAY",
          "WILLOWBROOK PARKWAY",
          "INWOOD HILL PARK",
          "CLOVE LAKES PARK",
          "FORT WASHINGTON PARK",
          "IDLEWILD PARK",
          "WARDS ISLAND PARK",
          "SOUTH SHORE COUNTRY CLUB",
          "SAW MILL CREEK MARSH",
          "BLOOD ROOT VALLEY",
          "JAMAICA BAY PARK",
          "KISSENA CORRIDOR PARK",
          "HIGHLAND PARK",
          "ARDEN WOODS",
          "RIVERDALE PARK",
          "OCEAN PARKWAY MALLS",
          "BLOOMINGDALE PARK",
          "OCEAN BREEZE PARK",
          "CANARSIE PARK",
          "HIGHBRIDGE PARK MANHATTAN SIDE",
          "CROTONA PARK",
          "PAERDEGAT BASIN PARK",
          "HOOK CREEK PARK",
          "CRESCENT BEACH PARK",
          "CLEARVIEW PARK GOLF COURSE",
          "BAISLEY POND PARK",
          "PELHAM PARKWAY",
          "PRALLS ISLAND",
          "MARINERS MARSH PARK",
          "DOUGLASTON PARK GOLF COURSE",
          "LEMON CREEK PARK",
          "SPRING CREEK PARK",
          "HIGH ROCK PARK",
          "LONG POND PARK",
          "BROOKVILLE PARK",
          "ISLE OF MEADOWS",
          "CALVERT VAUX PARK",
          "PUGSLEY CREEK PARK",
          "PUGSLEY CREEK PARK",
          "SNUG HARBOR CULTURAL CENTER",
          "MOSHOLU PARKWAY",
          "MCGUIRE FIELDS",
          "FRESH CREEK NATURE PRESERVE",
          "JACKIE ROBINSON PARKWAY",
          "FORT TRYON PARK",
          "RIVERSIDE PARK SOUTH",
          "EASTERN PARKWAY",
          "FOUR SPARROW MARSH",
          "FORT TOTTEN PARK",
          "ASTORIA PARK",
          "LAURELTON PARKWAY",
          "RED HOOK RECREATION AREA",
          "SHORE PARK AND PARKWAY",
          "SPRING CREEK PARK ADDITION",
          "JUNIPER VALLEY PARK",
          "LITTLE BAY PARK",
          "POWELL'S COVE PARK",
          "HENRY HUDSON PARKWAY",
          "HARLEM RIVER PARK",
          "DUBOS POINT WILDLIFE SANCTUARY",
          "ROY WILKINS RECREATION CENTER",
          "REED'S BASKET WILLOW SWAMP PARK",
          "BROOKLYN BOTANIC GARDEN",
          "MEREDITH WOODS"
         ],
         "y": [
          2771.75,
          1146.43,
          1072.56,
          913.32,
          897.69,
          843.97,
          798,
          760.43,
          718.37,
          644.35,
          635.51,
          526.25,
          506.86,
          460.16,
          413.8,
          399.2,
          358,
          350.98,
          326.9,
          326.89,
          315.09,
          302.69,
          286.38,
          256.11,
          255.4,
          237.15,
          235.77,
          235.76,
          229.14,
          217.45,
          216.66,
          214.95,
          210.93,
          205.98,
          205.65,
          205.31,
          202.65,
          198.48,
          196.4,
          193.42,
          184.14,
          180.85,
          176.58,
          173.99,
          171.78,
          161.24,
          149.54,
          146.81,
          146.34,
          145.86,
          144.29,
          140,
          138.1,
          136.57,
          132.2,
          130.1,
          127.5,
          118.8,
          111.16,
          110.96,
          110.93,
          109.61,
          108.91,
          107.51,
          107.2,
          104.6,
          104.55,
          99.57,
          94.1,
          91.95,
          89.95,
          87.52,
          85.53,
          83.62,
          83.61,
          83.3,
          80.94,
          77.18,
          77.04,
          72.75,
          67.21,
          66.69,
          65.7,
          64.67,
          60.39,
          59.96,
          59.61,
          58.5,
          58,
          57.92,
          55.64,
          55.22,
          55.02,
          54.1,
          53.97,
          53.3,
          53.24,
          52.38,
          47.57,
          47.52
         ]
        },
        {
         "line": {
          "color": "rgba(55, 128, 191, 1.0)",
          "dash": "solid",
          "shape": "linear",
          "width": 1.3
         },
         "mode": "lines",
         "name": "TOTAL",
         "text": "",
         "type": "scatter",
         "uid": "d394a3c3-59e9-456c-9bd1-6607a3b26680",
         "x": [
          "PELHAM BAY PARK",
          "VAN CORTLANDT PARK",
          "ROCKAWAY BEACH AND BOARDWALK",
          "FRESHKILLS PARK",
          "FLUSHING MEADOWS CORONA PARK",
          "LATOURETTE PARK & GOLF COURSE",
          "MARINE PARK",
          "BELT PARKWAY/SHORE PARKWAY",
          "BRONX PARK",
          "FRANKLIN D. ROOSEVELT BOARDWALK AND BEACH",
          "ALLEY POND PARK",
          "PROSPECT PARK",
          "FOREST PARK",
          "GRAND CENTRAL PARKWAY",
          "FERRY POINT PARK",
          "CONEY ISLAND BEACH & BOARDWALK",
          "CUNNINGHAM PARK",
          "RICHMOND PARKWAY",
          "CROSS ISLAND PARKWAY",
          "CROSS ISLAND PARKWAY",
          "GREAT KILLS PARK",
          "WOLFE'S POND PARK",
          "CONFERENCE HOUSE PARK",
          "RANDALL'S ISLAND PARK",
          "ROCKAWAY COMMUNITY PARK",
          "KISSENA PARK",
          "RIVERSIDE PARK",
          "RIVERSIDE PARK",
          "HUTCHINSON RIVER PARKWAY",
          "BLUE HERON PARK",
          "DYKER BEACH PARK",
          "WILLOWBROOK PARK",
          "STATEN ISLAND INDUSTRIAL PARK",
          "SILVER LAKE PARK",
          "BRONX RIVER PARKWAY",
          "SOUNDVIEW PARK",
          "BELT PARKWAY",
          "WILLOWBROOK PARKWAY",
          "INWOOD HILL PARK",
          "CLOVE LAKES PARK",
          "FORT WASHINGTON PARK",
          "IDLEWILD PARK",
          "WARDS ISLAND PARK",
          "SOUTH SHORE COUNTRY CLUB",
          "SAW MILL CREEK MARSH",
          "BLOOD ROOT VALLEY",
          "JAMAICA BAY PARK",
          "KISSENA CORRIDOR PARK",
          "HIGHLAND PARK",
          "ARDEN WOODS",
          "RIVERDALE PARK",
          "OCEAN PARKWAY MALLS",
          "BLOOMINGDALE PARK",
          "OCEAN BREEZE PARK",
          "CANARSIE PARK",
          "HIGHBRIDGE PARK MANHATTAN SIDE",
          "CROTONA PARK",
          "PAERDEGAT BASIN PARK",
          "HOOK CREEK PARK",
          "CRESCENT BEACH PARK",
          "CLEARVIEW PARK GOLF COURSE",
          "BAISLEY POND PARK",
          "PELHAM PARKWAY",
          "PRALLS ISLAND",
          "MARINERS MARSH PARK",
          "DOUGLASTON PARK GOLF COURSE",
          "LEMON CREEK PARK",
          "SPRING CREEK PARK",
          "HIGH ROCK PARK",
          "LONG POND PARK",
          "BROOKVILLE PARK",
          "ISLE OF MEADOWS",
          "CALVERT VAUX PARK",
          "PUGSLEY CREEK PARK",
          "PUGSLEY CREEK PARK",
          "SNUG HARBOR CULTURAL CENTER",
          "MOSHOLU PARKWAY",
          "MCGUIRE FIELDS",
          "FRESH CREEK NATURE PRESERVE",
          "JACKIE ROBINSON PARKWAY",
          "FORT TRYON PARK",
          "RIVERSIDE PARK SOUTH",
          "EASTERN PARKWAY",
          "FOUR SPARROW MARSH",
          "FORT TOTTEN PARK",
          "ASTORIA PARK",
          "LAURELTON PARKWAY",
          "RED HOOK RECREATION AREA",
          "SHORE PARK AND PARKWAY",
          "SPRING CREEK PARK ADDITION",
          "JUNIPER VALLEY PARK",
          "LITTLE BAY PARK",
          "POWELL'S COVE PARK",
          "HENRY HUDSON PARKWAY",
          "HARLEM RIVER PARK",
          "DUBOS POINT WILDLIFE SANCTUARY",
          "ROY WILKINS RECREATION CENTER",
          "REED'S BASKET WILLOW SWAMP PARK",
          "BROOKLYN BOTANIC GARDEN",
          "MEREDITH WOODS"
         ],
         "y": [
          28,
          55,
          80,
          1,
          287,
          1,
          21,
          8,
          73,
          6,
          23,
          163,
          37,
          0,
          8,
          198,
          21,
          0,
          0,
          0,
          1,
          0,
          0,
          217,
          1,
          26,
          96,
          82,
          0,
          0,
          12,
          0,
          0,
          2,
          10,
          29,
          0,
          0,
          21,
          11,
          10,
          1,
          3,
          0,
          0,
          0,
          0,
          33,
          50,
          0,
          0,
          2,
          1,
          1,
          11,
          71,
          127,
          1,
          0,
          0,
          0,
          23,
          3,
          0,
          0,
          0,
          0,
          1,
          0,
          0,
          10,
          0,
          18,
          4,
          2,
          3,
          11,
          0,
          0,
          1,
          31,
          5,
          1,
          0,
          2,
          27,
          0,
          11,
          2,
          0,
          11,
          3,
          0,
          0,
          14,
          0,
          19,
          0,
          3,
          0
         ]
        }
       ],
       "layout": {
        "legend": {
         "bgcolor": "#F5F6F9",
         "font": {
          "color": "#4D5663"
         }
        },
        "paper_bgcolor": "#F5F6F9",
        "plot_bgcolor": "#F5F6F9",
        "title": {
         "font": {
          "color": "#4D5663"
         },
         "text": "Crimes in NYC Parks by Parks"
        },
        "xaxis": {
         "gridcolor": "#E1E5ED",
         "showgrid": true,
         "tickfont": {
          "color": "#4D5663"
         },
         "title": {
          "font": {
           "color": "#4D5663"
          },
          "text": "Park"
         },
         "zerolinecolor": "#E1E5ED"
        },
        "yaxis": {
         "gridcolor": "#E1E5ED",
         "showgrid": true,
         "tickfont": {
          "color": "#4D5663"
         },
         "title": {
          "font": {
           "color": "#4D5663"
          },
          "text": "No of Crimes"
         },
         "zerolinecolor": "#E1E5ED"
        }
       }
      },
      "text/html": [
       "<div>\n",
       "        \n",
       "        \n",
       "            <div id=\"3e2078ff-d69e-429e-a2ff-34bf15f492da\" class=\"plotly-graph-div\" style=\"height:525px; width:100%;\"></div>\n",
       "            <script type=\"text/javascript\">\n",
       "                require([\"plotly\"], function(Plotly) {\n",
       "                    window.PLOTLYENV=window.PLOTLYENV || {};\n",
       "                    window.PLOTLYENV.BASE_URL='https://plot.ly';\n",
       "                    \n",
       "                if (document.getElementById(\"3e2078ff-d69e-429e-a2ff-34bf15f492da\")) {\n",
       "                    Plotly.newPlot(\n",
       "                        '3e2078ff-d69e-429e-a2ff-34bf15f492da',\n",
       "                        [{\"line\": {\"color\": \"rgba(255, 153, 51, 1.0)\", \"dash\": \"solid\", \"shape\": \"linear\", \"width\": 1.3}, \"mode\": \"lines\", \"name\": \"SIZE_ACRES\", \"text\": \"\", \"type\": \"scatter\", \"uid\": \"d7f95c69-44b9-49ad-939b-a809e854769d\", \"x\": [\"PELHAM BAY PARK\", \"VAN CORTLANDT PARK\", \"ROCKAWAY BEACH AND BOARDWALK\", \"FRESHKILLS PARK\", \"FLUSHING MEADOWS CORONA PARK\", \"LATOURETTE PARK & GOLF COURSE\", \"MARINE PARK\", \"BELT PARKWAY/SHORE PARKWAY\", \"BRONX PARK\", \"FRANKLIN D. ROOSEVELT BOARDWALK AND BEACH\", \"ALLEY POND PARK\", \"PROSPECT PARK\", \"FOREST PARK\", \"GRAND CENTRAL PARKWAY\", \"FERRY POINT PARK\", \"CONEY ISLAND BEACH & BOARDWALK\", \"CUNNINGHAM PARK\", \"RICHMOND PARKWAY\", \"CROSS ISLAND PARKWAY\", \"CROSS ISLAND PARKWAY\", \"GREAT KILLS PARK\", \"WOLFE'S POND PARK\", \"CONFERENCE HOUSE PARK\", \"RANDALL'S ISLAND PARK\", \"ROCKAWAY COMMUNITY PARK\", \"KISSENA PARK\", \"RIVERSIDE PARK\", \"RIVERSIDE PARK\", \"HUTCHINSON RIVER PARKWAY\", \"BLUE HERON PARK\", \"DYKER BEACH PARK\", \"WILLOWBROOK PARK\", \"STATEN ISLAND INDUSTRIAL PARK\", \"SILVER LAKE PARK\", \"BRONX RIVER PARKWAY\", \"SOUNDVIEW PARK\", \"BELT PARKWAY\", \"WILLOWBROOK PARKWAY\", \"INWOOD HILL PARK\", \"CLOVE LAKES PARK\", \"FORT WASHINGTON PARK\", \"IDLEWILD PARK\", \"WARDS ISLAND PARK\", \"SOUTH SHORE COUNTRY CLUB\", \"SAW MILL CREEK MARSH\", \"BLOOD ROOT VALLEY\", \"JAMAICA BAY PARK\", \"KISSENA CORRIDOR PARK\", \"HIGHLAND PARK\", \"ARDEN WOODS\", \"RIVERDALE PARK\", \"OCEAN PARKWAY MALLS\", \"BLOOMINGDALE PARK\", \"OCEAN BREEZE PARK\", \"CANARSIE PARK\", \"HIGHBRIDGE PARK MANHATTAN SIDE\", \"CROTONA PARK\", \"PAERDEGAT BASIN PARK\", \"HOOK CREEK PARK\", \"CRESCENT BEACH PARK\", \"CLEARVIEW PARK GOLF COURSE\", \"BAISLEY POND PARK\", \"PELHAM PARKWAY\", \"PRALLS ISLAND\", \"MARINERS MARSH PARK\", \"DOUGLASTON PARK GOLF COURSE\", \"LEMON CREEK PARK\", \"SPRING CREEK PARK\", \"HIGH ROCK PARK\", \"LONG POND PARK\", \"BROOKVILLE PARK\", \"ISLE OF MEADOWS\", \"CALVERT VAUX PARK\", \"PUGSLEY CREEK PARK\", \"PUGSLEY CREEK PARK\", \"SNUG HARBOR CULTURAL CENTER\", \"MOSHOLU PARKWAY\", \"MCGUIRE FIELDS\", \"FRESH CREEK NATURE PRESERVE\", \"JACKIE ROBINSON PARKWAY\", \"FORT TRYON PARK\", \"RIVERSIDE PARK SOUTH\", \"EASTERN PARKWAY\", \"FOUR SPARROW MARSH\", \"FORT TOTTEN PARK\", \"ASTORIA PARK\", \"LAURELTON PARKWAY\", \"RED HOOK RECREATION AREA\", \"SHORE PARK AND PARKWAY\", \"SPRING CREEK PARK ADDITION\", \"JUNIPER VALLEY PARK\", \"LITTLE BAY PARK\", \"POWELL'S COVE PARK\", \"HENRY HUDSON PARKWAY\", \"HARLEM RIVER PARK\", \"DUBOS POINT WILDLIFE SANCTUARY\", \"ROY WILKINS RECREATION CENTER\", \"REED'S BASKET WILLOW SWAMP PARK\", \"BROOKLYN BOTANIC GARDEN\", \"MEREDITH WOODS\"], \"y\": [2771.75, 1146.43, 1072.56, 913.32, 897.69, 843.97, 798.0, 760.43, 718.37, 644.35, 635.51, 526.25, 506.86, 460.16, 413.8, 399.2, 358.0, 350.98, 326.9, 326.89, 315.09, 302.69, 286.38, 256.11, 255.4, 237.15, 235.77, 235.76, 229.14, 217.45, 216.66, 214.95, 210.93, 205.98, 205.65, 205.31, 202.65, 198.48, 196.4, 193.42, 184.14, 180.85, 176.58, 173.99, 171.78, 161.24, 149.54, 146.81, 146.34, 145.86, 144.29, 140.0, 138.1, 136.57, 132.2, 130.1, 127.5, 118.8, 111.16, 110.96, 110.93, 109.61, 108.91, 107.51, 107.2, 104.6, 104.55, 99.57, 94.1, 91.95, 89.95, 87.52, 85.53, 83.62, 83.61, 83.3, 80.94, 77.18, 77.04, 72.75, 67.21, 66.69, 65.7, 64.67, 60.39, 59.96, 59.61, 58.5, 58.0, 57.92, 55.64, 55.22, 55.02, 54.1, 53.97, 53.3, 53.24, 52.38, 47.57, 47.52]}, {\"line\": {\"color\": \"rgba(55, 128, 191, 1.0)\", \"dash\": \"solid\", \"shape\": \"linear\", \"width\": 1.3}, \"mode\": \"lines\", \"name\": \"TOTAL\", \"text\": \"\", \"type\": \"scatter\", \"uid\": \"d394a3c3-59e9-456c-9bd1-6607a3b26680\", \"x\": [\"PELHAM BAY PARK\", \"VAN CORTLANDT PARK\", \"ROCKAWAY BEACH AND BOARDWALK\", \"FRESHKILLS PARK\", \"FLUSHING MEADOWS CORONA PARK\", \"LATOURETTE PARK & GOLF COURSE\", \"MARINE PARK\", \"BELT PARKWAY/SHORE PARKWAY\", \"BRONX PARK\", \"FRANKLIN D. ROOSEVELT BOARDWALK AND BEACH\", \"ALLEY POND PARK\", \"PROSPECT PARK\", \"FOREST PARK\", \"GRAND CENTRAL PARKWAY\", \"FERRY POINT PARK\", \"CONEY ISLAND BEACH & BOARDWALK\", \"CUNNINGHAM PARK\", \"RICHMOND PARKWAY\", \"CROSS ISLAND PARKWAY\", \"CROSS ISLAND PARKWAY\", \"GREAT KILLS PARK\", \"WOLFE'S POND PARK\", \"CONFERENCE HOUSE PARK\", \"RANDALL'S ISLAND PARK\", \"ROCKAWAY COMMUNITY PARK\", \"KISSENA PARK\", \"RIVERSIDE PARK\", \"RIVERSIDE PARK\", \"HUTCHINSON RIVER PARKWAY\", \"BLUE HERON PARK\", \"DYKER BEACH PARK\", \"WILLOWBROOK PARK\", \"STATEN ISLAND INDUSTRIAL PARK\", \"SILVER LAKE PARK\", \"BRONX RIVER PARKWAY\", \"SOUNDVIEW PARK\", \"BELT PARKWAY\", \"WILLOWBROOK PARKWAY\", \"INWOOD HILL PARK\", \"CLOVE LAKES PARK\", \"FORT WASHINGTON PARK\", \"IDLEWILD PARK\", \"WARDS ISLAND PARK\", \"SOUTH SHORE COUNTRY CLUB\", \"SAW MILL CREEK MARSH\", \"BLOOD ROOT VALLEY\", \"JAMAICA BAY PARK\", \"KISSENA CORRIDOR PARK\", \"HIGHLAND PARK\", \"ARDEN WOODS\", \"RIVERDALE PARK\", \"OCEAN PARKWAY MALLS\", \"BLOOMINGDALE PARK\", \"OCEAN BREEZE PARK\", \"CANARSIE PARK\", \"HIGHBRIDGE PARK MANHATTAN SIDE\", \"CROTONA PARK\", \"PAERDEGAT BASIN PARK\", \"HOOK CREEK PARK\", \"CRESCENT BEACH PARK\", \"CLEARVIEW PARK GOLF COURSE\", \"BAISLEY POND PARK\", \"PELHAM PARKWAY\", \"PRALLS ISLAND\", \"MARINERS MARSH PARK\", \"DOUGLASTON PARK GOLF COURSE\", \"LEMON CREEK PARK\", \"SPRING CREEK PARK\", \"HIGH ROCK PARK\", \"LONG POND PARK\", \"BROOKVILLE PARK\", \"ISLE OF MEADOWS\", \"CALVERT VAUX PARK\", \"PUGSLEY CREEK PARK\", \"PUGSLEY CREEK PARK\", \"SNUG HARBOR CULTURAL CENTER\", \"MOSHOLU PARKWAY\", \"MCGUIRE FIELDS\", \"FRESH CREEK NATURE PRESERVE\", \"JACKIE ROBINSON PARKWAY\", \"FORT TRYON PARK\", \"RIVERSIDE PARK SOUTH\", \"EASTERN PARKWAY\", \"FOUR SPARROW MARSH\", \"FORT TOTTEN PARK\", \"ASTORIA PARK\", \"LAURELTON PARKWAY\", \"RED HOOK RECREATION AREA\", \"SHORE PARK AND PARKWAY\", \"SPRING CREEK PARK ADDITION\", \"JUNIPER VALLEY PARK\", \"LITTLE BAY PARK\", \"POWELL'S COVE PARK\", \"HENRY HUDSON PARKWAY\", \"HARLEM RIVER PARK\", \"DUBOS POINT WILDLIFE SANCTUARY\", \"ROY WILKINS RECREATION CENTER\", \"REED'S BASKET WILLOW SWAMP PARK\", \"BROOKLYN BOTANIC GARDEN\", \"MEREDITH WOODS\"], \"y\": [28, 55, 80, 1, 287, 1, 21, 8, 73, 6, 23, 163, 37, 0, 8, 198, 21, 0, 0, 0, 1, 0, 0, 217, 1, 26, 96, 82, 0, 0, 12, 0, 0, 2, 10, 29, 0, 0, 21, 11, 10, 1, 3, 0, 0, 0, 0, 33, 50, 0, 0, 2, 1, 1, 11, 71, 127, 1, 0, 0, 0, 23, 3, 0, 0, 0, 0, 1, 0, 0, 10, 0, 18, 4, 2, 3, 11, 0, 0, 1, 31, 5, 1, 0, 2, 27, 0, 11, 2, 0, 11, 3, 0, 0, 14, 0, 19, 0, 3, 0]}],\n",
       "                        {\"legend\": {\"bgcolor\": \"#F5F6F9\", \"font\": {\"color\": \"#4D5663\"}}, \"paper_bgcolor\": \"#F5F6F9\", \"plot_bgcolor\": \"#F5F6F9\", \"title\": {\"font\": {\"color\": \"#4D5663\"}, \"text\": \"Crimes in NYC Parks by Parks\"}, \"xaxis\": {\"gridcolor\": \"#E1E5ED\", \"showgrid\": true, \"tickfont\": {\"color\": \"#4D5663\"}, \"title\": {\"font\": {\"color\": \"#4D5663\"}, \"text\": \"Park\"}, \"zerolinecolor\": \"#E1E5ED\"}, \"yaxis\": {\"gridcolor\": \"#E1E5ED\", \"showgrid\": true, \"tickfont\": {\"color\": \"#4D5663\"}, \"title\": {\"font\": {\"color\": \"#4D5663\"}, \"text\": \"No of Crimes\"}, \"zerolinecolor\": \"#E1E5ED\"}},\n",
       "                        {\"showLink\": true, \"linkText\": \"Export to plot.ly\", \"plotlyServerURL\": \"https://plot.ly\", \"responsive\": true}\n",
       "                    ).then(function(){\n",
       "                            \n",
       "var gd = document.getElementById('3e2078ff-d69e-429e-a2ff-34bf15f492da');\n",
       "var x = new MutationObserver(function (mutations, observer) {{\n",
       "        var display = window.getComputedStyle(gd).display;\n",
       "        if (!display || display === 'none') {{\n",
       "            console.log([gd, 'removed!']);\n",
       "            Plotly.purge(gd);\n",
       "            observer.disconnect();\n",
       "        }}\n",
       "}});\n",
       "\n",
       "// Listen for the removal of the full notebook cells\n",
       "var notebookContainer = gd.closest('#notebook-container');\n",
       "if (notebookContainer) {{\n",
       "    x.observe(notebookContainer, {childList: true});\n",
       "}}\n",
       "\n",
       "// Listen for the clearing of the current output cell\n",
       "var outputEl = gd.closest('.output');\n",
       "if (outputEl) {{\n",
       "    x.observe(outputEl, {childList: true});\n",
       "}}\n",
       "\n",
       "                        })\n",
       "                };\n",
       "                });\n",
       "            </script>\n",
       "        </div>"
      ]
     },
     "metadata": {},
     "output_type": "display_data"
    }
   ],
   "source": [
    "#Scatter Plot for by_parksize2 data frame\n",
    "by_parksize2.iplot(kind='scatter', xTitle='Park',yTitle='No of Crimes',title='Crimes in NYC Parks by Parks')"
   ]
  },
  {
   "cell_type": "code",
   "execution_count": 133,
   "metadata": {},
   "outputs": [
    {
     "data": {
      "text/html": [
       "<div>\n",
       "<style scoped>\n",
       "    .dataframe tbody tr th:only-of-type {\n",
       "        vertical-align: middle;\n",
       "    }\n",
       "\n",
       "    .dataframe tbody tr th {\n",
       "        vertical-align: top;\n",
       "    }\n",
       "\n",
       "    .dataframe thead th {\n",
       "        text-align: right;\n",
       "    }\n",
       "</style>\n",
       "<table border=\"1\" class=\"dataframe\">\n",
       "  <thead>\n",
       "    <tr style=\"text-align: right;\">\n",
       "      <th></th>\n",
       "      <th>BOROUGH</th>\n",
       "    </tr>\n",
       "    <tr>\n",
       "      <th>PARK</th>\n",
       "      <th></th>\n",
       "    </tr>\n",
       "  </thead>\n",
       "  <tbody>\n",
       "    <tr>\n",
       "      <th>BELT PARKWAY/SHORE PARKWAY</th>\n",
       "      <td>BROOKLYN/QUEENS</td>\n",
       "    </tr>\n",
       "    <tr>\n",
       "      <th>HIGHLAND PARK</th>\n",
       "      <td>BROOKLYN/QUEENS</td>\n",
       "    </tr>\n",
       "    <tr>\n",
       "      <th>JACKIE ROBINSON PARKWAY</th>\n",
       "      <td>BROOKLYN/QUEENS</td>\n",
       "    </tr>\n",
       "    <tr>\n",
       "      <th>SPRING CREEK PARK</th>\n",
       "      <td>BROOKLYN/QUEENS</td>\n",
       "    </tr>\n",
       "    <tr>\n",
       "      <th>SPRING CREEK PARK ADDITION</th>\n",
       "      <td>BROOKLYN/QUEENS</td>\n",
       "    </tr>\n",
       "  </tbody>\n",
       "</table>\n",
       "</div>"
      ],
      "text/plain": [
       "                                    BOROUGH\n",
       "PARK                                       \n",
       "BELT PARKWAY/SHORE PARKWAY  BROOKLYN/QUEENS\n",
       "HIGHLAND PARK               BROOKLYN/QUEENS\n",
       "JACKIE ROBINSON PARKWAY     BROOKLYN/QUEENS\n",
       "SPRING CREEK PARK           BROOKLYN/QUEENS\n",
       "SPRING CREEK PARK ADDITION  BROOKLYN/QUEENS"
      ]
     },
     "execution_count": 133,
     "metadata": {},
     "output_type": "execute_result"
    }
   ],
   "source": [
    "df2 = df.copy() # Duplicating dataset\n",
    "#There were additional borough named BROOKLYN/QUEENS. Following code is to find out name of the parks in BROOKLYN/QUEENS borough\n",
    "df2.loc[df2['BOROUGH'] == 'BROOKLYN/QUEENS'].groupby(['PARK']).agg({'BOROUGH': np.unique})"
   ]
  },
  {
   "cell_type": "code",
   "execution_count": 134,
   "metadata": {},
   "outputs": [
    {
     "data": {
      "text/html": [
       "<div>\n",
       "<style scoped>\n",
       "    .dataframe tbody tr th:only-of-type {\n",
       "        vertical-align: middle;\n",
       "    }\n",
       "\n",
       "    .dataframe tbody tr th {\n",
       "        vertical-align: top;\n",
       "    }\n",
       "\n",
       "    .dataframe thead th {\n",
       "        text-align: right;\n",
       "    }\n",
       "</style>\n",
       "<table border=\"1\" class=\"dataframe\">\n",
       "  <thead>\n",
       "    <tr style=\"text-align: right;\">\n",
       "      <th></th>\n",
       "      <th>BOROUGH</th>\n",
       "    </tr>\n",
       "    <tr>\n",
       "      <th>PARK</th>\n",
       "      <th></th>\n",
       "    </tr>\n",
       "  </thead>\n",
       "  <tbody>\n",
       "  </tbody>\n",
       "</table>\n",
       "</div>"
      ],
      "text/plain": [
       "Empty DataFrame\n",
       "Columns: [BOROUGH]\n",
       "Index: []"
      ]
     },
     "execution_count": 134,
     "metadata": {},
     "output_type": "execute_result"
    }
   ],
   "source": [
    "#Replace the BROOKLYN/QUEENS with correct borough of respective park\n",
    "df2.loc[df2['PARK'] == 'BELT PARKWAY/SHORE PARKWAY', ['BOROUGH']] = 'BROOKLYN'\n",
    "df2.loc[df2['PARK'] == 'HIGHLAND PARK', ['BOROUGH']] = 'BROOKLYN'\n",
    "df2.loc[df2['PARK'] == 'JACKIE ROBINSON PARKWAY', ['BOROUGH']] = 'BROOKLYN'\n",
    "df2.loc[df2['PARK'] == 'SPRING CREEK PARK', ['BOROUGH']] = 'QUEENS'\n",
    "df2.loc[df2['PARK'] == 'SPRING CREEK PARK ADDITION', ['BOROUGH']] = 'QUEENS'\n",
    "df2.loc[df2['BOROUGH'] == 'BROOKLYN/QUEENS'].groupby(['PARK']).agg({'BOROUGH': np.unique})"
   ]
  },
  {
   "cell_type": "code",
   "execution_count": 72,
   "metadata": {
    "scrolled": true
   },
   "outputs": [
    {
     "data": {
      "text/plain": [
       "BROOKLYN         6213\n",
       "QUEENS           5396\n",
       "BRONX            4123\n",
       "MANHATTAN        3743\n",
       "STATEN ISLAND    2356\n",
       "BROOKLYN           57\n",
       "QUEENS             38\n",
       "Name: BOROUGH, dtype: int64"
      ]
     },
     "execution_count": 72,
     "metadata": {},
     "output_type": "execute_result"
    }
   ],
   "source": [
    "df2['BOROUGH'].value_counts() #It shows same borough repetadely"
   ]
  },
  {
   "cell_type": "code",
   "execution_count": 135,
   "metadata": {},
   "outputs": [
    {
     "data": {
      "text/plain": [
       "BROOKLYN         6600\n",
       "QUEENS           5720\n",
       "BRONX            4340\n",
       "MANHATTAN        3940\n",
       "STATEN ISLAND    2480\n",
       "Name: BOROUGH, dtype: int64"
      ]
     },
     "execution_count": 135,
     "metadata": {},
     "output_type": "execute_result"
    }
   ],
   "source": [
    " #To remove extra spaces from column values\n",
    "df2['BOROUGH'] = df2['BOROUGH'].str.strip()\n",
    "df2['BOROUGH'].value_counts()"
   ]
  },
  {
   "cell_type": "code",
   "execution_count": 76,
   "metadata": {},
   "outputs": [],
   "source": [
    "#Create a modified dataframe grouped by BOROUGH\n",
    "by_borough = df2.groupby(['BOROUGH']).agg({'RAPE': np.sum, 'MURDER': np.sum,'ROBBERY': np.sum, 'FELONY_ASSAULT': np.sum,'BURGLARY': np.sum, 'GRAND_LARCENY': np.sum, 'GRAND_LARCENY_OF_MOTOR_VEHICLE': np.sum, 'TOTAL': np.sum})"
   ]
  },
  {
   "cell_type": "code",
   "execution_count": 80,
   "metadata": {},
   "outputs": [
    {
     "data": {
      "application/vnd.plotly.v1+json": {
       "config": {
        "linkText": "Export to plot.ly",
        "plotlyServerURL": "https://plot.ly",
        "responsive": true,
        "showLink": true
       },
       "data": [
        {
         "marker": {
          "color": "rgba(255, 153, 51, 0.6)",
          "line": {
           "color": "rgba(255, 153, 51, 1.0)",
           "width": 1
          }
         },
         "name": "RAPE",
         "orientation": "v",
         "text": "",
         "type": "bar",
         "uid": "9c1ef393-e31b-41b8-b246-7e310cd3052b",
         "x": [
          "BRONX",
          "BROOKLYN",
          "MANHATTAN",
          "QUEENS",
          "STATEN ISLAND"
         ],
         "y": [
          22,
          38,
          23,
          18,
          4
         ]
        },
        {
         "marker": {
          "color": "rgba(55, 128, 191, 0.6)",
          "line": {
           "color": "rgba(55, 128, 191, 1.0)",
           "width": 1
          }
         },
         "name": "MURDER",
         "orientation": "v",
         "text": "",
         "type": "bar",
         "uid": "a67955c7-08fa-457f-8260-7c341c6ff352",
         "x": [
          "BRONX",
          "BROOKLYN",
          "MANHATTAN",
          "QUEENS",
          "STATEN ISLAND"
         ],
         "y": [
          12,
          7,
          2,
          9,
          0
         ]
        },
        {
         "marker": {
          "color": "rgba(50, 171, 96, 0.6)",
          "line": {
           "color": "rgba(50, 171, 96, 1.0)",
           "width": 1
          }
         },
         "name": "ROBBERY",
         "orientation": "v",
         "text": "",
         "type": "bar",
         "uid": "2b8f4555-c4bc-4b6f-b7dc-59978d631492",
         "x": [
          "BRONX",
          "BROOKLYN",
          "MANHATTAN",
          "QUEENS",
          "STATEN ISLAND"
         ],
         "y": [
          506,
          504,
          384,
          329,
          32
         ]
        },
        {
         "marker": {
          "color": "rgba(128, 0, 128, 0.6)",
          "line": {
           "color": "rgba(128, 0, 128, 1.0)",
           "width": 1
          }
         },
         "name": "FELONY_ASSAULT",
         "orientation": "v",
         "text": "",
         "type": "bar",
         "uid": "d7a18087-2194-412a-aadc-c3d3218bdedf",
         "x": [
          "BRONX",
          "BROOKLYN",
          "MANHATTAN",
          "QUEENS",
          "STATEN ISLAND"
         ],
         "y": [
          275,
          301,
          234,
          176,
          8
         ]
        },
        {
         "marker": {
          "color": "rgba(219, 64, 82, 0.6)",
          "line": {
           "color": "rgba(219, 64, 82, 1.0)",
           "width": 1
          }
         },
         "name": "BURGLARY",
         "orientation": "v",
         "text": "",
         "type": "bar",
         "uid": "76636d01-0382-4c61-91d6-d078ec178432",
         "x": [
          "BRONX",
          "BROOKLYN",
          "MANHATTAN",
          "QUEENS",
          "STATEN ISLAND"
         ],
         "y": [
          24,
          19,
          36,
          29,
          4
         ]
        },
        {
         "marker": {
          "color": "rgba(0, 128, 128, 0.6)",
          "line": {
           "color": "rgba(0, 128, 128, 1.0)",
           "width": 1
          }
         },
         "name": "GRAND_LARCENY",
         "orientation": "v",
         "text": "",
         "type": "bar",
         "uid": "c61a8a9a-a25e-450c-9d0e-850a29ee20a4",
         "x": [
          "BRONX",
          "BROOKLYN",
          "MANHATTAN",
          "QUEENS",
          "STATEN ISLAND"
         ],
         "y": [
          267,
          659,
          943,
          435,
          12
         ]
        },
        {
         "marker": {
          "color": "rgba(255, 255, 51, 0.6)",
          "line": {
           "color": "rgba(255, 255, 51, 1.0)",
           "width": 1
          }
         },
         "name": "GRAND_LARCENY_OF_MOTOR_VEHICLE",
         "orientation": "v",
         "text": "",
         "type": "bar",
         "uid": "a26a7cc4-fa0e-43f8-9617-85e072d6086f",
         "x": [
          "BRONX",
          "BROOKLYN",
          "MANHATTAN",
          "QUEENS",
          "STATEN ISLAND"
         ],
         "y": [
          7,
          4,
          3,
          15,
          0
         ]
        },
        {
         "marker": {
          "color": "rgba(128, 128, 0, 0.6)",
          "line": {
           "color": "rgba(128, 128, 0, 1.0)",
           "width": 1
          }
         },
         "name": "TOTAL",
         "orientation": "v",
         "text": "",
         "type": "bar",
         "uid": "55c05eff-6854-4fc6-973e-c9d4f162b935",
         "x": [
          "BRONX",
          "BROOKLYN",
          "MANHATTAN",
          "QUEENS",
          "STATEN ISLAND"
         ],
         "y": [
          1113,
          1532,
          1625,
          1011,
          60
         ]
        }
       ],
       "layout": {
        "legend": {
         "bgcolor": "#F5F6F9",
         "font": {
          "color": "#4D5663"
         }
        },
        "paper_bgcolor": "#F5F6F9",
        "plot_bgcolor": "#F5F6F9",
        "title": {
         "font": {
          "color": "#4D5663"
         },
         "text": "Crimes in NYC Parks by Borough"
        },
        "xaxis": {
         "gridcolor": "#E1E5ED",
         "showgrid": true,
         "tickfont": {
          "color": "#4D5663"
         },
         "title": {
          "font": {
           "color": "#4D5663"
          },
          "text": "Borough"
         },
         "zerolinecolor": "#E1E5ED"
        },
        "yaxis": {
         "gridcolor": "#E1E5ED",
         "showgrid": true,
         "tickfont": {
          "color": "#4D5663"
         },
         "title": {
          "font": {
           "color": "#4D5663"
          },
          "text": "No of Crimes"
         },
         "zerolinecolor": "#E1E5ED"
        }
       }
      },
      "text/html": [
       "<div>\n",
       "        \n",
       "        \n",
       "            <div id=\"0456e625-e449-4025-9530-1d5287c04611\" class=\"plotly-graph-div\" style=\"height:525px; width:100%;\"></div>\n",
       "            <script type=\"text/javascript\">\n",
       "                require([\"plotly\"], function(Plotly) {\n",
       "                    window.PLOTLYENV=window.PLOTLYENV || {};\n",
       "                    window.PLOTLYENV.BASE_URL='https://plot.ly';\n",
       "                    \n",
       "                if (document.getElementById(\"0456e625-e449-4025-9530-1d5287c04611\")) {\n",
       "                    Plotly.newPlot(\n",
       "                        '0456e625-e449-4025-9530-1d5287c04611',\n",
       "                        [{\"marker\": {\"color\": \"rgba(255, 153, 51, 0.6)\", \"line\": {\"color\": \"rgba(255, 153, 51, 1.0)\", \"width\": 1}}, \"name\": \"RAPE\", \"orientation\": \"v\", \"text\": \"\", \"type\": \"bar\", \"uid\": \"ad225ad9-df8e-4341-86b3-b64534193242\", \"x\": [\"BRONX\", \"BROOKLYN\", \"MANHATTAN\", \"QUEENS\", \"STATEN ISLAND\"], \"y\": [22, 38, 23, 18, 4]}, {\"marker\": {\"color\": \"rgba(55, 128, 191, 0.6)\", \"line\": {\"color\": \"rgba(55, 128, 191, 1.0)\", \"width\": 1}}, \"name\": \"MURDER\", \"orientation\": \"v\", \"text\": \"\", \"type\": \"bar\", \"uid\": \"76308784-fd50-4a92-a19c-74dd90aaae1f\", \"x\": [\"BRONX\", \"BROOKLYN\", \"MANHATTAN\", \"QUEENS\", \"STATEN ISLAND\"], \"y\": [12, 7, 2, 9, 0]}, {\"marker\": {\"color\": \"rgba(50, 171, 96, 0.6)\", \"line\": {\"color\": \"rgba(50, 171, 96, 1.0)\", \"width\": 1}}, \"name\": \"ROBBERY\", \"orientation\": \"v\", \"text\": \"\", \"type\": \"bar\", \"uid\": \"1841c1d2-b8f6-485f-87d2-8a6261d37250\", \"x\": [\"BRONX\", \"BROOKLYN\", \"MANHATTAN\", \"QUEENS\", \"STATEN ISLAND\"], \"y\": [506, 504, 384, 329, 32]}, {\"marker\": {\"color\": \"rgba(128, 0, 128, 0.6)\", \"line\": {\"color\": \"rgba(128, 0, 128, 1.0)\", \"width\": 1}}, \"name\": \"FELONY_ASSAULT\", \"orientation\": \"v\", \"text\": \"\", \"type\": \"bar\", \"uid\": \"f0c43688-74d3-4001-8926-6202201274dc\", \"x\": [\"BRONX\", \"BROOKLYN\", \"MANHATTAN\", \"QUEENS\", \"STATEN ISLAND\"], \"y\": [275, 301, 234, 176, 8]}, {\"marker\": {\"color\": \"rgba(219, 64, 82, 0.6)\", \"line\": {\"color\": \"rgba(219, 64, 82, 1.0)\", \"width\": 1}}, \"name\": \"BURGLARY\", \"orientation\": \"v\", \"text\": \"\", \"type\": \"bar\", \"uid\": \"fcf9b3c5-d9ff-4ce8-b317-f8558d11d200\", \"x\": [\"BRONX\", \"BROOKLYN\", \"MANHATTAN\", \"QUEENS\", \"STATEN ISLAND\"], \"y\": [24, 19, 36, 29, 4]}, {\"marker\": {\"color\": \"rgba(0, 128, 128, 0.6)\", \"line\": {\"color\": \"rgba(0, 128, 128, 1.0)\", \"width\": 1}}, \"name\": \"GRAND_LARCENY\", \"orientation\": \"v\", \"text\": \"\", \"type\": \"bar\", \"uid\": \"3887edea-ce72-4e6c-9c44-bf577fabcb50\", \"x\": [\"BRONX\", \"BROOKLYN\", \"MANHATTAN\", \"QUEENS\", \"STATEN ISLAND\"], \"y\": [267, 659, 943, 435, 12]}, {\"marker\": {\"color\": \"rgba(255, 255, 51, 0.6)\", \"line\": {\"color\": \"rgba(255, 255, 51, 1.0)\", \"width\": 1}}, \"name\": \"GRAND_LARCENY_OF_MOTOR_VEHICLE\", \"orientation\": \"v\", \"text\": \"\", \"type\": \"bar\", \"uid\": \"4e6bdc5e-0fa1-432d-9f35-3852d8123cc4\", \"x\": [\"BRONX\", \"BROOKLYN\", \"MANHATTAN\", \"QUEENS\", \"STATEN ISLAND\"], \"y\": [7, 4, 3, 15, 0]}, {\"marker\": {\"color\": \"rgba(128, 128, 0, 0.6)\", \"line\": {\"color\": \"rgba(128, 128, 0, 1.0)\", \"width\": 1}}, \"name\": \"TOTAL\", \"orientation\": \"v\", \"text\": \"\", \"type\": \"bar\", \"uid\": \"eff4b442-6e2f-4955-b0c1-90c70d705501\", \"x\": [\"BRONX\", \"BROOKLYN\", \"MANHATTAN\", \"QUEENS\", \"STATEN ISLAND\"], \"y\": [1113, 1532, 1625, 1011, 60]}],\n",
       "                        {\"legend\": {\"bgcolor\": \"#F5F6F9\", \"font\": {\"color\": \"#4D5663\"}}, \"paper_bgcolor\": \"#F5F6F9\", \"plot_bgcolor\": \"#F5F6F9\", \"title\": {\"font\": {\"color\": \"#4D5663\"}, \"text\": \"Crimes in NYC Parks by Borough\"}, \"xaxis\": {\"gridcolor\": \"#E1E5ED\", \"showgrid\": true, \"tickfont\": {\"color\": \"#4D5663\"}, \"title\": {\"font\": {\"color\": \"#4D5663\"}, \"text\": \"Borough\"}, \"zerolinecolor\": \"#E1E5ED\"}, \"yaxis\": {\"gridcolor\": \"#E1E5ED\", \"showgrid\": true, \"tickfont\": {\"color\": \"#4D5663\"}, \"title\": {\"font\": {\"color\": \"#4D5663\"}, \"text\": \"No of Crimes\"}, \"zerolinecolor\": \"#E1E5ED\"}},\n",
       "                        {\"showLink\": true, \"linkText\": \"Export to plot.ly\", \"plotlyServerURL\": \"https://plot.ly\", \"responsive\": true}\n",
       "                    ).then(function(){\n",
       "                            \n",
       "var gd = document.getElementById('0456e625-e449-4025-9530-1d5287c04611');\n",
       "var x = new MutationObserver(function (mutations, observer) {{\n",
       "        var display = window.getComputedStyle(gd).display;\n",
       "        if (!display || display === 'none') {{\n",
       "            console.log([gd, 'removed!']);\n",
       "            Plotly.purge(gd);\n",
       "            observer.disconnect();\n",
       "        }}\n",
       "}});\n",
       "\n",
       "// Listen for the removal of the full notebook cells\n",
       "var notebookContainer = gd.closest('#notebook-container');\n",
       "if (notebookContainer) {{\n",
       "    x.observe(notebookContainer, {childList: true});\n",
       "}}\n",
       "\n",
       "// Listen for the clearing of the current output cell\n",
       "var outputEl = gd.closest('.output');\n",
       "if (outputEl) {{\n",
       "    x.observe(outputEl, {childList: true});\n",
       "}}\n",
       "\n",
       "                        })\n",
       "                };\n",
       "                });\n",
       "            </script>\n",
       "        </div>"
      ]
     },
     "metadata": {},
     "output_type": "display_data"
    }
   ],
   "source": [
    "# Bar plot for by_borough\n",
    "by_borough.iplot(kind='bar', xTitle='Borough',yTitle='No of Crimes',title='Crimes in NYC Parks by Borough')"
   ]
  },
  {
   "cell_type": "code",
   "execution_count": 82,
   "metadata": {},
   "outputs": [
    {
     "data": {
      "application/vnd.plotly.v1+json": {
       "config": {
        "linkText": "Export to plot.ly",
        "plotlyServerURL": "https://plot.ly",
        "responsive": true,
        "showLink": true
       },
       "data": [
        {
         "marker": {
          "color": "rgba(255, 153, 51, 0.6)",
          "line": {
           "color": "rgba(255, 153, 51, 1.0)",
           "width": 1
          }
         },
         "name": "RAPE",
         "orientation": "v",
         "text": "",
         "type": "bar",
         "uid": "6cc9d630-d5dd-4320-ba6c-619b0bd03136",
         "x": [
          "BRONX",
          "BROOKLYN",
          "MANHATTAN",
          "QUEENS",
          "STATEN ISLAND"
         ],
         "y": [
          22,
          38,
          23,
          18,
          4
         ]
        },
        {
         "marker": {
          "color": "rgba(55, 128, 191, 0.6)",
          "line": {
           "color": "rgba(55, 128, 191, 1.0)",
           "width": 1
          }
         },
         "name": "MURDER",
         "orientation": "v",
         "text": "",
         "type": "bar",
         "uid": "e616d583-546b-44b8-956d-03a8ec5cce09",
         "x": [
          "BRONX",
          "BROOKLYN",
          "MANHATTAN",
          "QUEENS",
          "STATEN ISLAND"
         ],
         "y": [
          12,
          7,
          2,
          9,
          0
         ]
        },
        {
         "marker": {
          "color": "rgba(50, 171, 96, 0.6)",
          "line": {
           "color": "rgba(50, 171, 96, 1.0)",
           "width": 1
          }
         },
         "name": "ROBBERY",
         "orientation": "v",
         "text": "",
         "type": "bar",
         "uid": "5173f55d-0516-434a-8a2b-a29f4fd1925b",
         "x": [
          "BRONX",
          "BROOKLYN",
          "MANHATTAN",
          "QUEENS",
          "STATEN ISLAND"
         ],
         "y": [
          506,
          504,
          384,
          329,
          32
         ]
        },
        {
         "marker": {
          "color": "rgba(128, 0, 128, 0.6)",
          "line": {
           "color": "rgba(128, 0, 128, 1.0)",
           "width": 1
          }
         },
         "name": "FELONY_ASSAULT",
         "orientation": "v",
         "text": "",
         "type": "bar",
         "uid": "cebe65cc-82b0-464b-b5fd-65a728fcfdd1",
         "x": [
          "BRONX",
          "BROOKLYN",
          "MANHATTAN",
          "QUEENS",
          "STATEN ISLAND"
         ],
         "y": [
          275,
          301,
          234,
          176,
          8
         ]
        },
        {
         "marker": {
          "color": "rgba(219, 64, 82, 0.6)",
          "line": {
           "color": "rgba(219, 64, 82, 1.0)",
           "width": 1
          }
         },
         "name": "BURGLARY",
         "orientation": "v",
         "text": "",
         "type": "bar",
         "uid": "6bdf39c6-5d87-4276-bdf0-484dc503303b",
         "x": [
          "BRONX",
          "BROOKLYN",
          "MANHATTAN",
          "QUEENS",
          "STATEN ISLAND"
         ],
         "y": [
          24,
          19,
          36,
          29,
          4
         ]
        },
        {
         "marker": {
          "color": "rgba(0, 128, 128, 0.6)",
          "line": {
           "color": "rgba(0, 128, 128, 1.0)",
           "width": 1
          }
         },
         "name": "GRAND_LARCENY",
         "orientation": "v",
         "text": "",
         "type": "bar",
         "uid": "224bf41c-f90a-49f9-a595-40414e5b0ff0",
         "x": [
          "BRONX",
          "BROOKLYN",
          "MANHATTAN",
          "QUEENS",
          "STATEN ISLAND"
         ],
         "y": [
          267,
          659,
          943,
          435,
          12
         ]
        },
        {
         "marker": {
          "color": "rgba(255, 255, 51, 0.6)",
          "line": {
           "color": "rgba(255, 255, 51, 1.0)",
           "width": 1
          }
         },
         "name": "GRAND_LARCENY_OF_MOTOR_VEHICLE",
         "orientation": "v",
         "text": "",
         "type": "bar",
         "uid": "7962ef7a-c0e6-4bb4-9d0c-8b4cac8f54e4",
         "x": [
          "BRONX",
          "BROOKLYN",
          "MANHATTAN",
          "QUEENS",
          "STATEN ISLAND"
         ],
         "y": [
          7,
          4,
          3,
          15,
          0
         ]
        },
        {
         "marker": {
          "color": "rgba(128, 128, 0, 0.6)",
          "line": {
           "color": "rgba(128, 128, 0, 1.0)",
           "width": 1
          }
         },
         "name": "TOTAL",
         "orientation": "v",
         "text": "",
         "type": "bar",
         "uid": "5d8b7f18-196c-405f-93ee-0d5a855b1482",
         "x": [
          "BRONX",
          "BROOKLYN",
          "MANHATTAN",
          "QUEENS",
          "STATEN ISLAND"
         ],
         "y": [
          1113,
          1532,
          1625,
          1011,
          60
         ]
        }
       ],
       "layout": {
        "barmode": "stack",
        "legend": {
         "bgcolor": "#F5F6F9",
         "font": {
          "color": "#4D5663"
         },
         "traceorder": "normal"
        },
        "paper_bgcolor": "#F5F6F9",
        "plot_bgcolor": "#F5F6F9",
        "title": {
         "font": {
          "color": "#4D5663"
         },
         "text": "Crimes in NYC Parks by Borough"
        },
        "xaxis": {
         "gridcolor": "#E1E5ED",
         "showgrid": true,
         "tickfont": {
          "color": "#4D5663"
         },
         "title": {
          "font": {
           "color": "#4D5663"
          },
          "text": "Borough"
         },
         "zerolinecolor": "#E1E5ED"
        },
        "yaxis": {
         "gridcolor": "#E1E5ED",
         "showgrid": true,
         "tickfont": {
          "color": "#4D5663"
         },
         "title": {
          "font": {
           "color": "#4D5663"
          },
          "text": "No of Crimes"
         },
         "zerolinecolor": "#E1E5ED"
        }
       }
      },
      "text/html": [
       "<div>\n",
       "        \n",
       "        \n",
       "            <div id=\"c6ebdd76-ecd1-4fec-9646-1920c3c505da\" class=\"plotly-graph-div\" style=\"height:525px; width:100%;\"></div>\n",
       "            <script type=\"text/javascript\">\n",
       "                require([\"plotly\"], function(Plotly) {\n",
       "                    window.PLOTLYENV=window.PLOTLYENV || {};\n",
       "                    window.PLOTLYENV.BASE_URL='https://plot.ly';\n",
       "                    \n",
       "                if (document.getElementById(\"c6ebdd76-ecd1-4fec-9646-1920c3c505da\")) {\n",
       "                    Plotly.newPlot(\n",
       "                        'c6ebdd76-ecd1-4fec-9646-1920c3c505da',\n",
       "                        [{\"marker\": {\"color\": \"rgba(255, 153, 51, 0.6)\", \"line\": {\"color\": \"rgba(255, 153, 51, 1.0)\", \"width\": 1}}, \"name\": \"RAPE\", \"orientation\": \"v\", \"text\": \"\", \"type\": \"bar\", \"uid\": \"a6a7682e-c938-4305-84ea-4a6e8660a701\", \"x\": [\"BRONX\", \"BROOKLYN\", \"MANHATTAN\", \"QUEENS\", \"STATEN ISLAND\"], \"y\": [22, 38, 23, 18, 4]}, {\"marker\": {\"color\": \"rgba(55, 128, 191, 0.6)\", \"line\": {\"color\": \"rgba(55, 128, 191, 1.0)\", \"width\": 1}}, \"name\": \"MURDER\", \"orientation\": \"v\", \"text\": \"\", \"type\": \"bar\", \"uid\": \"2b231d34-e226-4936-a665-7a8d69ea719b\", \"x\": [\"BRONX\", \"BROOKLYN\", \"MANHATTAN\", \"QUEENS\", \"STATEN ISLAND\"], \"y\": [12, 7, 2, 9, 0]}, {\"marker\": {\"color\": \"rgba(50, 171, 96, 0.6)\", \"line\": {\"color\": \"rgba(50, 171, 96, 1.0)\", \"width\": 1}}, \"name\": \"ROBBERY\", \"orientation\": \"v\", \"text\": \"\", \"type\": \"bar\", \"uid\": \"de4dca44-4317-4657-bdad-a360b30d7b84\", \"x\": [\"BRONX\", \"BROOKLYN\", \"MANHATTAN\", \"QUEENS\", \"STATEN ISLAND\"], \"y\": [506, 504, 384, 329, 32]}, {\"marker\": {\"color\": \"rgba(128, 0, 128, 0.6)\", \"line\": {\"color\": \"rgba(128, 0, 128, 1.0)\", \"width\": 1}}, \"name\": \"FELONY_ASSAULT\", \"orientation\": \"v\", \"text\": \"\", \"type\": \"bar\", \"uid\": \"5c0f3d60-f12e-4e5a-ae35-36df6bda4915\", \"x\": [\"BRONX\", \"BROOKLYN\", \"MANHATTAN\", \"QUEENS\", \"STATEN ISLAND\"], \"y\": [275, 301, 234, 176, 8]}, {\"marker\": {\"color\": \"rgba(219, 64, 82, 0.6)\", \"line\": {\"color\": \"rgba(219, 64, 82, 1.0)\", \"width\": 1}}, \"name\": \"BURGLARY\", \"orientation\": \"v\", \"text\": \"\", \"type\": \"bar\", \"uid\": \"637a8de4-d055-45ab-a66c-baf642efed97\", \"x\": [\"BRONX\", \"BROOKLYN\", \"MANHATTAN\", \"QUEENS\", \"STATEN ISLAND\"], \"y\": [24, 19, 36, 29, 4]}, {\"marker\": {\"color\": \"rgba(0, 128, 128, 0.6)\", \"line\": {\"color\": \"rgba(0, 128, 128, 1.0)\", \"width\": 1}}, \"name\": \"GRAND_LARCENY\", \"orientation\": \"v\", \"text\": \"\", \"type\": \"bar\", \"uid\": \"a9900f2e-8ff6-4d64-9b3c-35530524d03d\", \"x\": [\"BRONX\", \"BROOKLYN\", \"MANHATTAN\", \"QUEENS\", \"STATEN ISLAND\"], \"y\": [267, 659, 943, 435, 12]}, {\"marker\": {\"color\": \"rgba(255, 255, 51, 0.6)\", \"line\": {\"color\": \"rgba(255, 255, 51, 1.0)\", \"width\": 1}}, \"name\": \"GRAND_LARCENY_OF_MOTOR_VEHICLE\", \"orientation\": \"v\", \"text\": \"\", \"type\": \"bar\", \"uid\": \"2f7effe7-649d-4370-aaac-5631bf6a564a\", \"x\": [\"BRONX\", \"BROOKLYN\", \"MANHATTAN\", \"QUEENS\", \"STATEN ISLAND\"], \"y\": [7, 4, 3, 15, 0]}, {\"marker\": {\"color\": \"rgba(128, 128, 0, 0.6)\", \"line\": {\"color\": \"rgba(128, 128, 0, 1.0)\", \"width\": 1}}, \"name\": \"TOTAL\", \"orientation\": \"v\", \"text\": \"\", \"type\": \"bar\", \"uid\": \"7ccbd8b4-6edc-49ed-9d33-bfc28177b9f4\", \"x\": [\"BRONX\", \"BROOKLYN\", \"MANHATTAN\", \"QUEENS\", \"STATEN ISLAND\"], \"y\": [1113, 1532, 1625, 1011, 60]}],\n",
       "                        {\"barmode\": \"stack\", \"legend\": {\"bgcolor\": \"#F5F6F9\", \"font\": {\"color\": \"#4D5663\"}, \"traceorder\": \"normal\"}, \"paper_bgcolor\": \"#F5F6F9\", \"plot_bgcolor\": \"#F5F6F9\", \"title\": {\"font\": {\"color\": \"#4D5663\"}, \"text\": \"Crimes in NYC Parks by Borough\"}, \"xaxis\": {\"gridcolor\": \"#E1E5ED\", \"showgrid\": true, \"tickfont\": {\"color\": \"#4D5663\"}, \"title\": {\"font\": {\"color\": \"#4D5663\"}, \"text\": \"Borough\"}, \"zerolinecolor\": \"#E1E5ED\"}, \"yaxis\": {\"gridcolor\": \"#E1E5ED\", \"showgrid\": true, \"tickfont\": {\"color\": \"#4D5663\"}, \"title\": {\"font\": {\"color\": \"#4D5663\"}, \"text\": \"No of Crimes\"}, \"zerolinecolor\": \"#E1E5ED\"}},\n",
       "                        {\"showLink\": true, \"linkText\": \"Export to plot.ly\", \"plotlyServerURL\": \"https://plot.ly\", \"responsive\": true}\n",
       "                    ).then(function(){\n",
       "                            \n",
       "var gd = document.getElementById('c6ebdd76-ecd1-4fec-9646-1920c3c505da');\n",
       "var x = new MutationObserver(function (mutations, observer) {{\n",
       "        var display = window.getComputedStyle(gd).display;\n",
       "        if (!display || display === 'none') {{\n",
       "            console.log([gd, 'removed!']);\n",
       "            Plotly.purge(gd);\n",
       "            observer.disconnect();\n",
       "        }}\n",
       "}});\n",
       "\n",
       "// Listen for the removal of the full notebook cells\n",
       "var notebookContainer = gd.closest('#notebook-container');\n",
       "if (notebookContainer) {{\n",
       "    x.observe(notebookContainer, {childList: true});\n",
       "}}\n",
       "\n",
       "// Listen for the clearing of the current output cell\n",
       "var outputEl = gd.closest('.output');\n",
       "if (outputEl) {{\n",
       "    x.observe(outputEl, {childList: true});\n",
       "}}\n",
       "\n",
       "                        })\n",
       "                };\n",
       "                });\n",
       "            </script>\n",
       "        </div>"
      ]
     },
     "metadata": {},
     "output_type": "display_data"
    }
   ],
   "source": [
    "# Stacked Bar plot for by_borough\n",
    "by_borough.iplot(kind='bar', barmode = 'stack', xTitle='Borough',yTitle='No of Crimes',title='Crimes in NYC Parks by Borough')"
   ]
  },
  {
   "cell_type": "code",
   "execution_count": 112,
   "metadata": {},
   "outputs": [],
   "source": [
    "#for mapping new data frame by_map was created\n",
    "by_map = df.groupby(['PARK'], as_index = False).agg({'TOTAL': np.sum})\n",
    "by_map['PARK'] = by_map['PARK'].str.strip()"
   ]
  },
  {
   "cell_type": "code",
   "execution_count": 115,
   "metadata": {},
   "outputs": [
    {
     "data": {
      "text/html": [
       "<div>\n",
       "<style scoped>\n",
       "    .dataframe tbody tr th:only-of-type {\n",
       "        vertical-align: middle;\n",
       "    }\n",
       "\n",
       "    .dataframe tbody tr th {\n",
       "        vertical-align: top;\n",
       "    }\n",
       "\n",
       "    .dataframe thead th {\n",
       "        text-align: right;\n",
       "    }\n",
       "</style>\n",
       "<table border=\"1\" class=\"dataframe\">\n",
       "  <thead>\n",
       "    <tr style=\"text-align: right;\">\n",
       "      <th></th>\n",
       "      <th>GISPROPNUM</th>\n",
       "      <th>THE_GEOM</th>\n",
       "      <th>OBJECTID</th>\n",
       "      <th>OMPPROPID</th>\n",
       "      <th>DEPARTMENT</th>\n",
       "      <th>PERMITDIST</th>\n",
       "      <th>PERMITPARE</th>\n",
       "      <th>PARENTID</th>\n",
       "      <th>LOCATION</th>\n",
       "      <th>COMMUNITYB</th>\n",
       "      <th>...</th>\n",
       "      <th>PERMIT</th>\n",
       "      <th>SIGNNAME</th>\n",
       "      <th>SUBCATEGOR</th>\n",
       "      <th>TYPECATEGO</th>\n",
       "      <th>URL</th>\n",
       "      <th>WATERFRONT</th>\n",
       "      <th>NYS_ASSEMB</th>\n",
       "      <th>NYS_SENATE</th>\n",
       "      <th>US_CONGRES</th>\n",
       "      <th>GLOBALID</th>\n",
       "    </tr>\n",
       "  </thead>\n",
       "  <tbody>\n",
       "    <tr>\n",
       "      <th>0</th>\n",
       "      <td>M193</td>\n",
       "      <td>MULTIPOLYGON (((-73.93682693707335 40.81184552...</td>\n",
       "      <td>5834</td>\n",
       "      <td>M193</td>\n",
       "      <td>M-11</td>\n",
       "      <td>M-11</td>\n",
       "      <td>M-11</td>\n",
       "      <td>M-11</td>\n",
       "      <td>5 Ave. and E. 135 St.</td>\n",
       "      <td>111</td>\n",
       "      <td>...</td>\n",
       "      <td>Y</td>\n",
       "      <td>Abraham Lincoln Playground</td>\n",
       "      <td>Neighborhood Plgd</td>\n",
       "      <td>Community Park</td>\n",
       "      <td>http://www.nycgovparks.org/parks/M193/</td>\n",
       "      <td>No</td>\n",
       "      <td>70</td>\n",
       "      <td>30</td>\n",
       "      <td>13</td>\n",
       "      <td>{5D62AD38-AE30-4E43-8DE0-E28780CD8E3C}</td>\n",
       "    </tr>\n",
       "    <tr>\n",
       "      <th>1</th>\n",
       "      <td>Q159</td>\n",
       "      <td>MULTIPOLYGON (((-73.73628053979716 40.72267578...</td>\n",
       "      <td>6166</td>\n",
       "      <td>Q159</td>\n",
       "      <td>Q-13</td>\n",
       "      <td>Q-13</td>\n",
       "      <td>Q-13</td>\n",
       "      <td>Q-13</td>\n",
       "      <td>Winchester Blvd., 93 Ave., 220 St.</td>\n",
       "      <td>413</td>\n",
       "      <td>...</td>\n",
       "      <td>Y</td>\n",
       "      <td>Father Reilly Square</td>\n",
       "      <td>Sitting Area/Triangle/Mall</td>\n",
       "      <td>Triangle/Plaza</td>\n",
       "      <td>http://www.nycgovparks.org/parks/Q159/</td>\n",
       "      <td>No</td>\n",
       "      <td>33</td>\n",
       "      <td>14</td>\n",
       "      <td>5</td>\n",
       "      <td>{12B62C23-3F42-418E-B059-F0B549D7FCEB}</td>\n",
       "    </tr>\n",
       "    <tr>\n",
       "      <th>2</th>\n",
       "      <td>X085</td>\n",
       "      <td>MULTIPOLYGON (((-73.89825077067158 40.85693358...</td>\n",
       "      <td>4792</td>\n",
       "      <td>X085</td>\n",
       "      <td>X-05</td>\n",
       "      <td>X-05</td>\n",
       "      <td>X-05</td>\n",
       "      <td>X-05</td>\n",
       "      <td>E. 183 St. bet. Valentine Ave. and Ryer</td>\n",
       "      <td>205</td>\n",
       "      <td>...</td>\n",
       "      <td>Y</td>\n",
       "      <td>Slattery Playground</td>\n",
       "      <td>Neighborhood Plgd</td>\n",
       "      <td>Playground</td>\n",
       "      <td>http://www.nycgovparks.org/parks/X085/</td>\n",
       "      <td>No</td>\n",
       "      <td>86</td>\n",
       "      <td>33</td>\n",
       "      <td>15</td>\n",
       "      <td>{01AD9F2D-AD1B-4FBE-BB15-41DC9DC485FD}</td>\n",
       "    </tr>\n",
       "    <tr>\n",
       "      <th>3</th>\n",
       "      <td>B223PD</td>\n",
       "      <td>MULTIPOLYGON (((-73.9553329149497 40.710422132...</td>\n",
       "      <td>5124</td>\n",
       "      <td>B223PD</td>\n",
       "      <td>B-01</td>\n",
       "      <td>B-01</td>\n",
       "      <td>B-01</td>\n",
       "      <td>B-01</td>\n",
       "      <td>Rodney St., S. 3 St., Borniquen Pl.</td>\n",
       "      <td>301</td>\n",
       "      <td>...</td>\n",
       "      <td>Y</td>\n",
       "      <td>Rodney Playground Center</td>\n",
       "      <td>Sitting Area/Triangle/Mall</td>\n",
       "      <td>Neighborhood Park</td>\n",
       "      <td>http://www.nycgovparks.org/parks/B223PD/</td>\n",
       "      <td>No</td>\n",
       "      <td>53</td>\n",
       "      <td>18</td>\n",
       "      <td>7</td>\n",
       "      <td>{F14C1976-8BEC-49F1-A139-798EA720A52E}</td>\n",
       "    </tr>\n",
       "    <tr>\n",
       "      <th>4</th>\n",
       "      <td>B095</td>\n",
       "      <td>MULTIPOLYGON (((-73.99424820391394 40.67057586...</td>\n",
       "      <td>5456</td>\n",
       "      <td>B095</td>\n",
       "      <td>B-06</td>\n",
       "      <td>B-06</td>\n",
       "      <td>B-06</td>\n",
       "      <td>B-06</td>\n",
       "      <td>11 St., 12 St. bet. 2 Ave. and 3 Ave.</td>\n",
       "      <td>306</td>\n",
       "      <td>...</td>\n",
       "      <td>Y</td>\n",
       "      <td>Ennis Playground</td>\n",
       "      <td>Neighborhood Plgd</td>\n",
       "      <td>Playground</td>\n",
       "      <td>http://www.nycgovparks.org/parks/B095/</td>\n",
       "      <td>No</td>\n",
       "      <td>51</td>\n",
       "      <td>25</td>\n",
       "      <td>7</td>\n",
       "      <td>{B2FA7ABF-7ECB-4847-8979-0DD773A819F8}</td>\n",
       "    </tr>\n",
       "  </tbody>\n",
       "</table>\n",
       "<p>5 rows × 36 columns</p>\n",
       "</div>"
      ],
      "text/plain": [
       "  GISPROPNUM                                           THE_GEOM  OBJECTID  \\\n",
       "0       M193  MULTIPOLYGON (((-73.93682693707335 40.81184552...      5834   \n",
       "1       Q159  MULTIPOLYGON (((-73.73628053979716 40.72267578...      6166   \n",
       "2       X085  MULTIPOLYGON (((-73.89825077067158 40.85693358...      4792   \n",
       "3     B223PD  MULTIPOLYGON (((-73.9553329149497 40.710422132...      5124   \n",
       "4       B095  MULTIPOLYGON (((-73.99424820391394 40.67057586...      5456   \n",
       "\n",
       "  OMPPROPID DEPARTMENT PERMITDIST PERMITPARE PARENTID  \\\n",
       "0      M193       M-11       M-11       M-11     M-11   \n",
       "1      Q159       Q-13       Q-13       Q-13     Q-13   \n",
       "2      X085       X-05       X-05       X-05     X-05   \n",
       "3    B223PD       B-01       B-01       B-01     B-01   \n",
       "4      B095       B-06       B-06       B-06     B-06   \n",
       "\n",
       "                                  LOCATION COMMUNITYB  ... PERMIT  \\\n",
       "0                    5 Ave. and E. 135 St.        111  ...      Y   \n",
       "1       Winchester Blvd., 93 Ave., 220 St.        413  ...      Y   \n",
       "2  E. 183 St. bet. Valentine Ave. and Ryer        205  ...      Y   \n",
       "3      Rodney St., S. 3 St., Borniquen Pl.        301  ...      Y   \n",
       "4    11 St., 12 St. bet. 2 Ave. and 3 Ave.        306  ...      Y   \n",
       "\n",
       "                     SIGNNAME                  SUBCATEGOR         TYPECATEGO  \\\n",
       "0  Abraham Lincoln Playground           Neighborhood Plgd     Community Park   \n",
       "1        Father Reilly Square  Sitting Area/Triangle/Mall     Triangle/Plaza   \n",
       "2         Slattery Playground           Neighborhood Plgd         Playground   \n",
       "3    Rodney Playground Center  Sitting Area/Triangle/Mall  Neighborhood Park   \n",
       "4            Ennis Playground           Neighborhood Plgd         Playground   \n",
       "\n",
       "                                        URL  WATERFRONT NYS_ASSEMB NYS_SENATE  \\\n",
       "0    http://www.nycgovparks.org/parks/M193/          No         70         30   \n",
       "1    http://www.nycgovparks.org/parks/Q159/          No         33         14   \n",
       "2    http://www.nycgovparks.org/parks/X085/          No         86         33   \n",
       "3  http://www.nycgovparks.org/parks/B223PD/          No         53         18   \n",
       "4    http://www.nycgovparks.org/parks/B095/          No         51         25   \n",
       "\n",
       "   US_CONGRES                                GLOBALID  \n",
       "0          13  {5D62AD38-AE30-4E43-8DE0-E28780CD8E3C}  \n",
       "1           5  {12B62C23-3F42-418E-B059-F0B549D7FCEB}  \n",
       "2          15  {01AD9F2D-AD1B-4FBE-BB15-41DC9DC485FD}  \n",
       "3           7  {F14C1976-8BEC-49F1-A139-798EA720A52E}  \n",
       "4           7  {B2FA7ABF-7ECB-4847-8979-0DD773A819F8}  \n",
       "\n",
       "[5 rows x 36 columns]"
      ]
     },
     "execution_count": 115,
     "metadata": {},
     "output_type": "execute_result"
    }
   ],
   "source": [
    "df21.head()"
   ]
  },
  {
   "cell_type": "code",
   "execution_count": 120,
   "metadata": {
    "scrolled": true
   },
   "outputs": [
    {
     "name": "stderr",
     "output_type": "stream",
     "text": [
      "C:\\Users\\Shuvo\\Anaconda3\\lib\\site-packages\\ipykernel_launcher.py:12: FutureWarning:\n",
      "\n",
      "convert_objects is deprecated.  To re-infer data dtypes for object columns, use DataFrame.infer_objects()\n",
      "For all other conversions use the data-type specific converters pd.to_datetime, pd.to_timedelta and pd.to_numeric.\n",
      "\n"
     ]
    }
   ],
   "source": [
    "#Following lines of code involve in data cleansing, extract longitude and latitude from park geometry and create a final table for mapping\n",
    "by_map2 = df21['THE_GEOM'].apply(lambda x: pd.Series(x.split(' ',5)))#Split THE_GEOM into 5 sgment\n",
    "by_map2[['a','b', 'c','LAT','LON', 'd']] = df21['THE_GEOM'].apply(lambda x: pd.Series(x.split(' ',5)))# Label Lat and lon\n",
    "by_map3 = by_map2 [['LAT','LON']]\n",
    "by_map4 = df21[['SIGNNAME']]\n",
    "by_map5=pd.concat([by_map3, by_map4], axis=1) # Concat two different dataset into one\n",
    "by_map5.rename(columns={'SIGNNAME': 'PARK'}, inplace=True)\n",
    "by_map5['PARK'] = by_map5['PARK'].apply(lambda x: x.upper())\n",
    "by_map6= by_map5['LON'].map(lambda x: str(x)[:-1])\n",
    "del by_map5['LON']\n",
    "by_map7=pd.concat([by_map5, by_map6], axis=1)\n",
    "by_map8 = pd.merge(by_map, by_map7, on='PARK', how='inner')\n",
    "by_map8 = by_map8.convert_objects(convert_numeric=True) #Change the datatype "
   ]
  },
  {
   "cell_type": "code",
   "execution_count": 123,
   "metadata": {
    "scrolled": false
   },
   "outputs": [
    {
     "data": {
      "text/html": [
       "<div style=\"width:100%;\"><div style=\"position:relative;width:100%;height:0;padding-bottom:60%;\"><iframe src=\"data:text/html;charset=utf-8;base64,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\" style=\"position:absolute;width:100%;height:100%;left:0;top:0;border:none !important;\" allowfullscreen webkitallowfullscreen mozallowfullscreen></iframe></div></div>"
      ],
      "text/plain": [
       "<folium.folium.Map at 0x1748bc5e5c0>"
      ]
     },
     "execution_count": 123,
     "metadata": {},
     "output_type": "execute_result"
    }
   ],
   "source": [
    "#Mapping data frame by_map8\n",
    "NY_COORDINATES = (40.71, -74.00)\n",
    "MAX_RECORDS = 1200\n",
    "map = folium.Map(location=NY_COORDINATES, zoom_start=10)\n",
    "from folium.plugins import HeatMap\n",
    "HeatMap(data=by_map8[['LON', 'LAT', 'TOTAL']].groupby(['LON', 'LAT']).sum().reset_index().values.tolist(),blur = 1,max_val = 1, min_opacity =.1, radius=5, max_zoom=15).add_to(map)\n",
    "map"
   ]
  },
  {
   "cell_type": "markdown",
   "metadata": {},
   "source": [
    "The END"
   ]
  }
 ],
 "metadata": {
  "kernelspec": {
   "display_name": "Python 3",
   "language": "python",
   "name": "python3"
  },
  "language_info": {
   "codemirror_mode": {
    "name": "ipython",
    "version": 3
   },
   "file_extension": ".py",
   "mimetype": "text/x-python",
   "name": "python",
   "nbconvert_exporter": "python",
   "pygments_lexer": "ipython3",
   "version": "3.7.3"
  }
 },
 "nbformat": 4,
 "nbformat_minor": 2
}
